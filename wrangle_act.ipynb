{
 "cells": [
  {
   "cell_type": "markdown",
   "metadata": {},
   "source": [
    "# Gathering data"
   ]
  },
  {
   "cell_type": "code",
   "execution_count": 112,
   "metadata": {},
   "outputs": [],
   "source": [
    "# import basic libraries\n",
    "import pandas as pd\n",
    "import numpy as np"
   ]
  },
  {
   "cell_type": "code",
   "execution_count": 113,
   "metadata": {},
   "outputs": [],
   "source": [
    "# read available data\n",
    "df_archive = pd.read_csv('twitter-archive-enhanced.csv')"
   ]
  },
  {
   "cell_type": "code",
   "execution_count": 114,
   "metadata": {
    "scrolled": true
   },
   "outputs": [
    {
     "output_type": "execute_result",
     "data": {
      "text/plain": [
       "             tweet_id  in_reply_to_status_id  in_reply_to_user_id  \\\n",
       "0  892420643555336193                    NaN                  NaN   \n",
       "1  892177421306343426                    NaN                  NaN   \n",
       "2  891815181378084864                    NaN                  NaN   \n",
       "3  891689557279858688                    NaN                  NaN   \n",
       "4  891327558926688256                    NaN                  NaN   \n",
       "\n",
       "                   timestamp  \\\n",
       "0  2017-08-01 16:23:56 +0000   \n",
       "1  2017-08-01 00:17:27 +0000   \n",
       "2  2017-07-31 00:18:03 +0000   \n",
       "3  2017-07-30 15:58:51 +0000   \n",
       "4  2017-07-29 16:00:24 +0000   \n",
       "\n",
       "                                              source  \\\n",
       "0  <a href=\"http://twitter.com/download/iphone\" r...   \n",
       "1  <a href=\"http://twitter.com/download/iphone\" r...   \n",
       "2  <a href=\"http://twitter.com/download/iphone\" r...   \n",
       "3  <a href=\"http://twitter.com/download/iphone\" r...   \n",
       "4  <a href=\"http://twitter.com/download/iphone\" r...   \n",
       "\n",
       "                                                text  retweeted_status_id  \\\n",
       "0  This is Phineas. He's a mystical boy. Only eve...                  NaN   \n",
       "1  This is Tilly. She's just checking pup on you....                  NaN   \n",
       "2  This is Archie. He is a rare Norwegian Pouncin...                  NaN   \n",
       "3  This is Darla. She commenced a snooze mid meal...                  NaN   \n",
       "4  This is Franklin. He would like you to stop ca...                  NaN   \n",
       "\n",
       "   retweeted_status_user_id retweeted_status_timestamp  \\\n",
       "0                       NaN                        NaN   \n",
       "1                       NaN                        NaN   \n",
       "2                       NaN                        NaN   \n",
       "3                       NaN                        NaN   \n",
       "4                       NaN                        NaN   \n",
       "\n",
       "                                       expanded_urls  rating_numerator  \\\n",
       "0  https://twitter.com/dog_rates/status/892420643...                13   \n",
       "1  https://twitter.com/dog_rates/status/892177421...                13   \n",
       "2  https://twitter.com/dog_rates/status/891815181...                12   \n",
       "3  https://twitter.com/dog_rates/status/891689557...                13   \n",
       "4  https://twitter.com/dog_rates/status/891327558...                12   \n",
       "\n",
       "   rating_denominator      name doggo floofer pupper puppo  \n",
       "0                  10   Phineas  None    None   None  None  \n",
       "1                  10     Tilly  None    None   None  None  \n",
       "2                  10    Archie  None    None   None  None  \n",
       "3                  10     Darla  None    None   None  None  \n",
       "4                  10  Franklin  None    None   None  None  "
      ],
      "text/html": "<div>\n<style scoped>\n    .dataframe tbody tr th:only-of-type {\n        vertical-align: middle;\n    }\n\n    .dataframe tbody tr th {\n        vertical-align: top;\n    }\n\n    .dataframe thead th {\n        text-align: right;\n    }\n</style>\n<table border=\"1\" class=\"dataframe\">\n  <thead>\n    <tr style=\"text-align: right;\">\n      <th></th>\n      <th>tweet_id</th>\n      <th>in_reply_to_status_id</th>\n      <th>in_reply_to_user_id</th>\n      <th>timestamp</th>\n      <th>source</th>\n      <th>text</th>\n      <th>retweeted_status_id</th>\n      <th>retweeted_status_user_id</th>\n      <th>retweeted_status_timestamp</th>\n      <th>expanded_urls</th>\n      <th>rating_numerator</th>\n      <th>rating_denominator</th>\n      <th>name</th>\n      <th>doggo</th>\n      <th>floofer</th>\n      <th>pupper</th>\n      <th>puppo</th>\n    </tr>\n  </thead>\n  <tbody>\n    <tr>\n      <th>0</th>\n      <td>892420643555336193</td>\n      <td>NaN</td>\n      <td>NaN</td>\n      <td>2017-08-01 16:23:56 +0000</td>\n      <td>&lt;a href=\"http://twitter.com/download/iphone\" r...</td>\n      <td>This is Phineas. He's a mystical boy. Only eve...</td>\n      <td>NaN</td>\n      <td>NaN</td>\n      <td>NaN</td>\n      <td>https://twitter.com/dog_rates/status/892420643...</td>\n      <td>13</td>\n      <td>10</td>\n      <td>Phineas</td>\n      <td>None</td>\n      <td>None</td>\n      <td>None</td>\n      <td>None</td>\n    </tr>\n    <tr>\n      <th>1</th>\n      <td>892177421306343426</td>\n      <td>NaN</td>\n      <td>NaN</td>\n      <td>2017-08-01 00:17:27 +0000</td>\n      <td>&lt;a href=\"http://twitter.com/download/iphone\" r...</td>\n      <td>This is Tilly. She's just checking pup on you....</td>\n      <td>NaN</td>\n      <td>NaN</td>\n      <td>NaN</td>\n      <td>https://twitter.com/dog_rates/status/892177421...</td>\n      <td>13</td>\n      <td>10</td>\n      <td>Tilly</td>\n      <td>None</td>\n      <td>None</td>\n      <td>None</td>\n      <td>None</td>\n    </tr>\n    <tr>\n      <th>2</th>\n      <td>891815181378084864</td>\n      <td>NaN</td>\n      <td>NaN</td>\n      <td>2017-07-31 00:18:03 +0000</td>\n      <td>&lt;a href=\"http://twitter.com/download/iphone\" r...</td>\n      <td>This is Archie. He is a rare Norwegian Pouncin...</td>\n      <td>NaN</td>\n      <td>NaN</td>\n      <td>NaN</td>\n      <td>https://twitter.com/dog_rates/status/891815181...</td>\n      <td>12</td>\n      <td>10</td>\n      <td>Archie</td>\n      <td>None</td>\n      <td>None</td>\n      <td>None</td>\n      <td>None</td>\n    </tr>\n    <tr>\n      <th>3</th>\n      <td>891689557279858688</td>\n      <td>NaN</td>\n      <td>NaN</td>\n      <td>2017-07-30 15:58:51 +0000</td>\n      <td>&lt;a href=\"http://twitter.com/download/iphone\" r...</td>\n      <td>This is Darla. She commenced a snooze mid meal...</td>\n      <td>NaN</td>\n      <td>NaN</td>\n      <td>NaN</td>\n      <td>https://twitter.com/dog_rates/status/891689557...</td>\n      <td>13</td>\n      <td>10</td>\n      <td>Darla</td>\n      <td>None</td>\n      <td>None</td>\n      <td>None</td>\n      <td>None</td>\n    </tr>\n    <tr>\n      <th>4</th>\n      <td>891327558926688256</td>\n      <td>NaN</td>\n      <td>NaN</td>\n      <td>2017-07-29 16:00:24 +0000</td>\n      <td>&lt;a href=\"http://twitter.com/download/iphone\" r...</td>\n      <td>This is Franklin. He would like you to stop ca...</td>\n      <td>NaN</td>\n      <td>NaN</td>\n      <td>NaN</td>\n      <td>https://twitter.com/dog_rates/status/891327558...</td>\n      <td>12</td>\n      <td>10</td>\n      <td>Franklin</td>\n      <td>None</td>\n      <td>None</td>\n      <td>None</td>\n      <td>None</td>\n    </tr>\n  </tbody>\n</table>\n</div>"
     },
     "metadata": {},
     "execution_count": 114
    }
   ],
   "source": [
    "# test \n",
    "df_archive.head()"
   ]
  },
  {
   "cell_type": "code",
   "execution_count": 115,
   "metadata": {},
   "outputs": [],
   "source": [
    "# import libraries\n",
    "import requests\n",
    "import os"
   ]
  },
  {
   "cell_type": "code",
   "execution_count": 116,
   "metadata": {},
   "outputs": [
    {
     "output_type": "execute_result",
     "data": {
      "text/plain": [
       "             tweet_id                                          jpg_url  \\\n",
       "0  666020888022790149  https://pbs.twimg.com/media/CT4udn0WwAA0aMy.jpg   \n",
       "1  666029285002620928  https://pbs.twimg.com/media/CT42GRgUYAA5iDo.jpg   \n",
       "2  666033412701032449  https://pbs.twimg.com/media/CT4521TWwAEvMyu.jpg   \n",
       "3  666044226329800704  https://pbs.twimg.com/media/CT5Dr8HUEAA-lEu.jpg   \n",
       "4  666049248165822465  https://pbs.twimg.com/media/CT5IQmsXIAAKY4A.jpg   \n",
       "\n",
       "   img_num                      p1   p1_conf  p1_dog                  p2  \\\n",
       "0        1  Welsh_springer_spaniel  0.465074    True              collie   \n",
       "1        1                 redbone  0.506826    True  miniature_pinscher   \n",
       "2        1         German_shepherd  0.596461    True            malinois   \n",
       "3        1     Rhodesian_ridgeback  0.408143    True             redbone   \n",
       "4        1      miniature_pinscher  0.560311    True          Rottweiler   \n",
       "\n",
       "    p2_conf  p2_dog                   p3   p3_conf  p3_dog  \n",
       "0  0.156665    True    Shetland_sheepdog  0.061428    True  \n",
       "1  0.074192    True  Rhodesian_ridgeback  0.072010    True  \n",
       "2  0.138584    True           bloodhound  0.116197    True  \n",
       "3  0.360687    True   miniature_pinscher  0.222752    True  \n",
       "4  0.243682    True             Doberman  0.154629    True  "
      ],
      "text/html": "<div>\n<style scoped>\n    .dataframe tbody tr th:only-of-type {\n        vertical-align: middle;\n    }\n\n    .dataframe tbody tr th {\n        vertical-align: top;\n    }\n\n    .dataframe thead th {\n        text-align: right;\n    }\n</style>\n<table border=\"1\" class=\"dataframe\">\n  <thead>\n    <tr style=\"text-align: right;\">\n      <th></th>\n      <th>tweet_id</th>\n      <th>jpg_url</th>\n      <th>img_num</th>\n      <th>p1</th>\n      <th>p1_conf</th>\n      <th>p1_dog</th>\n      <th>p2</th>\n      <th>p2_conf</th>\n      <th>p2_dog</th>\n      <th>p3</th>\n      <th>p3_conf</th>\n      <th>p3_dog</th>\n    </tr>\n  </thead>\n  <tbody>\n    <tr>\n      <th>0</th>\n      <td>666020888022790149</td>\n      <td>https://pbs.twimg.com/media/CT4udn0WwAA0aMy.jpg</td>\n      <td>1</td>\n      <td>Welsh_springer_spaniel</td>\n      <td>0.465074</td>\n      <td>True</td>\n      <td>collie</td>\n      <td>0.156665</td>\n      <td>True</td>\n      <td>Shetland_sheepdog</td>\n      <td>0.061428</td>\n      <td>True</td>\n    </tr>\n    <tr>\n      <th>1</th>\n      <td>666029285002620928</td>\n      <td>https://pbs.twimg.com/media/CT42GRgUYAA5iDo.jpg</td>\n      <td>1</td>\n      <td>redbone</td>\n      <td>0.506826</td>\n      <td>True</td>\n      <td>miniature_pinscher</td>\n      <td>0.074192</td>\n      <td>True</td>\n      <td>Rhodesian_ridgeback</td>\n      <td>0.072010</td>\n      <td>True</td>\n    </tr>\n    <tr>\n      <th>2</th>\n      <td>666033412701032449</td>\n      <td>https://pbs.twimg.com/media/CT4521TWwAEvMyu.jpg</td>\n      <td>1</td>\n      <td>German_shepherd</td>\n      <td>0.596461</td>\n      <td>True</td>\n      <td>malinois</td>\n      <td>0.138584</td>\n      <td>True</td>\n      <td>bloodhound</td>\n      <td>0.116197</td>\n      <td>True</td>\n    </tr>\n    <tr>\n      <th>3</th>\n      <td>666044226329800704</td>\n      <td>https://pbs.twimg.com/media/CT5Dr8HUEAA-lEu.jpg</td>\n      <td>1</td>\n      <td>Rhodesian_ridgeback</td>\n      <td>0.408143</td>\n      <td>True</td>\n      <td>redbone</td>\n      <td>0.360687</td>\n      <td>True</td>\n      <td>miniature_pinscher</td>\n      <td>0.222752</td>\n      <td>True</td>\n    </tr>\n    <tr>\n      <th>4</th>\n      <td>666049248165822465</td>\n      <td>https://pbs.twimg.com/media/CT5IQmsXIAAKY4A.jpg</td>\n      <td>1</td>\n      <td>miniature_pinscher</td>\n      <td>0.560311</td>\n      <td>True</td>\n      <td>Rottweiler</td>\n      <td>0.243682</td>\n      <td>True</td>\n      <td>Doberman</td>\n      <td>0.154629</td>\n      <td>True</td>\n    </tr>\n  </tbody>\n</table>\n</div>"
     },
     "metadata": {},
     "execution_count": 116
    }
   ],
   "source": [
    "# get images\n",
    "url = 'https://d17h27t6h515a5.cloudfront.net/topher/2017/August/599fd2ad_image-predictions/image-predictions.tsv'\n",
    "response = requests.get(url)\n",
    "\n",
    "with open(\"image-predictions.tsv\", 'wb') as f:\n",
    "    f.write(response.content)\n",
    "    \n",
    "df_image_predictions  = pd.read_csv('image-predictions.tsv', sep='\\t')\n",
    "df_image_predictions.head()"
   ]
  },
  {
   "cell_type": "code",
   "execution_count": 117,
   "metadata": {},
   "outputs": [],
   "source": [
    "# make directory if it doesn't exist\n",
    "folder_name = 'image_predictions'\n",
    "if not os.path.exists(folder_name):\n",
    "    os.makedirs(folder_name)"
   ]
  },
  {
   "cell_type": "code",
   "execution_count": 118,
   "metadata": {},
   "outputs": [
    {
     "output_type": "execute_result",
     "data": {
      "text/plain": [
       "2075"
      ]
     },
     "metadata": {},
     "execution_count": 118
    }
   ],
   "source": [
    "# use twitter API\n",
    "import tweepy as tw\n",
    "from tweepy import OAuthHandler\n",
    "import json\n",
    "from timeit import default_timer as timer\n",
    "\n",
    "consumer_key = 'TqcSdX6yZJD6LPwVfdTh7Blha'\n",
    "consumer_secret = 'RjEm48eaJtAjVX3z7nPM6VixuLGnQCH1fggyDFkTQsAhmqrHl7'\n",
    "access_token = '4066789517-e18mm2urSaiZRtixmMHakfKCXvCIEnCnAm91hgj'\n",
    "access_secret = 'TWitZrwHdOyRpFnrS9x0RySZ4XZ0tHkPoFFH4mZZz574k'\n",
    "\n",
    "auth = tw.OAuthHandler(consumer_key, consumer_secret)\n",
    "auth.set_access_token(access_token, access_secret)\n",
    "\n",
    "api = tw.API(auth, wait_on_rate_limit=True)\n",
    "\n",
    "# use tweet ID from image_predictions to gather the posts and tweet count info\n",
    "tweet_ids = df_image_predictions.tweet_id.values\n",
    "\n",
    "# gathering the lenghts of tweets\n",
    "len(tweet_ids)\n"
   ]
  },
  {
   "cell_type": "code",
   "execution_count": 119,
   "metadata": {},
   "outputs": [
    {
     "output_type": "execute_result",
     "data": {
      "text/plain": [
       "array([666020888022790149, 666029285002620928, 666033412701032449, ...,\n",
       "       891815181378084864, 892177421306343426, 892420643555336193])"
      ]
     },
     "metadata": {},
     "execution_count": 119
    }
   ],
   "source": [
    "# test\n",
    "tweet_ids"
   ]
  },
  {
   "cell_type": "code",
   "execution_count": 120,
   "metadata": {
    "tags": [
     "outputPrepend"
    ]
   },
   "outputs": [
    {
     "output_type": "stream",
     "name": "stdout",
     "text": [
      "16\n",
      "Success\n",
      "1445: 775733305207554048\n",
      "Success\n",
      "1446: 775842724423557120\n",
      "Success\n",
      "1447: 775898661951791106\n",
      "Success\n",
      "1448: 776088319444877312\n",
      "Success\n",
      "1449: 776113305656188928\n",
      "Success\n",
      "1450: 776201521193218049\n",
      "Success\n",
      "1451: 776218204058357768\n",
      "Success\n",
      "1452: 776477788987613185\n",
      "Success\n",
      "1453: 776813020089548800\n",
      "Success\n",
      "1454: 776819012571455488\n",
      "Success\n",
      "1455: 777189768882946048\n",
      "Success\n",
      "1456: 777621514455814149\n",
      "Success\n",
      "1457: 777641927919427584\n",
      "Success\n",
      "1458: 777684233540206592\n",
      "Success\n",
      "1459: 777885040357281792\n",
      "Success\n",
      "1460: 778027034220126208\n",
      "Success\n",
      "1461: 778039087836069888\n",
      "Success\n",
      "1462: 778286810187399168\n",
      "Success\n",
      "1463: 778383385161035776\n",
      "Success\n",
      "1464: 778396591732486144\n",
      "Success\n",
      "1465: 778408200802557953\n",
      "Success\n",
      "1466: 778624900596654080\n",
      "Success\n",
      "1467: 778650543019483137\n",
      "Success\n",
      "1468: 778748913645780993\n",
      "Success\n",
      "1469: 778990705243029504\n",
      "Success\n",
      "1470: 779056095788752897\n",
      "Success\n",
      "1471: 779123168116150273\n",
      "Fail\n",
      "1472: 779377524342161408\n",
      "Success\n",
      "1473: 779834332596887552\n",
      "Success\n",
      "1474: 780192070812196864\n",
      "Success\n",
      "1475: 780459368902959104\n",
      "Success\n",
      "1476: 780476555013349377\n",
      "Success\n",
      "1477: 780496263422808064\n",
      "Success\n",
      "1478: 780543529827336192\n",
      "Success\n",
      "1479: 780601303617732608\n",
      "Success\n",
      "1480: 780800785462489090\n",
      "Success\n",
      "1481: 780858289093574656\n",
      "Success\n",
      "1482: 780931614150983680\n",
      "Success\n",
      "1483: 781163403222056960\n",
      "Success\n",
      "1484: 781251288990355457\n",
      "Success\n",
      "1485: 781524693396357120\n",
      "Success\n",
      "1486: 781661882474196992\n",
      "Success\n",
      "1487: 781955203444699136\n",
      "Success\n",
      "1488: 782021823840026624\n",
      "Success\n",
      "1489: 782305867769217024\n",
      "Success\n",
      "1490: 782598640137187329\n",
      "Success\n",
      "1491: 782722598790725632\n",
      "Success\n",
      "1492: 782747134529531904\n",
      "Success\n",
      "1493: 782969140009107456\n",
      "Success\n",
      "1494: 783085703974514689\n",
      "Success\n",
      "1495: 783334639985389568\n",
      "Success\n",
      "1496: 783347506784731136\n",
      "Success\n",
      "1497: 783391753726550016\n",
      "Success\n",
      "1498: 783466772167098368\n",
      "Success\n",
      "1499: 783695101801398276\n",
      "Success\n",
      "1500: 783821107061198850\n",
      "Success\n",
      "1501: 783839966405230592\n",
      "Success\n",
      "1502: 784431430411685888\n",
      "Success\n",
      "1503: 784517518371221505\n",
      "Success\n",
      "1504: 784826020293709826\n",
      "Success\n",
      "1505: 785170936622350336\n",
      "Success\n",
      "1506: 785264754247995392\n",
      "Success\n",
      "1507: 785533386513321988\n",
      "Success\n",
      "1508: 785639753186217984\n",
      "Success\n",
      "1509: 785872687017132033\n",
      "Success\n",
      "1510: 785927819176054784\n",
      "Success\n",
      "1511: 786036967502913536\n",
      "Success\n",
      "1512: 786233965241827333\n",
      "Success\n",
      "1513: 786363235746385920\n",
      "Success\n",
      "1514: 786595970293370880\n",
      "Success\n",
      "1515: 786664955043049472\n",
      "Success\n",
      "1516: 786709082849828864\n",
      "Success\n",
      "1517: 786963064373534720\n",
      "Success\n",
      "1518: 787322443945877504\n",
      "Success\n",
      "1519: 787397959788929025\n",
      "Success\n",
      "1520: 787717603741622272\n",
      "Success\n",
      "1521: 787810552592695296\n",
      "Success\n",
      "1522: 788039637453406209\n",
      "Success\n",
      "1523: 788070120937619456\n",
      "Success\n",
      "1524: 788150585577050112\n",
      "Success\n",
      "1525: 788178268662984705\n",
      "Success\n",
      "1526: 788412144018661376\n",
      "Success\n",
      "1527: 788765914992902144\n",
      "Success\n",
      "1528: 788908386943430656\n",
      "Success\n",
      "1529: 789137962068021249\n",
      "Success\n",
      "1530: 789268448748703744\n",
      "Success\n",
      "1531: 789530877013393408\n",
      "Success\n",
      "1532: 789599242079838210\n",
      "Success\n",
      "1533: 789628658055020548\n",
      "Success\n",
      "1534: 789986466051088384\n",
      "Success\n",
      "1535: 790277117346975746\n",
      "Success\n",
      "1536: 790337589677002753\n",
      "Success\n",
      "1537: 790581949425475584\n",
      "Success\n",
      "1538: 790698755171364864\n",
      "Success\n",
      "1539: 790723298204217344\n",
      "Success\n",
      "1540: 790946055508652032\n",
      "Success\n",
      "1541: 790987426131050500\n",
      "Success\n",
      "1542: 791026214425268224\n",
      "Success\n",
      "1543: 791312159183634433\n",
      "Success\n",
      "1544: 791406955684368384\n",
      "Success\n",
      "1545: 791672322847637504\n",
      "Success\n",
      "1546: 792050063153438720\n",
      "Success\n",
      "1547: 792394556390137856\n",
      "Success\n",
      "1548: 792773781206999040\n",
      "Success\n",
      "1549: 792883833364439040\n",
      "Success\n",
      "1550: 792913359805018113\n",
      "Success\n",
      "1551: 793120401413079041\n",
      "Success\n",
      "1552: 793135492858580992\n",
      "Success\n",
      "1553: 793150605191548928\n",
      "Success\n",
      "1554: 793165685325201412\n",
      "Success\n",
      "1555: 793180763617361921\n",
      "Success\n",
      "1556: 793195938047070209\n",
      "Success\n",
      "1557: 793210959003287553\n",
      "Success\n",
      "1558: 793226087023144960\n",
      "Success\n",
      "1559: 793241302385262592\n",
      "Success\n",
      "1560: 793256262322548741\n",
      "Success\n",
      "1561: 793271401113350145\n",
      "Success\n",
      "1562: 793286476301799424\n",
      "Success\n",
      "1563: 793500921481273345\n",
      "Success\n",
      "1564: 793601777308463104\n",
      "Success\n",
      "1565: 793614319594401792\n",
      "Success\n",
      "1566: 793845145112371200\n",
      "Success\n",
      "1567: 793962221541933056\n",
      "Success\n",
      "1568: 794205286408003585\n",
      "Success\n",
      "1569: 794332329137291264\n",
      "Success\n",
      "1570: 794355576146903043\n",
      "Success\n",
      "1571: 794926597468000259\n",
      "Success\n",
      "1572: 794983741416415232\n",
      "Success\n",
      "1573: 795076730285391872\n",
      "Success\n",
      "1574: 795400264262053889\n",
      "Success\n",
      "1575: 795464331001561088\n",
      "Success\n",
      "1576: 796031486298386433\n",
      "Success\n",
      "1577: 796080075804475393\n",
      "Success\n",
      "1578: 796116448414461957\n",
      "Success\n",
      "1579: 796149749086875649\n",
      "Success\n",
      "1580: 796177847564038144\n",
      "Success\n",
      "1581: 796387464403357696\n",
      "Success\n",
      "1582: 796484825502875648\n",
      "Success\n",
      "1583: 796759840936919040\n",
      "Success\n",
      "1584: 796865951799083009\n",
      "Success\n",
      "1585: 797236660651966464\n",
      "Success\n",
      "1586: 797545162159308800\n",
      "Success\n",
      "1587: 797971864723324932\n",
      "Success\n",
      "1588: 798209839306514432\n",
      "Success\n",
      "1589: 798340744599797760\n",
      "Success\n",
      "1590: 798628517273620480\n",
      "Success\n",
      "1591: 798644042770751489\n",
      "Success\n",
      "1592: 798665375516884993\n",
      "Success\n",
      "1593: 798673117451325440\n",
      "Success\n",
      "1594: 798694562394996736\n",
      "Success\n",
      "1595: 798697898615730177\n",
      "Success\n",
      "1596: 798925684722855936\n",
      "Success\n",
      "1597: 798933969379225600\n",
      "Success\n",
      "1598: 799063482566066176\n",
      "Success\n",
      "1599: 799297110730567681\n",
      "Success\n",
      "1600: 799422933579902976\n",
      "Success\n",
      "1601: 799757965289017345\n",
      "Success\n",
      "1602: 799774291445383169\n",
      "Success\n",
      "1603: 800018252395122689\n",
      "Success\n",
      "1604: 800141422401830912\n",
      "Success\n",
      "1605: 800388270626521089\n",
      "Success\n",
      "1606: 800443802682937345\n",
      "Success\n",
      "1607: 800459316964663297\n",
      "Success\n",
      "1608: 800513324630806528\n",
      "Success\n",
      "1609: 800751577355128832\n",
      "Success\n",
      "1610: 801115127852503040\n",
      "Success\n",
      "1611: 801167903437357056\n",
      "Success\n",
      "1612: 801285448605831168\n",
      "Success\n",
      "1613: 801538201127157760\n",
      "Success\n",
      "1614: 801958328846974976\n",
      "Success\n",
      "1615: 802239329049477120\n",
      "Success\n",
      "1616: 802247111496568832\n",
      "Fail\n",
      "1617: 802265048156610565\n",
      "Success\n",
      "1618: 802323869084381190\n",
      "Success\n",
      "1619: 802572683846291456\n",
      "Success\n",
      "1620: 802624713319034886\n",
      "Success\n",
      "1621: 802952499103731712\n",
      "Success\n",
      "1622: 803276597545603072\n",
      "Success\n",
      "1623: 803380650405482500\n",
      "Success\n",
      "1624: 803638050916102144\n",
      "Success\n",
      "1625: 803692223237865472\n",
      "Success\n",
      "1626: 803773340896923648\n",
      "Success\n",
      "1627: 804026241225523202\n",
      "Success\n",
      "1628: 804413760345620481\n",
      "Success\n",
      "1629: 804738756058218496\n",
      "Success\n",
      "1630: 805207613751304193\n",
      "Success\n",
      "1631: 805487436403003392\n",
      "Success\n",
      "1632: 805520635690676224\n",
      "Success\n",
      "1633: 805826884734976000\n",
      "Success\n",
      "1634: 805932879469572096\n",
      "Success\n",
      "1635: 805958939288408065\n",
      "Success\n",
      "1636: 806219024703037440\n",
      "Success\n",
      "1637: 806242860592926720\n",
      "Success\n",
      "1638: 806542213899489280\n",
      "Success\n",
      "1639: 806629075125202948\n",
      "Success\n",
      "1640: 807010152071229440\n",
      "Success\n",
      "1641: 807059379405148160\n",
      "Success\n",
      "1642: 807106840509214720\n",
      "Success\n",
      "1643: 807621403335917568\n",
      "Success\n",
      "1644: 808001312164028416\n",
      "Success\n",
      "1645: 808106460588765185\n",
      "Success\n",
      "1646: 808134635716833280\n",
      "Success\n",
      "1647: 808501579447930884\n",
      "Success\n",
      "1648: 808733504066486276\n",
      "Success\n",
      "1649: 808838249661788160\n",
      "Success\n",
      "1650: 809084759137812480\n",
      "Success\n",
      "1651: 809220051211603969\n",
      "Success\n",
      "1652: 809448704142938112\n",
      "Success\n",
      "1653: 809808892968534016\n",
      "Success\n",
      "1654: 809920764300447744\n",
      "Success\n",
      "1655: 810254108431155201\n",
      "Success\n",
      "1656: 810284430598270976\n",
      "Success\n",
      "1657: 810657578271330305\n",
      "Success\n",
      "1658: 810896069567610880\n",
      "Success\n",
      "1659: 810984652412424192\n",
      "Success\n",
      "1660: 811386762094317568\n",
      "Success\n",
      "1661: 811627233043480576\n",
      "Success\n",
      "1662: 811744202451197953\n",
      "Success\n",
      "1663: 811985624773361665\n",
      "Success\n",
      "1664: 812372279581671427\n",
      "Success\n",
      "1665: 812466873996607488\n",
      "Success\n",
      "1666: 812503143955202048\n",
      "Success\n",
      "1667: 812709060537683968\n",
      "Success\n",
      "1668: 812781120811126785\n",
      "Success\n",
      "1669: 813051746834595840\n",
      "Success\n",
      "1670: 813066809284972545\n",
      "Success\n",
      "1671: 813081950185472002\n",
      "Success\n",
      "1672: 813096984823349248\n",
      "Success\n",
      "1673: 813112105746448384\n",
      "Success\n",
      "1674: 813127251579564032\n",
      "Success\n",
      "1675: 813142292504645637\n",
      "Success\n",
      "1676: 813157409116065792\n",
      "Success\n",
      "1677: 813172488309972993\n",
      "Success\n",
      "1678: 813187593374461952\n",
      "Success\n",
      "1679: 813202720496779264\n",
      "Success\n",
      "1680: 813217897535406080\n",
      "Success\n",
      "1681: 813800681631023104\n",
      "Success\n",
      "1682: 813812741911748608\n",
      "Success\n",
      "1683: 813910438903693312\n",
      "Success\n",
      "1684: 813944609378369540\n",
      "Success\n",
      "1685: 814153002265309185\n",
      "Success\n",
      "1686: 814530161257443328\n",
      "Success\n",
      "1687: 814638523311648768\n",
      "Success\n",
      "1688: 814986499976527872\n",
      "Success\n",
      "1689: 815390420867969024\n",
      "Success\n",
      "1690: 815639385530101762\n",
      "Success\n",
      "1691: 815736392542261248\n",
      "Success\n",
      "1692: 815966073409433600\n",
      "Success\n",
      "1693: 815990720817401858\n",
      "Success\n",
      "1694: 816014286006976512\n",
      "Success\n",
      "1695: 816091915477250048\n",
      "Success\n",
      "1696: 816336735214911488\n",
      "Success\n",
      "1697: 816450570814898180\n",
      "Success\n",
      "1698: 816697700272001025\n",
      "Success\n",
      "1699: 816816676327063552\n",
      "Success\n",
      "1700: 816829038950027264\n",
      "Success\n",
      "1701: 817056546584727552\n",
      "Success\n",
      "1702: 817120970343411712\n",
      "Success\n",
      "1703: 817171292965273600\n",
      "Success\n",
      "1704: 817181837579653120\n",
      "Success\n",
      "1705: 817415592588222464\n",
      "Success\n",
      "1706: 817423860136083457\n",
      "Success\n",
      "1707: 817536400337801217\n",
      "Success\n",
      "1708: 817777686764523521\n",
      "Success\n",
      "1709: 817827839487737858\n",
      "Success\n",
      "1710: 818145370475810820\n",
      "Success\n",
      "1711: 818259473185828864\n",
      "Success\n",
      "1712: 818536468981415936\n",
      "Success\n",
      "1713: 818588835076603904\n",
      "Success\n",
      "1714: 818614493328580609\n",
      "Success\n",
      "1715: 818627210458333184\n",
      "Success\n",
      "1716: 819004803107983360\n",
      "Success\n",
      "1717: 819006400881917954\n",
      "Success\n",
      "1718: 819015331746349057\n",
      "Success\n",
      "1719: 819015337530290176\n",
      "Success\n",
      "1720: 819227688460238848\n",
      "Success\n",
      "1721: 819347104292290561\n",
      "Success\n",
      "1722: 819588359383371776\n",
      "Success\n",
      "1723: 819711362133872643\n",
      "Success\n",
      "1724: 819924195358416896\n",
      "Success\n",
      "1725: 819952236453363712\n",
      "Success\n",
      "1726: 820078625395449857\n",
      "Success\n",
      "1727: 820314633777061888\n",
      "Success\n",
      "1728: 820446719150292993\n",
      "Success\n",
      "1729: 820690176645140481\n",
      "Success\n",
      "1730: 820749716845686786\n",
      "Success\n",
      "1731: 821044531881721856\n",
      "Success\n",
      "1732: 821107785811234820\n",
      "Success\n",
      "1733: 821149554670182400\n",
      "Success\n",
      "1734: 821407182352777218\n",
      "Success\n",
      "1735: 821522889702862852\n",
      "Success\n",
      "1736: 821765923262631936\n",
      "Success\n",
      "1737: 821813639212650496\n",
      "Success\n",
      "1738: 821886076407029760\n",
      "Success\n",
      "1739: 822244816520155136\n",
      "Success\n",
      "1740: 822462944365645825\n",
      "Success\n",
      "1741: 822489057087389700\n",
      "Success\n",
      "1742: 822610361945911296\n",
      "Success\n",
      "1743: 822647212903690241\n",
      "Success\n",
      "1744: 822859134160621569\n",
      "Success\n",
      "1745: 822872901745569793\n",
      "Success\n",
      "1746: 822975315408461824\n",
      "Success\n",
      "1747: 823269594223824897\n",
      "Success\n",
      "1748: 823322678127919110\n",
      "Success\n",
      "1749: 823581115634085888\n",
      "Success\n",
      "1750: 823699002998870016\n",
      "Success\n",
      "1751: 823939628516474880\n",
      "Success\n",
      "1752: 824297048279236611\n",
      "Success\n",
      "1753: 824325613288833024\n",
      "Success\n",
      "1754: 824663926340194305\n",
      "Success\n",
      "1755: 824775126675836928\n",
      "Success\n",
      "1756: 824796380199809024\n",
      "Success\n",
      "1757: 825026590719483904\n",
      "Success\n",
      "1758: 825147591692263424\n",
      "Success\n",
      "1759: 825535076884762624\n",
      "Success\n",
      "1760: 825829644528148480\n",
      "Success\n",
      "1761: 825876512159186944\n",
      "Success\n",
      "1762: 826115272272650244\n",
      "Success\n",
      "1763: 826204788643753985\n",
      "Success\n",
      "1764: 826240494070030336\n",
      "Success\n",
      "1765: 826476773533745153\n",
      "Success\n",
      "1766: 826598365270007810\n",
      "Success\n",
      "1767: 826848821049180160\n",
      "Success\n",
      "1768: 826958653328592898\n",
      "Success\n",
      "1769: 827199976799354881\n",
      "Success\n",
      "1770: 827324948884643840\n",
      "Success\n",
      "1771: 827600520311402496\n",
      "Success\n",
      "1772: 827653905312006145\n",
      "Success\n",
      "1773: 827933404142436356\n",
      "Success\n",
      "1774: 828011680017821696\n",
      "Success\n",
      "1775: 828046555563323392\n",
      "Success\n",
      "1776: 828372645993398273\n",
      "Success\n",
      "1777: 828376505180889089\n",
      "Success\n",
      "1778: 828381636999917570\n",
      "Success\n",
      "1779: 828408677031882754\n",
      "Success\n",
      "1780: 828409743546925057\n",
      "Success\n",
      "1781: 828650029636317184\n",
      "Success\n",
      "1782: 828708714936930305\n",
      "Success\n",
      "1783: 828770345708580865\n",
      "Success\n",
      "1784: 829011960981237760\n",
      "Success\n",
      "1785: 829141528400556032\n",
      "Success\n",
      "1786: 829374341691346946\n",
      "Fail\n",
      "1787: 829449946868879360\n",
      "Success\n",
      "1788: 829501995190984704\n",
      "Success\n",
      "1789: 829861396166877184\n",
      "Success\n",
      "1790: 829878982036299777\n",
      "Success\n",
      "1791: 830097400375152640\n",
      "Success\n",
      "1792: 830583320585068544\n",
      "Success\n",
      "1793: 830956169170665475\n",
      "Success\n",
      "1794: 831262627380748289\n",
      "Success\n",
      "1795: 831309418084069378\n",
      "Success\n",
      "1796: 831315979191906304\n",
      "Success\n",
      "1797: 831322785565769729\n",
      "Success\n",
      "1798: 831552930092285952\n",
      "Success\n",
      "1799: 831650051525054464\n",
      "Success\n",
      "1800: 831670449226514432\n",
      "Success\n",
      "1801: 831911600680497154\n",
      "Fail\n",
      "1802: 831939777352105988\n",
      "Fail\n",
      "1803: 832032802820481025\n",
      "Fail\n",
      "1804: 832040443403784192\n",
      "Fail\n",
      "1805: 832215726631055365\n",
      "Fail\n",
      "1806: 832273440279240704\n",
      "Fail\n",
      "1807: 832369877331693569\n",
      "Fail\n",
      "1808: 832397543355072512\n",
      "Fail\n",
      "1809: 832636094638288896\n",
      "Fail\n",
      "1810: 832757312314028032\n",
      "Fail\n",
      "1811: 832769181346996225\n",
      "Fail\n",
      "1812: 832998151111966721\n",
      "Fail\n",
      "1813: 833124694597443584\n",
      "Fail\n",
      "1814: 833479644947025920\n",
      "Fail\n",
      "1815: 833722901757046785\n",
      "Fail\n",
      "1816: 833826103416520705\n",
      "Fail\n",
      "1817: 833863086058651648\n",
      "Fail\n",
      "1818: 834086379323871233\n",
      "Fail\n",
      "1819: 834167344700198914\n",
      "Fail\n",
      "1820: 834209720923721728\n",
      "Fail\n",
      "1821: 834458053273591808\n",
      "Fail\n",
      "1822: 834574053763584002\n",
      "Fail\n",
      "1823: 834786237630337024\n",
      "Fail\n",
      "1824: 834931633769889797\n",
      "Fail\n",
      "1825: 835152434251116546\n",
      "Fail\n",
      "1826: 835172783151792128\n",
      "Fail\n",
      "1827: 835264098648616962\n",
      "Fail\n",
      "1828: 835297930240217089\n",
      "Fail\n",
      "1829: 835574547218894849\n",
      "Fail\n",
      "1830: 836001077879255040\n",
      "Fail\n",
      "1831: 836260088725786625\n",
      "Fail\n",
      "1832: 836380477523124226\n",
      "Fail\n",
      "1833: 836677758902222849\n",
      "Fail\n",
      "1834: 836753516572119041\n",
      "Fail\n",
      "1835: 836989968035819520\n",
      "Fail\n",
      "1836: 837012587749474308\n",
      "Fail\n",
      "1837: 837110210464448512\n",
      "Fail\n",
      "1838: 837366284874571778\n",
      "Fail\n",
      "1839: 837471256429613056\n",
      "Fail\n",
      "1840: 837482249356513284\n",
      "Fail\n",
      "1841: 837820167694528512\n",
      "Fail\n",
      "1842: 838083903487373313\n",
      "Fail\n",
      "1843: 838476387338051585\n",
      "Fail\n",
      "1844: 838561493054533637\n",
      "Fail\n",
      "1845: 838916489579200512\n",
      "Fail\n",
      "1846: 838921590096166913\n",
      "Fail\n",
      "1847: 839239871831150596\n",
      "Fail\n",
      "1848: 839290600511926273\n",
      "Fail\n",
      "1849: 839549326359670784\n",
      "Fail\n",
      "1850: 839990271299457024\n",
      "Fail\n",
      "1851: 840268004936019968\n",
      "Fail\n",
      "1852: 840370681858686976\n",
      "Fail\n",
      "1853: 840632337062862849\n",
      "Fail\n",
      "1854: 840696689258311684\n",
      "Fail\n",
      "1855: 841077006473256960\n",
      "Fail\n",
      "1856: 841314665196081154\n",
      "Fail\n",
      "1857: 841439858740625411\n",
      "Fail\n",
      "1858: 841680585030541313\n",
      "Fail\n",
      "1859: 841833993020538882\n",
      "Fail\n",
      "1860: 842115215311396866\n",
      "Fail\n",
      "1861: 842163532590374912\n",
      "Fail\n",
      "1862: 842535590457499648\n",
      "Fail\n",
      "1863: 842765311967449089\n",
      "Fail\n",
      "1864: 842846295480000512\n",
      "Fail\n",
      "1865: 842892208864923648\n",
      "Fail\n",
      "1866: 843235543001513987\n",
      "Fail\n",
      "1867: 843604394117681152\n",
      "Fail\n",
      "1868: 843856843873095681\n",
      "Fail\n",
      "1869: 844223788422217728\n",
      "Fail\n",
      "1870: 844580511645339650\n",
      "Fail\n",
      "1871: 844704788403113984\n",
      "Fail\n",
      "1872: 844973813909606400\n",
      "Fail\n",
      "1873: 844979544864018432\n",
      "Fail\n",
      "1874: 845306882940190720\n",
      "Fail\n",
      "1875: 845397057150107648\n",
      "Fail\n",
      "1876: 845677943972139009\n",
      "Fail\n",
      "1877: 845812042753855489\n",
      "Fail\n",
      "1878: 846042936437604353\n",
      "Fail\n",
      "1879: 846153765933735936\n",
      "Fail\n",
      "1880: 846514051647705089\n",
      "Fail\n",
      "1881: 846874817362120707\n",
      "Fail\n",
      "1882: 847116187444137987\n",
      "Fail\n",
      "1883: 847157206088847362\n",
      "Fail\n",
      "1884: 847251039262605312\n",
      "Fail\n",
      "1885: 847606175596138505\n",
      "Fail\n",
      "1886: 847842811428974592\n",
      "Fail\n",
      "1887: 847962785489326080\n",
      "Fail\n",
      "1888: 847971574464610304\n",
      "Fail\n",
      "1889: 848212111729840128\n",
      "Fail\n",
      "1890: 848324959059550208\n",
      "Fail\n",
      "1891: 848690551926992896\n",
      "Fail\n",
      "1892: 849051919805034497\n",
      "Fail\n",
      "1893: 849336543269576704\n",
      "Fail\n",
      "1894: 849412302885593088\n",
      "Fail\n",
      "1895: 849776966551130114\n",
      "Fail\n",
      "1896: 850019790995546112\n",
      "Fail\n",
      "1897: 850145622816686080\n",
      "Fail\n",
      "1898: 850380195714523136\n",
      "Fail\n",
      "1899: 850753642995093505\n",
      "Fail\n",
      "1900: 851224888060895234\n",
      "Fail\n",
      "1901: 851464819735769094\n",
      "Fail\n",
      "1902: 851591660324737024\n",
      "Fail\n",
      "1903: 851861385021730816\n",
      "Fail\n",
      "1904: 851953902622658560\n",
      "Fail\n",
      "1905: 852189679701164033\n",
      "Fail\n",
      "1906: 852226086759018497\n",
      "Fail\n",
      "1907: 852311364735569921\n",
      "Fail\n",
      "1908: 852553447878664193\n",
      "Fail\n",
      "1909: 852672615818899456\n",
      "Fail\n",
      "1910: 852912242202992640\n",
      "Fail\n",
      "1911: 853299958564483072\n",
      "Fail\n",
      "1912: 853639147608842240\n",
      "Fail\n",
      "1913: 853760880890318849\n",
      "Fail\n",
      "1914: 854010172552949760\n",
      "Fail\n",
      "1915: 854120357044912130\n",
      "Fail\n",
      "1916: 854365224396361728\n",
      "Fail\n",
      "1917: 854482394044301312\n",
      "Fail\n",
      "1918: 854732716440526848\n",
      "Fail\n",
      "1919: 855459453768019968\n",
      "Fail\n",
      "1920: 855851453814013952\n",
      "Fail\n",
      "1921: 856282028240666624\n",
      "Fail\n",
      "1922: 856526610513747968\n",
      "Fail\n",
      "1923: 856543823941562368\n",
      "Fail\n",
      "1924: 857029823797047296\n",
      "Fail\n",
      "1925: 857263160327368704\n",
      "Fail\n",
      "1926: 857393404942143489\n",
      "Fail\n",
      "1927: 857746408056729600\n",
      "Fail\n",
      "1928: 857989990357356544\n",
      "Fail\n",
      "1929: 858107933456039936\n",
      "Fail\n",
      "1930: 858471635011153920\n",
      "Fail\n",
      "1931: 858843525470990336\n",
      "Fail\n",
      "1932: 859074603037188101\n",
      "Fail\n",
      "1933: 859196978902773760\n",
      "Fail\n",
      "1934: 859607811541651456\n",
      "Fail\n",
      "1935: 859851578198683649\n",
      "Fail\n",
      "1936: 859924526012018688\n",
      "Fail\n",
      "1937: 860184849394610176\n",
      "Fail\n",
      "1938: 860276583193509888\n",
      "Fail\n",
      "1939: 860524505164394496\n",
      "Fail\n",
      "1940: 860563773140209665\n",
      "Fail\n",
      "1941: 860924035999428608\n",
      "Fail\n",
      "1942: 861005113778896900\n",
      "Fail\n",
      "1943: 861288531465048066\n",
      "Fail\n",
      "1944: 861383897657036800\n",
      "Fail\n",
      "1945: 861769973181624320\n",
      "Fail\n",
      "1946: 862096992088072192\n",
      "Fail\n",
      "1947: 862457590147678208\n",
      "Fail\n",
      "1948: 862722525377298433\n",
      "Fail\n",
      "1949: 862831371563274240\n",
      "Fail\n",
      "1950: 863062471531167744\n",
      "Fail\n",
      "1951: 863079547188785154\n",
      "Fail\n",
      "1952: 863432100342583297\n",
      "Fail\n",
      "1953: 863553081350529029\n",
      "Fail\n",
      "1954: 863907417377173506\n",
      "Fail\n",
      "1955: 864197398364647424\n",
      "Fail\n",
      "1956: 864279568663928832\n",
      "Fail\n",
      "1957: 864873206498414592\n",
      "Fail\n",
      "1958: 865006731092295680\n",
      "Fail\n",
      "1959: 865359393868664832\n",
      "Fail\n",
      "1960: 865718153858494464\n",
      "Fail\n",
      "1961: 866334964761202691\n",
      "Fail\n",
      "1962: 866450705531457537\n",
      "Fail\n",
      "1963: 866686824827068416\n",
      "Fail\n",
      "1964: 867051520902168576\n",
      "Fail\n",
      "1965: 867072653475098625\n",
      "Fail\n",
      "1966: 867421006826221569\n",
      "Fail\n",
      "1967: 867774946302451713\n",
      "Fail\n",
      "1968: 867900495410671616\n",
      "Fail\n",
      "1969: 868552278524837888\n",
      "Fail\n",
      "1970: 868622495443632128\n",
      "Fail\n",
      "1971: 868880397819494401\n",
      "Fail\n",
      "1972: 869227993411051520\n",
      "Fail\n",
      "1973: 869596645499047938\n",
      "Fail\n",
      "1974: 869702957897576449\n",
      "Fail\n",
      "1975: 869772420881756160\n",
      "Fail\n",
      "1976: 870063196459192321\n",
      "Fail\n",
      "1977: 870308999962521604\n",
      "Fail\n",
      "1978: 870374049280663552\n",
      "Fail\n",
      "1979: 870656317836468226\n",
      "Fail\n",
      "1980: 870804317367881728\n",
      "Fail\n",
      "1981: 871032628920680449\n",
      "Fail\n",
      "1982: 871515927908634625\n",
      "Fail\n",
      "1983: 871762521631449091\n",
      "Fail\n",
      "1984: 871879754684805121\n",
      "Fail\n",
      "1985: 872122724285648897\n",
      "Fail\n",
      "1986: 872261713294495745\n",
      "Fail\n",
      "1987: 872486979161796608\n",
      "Fail\n",
      "1988: 872620804844003328\n",
      "Fail\n",
      "1989: 872820683541237760\n",
      "Fail\n",
      "1990: 872967104147763200\n",
      "Fail\n",
      "1991: 873213775632977920\n",
      "Fail\n",
      "1992: 873580283840344065\n",
      "Fail\n",
      "1993: 873697596434513921\n",
      "Fail\n",
      "1994: 874012996292530176\n",
      "Fail\n",
      "1995: 874057562936811520\n",
      "Fail\n",
      "1996: 874296783580663808\n",
      "Fail\n",
      "1997: 874680097055178752\n",
      "Fail\n",
      "1998: 875021211251597312\n",
      "Fail\n",
      "1999: 875144289856114688\n",
      "Fail\n",
      "2000: 875747767867523072\n",
      "Fail\n",
      "2001: 876120275196170240\n",
      "Fail\n",
      "2002: 876484053909872640\n",
      "Fail\n",
      "2003: 876838120628539392\n",
      "Fail\n",
      "2004: 877201837425926144\n",
      "Fail\n",
      "2005: 877316821321428993\n",
      "Fail\n",
      "2006: 877556246731214848\n",
      "Fail\n",
      "2007: 877611172832227328\n",
      "Fail\n",
      "2008: 877736472329191424\n",
      "Fail\n",
      "2009: 878057613040115712\n",
      "Fail\n",
      "2010: 878281511006478336\n",
      "Fail\n",
      "2011: 878776093423087618\n",
      "Fail\n",
      "2012: 879008229531029506\n",
      "Fail\n",
      "2013: 879050749262655488\n",
      "Fail\n",
      "2014: 879376492567855104\n",
      "Fail\n",
      "2015: 879415818425184262\n",
      "Fail\n",
      "2016: 879492040517615616\n",
      "Fail\n",
      "2017: 879862464715927552\n",
      "Fail\n",
      "2018: 880095782870896641\n",
      "Fail\n",
      "2019: 880221127280381952\n",
      "Fail\n",
      "2020: 880465832366813184\n",
      "Fail\n",
      "2021: 880872448815771648\n",
      "Fail\n",
      "2022: 880935762899988482\n",
      "Fail\n",
      "2023: 881268444196462592\n",
      "Fail\n",
      "2024: 881536004380872706\n",
      "Fail\n",
      "2025: 881666595344535552\n",
      "Fail\n",
      "2026: 881906580714921986\n",
      "Fail\n",
      "2027: 882045870035918850\n",
      "Fail\n",
      "2028: 882268110199369728\n",
      "Fail\n",
      "2029: 882627270321602560\n",
      "Fail\n",
      "2030: 882762694511734784\n",
      "Fail\n",
      "2031: 882992080364220416\n",
      "Fail\n",
      "2032: 883117836046086144\n",
      "Fail\n",
      "2033: 883360690899218434\n",
      "Fail\n",
      "2034: 883482846933004288\n",
      "Fail\n",
      "2035: 883838122936631299\n",
      "Fail\n",
      "2036: 884162670584377345\n",
      "Fail\n",
      "2037: 884441805382717440\n",
      "Fail\n",
      "2038: 884562892145688576\n",
      "Fail\n",
      "2039: 884876753390489601\n",
      "Fail\n",
      "2040: 884925521741709313\n",
      "Fail\n",
      "2041: 885167619883638784\n",
      "Fail\n",
      "2042: 885311592912609280\n",
      "Fail\n",
      "2043: 885528943205470208\n",
      "Fail\n",
      "2044: 885984800019947520\n",
      "Fail\n",
      "2045: 886258384151887873\n",
      "Fail\n",
      "2046: 886366144734445568\n",
      "Fail\n",
      "2047: 886680336477933568\n",
      "Fail\n",
      "2048: 886736880519319552\n",
      "Fail\n",
      "2049: 886983233522544640\n",
      "Fail\n",
      "2050: 887101392804085760\n",
      "Fail\n",
      "2051: 887343217045368832\n",
      "Fail\n",
      "2052: 887473957103951883\n",
      "Fail\n",
      "2053: 887517139158093824\n",
      "Fail\n",
      "2054: 887705289381826560\n",
      "Fail\n",
      "2055: 888078434458587136\n",
      "Fail\n",
      "2056: 888202515573088257\n",
      "Fail\n",
      "2057: 888554962724278272\n",
      "Fail\n",
      "2058: 888804989199671297\n",
      "Fail\n",
      "2059: 888917238123831296\n",
      "Fail\n",
      "2060: 889278841981685760\n",
      "Fail\n",
      "2061: 889531135344209921\n",
      "Fail\n",
      "2062: 889638837579907072\n",
      "Fail\n",
      "2063: 889665388333682689\n",
      "Fail\n",
      "2064: 889880896479866881\n",
      "Fail\n",
      "2065: 890006608113172480\n",
      "Fail\n",
      "2066: 890240255349198849\n",
      "Fail\n",
      "2067: 890609185150312448\n",
      "Fail\n",
      "2068: 890729181411237888\n",
      "Fail\n",
      "2069: 890971913173991426\n",
      "Fail\n",
      "2070: 891087950875897856\n",
      "Fail\n",
      "2071: 891327558926688256\n",
      "Fail\n",
      "2072: 891689557279858688\n",
      "Fail\n",
      "2073: 891815181378084864\n",
      "Fail\n",
      "2074: 892177421306343426\n",
      "Fail\n",
      "2075: 892420643555336193\n",
      "Fail\n"
     ]
    }
   ],
   "source": [
    "# Query Twitter's API for JSON data for each tweet ID in the Twitter archive\n",
    "\n",
    "count = 0\n",
    "\n",
    "fails_dict = {}\n",
    "\n",
    "start = timer()\n",
    "\n",
    "# Save each tweet's returned JSON as a new line in a .txt file\n",
    "\n",
    "with open('tweet_json.txt', 'w') as outfile:\n",
    "\n",
    "# This loop will likely take 20-30 minutes to run because of Twitter's rate limit\n",
    "\n",
    "    for tweet_id in tweet_ids:\n",
    "\n",
    "        count += 1\n",
    "\n",
    "        print(str(count) + \": \" + str(tweet_id))\n",
    "\n",
    "        try:\n",
    "\n",
    "            tweet = api.get_status(tweet_id, tweet_mode='extended')\n",
    "\n",
    "            print(\"Success\")\n",
    "\n",
    "            json.dump(tweet._json, outfile)\n",
    "        \n",
    "            outfile.write('\\n')\n",
    "            \n",
    "        except tw.TweepError as e:\n",
    "\n",
    "            print(\"Fail\")\n",
    "            fails_dict[tweet_id] = e\n",
    "            pass\n",
    "        \n",
    "end = timer()\n",
    "\n"
   ]
  },
  {
   "cell_type": "code",
   "execution_count": 121,
   "metadata": {
    "scrolled": false
   },
   "outputs": [
    {
     "output_type": "stream",
     "name": "stdout",
     "text": [
      "{\n  \"created_at\": \"Sun Nov 15 22:32:08 +0000 2015\",\n  \"id\": 666020888022790149,\n  \"id_str\": \"666020888022790149\",\n  \"full_text\": \"Here we have a Japanese Irish Setter. Lost eye in Vietnam (?). Big fan of relaxing on stair. 8/10 would pet https://t.co/BLDqew2Ijj\",\n  \"truncated\": false,\n  \"display_text_range\": [\n    0,\n    131\n  ],\n  \"entities\": {\n    \"hashtags\": [],\n    \"symbols\": [],\n    \"user_mentions\": [],\n    \"urls\": [],\n    \"media\": [\n      {\n        \"id\": 666020881337073664,\n        \"id_str\": \"666020881337073664\",\n        \"indices\": [\n          108,\n          131\n        ],\n        \"media_url\": \"http://pbs.twimg.com/media/CT4udn0WwAA0aMy.jpg\",\n        \"media_url_https\": \"https://pbs.twimg.com/media/CT4udn0WwAA0aMy.jpg\",\n        \"url\": \"https://t.co/BLDqew2Ijj\",\n        \"display_url\": \"pic.twitter.com/BLDqew2Ijj\",\n        \"expanded_url\": \"https://twitter.com/dog_rates/status/666020888022790149/photo/1\",\n        \"type\": \"photo\",\n        \"sizes\": {\n          \"medium\": {\n            \"w\": 960,\n            \"h\": 720,\n            \"resize\": \"fit\"\n          },\n          \"thumb\": {\n            \"w\": 150,\n            \"h\": 150,\n            \"resize\": \"crop\"\n          },\n          \"large\": {\n            \"w\": 960,\n            \"h\": 720,\n            \"resize\": \"fit\"\n          },\n          \"small\": {\n            \"w\": 680,\n            \"h\": 510,\n            \"resize\": \"fit\"\n          }\n        }\n      }\n    ]\n  },\n  \"extended_entities\": {\n    \"media\": [\n      {\n        \"id\": 666020881337073664,\n        \"id_str\": \"666020881337073664\",\n        \"indices\": [\n          108,\n          131\n        ],\n        \"media_url\": \"http://pbs.twimg.com/media/CT4udn0WwAA0aMy.jpg\",\n        \"media_url_https\": \"https://pbs.twimg.com/media/CT4udn0WwAA0aMy.jpg\",\n        \"url\": \"https://t.co/BLDqew2Ijj\",\n        \"display_url\": \"pic.twitter.com/BLDqew2Ijj\",\n        \"expanded_url\": \"https://twitter.com/dog_rates/status/666020888022790149/photo/1\",\n        \"type\": \"photo\",\n        \"sizes\": {\n          \"medium\": {\n            \"w\": 960,\n            \"h\": 720,\n            \"resize\": \"fit\"\n          },\n          \"thumb\": {\n            \"w\": 150,\n            \"h\": 150,\n            \"resize\": \"crop\"\n          },\n          \"large\": {\n            \"w\": 960,\n            \"h\": 720,\n            \"resize\": \"fit\"\n          },\n          \"small\": {\n            \"w\": 680,\n            \"h\": 510,\n            \"resize\": \"fit\"\n          }\n        }\n      }\n    ]\n  },\n  \"source\": \"<a href=\\\"http://twitter.com/download/iphone\\\" rel=\\\"nofollow\\\">Twitter for iPhone</a>\",\n  \"in_reply_to_status_id\": null,\n  \"in_reply_to_status_id_str\": null,\n  \"in_reply_to_user_id\": null,\n  \"in_reply_to_user_id_str\": null,\n  \"in_reply_to_screen_name\": null,\n  \"user\": {\n    \"id\": 4196983835,\n    \"id_str\": \"4196983835\",\n    \"name\": \"WeRateDogs\\u00ae\",\n    \"screen_name\": \"dog_rates\",\n    \"location\": \"links and things \\u279c\",\n    \"description\": \"Your Only Source For Professional Dog Ratings Instagram and Facebook \\u279c WeRateDogs partnerships@weratedogs.com \\u2800\\u2800\\u2800\\u2800\\u2800\\u2800\\u2800\\u2800\\u2800\\u2800\\u2800\\u2800\",\n    \"url\": \"https://t.co/6ytGi24QCk\",\n    \"entities\": {\n      \"url\": {\n        \"urls\": [\n          {\n            \"url\": \"https://t.co/6ytGi24QCk\",\n            \"expanded_url\": \"http://campsite.bio/weratedogs\",\n            \"display_url\": \"campsite.bio/weratedogs\",\n            \"indices\": [\n              0,\n              23\n            ]\n          }\n        ]\n      },\n      \"description\": {\n        \"urls\": []\n      }\n    },\n    \"protected\": false,\n    \"followers_count\": 8941612,\n    \"friends_count\": 18,\n    \"listed_count\": 6213,\n    \"created_at\": \"Sun Nov 15 21:41:29 +0000 2015\",\n    \"favourites_count\": 146140,\n    \"utc_offset\": null,\n    \"time_zone\": null,\n    \"geo_enabled\": true,\n    \"verified\": true,\n    \"statuses_count\": 13281,\n    \"lang\": null,\n    \"contributors_enabled\": false,\n    \"is_translator\": false,\n    \"is_translation_enabled\": false,\n    \"profile_background_color\": \"000000\",\n    \"profile_background_image_url\": \"http://abs.twimg.com/images/themes/theme1/bg.png\",\n    \"profile_background_image_url_https\": \"https://abs.twimg.com/images/themes/theme1/bg.png\",\n    \"profile_background_tile\": false,\n    \"profile_image_url\": \"http://pbs.twimg.com/profile_images/1322993722691211264/vyjR1ftm_normal.jpg\",\n    \"profile_image_url_https\": \"https://pbs.twimg.com/profile_images/1322993722691211264/vyjR1ftm_normal.jpg\",\n    \"profile_banner_url\": \"https://pbs.twimg.com/profile_banners/4196983835/1591077312\",\n    \"profile_link_color\": \"F5ABB5\",\n    \"profile_sidebar_border_color\": \"000000\",\n    \"profile_sidebar_fill_color\": \"000000\",\n    \"profile_text_color\": \"000000\",\n    \"profile_use_background_image\": false,\n    \"has_extended_profile\": false,\n    \"default_profile\": false,\n    \"default_profile_image\": false,\n    \"following\": false,\n    \"follow_request_sent\": false,\n    \"notifications\": false,\n    \"translator_type\": \"none\"\n  },\n  \"geo\": null,\n  \"coordinates\": null,\n  \"place\": null,\n  \"contributors\": null,\n  \"is_quote_status\": false,\n  \"retweet_count\": 445,\n  \"favorite_count\": 2337,\n  \"favorited\": false,\n  \"retweeted\": false,\n  \"possibly_sensitive\": false,\n  \"possibly_sensitive_appealable\": false,\n  \"lang\": \"en\"\n}\n"
     ]
    }
   ],
   "source": [
    "with open('tweet_json.txt', 'r') as json_file:\n",
    "    for line in json_file:\n",
    "        json_data = json.loads(line)\n",
    "        print(json.dumps(json_data,indent=2))\n",
    "        break"
   ]
  },
  {
   "cell_type": "code",
   "execution_count": 122,
   "metadata": {
    "scrolled": true,
    "tags": [
     "outputPrepend"
    ]
   },
   "outputs": [
    {
     "output_type": "stream",
     "name": "stdout",
     "text": [
      "2800\\u2800\\u2800\\u2800\\u2800\", \"url\": \"https://t.co/6ytGi24QCk\", \"entities\": {\"url\": {\"urls\": [{\"url\": \"https://t.co/6ytGi24QCk\", \"expanded_url\": \"http://campsite.bio/weratedogs\", \"display_url\": \"campsite.bio/weratedogs\", \"indices\": [0, 23]}]}, \"description\": {\"urls\": []}}, \"protected\": false, \"followers_count\": 8941627, \"friends_count\": 18, \"listed_count\": 6213, \"created_at\": \"Sun Nov 15 21:41:29 +0000 2015\", \"favourites_count\": 146140, \"utc_offset\": null, \"time_zone\": null, \"geo_enabled\": true, \"verified\": true, \"statuses_count\": 13281, \"lang\": null, \"contributors_enabled\": false, \"is_translator\": false, \"is_translation_enabled\": false, \"profile_background_color\": \"000000\", \"profile_background_image_url\": \"http://abs.twimg.com/images/themes/theme1/bg.png\", \"profile_background_image_url_https\": \"https://abs.twimg.com/images/themes/theme1/bg.png\", \"profile_background_tile\": false, \"profile_image_url\": \"http://pbs.twimg.com/profile_images/1322993722691211264/vyjR1ftm_normal.jpg\", \"profile_image_url_https\": \"https://pbs.twimg.com/profile_images/1322993722691211264/vyjR1ftm_normal.jpg\", \"profile_banner_url\": \"https://pbs.twimg.com/profile_banners/4196983835/1591077312\", \"profile_link_color\": \"F5ABB5\", \"profile_sidebar_border_color\": \"000000\", \"profile_sidebar_fill_color\": \"000000\", \"profile_text_color\": \"000000\", \"profile_use_background_image\": false, \"has_extended_profile\": false, \"default_profile\": false, \"default_profile_image\": false, \"following\": false, \"follow_request_sent\": false, \"notifications\": false, \"translator_type\": \"none\"}, \"geo\": null, \"coordinates\": null, \"place\": null, \"contributors\": null, \"is_quote_status\": false, \"retweet_count\": 1086, \"favorite_count\": 6396, \"favorited\": false, \"retweeted\": false, \"possibly_sensitive\": false, \"possibly_sensitive_appealable\": false, \"lang\": \"en\"}\n",
      "\n",
      "{\"created_at\": \"Tue Feb 14 02:02:51 +0000 2017\", \"id\": 831322785565769729, \"id_str\": \"831322785565769729\", \"full_text\": \"This is Pete. He has no eyes. Needs a guide doggo. Also appears to be considerably fluffy af. 12/10 would hug softly https://t.co/Xc0gyovCtK\", \"truncated\": false, \"display_text_range\": [0, 116], \"entities\": {\"hashtags\": [], \"symbols\": [], \"user_mentions\": [], \"urls\": [], \"media\": [{\"id\": 831322776149430272, \"id_str\": \"831322776149430272\", \"indices\": [117, 140], \"media_url\": \"http://pbs.twimg.com/media/C4lzqQ4UEAApzU0.jpg\", \"media_url_https\": \"https://pbs.twimg.com/media/C4lzqQ4UEAApzU0.jpg\", \"url\": \"https://t.co/Xc0gyovCtK\", \"display_url\": \"pic.twitter.com/Xc0gyovCtK\", \"expanded_url\": \"https://twitter.com/dog_rates/status/831322785565769729/photo/1\", \"type\": \"photo\", \"sizes\": {\"small\": {\"w\": 510, \"h\": 680, \"resize\": \"fit\"}, \"thumb\": {\"w\": 150, \"h\": 150, \"resize\": \"crop\"}, \"large\": {\"w\": 1224, \"h\": 1632, \"resize\": \"fit\"}, \"medium\": {\"w\": 900, \"h\": 1200, \"resize\": \"fit\"}}}]}, \"extended_entities\": {\"media\": [{\"id\": 831322776149430272, \"id_str\": \"831322776149430272\", \"indices\": [117, 140], \"media_url\": \"http://pbs.twimg.com/media/C4lzqQ4UEAApzU0.jpg\", \"media_url_https\": \"https://pbs.twimg.com/media/C4lzqQ4UEAApzU0.jpg\", \"url\": \"https://t.co/Xc0gyovCtK\", \"display_url\": \"pic.twitter.com/Xc0gyovCtK\", \"expanded_url\": \"https://twitter.com/dog_rates/status/831322785565769729/photo/1\", \"type\": \"photo\", \"sizes\": {\"small\": {\"w\": 510, \"h\": 680, \"resize\": \"fit\"}, \"thumb\": {\"w\": 150, \"h\": 150, \"resize\": \"crop\"}, \"large\": {\"w\": 1224, \"h\": 1632, \"resize\": \"fit\"}, \"medium\": {\"w\": 900, \"h\": 1200, \"resize\": \"fit\"}}}]}, \"source\": \"<a href=\\\"http://twitter.com/download/iphone\\\" rel=\\\"nofollow\\\">Twitter for iPhone</a>\", \"in_reply_to_status_id\": null, \"in_reply_to_status_id_str\": null, \"in_reply_to_user_id\": null, \"in_reply_to_user_id_str\": null, \"in_reply_to_screen_name\": null, \"user\": {\"id\": 4196983835, \"id_str\": \"4196983835\", \"name\": \"WeRateDogs\\u00ae\", \"screen_name\": \"dog_rates\", \"location\": \"links and things \\u279c\", \"description\": \"Your Only Source For Professional Dog Ratings Instagram and Facebook \\u279c WeRateDogs partnerships@weratedogs.com \\u2800\\u2800\\u2800\\u2800\\u2800\\u2800\\u2800\\u2800\\u2800\\u2800\\u2800\\u2800\", \"url\": \"https://t.co/6ytGi24QCk\", \"entities\": {\"url\": {\"urls\": [{\"url\": \"https://t.co/6ytGi24QCk\", \"expanded_url\": \"http://campsite.bio/weratedogs\", \"display_url\": \"campsite.bio/weratedogs\", \"indices\": [0, 23]}]}, \"description\": {\"urls\": []}}, \"protected\": false, \"followers_count\": 8941627, \"friends_count\": 18, \"listed_count\": 6213, \"created_at\": \"Sun Nov 15 21:41:29 +0000 2015\", \"favourites_count\": 146140, \"utc_offset\": null, \"time_zone\": null, \"geo_enabled\": true, \"verified\": true, \"statuses_count\": 13281, \"lang\": null, \"contributors_enabled\": false, \"is_translator\": false, \"is_translation_enabled\": false, \"profile_background_color\": \"000000\", \"profile_background_image_url\": \"http://abs.twimg.com/images/themes/theme1/bg.png\", \"profile_background_image_url_https\": \"https://abs.twimg.com/images/themes/theme1/bg.png\", \"profile_background_tile\": false, \"profile_image_url\": \"http://pbs.twimg.com/profile_images/1322993722691211264/vyjR1ftm_normal.jpg\", \"profile_image_url_https\": \"https://pbs.twimg.com/profile_images/1322993722691211264/vyjR1ftm_normal.jpg\", \"profile_banner_url\": \"https://pbs.twimg.com/profile_banners/4196983835/1591077312\", \"profile_link_color\": \"F5ABB5\", \"profile_sidebar_border_color\": \"000000\", \"profile_sidebar_fill_color\": \"000000\", \"profile_text_color\": \"000000\", \"profile_use_background_image\": false, \"has_extended_profile\": false, \"default_profile\": false, \"default_profile_image\": false, \"following\": false, \"follow_request_sent\": false, \"notifications\": false, \"translator_type\": \"none\"}, \"geo\": null, \"coordinates\": null, \"place\": null, \"contributors\": null, \"is_quote_status\": false, \"retweet_count\": 1506, \"favorite_count\": 9094, \"favorited\": false, \"retweeted\": false, \"possibly_sensitive\": false, \"possibly_sensitive_appealable\": false, \"lang\": \"en\"}\n",
      "\n",
      "{\"created_at\": \"Tue Feb 14 17:17:22 +0000 2017\", \"id\": 831552930092285952, \"id_str\": \"831552930092285952\", \"full_text\": \"This is Dutch. He dressed up as his favorite emoji for Valentine's Day. I've got heart eyes for his heart eyes. 13/10 https://t.co/BCbmFYLrse\", \"truncated\": false, \"display_text_range\": [0, 117], \"entities\": {\"hashtags\": [], \"symbols\": [], \"user_mentions\": [], \"urls\": [], \"media\": [{\"id\": 831552915512901632, \"id_str\": \"831552915512901632\", \"indices\": [118, 141], \"media_url\": \"http://pbs.twimg.com/media/C4pE-I0WQAABveu.jpg\", \"media_url_https\": \"https://pbs.twimg.com/media/C4pE-I0WQAABveu.jpg\", \"url\": \"https://t.co/BCbmFYLrse\", \"display_url\": \"pic.twitter.com/BCbmFYLrse\", \"expanded_url\": \"https://twitter.com/dog_rates/status/831552930092285952/photo/1\", \"type\": \"photo\", \"sizes\": {\"thumb\": {\"w\": 150, \"h\": 150, \"resize\": \"crop\"}, \"large\": {\"w\": 1151, \"h\": 1886, \"resize\": \"fit\"}, \"medium\": {\"w\": 732, \"h\": 1200, \"resize\": \"fit\"}, \"small\": {\"w\": 415, \"h\": 680, \"resize\": \"fit\"}}}]}, \"extended_entities\": {\"media\": [{\"id\": 831552915512901632, \"id_str\": \"831552915512901632\", \"indices\": [118, 141], \"media_url\": \"http://pbs.twimg.com/media/C4pE-I0WQAABveu.jpg\", \"media_url_https\": \"https://pbs.twimg.com/media/C4pE-I0WQAABveu.jpg\", \"url\": \"https://t.co/BCbmFYLrse\", \"display_url\": \"pic.twitter.com/BCbmFYLrse\", \"expanded_url\": \"https://twitter.com/dog_rates/status/831552930092285952/photo/1\", \"type\": \"photo\", \"sizes\": {\"thumb\": {\"w\": 150, \"h\": 150, \"resize\": \"crop\"}, \"large\": {\"w\": 1151, \"h\": 1886, \"resize\": \"fit\"}, \"medium\": {\"w\": 732, \"h\": 1200, \"resize\": \"fit\"}, \"small\": {\"w\": 415, \"h\": 680, \"resize\": \"fit\"}}}]}, \"source\": \"<a href=\\\"http://twitter.com/download/iphone\\\" rel=\\\"nofollow\\\">Twitter for iPhone</a>\", \"in_reply_to_status_id\": null, \"in_reply_to_status_id_str\": null, \"in_reply_to_user_id\": null, \"in_reply_to_user_id_str\": null, \"in_reply_to_screen_name\": null, \"user\": {\"id\": 4196983835, \"id_str\": \"4196983835\", \"name\": \"WeRateDogs\\u00ae\", \"screen_name\": \"dog_rates\", \"location\": \"links and things \\u279c\", \"description\": \"Your Only Source For Professional Dog Ratings Instagram and Facebook \\u279c WeRateDogs partnerships@weratedogs.com \\u2800\\u2800\\u2800\\u2800\\u2800\\u2800\\u2800\\u2800\\u2800\\u2800\\u2800\\u2800\", \"url\": \"https://t.co/6ytGi24QCk\", \"entities\": {\"url\": {\"urls\": [{\"url\": \"https://t.co/6ytGi24QCk\", \"expanded_url\": \"http://campsite.bio/weratedogs\", \"display_url\": \"campsite.bio/weratedogs\", \"indices\": [0, 23]}]}, \"description\": {\"urls\": []}}, \"protected\": false, \"followers_count\": 8941627, \"friends_count\": 18, \"listed_count\": 6213, \"created_at\": \"Sun Nov 15 21:41:29 +0000 2015\", \"favourites_count\": 146140, \"utc_offset\": null, \"time_zone\": null, \"geo_enabled\": true, \"verified\": true, \"statuses_count\": 13281, \"lang\": null, \"contributors_enabled\": false, \"is_translator\": false, \"is_translation_enabled\": false, \"profile_background_color\": \"000000\", \"profile_background_image_url\": \"http://abs.twimg.com/images/themes/theme1/bg.png\", \"profile_background_image_url_https\": \"https://abs.twimg.com/images/themes/theme1/bg.png\", \"profile_background_tile\": false, \"profile_image_url\": \"http://pbs.twimg.com/profile_images/1322993722691211264/vyjR1ftm_normal.jpg\", \"profile_image_url_https\": \"https://pbs.twimg.com/profile_images/1322993722691211264/vyjR1ftm_normal.jpg\", \"profile_banner_url\": \"https://pbs.twimg.com/profile_banners/4196983835/1591077312\", \"profile_link_color\": \"F5ABB5\", \"profile_sidebar_border_color\": \"000000\", \"profile_sidebar_fill_color\": \"000000\", \"profile_text_color\": \"000000\", \"profile_use_background_image\": false, \"has_extended_profile\": false, \"default_profile\": false, \"default_profile_image\": false, \"following\": false, \"follow_request_sent\": false, \"notifications\": false, \"translator_type\": \"none\"}, \"geo\": null, \"coordinates\": null, \"place\": null, \"contributors\": null, \"is_quote_status\": false, \"retweet_count\": 2261, \"favorite_count\": 8778, \"favorited\": false, \"retweeted\": false, \"possibly_sensitive\": false, \"possibly_sensitive_appealable\": false, \"lang\": \"en\"}\n",
      "\n",
      "{\"created_at\": \"Tue Feb 14 23:43:18 +0000 2017\", \"id\": 831650051525054464, \"id_str\": \"831650051525054464\", \"full_text\": \"I usually only share these on Friday's, but this is Blue. He's a very smoochable pooch who needs your help. 13/10\\n\\nhttps://t.co/piiX0ke8Z6 https://t.co/1UHrKcaCiO\", \"truncated\": false, \"display_text_range\": [0, 138], \"entities\": {\"hashtags\": [], \"symbols\": [], \"user_mentions\": [], \"urls\": [{\"url\": \"https://t.co/piiX0ke8Z6\", \"expanded_url\": \"http://www.gofundme.com/bluethewhitehusky\", \"display_url\": \"gofundme.com/bluethewhitehu\\u2026\", \"indices\": [115, 138]}], \"media\": [{\"id\": 831650039864885250, \"id_str\": \"831650039864885250\", \"indices\": [139, 162], \"media_url\": \"http://pbs.twimg.com/media/C4qdThOWAAI3WX3.jpg\", \"media_url_https\": \"https://pbs.twimg.com/media/C4qdThOWAAI3WX3.jpg\", \"url\": \"https://t.co/1UHrKcaCiO\", \"display_url\": \"pic.twitter.com/1UHrKcaCiO\", \"expanded_url\": \"https://twitter.com/dog_rates/status/831650051525054464/photo/1\", \"type\": \"photo\", \"sizes\": {\"medium\": {\"w\": 692, \"h\": 1200, \"resize\": \"fit\"}, \"thumb\": {\"w\": 150, \"h\": 150, \"resize\": \"crop\"}, \"large\": {\"w\": 1000, \"h\": 1734, \"resize\": \"fit\"}, \"small\": {\"w\": 392, \"h\": 680, \"resize\": \"fit\"}}}]}, \"extended_entities\": {\"media\": [{\"id\": 831650039864885250, \"id_str\": \"831650039864885250\", \"indices\": [139, 162], \"media_url\": \"http://pbs.twimg.com/media/C4qdThOWAAI3WX3.jpg\", \"media_url_https\": \"https://pbs.twimg.com/media/C4qdThOWAAI3WX3.jpg\", \"url\": \"https://t.co/1UHrKcaCiO\", \"display_url\": \"pic.twitter.com/1UHrKcaCiO\", \"expanded_url\": \"https://twitter.com/dog_rates/status/831650051525054464/photo/1\", \"type\": \"photo\", \"sizes\": {\"medium\": {\"w\": 692, \"h\": 1200, \"resize\": \"fit\"}, \"thumb\": {\"w\": 150, \"h\": 150, \"resize\": \"crop\"}, \"large\": {\"w\": 1000, \"h\": 1734, \"resize\": \"fit\"}, \"small\": {\"w\": 392, \"h\": 680, \"resize\": \"fit\"}}}, {\"id\": 831650039856525314, \"id_str\": \"831650039856525314\", \"indices\": [139, 162], \"media_url\": \"http://pbs.twimg.com/media/C4qdThMWcAI9jUg.jpg\", \"media_url_https\": \"https://pbs.twimg.com/media/C4qdThMWcAI9jUg.jpg\", \"url\": \"https://t.co/1UHrKcaCiO\", \"display_url\": \"pic.twitter.com/1UHrKcaCiO\", \"expanded_url\": \"https://twitter.com/dog_rates/status/831650051525054464/photo/1\", \"type\": \"photo\", \"sizes\": {\"thumb\": {\"w\": 150, \"h\": 150, \"resize\": \"crop\"}, \"small\": {\"w\": 680, \"h\": 670, \"resize\": \"fit\"}, \"large\": {\"w\": 1000, \"h\": 985, \"resize\": \"fit\"}, \"medium\": {\"w\": 1000, \"h\": 985, \"resize\": \"fit\"}}}, {\"id\": 831650039869083650, \"id_str\": \"831650039869083650\", \"indices\": [139, 162], \"media_url\": \"http://pbs.twimg.com/media/C4qdThPWEAIk9qP.jpg\", \"media_url_https\": \"https://pbs.twimg.com/media/C4qdThPWEAIk9qP.jpg\", \"url\": \"https://t.co/1UHrKcaCiO\", \"display_url\": \"pic.twitter.com/1UHrKcaCiO\", \"expanded_url\": \"https://twitter.com/dog_rates/status/831650051525054464/photo/1\", \"type\": \"photo\", \"sizes\": {\"thumb\": {\"w\": 150, \"h\": 150, \"resize\": \"crop\"}, \"large\": {\"w\": 750, \"h\": 1000, \"resize\": \"fit\"}, \"small\": {\"w\": 510, \"h\": 680, \"resize\": \"fit\"}, \"medium\": {\"w\": 750, \"h\": 1000, \"resize\": \"fit\"}}}, {\"id\": 831650039864885249, \"id_str\": \"831650039864885249\", \"indices\": [139, 162], \"media_url\": \"http://pbs.twimg.com/media/C4qdThOWAAEW5B9.jpg\", \"media_url_https\": \"https://pbs.twimg.com/media/C4qdThOWAAEW5B9.jpg\", \"url\": \"https://t.co/1UHrKcaCiO\", \"display_url\": \"pic.twitter.com/1UHrKcaCiO\", \"expanded_url\": \"https://twitter.com/dog_rates/status/831650051525054464/photo/1\", \"type\": \"photo\", \"sizes\": {\"thumb\": {\"w\": 150, \"h\": 150, \"resize\": \"crop\"}, \"small\": {\"w\": 510, \"h\": 680, \"resize\": \"fit\"}, \"medium\": {\"w\": 900, \"h\": 1200, \"resize\": \"fit\"}, \"large\": {\"w\": 1000, \"h\": 1333, \"resize\": \"fit\"}}}]}, \"source\": \"<a href=\\\"http://twitter.com/download/iphone\\\" rel=\\\"nofollow\\\">Twitter for iPhone</a>\", \"in_reply_to_status_id\": null, \"in_reply_to_status_id_str\": null, \"in_reply_to_user_id\": null, \"in_reply_to_user_id_str\": null, \"in_reply_to_screen_name\": null, \"user\": {\"id\": 4196983835, \"id_str\": \"4196983835\", \"name\": \"WeRateDogs\\u00ae\", \"screen_name\": \"dog_rates\", \"location\": \"links and things \\u279c\", \"description\": \"Your Only Source For Professional Dog Ratings Instagram and Facebook \\u279c WeRateDogs partnerships@weratedogs.com \\u2800\\u2800\\u2800\\u2800\\u2800\\u2800\\u2800\\u2800\\u2800\\u2800\\u2800\\u2800\", \"url\": \"https://t.co/6ytGi24QCk\", \"entities\": {\"url\": {\"urls\": [{\"url\": \"https://t.co/6ytGi24QCk\", \"expanded_url\": \"http://campsite.bio/weratedogs\", \"display_url\": \"campsite.bio/weratedogs\", \"indices\": [0, 23]}]}, \"description\": {\"urls\": []}}, \"protected\": false, \"followers_count\": 8941627, \"friends_count\": 18, \"listed_count\": 6213, \"created_at\": \"Sun Nov 15 21:41:29 +0000 2015\", \"favourites_count\": 146140, \"utc_offset\": null, \"time_zone\": null, \"geo_enabled\": true, \"verified\": true, \"statuses_count\": 13281, \"lang\": null, \"contributors_enabled\": false, \"is_translator\": false, \"is_translation_enabled\": false, \"profile_background_color\": \"000000\", \"profile_background_image_url\": \"http://abs.twimg.com/images/themes/theme1/bg.png\", \"profile_background_image_url_https\": \"https://abs.twimg.com/images/themes/theme1/bg.png\", \"profile_background_tile\": false, \"profile_image_url\": \"http://pbs.twimg.com/profile_images/1322993722691211264/vyjR1ftm_normal.jpg\", \"profile_image_url_https\": \"https://pbs.twimg.com/profile_images/1322993722691211264/vyjR1ftm_normal.jpg\", \"profile_banner_url\": \"https://pbs.twimg.com/profile_banners/4196983835/1591077312\", \"profile_link_color\": \"F5ABB5\", \"profile_sidebar_border_color\": \"000000\", \"profile_sidebar_fill_color\": \"000000\", \"profile_text_color\": \"000000\", \"profile_use_background_image\": false, \"has_extended_profile\": false, \"default_profile\": false, \"default_profile_image\": false, \"following\": false, \"follow_request_sent\": false, \"notifications\": false, \"translator_type\": \"none\"}, \"geo\": null, \"coordinates\": null, \"place\": null, \"contributors\": null, \"is_quote_status\": false, \"retweet_count\": 1869, \"favorite_count\": 6969, \"favorited\": false, \"retweeted\": false, \"possibly_sensitive\": false, \"possibly_sensitive_appealable\": false, \"lang\": \"en\"}\n",
      "\n",
      "{\"created_at\": \"Wed Feb 15 01:04:21 +0000 2017\", \"id\": 831670449226514432, \"id_str\": \"831670449226514432\", \"full_text\": \"This is Daisy. She has a heart on her butt. 13/10 topical af https://t.co/u6p4LxzHKg\", \"truncated\": false, \"display_text_range\": [0, 60], \"entities\": {\"hashtags\": [], \"symbols\": [], \"user_mentions\": [], \"urls\": [], \"media\": [{\"id\": 831670443132252160, \"id_str\": \"831670443132252160\", \"indices\": [61, 84], \"media_url\": \"http://pbs.twimg.com/media/C4qv3JUW8AADirb.jpg\", \"media_url_https\": \"https://pbs.twimg.com/media/C4qv3JUW8AADirb.jpg\", \"url\": \"https://t.co/u6p4LxzHKg\", \"display_url\": \"pic.twitter.com/u6p4LxzHKg\", \"expanded_url\": \"https://twitter.com/dog_rates/status/831670449226514432/photo/1\", \"type\": \"photo\", \"sizes\": {\"thumb\": {\"w\": 150, \"h\": 150, \"resize\": \"crop\"}, \"small\": {\"w\": 510, \"h\": 680, \"resize\": \"fit\"}, \"medium\": {\"w\": 899, \"h\": 1200, \"resize\": \"fit\"}, \"large\": {\"w\": 1535, \"h\": 2048, \"resize\": \"fit\"}}}]}, \"extended_entities\": {\"media\": [{\"id\": 831670443132252160, \"id_str\": \"831670443132252160\", \"indices\": [61, 84], \"media_url\": \"http://pbs.twimg.com/media/C4qv3JUW8AADirb.jpg\", \"media_url_https\": \"https://pbs.twimg.com/media/C4qv3JUW8AADirb.jpg\", \"url\": \"https://t.co/u6p4LxzHKg\", \"display_url\": \"pic.twitter.com/u6p4LxzHKg\", \"expanded_url\": \"https://twitter.com/dog_rates/status/831670449226514432/photo/1\", \"type\": \"photo\", \"sizes\": {\"thumb\": {\"w\": 150, \"h\": 150, \"resize\": \"crop\"}, \"small\": {\"w\": 510, \"h\": 680, \"resize\": \"fit\"}, \"medium\": {\"w\": 899, \"h\": 1200, \"resize\": \"fit\"}, \"large\": {\"w\": 1535, \"h\": 2048, \"resize\": \"fit\"}}}]}, \"source\": \"<a href=\\\"http://twitter.com/download/iphone\\\" rel=\\\"nofollow\\\">Twitter for iPhone</a>\", \"in_reply_to_status_id\": null, \"in_reply_to_status_id_str\": null, \"in_reply_to_user_id\": null, \"in_reply_to_user_id_str\": null, \"in_reply_to_screen_name\": null, \"user\": {\"id\": 4196983835, \"id_str\": \"4196983835\", \"name\": \"WeRateDogs\\u00ae\", \"screen_name\": \"dog_rates\", \"location\": \"links and things \\u279c\", \"description\": \"Your Only Source For Professional Dog Ratings Instagram and Facebook \\u279c WeRateDogs partnerships@weratedogs.com \\u2800\\u2800\\u2800\\u2800\\u2800\\u2800\\u2800\\u2800\\u2800\\u2800\\u2800\\u2800\", \"url\": \"https://t.co/6ytGi24QCk\", \"entities\": {\"url\": {\"urls\": [{\"url\": \"https://t.co/6ytGi24QCk\", \"expanded_url\": \"http://campsite.bio/weratedogs\", \"display_url\": \"campsite.bio/weratedogs\", \"indices\": [0, 23]}]}, \"description\": {\"urls\": []}}, \"protected\": false, \"followers_count\": 8941627, \"friends_count\": 18, \"listed_count\": 6213, \"created_at\": \"Sun Nov 15 21:41:29 +0000 2015\", \"favourites_count\": 146140, \"utc_offset\": null, \"time_zone\": null, \"geo_enabled\": true, \"verified\": true, \"statuses_count\": 13281, \"lang\": null, \"contributors_enabled\": false, \"is_translator\": false, \"is_translation_enabled\": false, \"profile_background_color\": \"000000\", \"profile_background_image_url\": \"http://abs.twimg.com/images/themes/theme1/bg.png\", \"profile_background_image_url_https\": \"https://abs.twimg.com/images/themes/theme1/bg.png\", \"profile_background_tile\": false, \"profile_image_url\": \"http://pbs.twimg.com/profile_images/1322993722691211264/vyjR1ftm_normal.jpg\", \"profile_image_url_https\": \"https://pbs.twimg.com/profile_images/1322993722691211264/vyjR1ftm_normal.jpg\", \"profile_banner_url\": \"https://pbs.twimg.com/profile_banners/4196983835/1591077312\", \"profile_link_color\": \"F5ABB5\", \"profile_sidebar_border_color\": \"000000\", \"profile_sidebar_fill_color\": \"000000\", \"profile_text_color\": \"000000\", \"profile_use_background_image\": false, \"has_extended_profile\": false, \"default_profile\": false, \"default_profile_image\": false, \"following\": false, \"follow_request_sent\": false, \"notifications\": false, \"translator_type\": \"none\"}, \"geo\": null, \"coordinates\": null, \"place\": null, \"contributors\": null, \"is_quote_status\": false, \"retweet_count\": 1763, \"favorite_count\": 10210, \"favorited\": false, \"retweeted\": false, \"possibly_sensitive\": false, \"possibly_sensitive_appealable\": false, \"lang\": \"en\"}\n",
      "\n"
     ]
    }
   ],
   "source": [
    "# create df\n",
    "df_tweets = pd.DataFrame(columns=['tweet_id','retweet_count', 'favorite_count'])\n",
    "with open('tweet_json.txt') as file:\n",
    "    for line in file:\n",
    "        print(line)\n",
    "        status = json.loads(line)\n",
    "        tweet_id = status['id_str']\n",
    "        rt_count = status['retweet_count']\n",
    "        fav_count = status['favorite_count']\n",
    "        df_tweets = df_tweets.append(pd.DataFrame([[tweet_id,rt_count, fav_count]],columns=['tweet_id','retweet_count', 'favorite_count']))"
   ]
  },
  {
   "cell_type": "code",
   "execution_count": 123,
   "metadata": {},
   "outputs": [
    {
     "output_type": "execute_result",
     "data": {
      "text/plain": [
       "              tweet_id retweet_count favorite_count\n",
       "0   666020888022790149           445           2337\n",
       "0   666029285002620928            41            118\n",
       "0   666033412701032449            39            107\n",
       "0   666044226329800704           122            261\n",
       "0   666049248165822465            38             94\n",
       "..                 ...           ...            ...\n",
       "0   831315979191906304          1086           6396\n",
       "0   831322785565769729          1506           9094\n",
       "0   831552930092285952          2261           8778\n",
       "0   831650051525054464          1869           6969\n",
       "0   831670449226514432          1763          10210\n",
       "\n",
       "[1793 rows x 3 columns]"
      ],
      "text/html": "<div>\n<style scoped>\n    .dataframe tbody tr th:only-of-type {\n        vertical-align: middle;\n    }\n\n    .dataframe tbody tr th {\n        vertical-align: top;\n    }\n\n    .dataframe thead th {\n        text-align: right;\n    }\n</style>\n<table border=\"1\" class=\"dataframe\">\n  <thead>\n    <tr style=\"text-align: right;\">\n      <th></th>\n      <th>tweet_id</th>\n      <th>retweet_count</th>\n      <th>favorite_count</th>\n    </tr>\n  </thead>\n  <tbody>\n    <tr>\n      <th>0</th>\n      <td>666020888022790149</td>\n      <td>445</td>\n      <td>2337</td>\n    </tr>\n    <tr>\n      <th>0</th>\n      <td>666029285002620928</td>\n      <td>41</td>\n      <td>118</td>\n    </tr>\n    <tr>\n      <th>0</th>\n      <td>666033412701032449</td>\n      <td>39</td>\n      <td>107</td>\n    </tr>\n    <tr>\n      <th>0</th>\n      <td>666044226329800704</td>\n      <td>122</td>\n      <td>261</td>\n    </tr>\n    <tr>\n      <th>0</th>\n      <td>666049248165822465</td>\n      <td>38</td>\n      <td>94</td>\n    </tr>\n    <tr>\n      <th>...</th>\n      <td>...</td>\n      <td>...</td>\n      <td>...</td>\n    </tr>\n    <tr>\n      <th>0</th>\n      <td>831315979191906304</td>\n      <td>1086</td>\n      <td>6396</td>\n    </tr>\n    <tr>\n      <th>0</th>\n      <td>831322785565769729</td>\n      <td>1506</td>\n      <td>9094</td>\n    </tr>\n    <tr>\n      <th>0</th>\n      <td>831552930092285952</td>\n      <td>2261</td>\n      <td>8778</td>\n    </tr>\n    <tr>\n      <th>0</th>\n      <td>831650051525054464</td>\n      <td>1869</td>\n      <td>6969</td>\n    </tr>\n    <tr>\n      <th>0</th>\n      <td>831670449226514432</td>\n      <td>1763</td>\n      <td>10210</td>\n    </tr>\n  </tbody>\n</table>\n<p>1793 rows × 3 columns</p>\n</div>"
     },
     "metadata": {},
     "execution_count": 123
    }
   ],
   "source": [
    "# test \n",
    "df_tweets"
   ]
  },
  {
   "cell_type": "code",
   "execution_count": 124,
   "metadata": {},
   "outputs": [],
   "source": [
    "# Make copy of dataframes so I can go back to the original if needed:\n",
    "df_archive_copy = df_archive.copy\n",
    "df_tweets_copy = df_tweets.copy\n",
    "df_image_predictions_copy = df_image_predictions.copy"
   ]
  },
  {
   "cell_type": "markdown",
   "metadata": {},
   "source": [
    "# Assessing data"
   ]
  },
  {
   "cell_type": "code",
   "execution_count": 125,
   "metadata": {},
   "outputs": [
    {
     "output_type": "execute_result",
     "data": {
      "text/plain": [
       "              tweet_id  in_reply_to_status_id  in_reply_to_user_id  \\\n",
       "0   892420643555336193                    NaN                  NaN   \n",
       "1   892177421306343426                    NaN                  NaN   \n",
       "2   891815181378084864                    NaN                  NaN   \n",
       "3   891689557279858688                    NaN                  NaN   \n",
       "4   891327558926688256                    NaN                  NaN   \n",
       "5   891087950875897856                    NaN                  NaN   \n",
       "6   890971913173991426                    NaN                  NaN   \n",
       "7   890729181411237888                    NaN                  NaN   \n",
       "8   890609185150312448                    NaN                  NaN   \n",
       "9   890240255349198849                    NaN                  NaN   \n",
       "10  890006608113172480                    NaN                  NaN   \n",
       "11  889880896479866881                    NaN                  NaN   \n",
       "12  889665388333682689                    NaN                  NaN   \n",
       "13  889638837579907072                    NaN                  NaN   \n",
       "14  889531135344209921                    NaN                  NaN   \n",
       "15  889278841981685760                    NaN                  NaN   \n",
       "16  888917238123831296                    NaN                  NaN   \n",
       "17  888804989199671297                    NaN                  NaN   \n",
       "18  888554962724278272                    NaN                  NaN   \n",
       "19  888202515573088257                    NaN                  NaN   \n",
       "\n",
       "                    timestamp  \\\n",
       "0   2017-08-01 16:23:56 +0000   \n",
       "1   2017-08-01 00:17:27 +0000   \n",
       "2   2017-07-31 00:18:03 +0000   \n",
       "3   2017-07-30 15:58:51 +0000   \n",
       "4   2017-07-29 16:00:24 +0000   \n",
       "5   2017-07-29 00:08:17 +0000   \n",
       "6   2017-07-28 16:27:12 +0000   \n",
       "7   2017-07-28 00:22:40 +0000   \n",
       "8   2017-07-27 16:25:51 +0000   \n",
       "9   2017-07-26 15:59:51 +0000   \n",
       "10  2017-07-26 00:31:25 +0000   \n",
       "11  2017-07-25 16:11:53 +0000   \n",
       "12  2017-07-25 01:55:32 +0000   \n",
       "13  2017-07-25 00:10:02 +0000   \n",
       "14  2017-07-24 17:02:04 +0000   \n",
       "15  2017-07-24 00:19:32 +0000   \n",
       "16  2017-07-23 00:22:39 +0000   \n",
       "17  2017-07-22 16:56:37 +0000   \n",
       "18  2017-07-22 00:23:06 +0000   \n",
       "19  2017-07-21 01:02:36 +0000   \n",
       "\n",
       "                                               source  \\\n",
       "0   <a href=\"http://twitter.com/download/iphone\" r...   \n",
       "1   <a href=\"http://twitter.com/download/iphone\" r...   \n",
       "2   <a href=\"http://twitter.com/download/iphone\" r...   \n",
       "3   <a href=\"http://twitter.com/download/iphone\" r...   \n",
       "4   <a href=\"http://twitter.com/download/iphone\" r...   \n",
       "5   <a href=\"http://twitter.com/download/iphone\" r...   \n",
       "6   <a href=\"http://twitter.com/download/iphone\" r...   \n",
       "7   <a href=\"http://twitter.com/download/iphone\" r...   \n",
       "8   <a href=\"http://twitter.com/download/iphone\" r...   \n",
       "9   <a href=\"http://twitter.com/download/iphone\" r...   \n",
       "10  <a href=\"http://twitter.com/download/iphone\" r...   \n",
       "11  <a href=\"http://twitter.com/download/iphone\" r...   \n",
       "12  <a href=\"http://twitter.com/download/iphone\" r...   \n",
       "13  <a href=\"http://twitter.com/download/iphone\" r...   \n",
       "14  <a href=\"http://twitter.com/download/iphone\" r...   \n",
       "15  <a href=\"http://twitter.com/download/iphone\" r...   \n",
       "16  <a href=\"http://twitter.com/download/iphone\" r...   \n",
       "17  <a href=\"http://twitter.com/download/iphone\" r...   \n",
       "18  <a href=\"http://twitter.com/download/iphone\" r...   \n",
       "19  <a href=\"http://twitter.com/download/iphone\" r...   \n",
       "\n",
       "                                                 text  retweeted_status_id  \\\n",
       "0   This is Phineas. He's a mystical boy. Only eve...                  NaN   \n",
       "1   This is Tilly. She's just checking pup on you....                  NaN   \n",
       "2   This is Archie. He is a rare Norwegian Pouncin...                  NaN   \n",
       "3   This is Darla. She commenced a snooze mid meal...                  NaN   \n",
       "4   This is Franklin. He would like you to stop ca...                  NaN   \n",
       "5   Here we have a majestic great white breaching ...                  NaN   \n",
       "6   Meet Jax. He enjoys ice cream so much he gets ...                  NaN   \n",
       "7   When you watch your owner call another dog a g...                  NaN   \n",
       "8   This is Zoey. She doesn't want to be one of th...                  NaN   \n",
       "9   This is Cassie. She is a college pup. Studying...                  NaN   \n",
       "10  This is Koda. He is a South Australian decksha...                  NaN   \n",
       "11  This is Bruno. He is a service shark. Only get...                  NaN   \n",
       "12  Here's a puppo that seems to be on the fence a...                  NaN   \n",
       "13  This is Ted. He does his best. Sometimes that'...                  NaN   \n",
       "14  This is Stuart. He's sporting his favorite fan...                  NaN   \n",
       "15  This is Oliver. You're witnessing one of his m...                  NaN   \n",
       "16  This is Jim. He found a fren. Taught him how t...                  NaN   \n",
       "17  This is Zeke. He has a new stick. Very proud o...                  NaN   \n",
       "18  This is Ralphus. He's powering up. Attempting ...                  NaN   \n",
       "19  RT @dog_rates: This is Canela. She attempted s...         8.874740e+17   \n",
       "\n",
       "    retweeted_status_user_id retweeted_status_timestamp  \\\n",
       "0                        NaN                        NaN   \n",
       "1                        NaN                        NaN   \n",
       "2                        NaN                        NaN   \n",
       "3                        NaN                        NaN   \n",
       "4                        NaN                        NaN   \n",
       "5                        NaN                        NaN   \n",
       "6                        NaN                        NaN   \n",
       "7                        NaN                        NaN   \n",
       "8                        NaN                        NaN   \n",
       "9                        NaN                        NaN   \n",
       "10                       NaN                        NaN   \n",
       "11                       NaN                        NaN   \n",
       "12                       NaN                        NaN   \n",
       "13                       NaN                        NaN   \n",
       "14                       NaN                        NaN   \n",
       "15                       NaN                        NaN   \n",
       "16                       NaN                        NaN   \n",
       "17                       NaN                        NaN   \n",
       "18                       NaN                        NaN   \n",
       "19              4.196984e+09  2017-07-19 00:47:34 +0000   \n",
       "\n",
       "                                        expanded_urls  rating_numerator  \\\n",
       "0   https://twitter.com/dog_rates/status/892420643...                13   \n",
       "1   https://twitter.com/dog_rates/status/892177421...                13   \n",
       "2   https://twitter.com/dog_rates/status/891815181...                12   \n",
       "3   https://twitter.com/dog_rates/status/891689557...                13   \n",
       "4   https://twitter.com/dog_rates/status/891327558...                12   \n",
       "5   https://twitter.com/dog_rates/status/891087950...                13   \n",
       "6   https://gofundme.com/ydvmve-surgery-for-jax,ht...                13   \n",
       "7   https://twitter.com/dog_rates/status/890729181...                13   \n",
       "8   https://twitter.com/dog_rates/status/890609185...                13   \n",
       "9   https://twitter.com/dog_rates/status/890240255...                14   \n",
       "10  https://twitter.com/dog_rates/status/890006608...                13   \n",
       "11  https://twitter.com/dog_rates/status/889880896...                13   \n",
       "12  https://twitter.com/dog_rates/status/889665388...                13   \n",
       "13  https://twitter.com/dog_rates/status/889638837...                12   \n",
       "14  https://twitter.com/dog_rates/status/889531135...                13   \n",
       "15  https://twitter.com/dog_rates/status/889278841...                13   \n",
       "16  https://twitter.com/dog_rates/status/888917238...                12   \n",
       "17  https://twitter.com/dog_rates/status/888804989...                13   \n",
       "18  https://twitter.com/dog_rates/status/888554962...                13   \n",
       "19  https://twitter.com/dog_rates/status/887473957...                13   \n",
       "\n",
       "    rating_denominator      name  doggo floofer pupper  puppo  \n",
       "0                   10   Phineas   None    None   None   None  \n",
       "1                   10     Tilly   None    None   None   None  \n",
       "2                   10    Archie   None    None   None   None  \n",
       "3                   10     Darla   None    None   None   None  \n",
       "4                   10  Franklin   None    None   None   None  \n",
       "5                   10      None   None    None   None   None  \n",
       "6                   10       Jax   None    None   None   None  \n",
       "7                   10      None   None    None   None   None  \n",
       "8                   10      Zoey   None    None   None   None  \n",
       "9                   10    Cassie  doggo    None   None   None  \n",
       "10                  10      Koda   None    None   None   None  \n",
       "11                  10     Bruno   None    None   None   None  \n",
       "12                  10      None   None    None   None  puppo  \n",
       "13                  10       Ted   None    None   None   None  \n",
       "14                  10    Stuart   None    None   None  puppo  \n",
       "15                  10    Oliver   None    None   None   None  \n",
       "16                  10       Jim   None    None   None   None  \n",
       "17                  10      Zeke   None    None   None   None  \n",
       "18                  10   Ralphus   None    None   None   None  \n",
       "19                  10    Canela   None    None   None   None  "
      ],
      "text/html": "<div>\n<style scoped>\n    .dataframe tbody tr th:only-of-type {\n        vertical-align: middle;\n    }\n\n    .dataframe tbody tr th {\n        vertical-align: top;\n    }\n\n    .dataframe thead th {\n        text-align: right;\n    }\n</style>\n<table border=\"1\" class=\"dataframe\">\n  <thead>\n    <tr style=\"text-align: right;\">\n      <th></th>\n      <th>tweet_id</th>\n      <th>in_reply_to_status_id</th>\n      <th>in_reply_to_user_id</th>\n      <th>timestamp</th>\n      <th>source</th>\n      <th>text</th>\n      <th>retweeted_status_id</th>\n      <th>retweeted_status_user_id</th>\n      <th>retweeted_status_timestamp</th>\n      <th>expanded_urls</th>\n      <th>rating_numerator</th>\n      <th>rating_denominator</th>\n      <th>name</th>\n      <th>doggo</th>\n      <th>floofer</th>\n      <th>pupper</th>\n      <th>puppo</th>\n    </tr>\n  </thead>\n  <tbody>\n    <tr>\n      <th>0</th>\n      <td>892420643555336193</td>\n      <td>NaN</td>\n      <td>NaN</td>\n      <td>2017-08-01 16:23:56 +0000</td>\n      <td>&lt;a href=\"http://twitter.com/download/iphone\" r...</td>\n      <td>This is Phineas. He's a mystical boy. Only eve...</td>\n      <td>NaN</td>\n      <td>NaN</td>\n      <td>NaN</td>\n      <td>https://twitter.com/dog_rates/status/892420643...</td>\n      <td>13</td>\n      <td>10</td>\n      <td>Phineas</td>\n      <td>None</td>\n      <td>None</td>\n      <td>None</td>\n      <td>None</td>\n    </tr>\n    <tr>\n      <th>1</th>\n      <td>892177421306343426</td>\n      <td>NaN</td>\n      <td>NaN</td>\n      <td>2017-08-01 00:17:27 +0000</td>\n      <td>&lt;a href=\"http://twitter.com/download/iphone\" r...</td>\n      <td>This is Tilly. She's just checking pup on you....</td>\n      <td>NaN</td>\n      <td>NaN</td>\n      <td>NaN</td>\n      <td>https://twitter.com/dog_rates/status/892177421...</td>\n      <td>13</td>\n      <td>10</td>\n      <td>Tilly</td>\n      <td>None</td>\n      <td>None</td>\n      <td>None</td>\n      <td>None</td>\n    </tr>\n    <tr>\n      <th>2</th>\n      <td>891815181378084864</td>\n      <td>NaN</td>\n      <td>NaN</td>\n      <td>2017-07-31 00:18:03 +0000</td>\n      <td>&lt;a href=\"http://twitter.com/download/iphone\" r...</td>\n      <td>This is Archie. He is a rare Norwegian Pouncin...</td>\n      <td>NaN</td>\n      <td>NaN</td>\n      <td>NaN</td>\n      <td>https://twitter.com/dog_rates/status/891815181...</td>\n      <td>12</td>\n      <td>10</td>\n      <td>Archie</td>\n      <td>None</td>\n      <td>None</td>\n      <td>None</td>\n      <td>None</td>\n    </tr>\n    <tr>\n      <th>3</th>\n      <td>891689557279858688</td>\n      <td>NaN</td>\n      <td>NaN</td>\n      <td>2017-07-30 15:58:51 +0000</td>\n      <td>&lt;a href=\"http://twitter.com/download/iphone\" r...</td>\n      <td>This is Darla. She commenced a snooze mid meal...</td>\n      <td>NaN</td>\n      <td>NaN</td>\n      <td>NaN</td>\n      <td>https://twitter.com/dog_rates/status/891689557...</td>\n      <td>13</td>\n      <td>10</td>\n      <td>Darla</td>\n      <td>None</td>\n      <td>None</td>\n      <td>None</td>\n      <td>None</td>\n    </tr>\n    <tr>\n      <th>4</th>\n      <td>891327558926688256</td>\n      <td>NaN</td>\n      <td>NaN</td>\n      <td>2017-07-29 16:00:24 +0000</td>\n      <td>&lt;a href=\"http://twitter.com/download/iphone\" r...</td>\n      <td>This is Franklin. He would like you to stop ca...</td>\n      <td>NaN</td>\n      <td>NaN</td>\n      <td>NaN</td>\n      <td>https://twitter.com/dog_rates/status/891327558...</td>\n      <td>12</td>\n      <td>10</td>\n      <td>Franklin</td>\n      <td>None</td>\n      <td>None</td>\n      <td>None</td>\n      <td>None</td>\n    </tr>\n    <tr>\n      <th>5</th>\n      <td>891087950875897856</td>\n      <td>NaN</td>\n      <td>NaN</td>\n      <td>2017-07-29 00:08:17 +0000</td>\n      <td>&lt;a href=\"http://twitter.com/download/iphone\" r...</td>\n      <td>Here we have a majestic great white breaching ...</td>\n      <td>NaN</td>\n      <td>NaN</td>\n      <td>NaN</td>\n      <td>https://twitter.com/dog_rates/status/891087950...</td>\n      <td>13</td>\n      <td>10</td>\n      <td>None</td>\n      <td>None</td>\n      <td>None</td>\n      <td>None</td>\n      <td>None</td>\n    </tr>\n    <tr>\n      <th>6</th>\n      <td>890971913173991426</td>\n      <td>NaN</td>\n      <td>NaN</td>\n      <td>2017-07-28 16:27:12 +0000</td>\n      <td>&lt;a href=\"http://twitter.com/download/iphone\" r...</td>\n      <td>Meet Jax. He enjoys ice cream so much he gets ...</td>\n      <td>NaN</td>\n      <td>NaN</td>\n      <td>NaN</td>\n      <td>https://gofundme.com/ydvmve-surgery-for-jax,ht...</td>\n      <td>13</td>\n      <td>10</td>\n      <td>Jax</td>\n      <td>None</td>\n      <td>None</td>\n      <td>None</td>\n      <td>None</td>\n    </tr>\n    <tr>\n      <th>7</th>\n      <td>890729181411237888</td>\n      <td>NaN</td>\n      <td>NaN</td>\n      <td>2017-07-28 00:22:40 +0000</td>\n      <td>&lt;a href=\"http://twitter.com/download/iphone\" r...</td>\n      <td>When you watch your owner call another dog a g...</td>\n      <td>NaN</td>\n      <td>NaN</td>\n      <td>NaN</td>\n      <td>https://twitter.com/dog_rates/status/890729181...</td>\n      <td>13</td>\n      <td>10</td>\n      <td>None</td>\n      <td>None</td>\n      <td>None</td>\n      <td>None</td>\n      <td>None</td>\n    </tr>\n    <tr>\n      <th>8</th>\n      <td>890609185150312448</td>\n      <td>NaN</td>\n      <td>NaN</td>\n      <td>2017-07-27 16:25:51 +0000</td>\n      <td>&lt;a href=\"http://twitter.com/download/iphone\" r...</td>\n      <td>This is Zoey. She doesn't want to be one of th...</td>\n      <td>NaN</td>\n      <td>NaN</td>\n      <td>NaN</td>\n      <td>https://twitter.com/dog_rates/status/890609185...</td>\n      <td>13</td>\n      <td>10</td>\n      <td>Zoey</td>\n      <td>None</td>\n      <td>None</td>\n      <td>None</td>\n      <td>None</td>\n    </tr>\n    <tr>\n      <th>9</th>\n      <td>890240255349198849</td>\n      <td>NaN</td>\n      <td>NaN</td>\n      <td>2017-07-26 15:59:51 +0000</td>\n      <td>&lt;a href=\"http://twitter.com/download/iphone\" r...</td>\n      <td>This is Cassie. She is a college pup. Studying...</td>\n      <td>NaN</td>\n      <td>NaN</td>\n      <td>NaN</td>\n      <td>https://twitter.com/dog_rates/status/890240255...</td>\n      <td>14</td>\n      <td>10</td>\n      <td>Cassie</td>\n      <td>doggo</td>\n      <td>None</td>\n      <td>None</td>\n      <td>None</td>\n    </tr>\n    <tr>\n      <th>10</th>\n      <td>890006608113172480</td>\n      <td>NaN</td>\n      <td>NaN</td>\n      <td>2017-07-26 00:31:25 +0000</td>\n      <td>&lt;a href=\"http://twitter.com/download/iphone\" r...</td>\n      <td>This is Koda. He is a South Australian decksha...</td>\n      <td>NaN</td>\n      <td>NaN</td>\n      <td>NaN</td>\n      <td>https://twitter.com/dog_rates/status/890006608...</td>\n      <td>13</td>\n      <td>10</td>\n      <td>Koda</td>\n      <td>None</td>\n      <td>None</td>\n      <td>None</td>\n      <td>None</td>\n    </tr>\n    <tr>\n      <th>11</th>\n      <td>889880896479866881</td>\n      <td>NaN</td>\n      <td>NaN</td>\n      <td>2017-07-25 16:11:53 +0000</td>\n      <td>&lt;a href=\"http://twitter.com/download/iphone\" r...</td>\n      <td>This is Bruno. He is a service shark. Only get...</td>\n      <td>NaN</td>\n      <td>NaN</td>\n      <td>NaN</td>\n      <td>https://twitter.com/dog_rates/status/889880896...</td>\n      <td>13</td>\n      <td>10</td>\n      <td>Bruno</td>\n      <td>None</td>\n      <td>None</td>\n      <td>None</td>\n      <td>None</td>\n    </tr>\n    <tr>\n      <th>12</th>\n      <td>889665388333682689</td>\n      <td>NaN</td>\n      <td>NaN</td>\n      <td>2017-07-25 01:55:32 +0000</td>\n      <td>&lt;a href=\"http://twitter.com/download/iphone\" r...</td>\n      <td>Here's a puppo that seems to be on the fence a...</td>\n      <td>NaN</td>\n      <td>NaN</td>\n      <td>NaN</td>\n      <td>https://twitter.com/dog_rates/status/889665388...</td>\n      <td>13</td>\n      <td>10</td>\n      <td>None</td>\n      <td>None</td>\n      <td>None</td>\n      <td>None</td>\n      <td>puppo</td>\n    </tr>\n    <tr>\n      <th>13</th>\n      <td>889638837579907072</td>\n      <td>NaN</td>\n      <td>NaN</td>\n      <td>2017-07-25 00:10:02 +0000</td>\n      <td>&lt;a href=\"http://twitter.com/download/iphone\" r...</td>\n      <td>This is Ted. He does his best. Sometimes that'...</td>\n      <td>NaN</td>\n      <td>NaN</td>\n      <td>NaN</td>\n      <td>https://twitter.com/dog_rates/status/889638837...</td>\n      <td>12</td>\n      <td>10</td>\n      <td>Ted</td>\n      <td>None</td>\n      <td>None</td>\n      <td>None</td>\n      <td>None</td>\n    </tr>\n    <tr>\n      <th>14</th>\n      <td>889531135344209921</td>\n      <td>NaN</td>\n      <td>NaN</td>\n      <td>2017-07-24 17:02:04 +0000</td>\n      <td>&lt;a href=\"http://twitter.com/download/iphone\" r...</td>\n      <td>This is Stuart. He's sporting his favorite fan...</td>\n      <td>NaN</td>\n      <td>NaN</td>\n      <td>NaN</td>\n      <td>https://twitter.com/dog_rates/status/889531135...</td>\n      <td>13</td>\n      <td>10</td>\n      <td>Stuart</td>\n      <td>None</td>\n      <td>None</td>\n      <td>None</td>\n      <td>puppo</td>\n    </tr>\n    <tr>\n      <th>15</th>\n      <td>889278841981685760</td>\n      <td>NaN</td>\n      <td>NaN</td>\n      <td>2017-07-24 00:19:32 +0000</td>\n      <td>&lt;a href=\"http://twitter.com/download/iphone\" r...</td>\n      <td>This is Oliver. You're witnessing one of his m...</td>\n      <td>NaN</td>\n      <td>NaN</td>\n      <td>NaN</td>\n      <td>https://twitter.com/dog_rates/status/889278841...</td>\n      <td>13</td>\n      <td>10</td>\n      <td>Oliver</td>\n      <td>None</td>\n      <td>None</td>\n      <td>None</td>\n      <td>None</td>\n    </tr>\n    <tr>\n      <th>16</th>\n      <td>888917238123831296</td>\n      <td>NaN</td>\n      <td>NaN</td>\n      <td>2017-07-23 00:22:39 +0000</td>\n      <td>&lt;a href=\"http://twitter.com/download/iphone\" r...</td>\n      <td>This is Jim. He found a fren. Taught him how t...</td>\n      <td>NaN</td>\n      <td>NaN</td>\n      <td>NaN</td>\n      <td>https://twitter.com/dog_rates/status/888917238...</td>\n      <td>12</td>\n      <td>10</td>\n      <td>Jim</td>\n      <td>None</td>\n      <td>None</td>\n      <td>None</td>\n      <td>None</td>\n    </tr>\n    <tr>\n      <th>17</th>\n      <td>888804989199671297</td>\n      <td>NaN</td>\n      <td>NaN</td>\n      <td>2017-07-22 16:56:37 +0000</td>\n      <td>&lt;a href=\"http://twitter.com/download/iphone\" r...</td>\n      <td>This is Zeke. He has a new stick. Very proud o...</td>\n      <td>NaN</td>\n      <td>NaN</td>\n      <td>NaN</td>\n      <td>https://twitter.com/dog_rates/status/888804989...</td>\n      <td>13</td>\n      <td>10</td>\n      <td>Zeke</td>\n      <td>None</td>\n      <td>None</td>\n      <td>None</td>\n      <td>None</td>\n    </tr>\n    <tr>\n      <th>18</th>\n      <td>888554962724278272</td>\n      <td>NaN</td>\n      <td>NaN</td>\n      <td>2017-07-22 00:23:06 +0000</td>\n      <td>&lt;a href=\"http://twitter.com/download/iphone\" r...</td>\n      <td>This is Ralphus. He's powering up. Attempting ...</td>\n      <td>NaN</td>\n      <td>NaN</td>\n      <td>NaN</td>\n      <td>https://twitter.com/dog_rates/status/888554962...</td>\n      <td>13</td>\n      <td>10</td>\n      <td>Ralphus</td>\n      <td>None</td>\n      <td>None</td>\n      <td>None</td>\n      <td>None</td>\n    </tr>\n    <tr>\n      <th>19</th>\n      <td>888202515573088257</td>\n      <td>NaN</td>\n      <td>NaN</td>\n      <td>2017-07-21 01:02:36 +0000</td>\n      <td>&lt;a href=\"http://twitter.com/download/iphone\" r...</td>\n      <td>RT @dog_rates: This is Canela. She attempted s...</td>\n      <td>8.874740e+17</td>\n      <td>4.196984e+09</td>\n      <td>2017-07-19 00:47:34 +0000</td>\n      <td>https://twitter.com/dog_rates/status/887473957...</td>\n      <td>13</td>\n      <td>10</td>\n      <td>Canela</td>\n      <td>None</td>\n      <td>None</td>\n      <td>None</td>\n      <td>None</td>\n    </tr>\n  </tbody>\n</table>\n</div>"
     },
     "metadata": {},
     "execution_count": 125
    }
   ],
   "source": [
    "# assess df_archive visually\n",
    "df_archive.head(20)"
   ]
  },
  {
   "cell_type": "code",
   "execution_count": 126,
   "metadata": {},
   "outputs": [
    {
     "output_type": "execute_result",
     "data": {
      "text/plain": [
       "                tweet_id  in_reply_to_status_id  in_reply_to_user_id  \\\n",
       "2336  666273097616637952                    NaN                  NaN   \n",
       "2337  666268910803644416                    NaN                  NaN   \n",
       "2338  666104133288665088                    NaN                  NaN   \n",
       "2339  666102155909144576                    NaN                  NaN   \n",
       "2340  666099513787052032                    NaN                  NaN   \n",
       "2341  666094000022159362                    NaN                  NaN   \n",
       "2342  666082916733198337                    NaN                  NaN   \n",
       "2343  666073100786774016                    NaN                  NaN   \n",
       "2344  666071193221509120                    NaN                  NaN   \n",
       "2345  666063827256086533                    NaN                  NaN   \n",
       "2346  666058600524156928                    NaN                  NaN   \n",
       "2347  666057090499244032                    NaN                  NaN   \n",
       "2348  666055525042405380                    NaN                  NaN   \n",
       "2349  666051853826850816                    NaN                  NaN   \n",
       "2350  666050758794694657                    NaN                  NaN   \n",
       "2351  666049248165822465                    NaN                  NaN   \n",
       "2352  666044226329800704                    NaN                  NaN   \n",
       "2353  666033412701032449                    NaN                  NaN   \n",
       "2354  666029285002620928                    NaN                  NaN   \n",
       "2355  666020888022790149                    NaN                  NaN   \n",
       "\n",
       "                      timestamp  \\\n",
       "2336  2015-11-16 15:14:19 +0000   \n",
       "2337  2015-11-16 14:57:41 +0000   \n",
       "2338  2015-11-16 04:02:55 +0000   \n",
       "2339  2015-11-16 03:55:04 +0000   \n",
       "2340  2015-11-16 03:44:34 +0000   \n",
       "2341  2015-11-16 03:22:39 +0000   \n",
       "2342  2015-11-16 02:38:37 +0000   \n",
       "2343  2015-11-16 01:59:36 +0000   \n",
       "2344  2015-11-16 01:52:02 +0000   \n",
       "2345  2015-11-16 01:22:45 +0000   \n",
       "2346  2015-11-16 01:01:59 +0000   \n",
       "2347  2015-11-16 00:55:59 +0000   \n",
       "2348  2015-11-16 00:49:46 +0000   \n",
       "2349  2015-11-16 00:35:11 +0000   \n",
       "2350  2015-11-16 00:30:50 +0000   \n",
       "2351  2015-11-16 00:24:50 +0000   \n",
       "2352  2015-11-16 00:04:52 +0000   \n",
       "2353  2015-11-15 23:21:54 +0000   \n",
       "2354  2015-11-15 23:05:30 +0000   \n",
       "2355  2015-11-15 22:32:08 +0000   \n",
       "\n",
       "                                                 source  \\\n",
       "2336  <a href=\"http://twitter.com/download/iphone\" r...   \n",
       "2337  <a href=\"http://twitter.com/download/iphone\" r...   \n",
       "2338  <a href=\"http://twitter.com/download/iphone\" r...   \n",
       "2339  <a href=\"http://twitter.com/download/iphone\" r...   \n",
       "2340  <a href=\"http://twitter.com/download/iphone\" r...   \n",
       "2341  <a href=\"http://twitter.com/download/iphone\" r...   \n",
       "2342  <a href=\"http://twitter.com/download/iphone\" r...   \n",
       "2343  <a href=\"http://twitter.com/download/iphone\" r...   \n",
       "2344  <a href=\"http://twitter.com/download/iphone\" r...   \n",
       "2345  <a href=\"http://twitter.com/download/iphone\" r...   \n",
       "2346  <a href=\"http://twitter.com/download/iphone\" r...   \n",
       "2347  <a href=\"http://twitter.com/download/iphone\" r...   \n",
       "2348  <a href=\"http://twitter.com/download/iphone\" r...   \n",
       "2349  <a href=\"http://twitter.com/download/iphone\" r...   \n",
       "2350  <a href=\"http://twitter.com/download/iphone\" r...   \n",
       "2351  <a href=\"http://twitter.com/download/iphone\" r...   \n",
       "2352  <a href=\"http://twitter.com/download/iphone\" r...   \n",
       "2353  <a href=\"http://twitter.com/download/iphone\" r...   \n",
       "2354  <a href=\"http://twitter.com/download/iphone\" r...   \n",
       "2355  <a href=\"http://twitter.com/download/iphone\" r...   \n",
       "\n",
       "                                                   text  retweeted_status_id  \\\n",
       "2336     Can take selfies 11/10 https://t.co/ws2AMaNwPW                  NaN   \n",
       "2337  Very concerned about fellow dog trapped in com...                  NaN   \n",
       "2338  Not familiar with this breed. No tail (weird)....                  NaN   \n",
       "2339  Oh my. Here you are seeing an Adobe Setter giv...                  NaN   \n",
       "2340  Can stand on stump for what seems like a while...                  NaN   \n",
       "2341  This appears to be a Mongolian Presbyterian mi...                  NaN   \n",
       "2342  Here we have a well-established sunblockerspan...                  NaN   \n",
       "2343  Let's hope this flight isn't Malaysian (lol). ...                  NaN   \n",
       "2344  Here we have a northern speckled Rhododendron....                  NaN   \n",
       "2345  This is the happiest dog you will ever see. Ve...                  NaN   \n",
       "2346  Here is the Rand Paul of retrievers folks! He'...                  NaN   \n",
       "2347  My oh my. This is a rare blond Canadian terrie...                  NaN   \n",
       "2348  Here is a Siberian heavily armored polar bear ...                  NaN   \n",
       "2349  This is an odd dog. Hard on the outside but lo...                  NaN   \n",
       "2350  This is a truly beautiful English Wilson Staff...                  NaN   \n",
       "2351  Here we have a 1949 1st generation vulpix. Enj...                  NaN   \n",
       "2352  This is a purebred Piers Morgan. Loves to Netf...                  NaN   \n",
       "2353  Here is a very happy pup. Big fan of well-main...                  NaN   \n",
       "2354  This is a western brown Mitsubishi terrier. Up...                  NaN   \n",
       "2355  Here we have a Japanese Irish Setter. Lost eye...                  NaN   \n",
       "\n",
       "      retweeted_status_user_id retweeted_status_timestamp  \\\n",
       "2336                       NaN                        NaN   \n",
       "2337                       NaN                        NaN   \n",
       "2338                       NaN                        NaN   \n",
       "2339                       NaN                        NaN   \n",
       "2340                       NaN                        NaN   \n",
       "2341                       NaN                        NaN   \n",
       "2342                       NaN                        NaN   \n",
       "2343                       NaN                        NaN   \n",
       "2344                       NaN                        NaN   \n",
       "2345                       NaN                        NaN   \n",
       "2346                       NaN                        NaN   \n",
       "2347                       NaN                        NaN   \n",
       "2348                       NaN                        NaN   \n",
       "2349                       NaN                        NaN   \n",
       "2350                       NaN                        NaN   \n",
       "2351                       NaN                        NaN   \n",
       "2352                       NaN                        NaN   \n",
       "2353                       NaN                        NaN   \n",
       "2354                       NaN                        NaN   \n",
       "2355                       NaN                        NaN   \n",
       "\n",
       "                                          expanded_urls  rating_numerator  \\\n",
       "2336  https://twitter.com/dog_rates/status/666273097...                11   \n",
       "2337  https://twitter.com/dog_rates/status/666268910...                10   \n",
       "2338  https://twitter.com/dog_rates/status/666104133...                 1   \n",
       "2339  https://twitter.com/dog_rates/status/666102155...                11   \n",
       "2340  https://twitter.com/dog_rates/status/666099513...                 8   \n",
       "2341  https://twitter.com/dog_rates/status/666094000...                 9   \n",
       "2342  https://twitter.com/dog_rates/status/666082916...                 6   \n",
       "2343  https://twitter.com/dog_rates/status/666073100...                10   \n",
       "2344  https://twitter.com/dog_rates/status/666071193...                 9   \n",
       "2345  https://twitter.com/dog_rates/status/666063827...                10   \n",
       "2346  https://twitter.com/dog_rates/status/666058600...                 8   \n",
       "2347  https://twitter.com/dog_rates/status/666057090...                 9   \n",
       "2348  https://twitter.com/dog_rates/status/666055525...                10   \n",
       "2349  https://twitter.com/dog_rates/status/666051853...                 2   \n",
       "2350  https://twitter.com/dog_rates/status/666050758...                10   \n",
       "2351  https://twitter.com/dog_rates/status/666049248...                 5   \n",
       "2352  https://twitter.com/dog_rates/status/666044226...                 6   \n",
       "2353  https://twitter.com/dog_rates/status/666033412...                 9   \n",
       "2354  https://twitter.com/dog_rates/status/666029285...                 7   \n",
       "2355  https://twitter.com/dog_rates/status/666020888...                 8   \n",
       "\n",
       "      rating_denominator  name doggo floofer pupper puppo  \n",
       "2336                  10  None  None    None   None  None  \n",
       "2337                  10  None  None    None   None  None  \n",
       "2338                  10  None  None    None   None  None  \n",
       "2339                  10  None  None    None   None  None  \n",
       "2340                  10  None  None    None   None  None  \n",
       "2341                  10  None  None    None   None  None  \n",
       "2342                  10  None  None    None   None  None  \n",
       "2343                  10  None  None    None   None  None  \n",
       "2344                  10  None  None    None   None  None  \n",
       "2345                  10   the  None    None   None  None  \n",
       "2346                  10   the  None    None   None  None  \n",
       "2347                  10     a  None    None   None  None  \n",
       "2348                  10     a  None    None   None  None  \n",
       "2349                  10    an  None    None   None  None  \n",
       "2350                  10     a  None    None   None  None  \n",
       "2351                  10  None  None    None   None  None  \n",
       "2352                  10     a  None    None   None  None  \n",
       "2353                  10     a  None    None   None  None  \n",
       "2354                  10     a  None    None   None  None  \n",
       "2355                  10  None  None    None   None  None  "
      ],
      "text/html": "<div>\n<style scoped>\n    .dataframe tbody tr th:only-of-type {\n        vertical-align: middle;\n    }\n\n    .dataframe tbody tr th {\n        vertical-align: top;\n    }\n\n    .dataframe thead th {\n        text-align: right;\n    }\n</style>\n<table border=\"1\" class=\"dataframe\">\n  <thead>\n    <tr style=\"text-align: right;\">\n      <th></th>\n      <th>tweet_id</th>\n      <th>in_reply_to_status_id</th>\n      <th>in_reply_to_user_id</th>\n      <th>timestamp</th>\n      <th>source</th>\n      <th>text</th>\n      <th>retweeted_status_id</th>\n      <th>retweeted_status_user_id</th>\n      <th>retweeted_status_timestamp</th>\n      <th>expanded_urls</th>\n      <th>rating_numerator</th>\n      <th>rating_denominator</th>\n      <th>name</th>\n      <th>doggo</th>\n      <th>floofer</th>\n      <th>pupper</th>\n      <th>puppo</th>\n    </tr>\n  </thead>\n  <tbody>\n    <tr>\n      <th>2336</th>\n      <td>666273097616637952</td>\n      <td>NaN</td>\n      <td>NaN</td>\n      <td>2015-11-16 15:14:19 +0000</td>\n      <td>&lt;a href=\"http://twitter.com/download/iphone\" r...</td>\n      <td>Can take selfies 11/10 https://t.co/ws2AMaNwPW</td>\n      <td>NaN</td>\n      <td>NaN</td>\n      <td>NaN</td>\n      <td>https://twitter.com/dog_rates/status/666273097...</td>\n      <td>11</td>\n      <td>10</td>\n      <td>None</td>\n      <td>None</td>\n      <td>None</td>\n      <td>None</td>\n      <td>None</td>\n    </tr>\n    <tr>\n      <th>2337</th>\n      <td>666268910803644416</td>\n      <td>NaN</td>\n      <td>NaN</td>\n      <td>2015-11-16 14:57:41 +0000</td>\n      <td>&lt;a href=\"http://twitter.com/download/iphone\" r...</td>\n      <td>Very concerned about fellow dog trapped in com...</td>\n      <td>NaN</td>\n      <td>NaN</td>\n      <td>NaN</td>\n      <td>https://twitter.com/dog_rates/status/666268910...</td>\n      <td>10</td>\n      <td>10</td>\n      <td>None</td>\n      <td>None</td>\n      <td>None</td>\n      <td>None</td>\n      <td>None</td>\n    </tr>\n    <tr>\n      <th>2338</th>\n      <td>666104133288665088</td>\n      <td>NaN</td>\n      <td>NaN</td>\n      <td>2015-11-16 04:02:55 +0000</td>\n      <td>&lt;a href=\"http://twitter.com/download/iphone\" r...</td>\n      <td>Not familiar with this breed. No tail (weird)....</td>\n      <td>NaN</td>\n      <td>NaN</td>\n      <td>NaN</td>\n      <td>https://twitter.com/dog_rates/status/666104133...</td>\n      <td>1</td>\n      <td>10</td>\n      <td>None</td>\n      <td>None</td>\n      <td>None</td>\n      <td>None</td>\n      <td>None</td>\n    </tr>\n    <tr>\n      <th>2339</th>\n      <td>666102155909144576</td>\n      <td>NaN</td>\n      <td>NaN</td>\n      <td>2015-11-16 03:55:04 +0000</td>\n      <td>&lt;a href=\"http://twitter.com/download/iphone\" r...</td>\n      <td>Oh my. Here you are seeing an Adobe Setter giv...</td>\n      <td>NaN</td>\n      <td>NaN</td>\n      <td>NaN</td>\n      <td>https://twitter.com/dog_rates/status/666102155...</td>\n      <td>11</td>\n      <td>10</td>\n      <td>None</td>\n      <td>None</td>\n      <td>None</td>\n      <td>None</td>\n      <td>None</td>\n    </tr>\n    <tr>\n      <th>2340</th>\n      <td>666099513787052032</td>\n      <td>NaN</td>\n      <td>NaN</td>\n      <td>2015-11-16 03:44:34 +0000</td>\n      <td>&lt;a href=\"http://twitter.com/download/iphone\" r...</td>\n      <td>Can stand on stump for what seems like a while...</td>\n      <td>NaN</td>\n      <td>NaN</td>\n      <td>NaN</td>\n      <td>https://twitter.com/dog_rates/status/666099513...</td>\n      <td>8</td>\n      <td>10</td>\n      <td>None</td>\n      <td>None</td>\n      <td>None</td>\n      <td>None</td>\n      <td>None</td>\n    </tr>\n    <tr>\n      <th>2341</th>\n      <td>666094000022159362</td>\n      <td>NaN</td>\n      <td>NaN</td>\n      <td>2015-11-16 03:22:39 +0000</td>\n      <td>&lt;a href=\"http://twitter.com/download/iphone\" r...</td>\n      <td>This appears to be a Mongolian Presbyterian mi...</td>\n      <td>NaN</td>\n      <td>NaN</td>\n      <td>NaN</td>\n      <td>https://twitter.com/dog_rates/status/666094000...</td>\n      <td>9</td>\n      <td>10</td>\n      <td>None</td>\n      <td>None</td>\n      <td>None</td>\n      <td>None</td>\n      <td>None</td>\n    </tr>\n    <tr>\n      <th>2342</th>\n      <td>666082916733198337</td>\n      <td>NaN</td>\n      <td>NaN</td>\n      <td>2015-11-16 02:38:37 +0000</td>\n      <td>&lt;a href=\"http://twitter.com/download/iphone\" r...</td>\n      <td>Here we have a well-established sunblockerspan...</td>\n      <td>NaN</td>\n      <td>NaN</td>\n      <td>NaN</td>\n      <td>https://twitter.com/dog_rates/status/666082916...</td>\n      <td>6</td>\n      <td>10</td>\n      <td>None</td>\n      <td>None</td>\n      <td>None</td>\n      <td>None</td>\n      <td>None</td>\n    </tr>\n    <tr>\n      <th>2343</th>\n      <td>666073100786774016</td>\n      <td>NaN</td>\n      <td>NaN</td>\n      <td>2015-11-16 01:59:36 +0000</td>\n      <td>&lt;a href=\"http://twitter.com/download/iphone\" r...</td>\n      <td>Let's hope this flight isn't Malaysian (lol). ...</td>\n      <td>NaN</td>\n      <td>NaN</td>\n      <td>NaN</td>\n      <td>https://twitter.com/dog_rates/status/666073100...</td>\n      <td>10</td>\n      <td>10</td>\n      <td>None</td>\n      <td>None</td>\n      <td>None</td>\n      <td>None</td>\n      <td>None</td>\n    </tr>\n    <tr>\n      <th>2344</th>\n      <td>666071193221509120</td>\n      <td>NaN</td>\n      <td>NaN</td>\n      <td>2015-11-16 01:52:02 +0000</td>\n      <td>&lt;a href=\"http://twitter.com/download/iphone\" r...</td>\n      <td>Here we have a northern speckled Rhododendron....</td>\n      <td>NaN</td>\n      <td>NaN</td>\n      <td>NaN</td>\n      <td>https://twitter.com/dog_rates/status/666071193...</td>\n      <td>9</td>\n      <td>10</td>\n      <td>None</td>\n      <td>None</td>\n      <td>None</td>\n      <td>None</td>\n      <td>None</td>\n    </tr>\n    <tr>\n      <th>2345</th>\n      <td>666063827256086533</td>\n      <td>NaN</td>\n      <td>NaN</td>\n      <td>2015-11-16 01:22:45 +0000</td>\n      <td>&lt;a href=\"http://twitter.com/download/iphone\" r...</td>\n      <td>This is the happiest dog you will ever see. Ve...</td>\n      <td>NaN</td>\n      <td>NaN</td>\n      <td>NaN</td>\n      <td>https://twitter.com/dog_rates/status/666063827...</td>\n      <td>10</td>\n      <td>10</td>\n      <td>the</td>\n      <td>None</td>\n      <td>None</td>\n      <td>None</td>\n      <td>None</td>\n    </tr>\n    <tr>\n      <th>2346</th>\n      <td>666058600524156928</td>\n      <td>NaN</td>\n      <td>NaN</td>\n      <td>2015-11-16 01:01:59 +0000</td>\n      <td>&lt;a href=\"http://twitter.com/download/iphone\" r...</td>\n      <td>Here is the Rand Paul of retrievers folks! He'...</td>\n      <td>NaN</td>\n      <td>NaN</td>\n      <td>NaN</td>\n      <td>https://twitter.com/dog_rates/status/666058600...</td>\n      <td>8</td>\n      <td>10</td>\n      <td>the</td>\n      <td>None</td>\n      <td>None</td>\n      <td>None</td>\n      <td>None</td>\n    </tr>\n    <tr>\n      <th>2347</th>\n      <td>666057090499244032</td>\n      <td>NaN</td>\n      <td>NaN</td>\n      <td>2015-11-16 00:55:59 +0000</td>\n      <td>&lt;a href=\"http://twitter.com/download/iphone\" r...</td>\n      <td>My oh my. This is a rare blond Canadian terrie...</td>\n      <td>NaN</td>\n      <td>NaN</td>\n      <td>NaN</td>\n      <td>https://twitter.com/dog_rates/status/666057090...</td>\n      <td>9</td>\n      <td>10</td>\n      <td>a</td>\n      <td>None</td>\n      <td>None</td>\n      <td>None</td>\n      <td>None</td>\n    </tr>\n    <tr>\n      <th>2348</th>\n      <td>666055525042405380</td>\n      <td>NaN</td>\n      <td>NaN</td>\n      <td>2015-11-16 00:49:46 +0000</td>\n      <td>&lt;a href=\"http://twitter.com/download/iphone\" r...</td>\n      <td>Here is a Siberian heavily armored polar bear ...</td>\n      <td>NaN</td>\n      <td>NaN</td>\n      <td>NaN</td>\n      <td>https://twitter.com/dog_rates/status/666055525...</td>\n      <td>10</td>\n      <td>10</td>\n      <td>a</td>\n      <td>None</td>\n      <td>None</td>\n      <td>None</td>\n      <td>None</td>\n    </tr>\n    <tr>\n      <th>2349</th>\n      <td>666051853826850816</td>\n      <td>NaN</td>\n      <td>NaN</td>\n      <td>2015-11-16 00:35:11 +0000</td>\n      <td>&lt;a href=\"http://twitter.com/download/iphone\" r...</td>\n      <td>This is an odd dog. Hard on the outside but lo...</td>\n      <td>NaN</td>\n      <td>NaN</td>\n      <td>NaN</td>\n      <td>https://twitter.com/dog_rates/status/666051853...</td>\n      <td>2</td>\n      <td>10</td>\n      <td>an</td>\n      <td>None</td>\n      <td>None</td>\n      <td>None</td>\n      <td>None</td>\n    </tr>\n    <tr>\n      <th>2350</th>\n      <td>666050758794694657</td>\n      <td>NaN</td>\n      <td>NaN</td>\n      <td>2015-11-16 00:30:50 +0000</td>\n      <td>&lt;a href=\"http://twitter.com/download/iphone\" r...</td>\n      <td>This is a truly beautiful English Wilson Staff...</td>\n      <td>NaN</td>\n      <td>NaN</td>\n      <td>NaN</td>\n      <td>https://twitter.com/dog_rates/status/666050758...</td>\n      <td>10</td>\n      <td>10</td>\n      <td>a</td>\n      <td>None</td>\n      <td>None</td>\n      <td>None</td>\n      <td>None</td>\n    </tr>\n    <tr>\n      <th>2351</th>\n      <td>666049248165822465</td>\n      <td>NaN</td>\n      <td>NaN</td>\n      <td>2015-11-16 00:24:50 +0000</td>\n      <td>&lt;a href=\"http://twitter.com/download/iphone\" r...</td>\n      <td>Here we have a 1949 1st generation vulpix. Enj...</td>\n      <td>NaN</td>\n      <td>NaN</td>\n      <td>NaN</td>\n      <td>https://twitter.com/dog_rates/status/666049248...</td>\n      <td>5</td>\n      <td>10</td>\n      <td>None</td>\n      <td>None</td>\n      <td>None</td>\n      <td>None</td>\n      <td>None</td>\n    </tr>\n    <tr>\n      <th>2352</th>\n      <td>666044226329800704</td>\n      <td>NaN</td>\n      <td>NaN</td>\n      <td>2015-11-16 00:04:52 +0000</td>\n      <td>&lt;a href=\"http://twitter.com/download/iphone\" r...</td>\n      <td>This is a purebred Piers Morgan. Loves to Netf...</td>\n      <td>NaN</td>\n      <td>NaN</td>\n      <td>NaN</td>\n      <td>https://twitter.com/dog_rates/status/666044226...</td>\n      <td>6</td>\n      <td>10</td>\n      <td>a</td>\n      <td>None</td>\n      <td>None</td>\n      <td>None</td>\n      <td>None</td>\n    </tr>\n    <tr>\n      <th>2353</th>\n      <td>666033412701032449</td>\n      <td>NaN</td>\n      <td>NaN</td>\n      <td>2015-11-15 23:21:54 +0000</td>\n      <td>&lt;a href=\"http://twitter.com/download/iphone\" r...</td>\n      <td>Here is a very happy pup. Big fan of well-main...</td>\n      <td>NaN</td>\n      <td>NaN</td>\n      <td>NaN</td>\n      <td>https://twitter.com/dog_rates/status/666033412...</td>\n      <td>9</td>\n      <td>10</td>\n      <td>a</td>\n      <td>None</td>\n      <td>None</td>\n      <td>None</td>\n      <td>None</td>\n    </tr>\n    <tr>\n      <th>2354</th>\n      <td>666029285002620928</td>\n      <td>NaN</td>\n      <td>NaN</td>\n      <td>2015-11-15 23:05:30 +0000</td>\n      <td>&lt;a href=\"http://twitter.com/download/iphone\" r...</td>\n      <td>This is a western brown Mitsubishi terrier. Up...</td>\n      <td>NaN</td>\n      <td>NaN</td>\n      <td>NaN</td>\n      <td>https://twitter.com/dog_rates/status/666029285...</td>\n      <td>7</td>\n      <td>10</td>\n      <td>a</td>\n      <td>None</td>\n      <td>None</td>\n      <td>None</td>\n      <td>None</td>\n    </tr>\n    <tr>\n      <th>2355</th>\n      <td>666020888022790149</td>\n      <td>NaN</td>\n      <td>NaN</td>\n      <td>2015-11-15 22:32:08 +0000</td>\n      <td>&lt;a href=\"http://twitter.com/download/iphone\" r...</td>\n      <td>Here we have a Japanese Irish Setter. Lost eye...</td>\n      <td>NaN</td>\n      <td>NaN</td>\n      <td>NaN</td>\n      <td>https://twitter.com/dog_rates/status/666020888...</td>\n      <td>8</td>\n      <td>10</td>\n      <td>None</td>\n      <td>None</td>\n      <td>None</td>\n      <td>None</td>\n      <td>None</td>\n    </tr>\n  </tbody>\n</table>\n</div>"
     },
     "metadata": {},
     "execution_count": 126
    }
   ],
   "source": [
    "df_archive.tail(20)"
   ]
  },
  {
   "cell_type": "code",
   "execution_count": 127,
   "metadata": {},
   "outputs": [
    {
     "output_type": "execute_result",
     "data": {
      "text/plain": [
       "(2356, 17)"
      ]
     },
     "metadata": {},
     "execution_count": 127
    }
   ],
   "source": [
    "# assess df_archive's shape\n",
    "df_archive.shape"
   ]
  },
  {
   "cell_type": "code",
   "execution_count": 128,
   "metadata": {},
   "outputs": [
    {
     "output_type": "execute_result",
     "data": {
      "text/plain": [
       "tweet_id                        int64\n",
       "in_reply_to_status_id         float64\n",
       "in_reply_to_user_id           float64\n",
       "timestamp                      object\n",
       "source                         object\n",
       "text                           object\n",
       "retweeted_status_id           float64\n",
       "retweeted_status_user_id      float64\n",
       "retweeted_status_timestamp     object\n",
       "expanded_urls                  object\n",
       "rating_numerator                int64\n",
       "rating_denominator              int64\n",
       "name                           object\n",
       "doggo                          object\n",
       "floofer                        object\n",
       "pupper                         object\n",
       "puppo                          object\n",
       "dtype: object"
      ]
     },
     "metadata": {},
     "execution_count": 128
    }
   ],
   "source": [
    "# assess df_archive's datatypes\n",
    "df_archive.dtypes"
   ]
  },
  {
   "cell_type": "code",
   "execution_count": 129,
   "metadata": {},
   "outputs": [
    {
     "output_type": "execute_result",
     "data": {
      "text/plain": [
       "           tweet_id  in_reply_to_status_id  in_reply_to_user_id  \\\n",
       "count  2.356000e+03           7.800000e+01         7.800000e+01   \n",
       "mean   7.427716e+17           7.455079e+17         2.014171e+16   \n",
       "std    6.856705e+16           7.582492e+16         1.252797e+17   \n",
       "min    6.660209e+17           6.658147e+17         1.185634e+07   \n",
       "25%    6.783989e+17           6.757419e+17         3.086374e+08   \n",
       "50%    7.196279e+17           7.038708e+17         4.196984e+09   \n",
       "75%    7.993373e+17           8.257804e+17         4.196984e+09   \n",
       "max    8.924206e+17           8.862664e+17         8.405479e+17   \n",
       "\n",
       "       retweeted_status_id  retweeted_status_user_id  rating_numerator  \\\n",
       "count         1.810000e+02              1.810000e+02       2356.000000   \n",
       "mean          7.720400e+17              1.241698e+16         13.126486   \n",
       "std           6.236928e+16              9.599254e+16         45.876648   \n",
       "min           6.661041e+17              7.832140e+05          0.000000   \n",
       "25%           7.186315e+17              4.196984e+09         10.000000   \n",
       "50%           7.804657e+17              4.196984e+09         11.000000   \n",
       "75%           8.203146e+17              4.196984e+09         12.000000   \n",
       "max           8.874740e+17              7.874618e+17       1776.000000   \n",
       "\n",
       "       rating_denominator  \n",
       "count         2356.000000  \n",
       "mean            10.455433  \n",
       "std              6.745237  \n",
       "min              0.000000  \n",
       "25%             10.000000  \n",
       "50%             10.000000  \n",
       "75%             10.000000  \n",
       "max            170.000000  "
      ],
      "text/html": "<div>\n<style scoped>\n    .dataframe tbody tr th:only-of-type {\n        vertical-align: middle;\n    }\n\n    .dataframe tbody tr th {\n        vertical-align: top;\n    }\n\n    .dataframe thead th {\n        text-align: right;\n    }\n</style>\n<table border=\"1\" class=\"dataframe\">\n  <thead>\n    <tr style=\"text-align: right;\">\n      <th></th>\n      <th>tweet_id</th>\n      <th>in_reply_to_status_id</th>\n      <th>in_reply_to_user_id</th>\n      <th>retweeted_status_id</th>\n      <th>retweeted_status_user_id</th>\n      <th>rating_numerator</th>\n      <th>rating_denominator</th>\n    </tr>\n  </thead>\n  <tbody>\n    <tr>\n      <th>count</th>\n      <td>2.356000e+03</td>\n      <td>7.800000e+01</td>\n      <td>7.800000e+01</td>\n      <td>1.810000e+02</td>\n      <td>1.810000e+02</td>\n      <td>2356.000000</td>\n      <td>2356.000000</td>\n    </tr>\n    <tr>\n      <th>mean</th>\n      <td>7.427716e+17</td>\n      <td>7.455079e+17</td>\n      <td>2.014171e+16</td>\n      <td>7.720400e+17</td>\n      <td>1.241698e+16</td>\n      <td>13.126486</td>\n      <td>10.455433</td>\n    </tr>\n    <tr>\n      <th>std</th>\n      <td>6.856705e+16</td>\n      <td>7.582492e+16</td>\n      <td>1.252797e+17</td>\n      <td>6.236928e+16</td>\n      <td>9.599254e+16</td>\n      <td>45.876648</td>\n      <td>6.745237</td>\n    </tr>\n    <tr>\n      <th>min</th>\n      <td>6.660209e+17</td>\n      <td>6.658147e+17</td>\n      <td>1.185634e+07</td>\n      <td>6.661041e+17</td>\n      <td>7.832140e+05</td>\n      <td>0.000000</td>\n      <td>0.000000</td>\n    </tr>\n    <tr>\n      <th>25%</th>\n      <td>6.783989e+17</td>\n      <td>6.757419e+17</td>\n      <td>3.086374e+08</td>\n      <td>7.186315e+17</td>\n      <td>4.196984e+09</td>\n      <td>10.000000</td>\n      <td>10.000000</td>\n    </tr>\n    <tr>\n      <th>50%</th>\n      <td>7.196279e+17</td>\n      <td>7.038708e+17</td>\n      <td>4.196984e+09</td>\n      <td>7.804657e+17</td>\n      <td>4.196984e+09</td>\n      <td>11.000000</td>\n      <td>10.000000</td>\n    </tr>\n    <tr>\n      <th>75%</th>\n      <td>7.993373e+17</td>\n      <td>8.257804e+17</td>\n      <td>4.196984e+09</td>\n      <td>8.203146e+17</td>\n      <td>4.196984e+09</td>\n      <td>12.000000</td>\n      <td>10.000000</td>\n    </tr>\n    <tr>\n      <th>max</th>\n      <td>8.924206e+17</td>\n      <td>8.862664e+17</td>\n      <td>8.405479e+17</td>\n      <td>8.874740e+17</td>\n      <td>7.874618e+17</td>\n      <td>1776.000000</td>\n      <td>170.000000</td>\n    </tr>\n  </tbody>\n</table>\n</div>"
     },
     "metadata": {},
     "execution_count": 129
    }
   ],
   "source": [
    "# assess df_archive statistics\n",
    "df_archive.describe()"
   ]
  },
  {
   "cell_type": "code",
   "execution_count": 130,
   "metadata": {},
   "outputs": [
    {
     "output_type": "execute_result",
     "data": {
      "text/plain": [
       "0"
      ]
     },
     "metadata": {},
     "execution_count": 130
    }
   ],
   "source": [
    "# assess df_archive's duplicated values\n",
    "sum(df_archive.duplicated())"
   ]
  },
  {
   "cell_type": "code",
   "execution_count": 131,
   "metadata": {},
   "outputs": [
    {
     "output_type": "execute_result",
     "data": {
      "text/plain": [
       "tweet_id                         0\n",
       "in_reply_to_status_id         2278\n",
       "in_reply_to_user_id           2278\n",
       "timestamp                        0\n",
       "source                           0\n",
       "text                             0\n",
       "retweeted_status_id           2175\n",
       "retweeted_status_user_id      2175\n",
       "retweeted_status_timestamp    2175\n",
       "expanded_urls                   59\n",
       "rating_numerator                 0\n",
       "rating_denominator               0\n",
       "name                             0\n",
       "doggo                            0\n",
       "floofer                          0\n",
       "pupper                           0\n",
       "puppo                            0\n",
       "dtype: int64"
      ]
     },
     "metadata": {},
     "execution_count": 131
    }
   ],
   "source": [
    "# assess df_archive's null values\n",
    "df_archive.isnull().sum()"
   ]
  },
  {
   "cell_type": "code",
   "execution_count": 132,
   "metadata": {},
   "outputs": [
    {
     "output_type": "execute_result",
     "data": {
      "text/plain": [
       "None       745\n",
       "a           55\n",
       "Charlie     12\n",
       "Lucy        11\n",
       "Cooper      11\n",
       "          ... \n",
       "Tilly        1\n",
       "Boston       1\n",
       "Creg         1\n",
       "Stormy       1\n",
       "Monty        1\n",
       "Name: name, Length: 957, dtype: int64"
      ]
     },
     "metadata": {},
     "execution_count": 132
    }
   ],
   "source": [
    "# assess frequency and list of values in dognames column\n",
    "df_archive['name'].value_counts()"
   ]
  },
  {
   "cell_type": "code",
   "execution_count": null,
   "metadata": {},
   "outputs": [],
   "source": []
  },
  {
   "cell_type": "code",
   "execution_count": null,
   "metadata": {},
   "outputs": [],
   "source": []
  },
  {
   "cell_type": "code",
   "execution_count": 133,
   "metadata": {},
   "outputs": [
    {
     "output_type": "execute_result",
     "data": {
      "text/plain": [
       "             tweet_id retweet_count favorite_count\n",
       "0  666020888022790149           445           2337\n",
       "0  666029285002620928            41            118\n",
       "0  666033412701032449            39            107\n",
       "0  666044226329800704           122            261\n",
       "0  666049248165822465            38             94\n",
       "0  666050758794694657            51            119\n",
       "0  666051853826850816           745           1090\n",
       "0  666055525042405380           212            398\n",
       "0  666057090499244032           118            264\n",
       "0  666058600524156928            50            103\n",
       "0  666063827256086533           190            434\n",
       "0  666071193221509120            52            134\n",
       "0  666073100786774016           140            282\n",
       "0  666082916733198337            41            101\n",
       "0  666094000022159362            66            151\n",
       "0  666099513787052032            57            140\n",
       "0  666102155909144576            11             69\n",
       "0  666104133288665088          5772          13213\n",
       "0  666268910803644416            32             93\n",
       "0  666273097616637952            70            157"
      ],
      "text/html": "<div>\n<style scoped>\n    .dataframe tbody tr th:only-of-type {\n        vertical-align: middle;\n    }\n\n    .dataframe tbody tr th {\n        vertical-align: top;\n    }\n\n    .dataframe thead th {\n        text-align: right;\n    }\n</style>\n<table border=\"1\" class=\"dataframe\">\n  <thead>\n    <tr style=\"text-align: right;\">\n      <th></th>\n      <th>tweet_id</th>\n      <th>retweet_count</th>\n      <th>favorite_count</th>\n    </tr>\n  </thead>\n  <tbody>\n    <tr>\n      <th>0</th>\n      <td>666020888022790149</td>\n      <td>445</td>\n      <td>2337</td>\n    </tr>\n    <tr>\n      <th>0</th>\n      <td>666029285002620928</td>\n      <td>41</td>\n      <td>118</td>\n    </tr>\n    <tr>\n      <th>0</th>\n      <td>666033412701032449</td>\n      <td>39</td>\n      <td>107</td>\n    </tr>\n    <tr>\n      <th>0</th>\n      <td>666044226329800704</td>\n      <td>122</td>\n      <td>261</td>\n    </tr>\n    <tr>\n      <th>0</th>\n      <td>666049248165822465</td>\n      <td>38</td>\n      <td>94</td>\n    </tr>\n    <tr>\n      <th>0</th>\n      <td>666050758794694657</td>\n      <td>51</td>\n      <td>119</td>\n    </tr>\n    <tr>\n      <th>0</th>\n      <td>666051853826850816</td>\n      <td>745</td>\n      <td>1090</td>\n    </tr>\n    <tr>\n      <th>0</th>\n      <td>666055525042405380</td>\n      <td>212</td>\n      <td>398</td>\n    </tr>\n    <tr>\n      <th>0</th>\n      <td>666057090499244032</td>\n      <td>118</td>\n      <td>264</td>\n    </tr>\n    <tr>\n      <th>0</th>\n      <td>666058600524156928</td>\n      <td>50</td>\n      <td>103</td>\n    </tr>\n    <tr>\n      <th>0</th>\n      <td>666063827256086533</td>\n      <td>190</td>\n      <td>434</td>\n    </tr>\n    <tr>\n      <th>0</th>\n      <td>666071193221509120</td>\n      <td>52</td>\n      <td>134</td>\n    </tr>\n    <tr>\n      <th>0</th>\n      <td>666073100786774016</td>\n      <td>140</td>\n      <td>282</td>\n    </tr>\n    <tr>\n      <th>0</th>\n      <td>666082916733198337</td>\n      <td>41</td>\n      <td>101</td>\n    </tr>\n    <tr>\n      <th>0</th>\n      <td>666094000022159362</td>\n      <td>66</td>\n      <td>151</td>\n    </tr>\n    <tr>\n      <th>0</th>\n      <td>666099513787052032</td>\n      <td>57</td>\n      <td>140</td>\n    </tr>\n    <tr>\n      <th>0</th>\n      <td>666102155909144576</td>\n      <td>11</td>\n      <td>69</td>\n    </tr>\n    <tr>\n      <th>0</th>\n      <td>666104133288665088</td>\n      <td>5772</td>\n      <td>13213</td>\n    </tr>\n    <tr>\n      <th>0</th>\n      <td>666268910803644416</td>\n      <td>32</td>\n      <td>93</td>\n    </tr>\n    <tr>\n      <th>0</th>\n      <td>666273097616637952</td>\n      <td>70</td>\n      <td>157</td>\n    </tr>\n  </tbody>\n</table>\n</div>"
     },
     "metadata": {},
     "execution_count": 133
    }
   ],
   "source": [
    "# assess df_tweets visually\n",
    "df_tweets.head(20)"
   ]
  },
  {
   "cell_type": "code",
   "execution_count": 134,
   "metadata": {},
   "outputs": [
    {
     "output_type": "execute_result",
     "data": {
      "text/plain": [
       "             tweet_id retweet_count favorite_count\n",
       "0  828409743546925057          1130           6218\n",
       "0  828650029636317184          1297           9317\n",
       "0  828708714936930305         10889          35740\n",
       "0  828770345708580865          5698          25056\n",
       "0  829011960981237760         15918          52247\n",
       "0  829141528400556032          7131          23864\n",
       "0  829449946868879360          1953          10253\n",
       "0  829501995190984704         10313          31080\n",
       "0  829861396166877184          1881          11999\n",
       "0  829878982036299777          4864              0\n",
       "0  830097400375152640          2853           9564\n",
       "0  830583320585068544         16278          65276\n",
       "0  830956169170665475          1453           7810\n",
       "0  831262627380748289          1985          11643\n",
       "0  831309418084069378          2394          11537\n",
       "0  831315979191906304          1086           6396\n",
       "0  831322785565769729          1506           9094\n",
       "0  831552930092285952          2261           8778\n",
       "0  831650051525054464          1869           6969\n",
       "0  831670449226514432          1763          10210"
      ],
      "text/html": "<div>\n<style scoped>\n    .dataframe tbody tr th:only-of-type {\n        vertical-align: middle;\n    }\n\n    .dataframe tbody tr th {\n        vertical-align: top;\n    }\n\n    .dataframe thead th {\n        text-align: right;\n    }\n</style>\n<table border=\"1\" class=\"dataframe\">\n  <thead>\n    <tr style=\"text-align: right;\">\n      <th></th>\n      <th>tweet_id</th>\n      <th>retweet_count</th>\n      <th>favorite_count</th>\n    </tr>\n  </thead>\n  <tbody>\n    <tr>\n      <th>0</th>\n      <td>828409743546925057</td>\n      <td>1130</td>\n      <td>6218</td>\n    </tr>\n    <tr>\n      <th>0</th>\n      <td>828650029636317184</td>\n      <td>1297</td>\n      <td>9317</td>\n    </tr>\n    <tr>\n      <th>0</th>\n      <td>828708714936930305</td>\n      <td>10889</td>\n      <td>35740</td>\n    </tr>\n    <tr>\n      <th>0</th>\n      <td>828770345708580865</td>\n      <td>5698</td>\n      <td>25056</td>\n    </tr>\n    <tr>\n      <th>0</th>\n      <td>829011960981237760</td>\n      <td>15918</td>\n      <td>52247</td>\n    </tr>\n    <tr>\n      <th>0</th>\n      <td>829141528400556032</td>\n      <td>7131</td>\n      <td>23864</td>\n    </tr>\n    <tr>\n      <th>0</th>\n      <td>829449946868879360</td>\n      <td>1953</td>\n      <td>10253</td>\n    </tr>\n    <tr>\n      <th>0</th>\n      <td>829501995190984704</td>\n      <td>10313</td>\n      <td>31080</td>\n    </tr>\n    <tr>\n      <th>0</th>\n      <td>829861396166877184</td>\n      <td>1881</td>\n      <td>11999</td>\n    </tr>\n    <tr>\n      <th>0</th>\n      <td>829878982036299777</td>\n      <td>4864</td>\n      <td>0</td>\n    </tr>\n    <tr>\n      <th>0</th>\n      <td>830097400375152640</td>\n      <td>2853</td>\n      <td>9564</td>\n    </tr>\n    <tr>\n      <th>0</th>\n      <td>830583320585068544</td>\n      <td>16278</td>\n      <td>65276</td>\n    </tr>\n    <tr>\n      <th>0</th>\n      <td>830956169170665475</td>\n      <td>1453</td>\n      <td>7810</td>\n    </tr>\n    <tr>\n      <th>0</th>\n      <td>831262627380748289</td>\n      <td>1985</td>\n      <td>11643</td>\n    </tr>\n    <tr>\n      <th>0</th>\n      <td>831309418084069378</td>\n      <td>2394</td>\n      <td>11537</td>\n    </tr>\n    <tr>\n      <th>0</th>\n      <td>831315979191906304</td>\n      <td>1086</td>\n      <td>6396</td>\n    </tr>\n    <tr>\n      <th>0</th>\n      <td>831322785565769729</td>\n      <td>1506</td>\n      <td>9094</td>\n    </tr>\n    <tr>\n      <th>0</th>\n      <td>831552930092285952</td>\n      <td>2261</td>\n      <td>8778</td>\n    </tr>\n    <tr>\n      <th>0</th>\n      <td>831650051525054464</td>\n      <td>1869</td>\n      <td>6969</td>\n    </tr>\n    <tr>\n      <th>0</th>\n      <td>831670449226514432</td>\n      <td>1763</td>\n      <td>10210</td>\n    </tr>\n  </tbody>\n</table>\n</div>"
     },
     "metadata": {},
     "execution_count": 134
    }
   ],
   "source": [
    "# assess df_tweets visually\n",
    "df_tweets.tail(20)"
   ]
  },
  {
   "cell_type": "code",
   "execution_count": 135,
   "metadata": {},
   "outputs": [
    {
     "output_type": "execute_result",
     "data": {
      "text/plain": [
       "(1793, 3)"
      ]
     },
     "metadata": {},
     "execution_count": 135
    }
   ],
   "source": [
    "# assess df_tweets's shape\n",
    "df_tweets.shape"
   ]
  },
  {
   "cell_type": "code",
   "execution_count": 136,
   "metadata": {},
   "outputs": [
    {
     "output_type": "execute_result",
     "data": {
      "text/plain": [
       "tweet_id          object\n",
       "retweet_count     object\n",
       "favorite_count    object\n",
       "dtype: object"
      ]
     },
     "metadata": {},
     "execution_count": 136
    }
   ],
   "source": [
    "# assess df_tweets's datatypes\n",
    "df_tweets.dtypes\n"
   ]
  },
  {
   "cell_type": "code",
   "execution_count": 137,
   "metadata": {},
   "outputs": [
    {
     "output_type": "execute_result",
     "data": {
      "text/plain": [
       "                  tweet_id  retweet_count  favorite_count\n",
       "count                 1793           1793            1793\n",
       "unique                1793           1330            1581\n",
       "top     666781792255496192            488               0\n",
       "freq                     1              5              60"
      ],
      "text/html": "<div>\n<style scoped>\n    .dataframe tbody tr th:only-of-type {\n        vertical-align: middle;\n    }\n\n    .dataframe tbody tr th {\n        vertical-align: top;\n    }\n\n    .dataframe thead th {\n        text-align: right;\n    }\n</style>\n<table border=\"1\" class=\"dataframe\">\n  <thead>\n    <tr style=\"text-align: right;\">\n      <th></th>\n      <th>tweet_id</th>\n      <th>retweet_count</th>\n      <th>favorite_count</th>\n    </tr>\n  </thead>\n  <tbody>\n    <tr>\n      <th>count</th>\n      <td>1793</td>\n      <td>1793</td>\n      <td>1793</td>\n    </tr>\n    <tr>\n      <th>unique</th>\n      <td>1793</td>\n      <td>1330</td>\n      <td>1581</td>\n    </tr>\n    <tr>\n      <th>top</th>\n      <td>666781792255496192</td>\n      <td>488</td>\n      <td>0</td>\n    </tr>\n    <tr>\n      <th>freq</th>\n      <td>1</td>\n      <td>5</td>\n      <td>60</td>\n    </tr>\n  </tbody>\n</table>\n</div>"
     },
     "metadata": {},
     "execution_count": 137
    }
   ],
   "source": [
    "# assess df_tweets's statistics\n",
    "df_tweets.describe()"
   ]
  },
  {
   "cell_type": "code",
   "execution_count": 138,
   "metadata": {},
   "outputs": [
    {
     "output_type": "execute_result",
     "data": {
      "text/plain": [
       "0"
      ]
     },
     "metadata": {},
     "execution_count": 138
    }
   ],
   "source": [
    "# assess df_tweets's duplicated values\n",
    "df_tweets.duplicated().sum()"
   ]
  },
  {
   "cell_type": "code",
   "execution_count": 139,
   "metadata": {},
   "outputs": [
    {
     "output_type": "execute_result",
     "data": {
      "text/plain": [
       "tweet_id          0\n",
       "retweet_count     0\n",
       "favorite_count    0\n",
       "dtype: int64"
      ]
     },
     "metadata": {},
     "execution_count": 139
    }
   ],
   "source": [
    "# assess df_tweets's null values\n",
    "df_tweets.isnull().sum()"
   ]
  },
  {
   "cell_type": "code",
   "execution_count": 140,
   "metadata": {},
   "outputs": [
    {
     "output_type": "execute_result",
     "data": {
      "text/plain": [
       "              tweet_id                                          jpg_url  \\\n",
       "0   666020888022790149  https://pbs.twimg.com/media/CT4udn0WwAA0aMy.jpg   \n",
       "1   666029285002620928  https://pbs.twimg.com/media/CT42GRgUYAA5iDo.jpg   \n",
       "2   666033412701032449  https://pbs.twimg.com/media/CT4521TWwAEvMyu.jpg   \n",
       "3   666044226329800704  https://pbs.twimg.com/media/CT5Dr8HUEAA-lEu.jpg   \n",
       "4   666049248165822465  https://pbs.twimg.com/media/CT5IQmsXIAAKY4A.jpg   \n",
       "5   666050758794694657  https://pbs.twimg.com/media/CT5Jof1WUAEuVxN.jpg   \n",
       "6   666051853826850816  https://pbs.twimg.com/media/CT5KoJ1WoAAJash.jpg   \n",
       "7   666055525042405380  https://pbs.twimg.com/media/CT5N9tpXIAAifs1.jpg   \n",
       "8   666057090499244032  https://pbs.twimg.com/media/CT5PY90WoAAQGLo.jpg   \n",
       "9   666058600524156928  https://pbs.twimg.com/media/CT5Qw94XAAA_2dP.jpg   \n",
       "10  666063827256086533  https://pbs.twimg.com/media/CT5Vg_wXIAAXfnj.jpg   \n",
       "11  666071193221509120  https://pbs.twimg.com/media/CT5cN_3WEAAlOoZ.jpg   \n",
       "12  666073100786774016  https://pbs.twimg.com/media/CT5d9DZXAAALcwe.jpg   \n",
       "13  666082916733198337  https://pbs.twimg.com/media/CT5m4VGWEAAtKc8.jpg   \n",
       "14  666094000022159362  https://pbs.twimg.com/media/CT5w9gUW4AAsBNN.jpg   \n",
       "15  666099513787052032  https://pbs.twimg.com/media/CT51-JJUEAA6hV8.jpg   \n",
       "16  666102155909144576  https://pbs.twimg.com/media/CT54YGiWUAEZnoK.jpg   \n",
       "17  666104133288665088  https://pbs.twimg.com/media/CT56LSZWoAAlJj2.jpg   \n",
       "18  666268910803644416  https://pbs.twimg.com/media/CT8QCd1WEAADXws.jpg   \n",
       "19  666273097616637952  https://pbs.twimg.com/media/CT8T1mtUwAA3aqm.jpg   \n",
       "\n",
       "    img_num                      p1   p1_conf  p1_dog                  p2  \\\n",
       "0         1  Welsh_springer_spaniel  0.465074    True              collie   \n",
       "1         1                 redbone  0.506826    True  miniature_pinscher   \n",
       "2         1         German_shepherd  0.596461    True            malinois   \n",
       "3         1     Rhodesian_ridgeback  0.408143    True             redbone   \n",
       "4         1      miniature_pinscher  0.560311    True          Rottweiler   \n",
       "5         1    Bernese_mountain_dog  0.651137    True    English_springer   \n",
       "6         1              box_turtle  0.933012   False          mud_turtle   \n",
       "7         1                    chow  0.692517    True     Tibetan_mastiff   \n",
       "8         1           shopping_cart  0.962465   False     shopping_basket   \n",
       "9         1        miniature_poodle  0.201493    True            komondor   \n",
       "10        1        golden_retriever  0.775930    True     Tibetan_mastiff   \n",
       "11        1           Gordon_setter  0.503672    True   Yorkshire_terrier   \n",
       "12        1            Walker_hound  0.260857    True    English_foxhound   \n",
       "13        1                     pug  0.489814    True        bull_mastiff   \n",
       "14        1              bloodhound  0.195217    True     German_shepherd   \n",
       "15        1                   Lhasa  0.582330    True            Shih-Tzu   \n",
       "16        1          English_setter  0.298617    True        Newfoundland   \n",
       "17        1                     hen  0.965932   False                cock   \n",
       "18        1        desktop_computer  0.086502   False                desk   \n",
       "19        1       Italian_greyhound  0.176053    True         toy_terrier   \n",
       "\n",
       "     p2_conf  p2_dog                           p3   p3_conf  p3_dog  \n",
       "0   0.156665    True            Shetland_sheepdog  0.061428    True  \n",
       "1   0.074192    True          Rhodesian_ridgeback  0.072010    True  \n",
       "2   0.138584    True                   bloodhound  0.116197    True  \n",
       "3   0.360687    True           miniature_pinscher  0.222752    True  \n",
       "4   0.243682    True                     Doberman  0.154629    True  \n",
       "5   0.263788    True   Greater_Swiss_Mountain_dog  0.016199    True  \n",
       "6   0.045885   False                     terrapin  0.017885   False  \n",
       "7   0.058279    True                     fur_coat  0.054449   False  \n",
       "8   0.014594   False             golden_retriever  0.007959    True  \n",
       "9   0.192305    True  soft-coated_wheaten_terrier  0.082086    True  \n",
       "10  0.093718    True           Labrador_retriever  0.072427    True  \n",
       "11  0.174201    True                     Pekinese  0.109454    True  \n",
       "12  0.175382    True                 Ibizan_hound  0.097471    True  \n",
       "13  0.404722    True               French_bulldog  0.048960    True  \n",
       "14  0.078260    True                     malinois  0.075628    True  \n",
       "15  0.166192    True               Dandie_Dinmont  0.089688    True  \n",
       "16  0.149842    True                       borzoi  0.133649    True  \n",
       "17  0.033919   False                    partridge  0.000052   False  \n",
       "18  0.085547   False                     bookcase  0.079480   False  \n",
       "19  0.111884    True                      basenji  0.111152    True  "
      ],
      "text/html": "<div>\n<style scoped>\n    .dataframe tbody tr th:only-of-type {\n        vertical-align: middle;\n    }\n\n    .dataframe tbody tr th {\n        vertical-align: top;\n    }\n\n    .dataframe thead th {\n        text-align: right;\n    }\n</style>\n<table border=\"1\" class=\"dataframe\">\n  <thead>\n    <tr style=\"text-align: right;\">\n      <th></th>\n      <th>tweet_id</th>\n      <th>jpg_url</th>\n      <th>img_num</th>\n      <th>p1</th>\n      <th>p1_conf</th>\n      <th>p1_dog</th>\n      <th>p2</th>\n      <th>p2_conf</th>\n      <th>p2_dog</th>\n      <th>p3</th>\n      <th>p3_conf</th>\n      <th>p3_dog</th>\n    </tr>\n  </thead>\n  <tbody>\n    <tr>\n      <th>0</th>\n      <td>666020888022790149</td>\n      <td>https://pbs.twimg.com/media/CT4udn0WwAA0aMy.jpg</td>\n      <td>1</td>\n      <td>Welsh_springer_spaniel</td>\n      <td>0.465074</td>\n      <td>True</td>\n      <td>collie</td>\n      <td>0.156665</td>\n      <td>True</td>\n      <td>Shetland_sheepdog</td>\n      <td>0.061428</td>\n      <td>True</td>\n    </tr>\n    <tr>\n      <th>1</th>\n      <td>666029285002620928</td>\n      <td>https://pbs.twimg.com/media/CT42GRgUYAA5iDo.jpg</td>\n      <td>1</td>\n      <td>redbone</td>\n      <td>0.506826</td>\n      <td>True</td>\n      <td>miniature_pinscher</td>\n      <td>0.074192</td>\n      <td>True</td>\n      <td>Rhodesian_ridgeback</td>\n      <td>0.072010</td>\n      <td>True</td>\n    </tr>\n    <tr>\n      <th>2</th>\n      <td>666033412701032449</td>\n      <td>https://pbs.twimg.com/media/CT4521TWwAEvMyu.jpg</td>\n      <td>1</td>\n      <td>German_shepherd</td>\n      <td>0.596461</td>\n      <td>True</td>\n      <td>malinois</td>\n      <td>0.138584</td>\n      <td>True</td>\n      <td>bloodhound</td>\n      <td>0.116197</td>\n      <td>True</td>\n    </tr>\n    <tr>\n      <th>3</th>\n      <td>666044226329800704</td>\n      <td>https://pbs.twimg.com/media/CT5Dr8HUEAA-lEu.jpg</td>\n      <td>1</td>\n      <td>Rhodesian_ridgeback</td>\n      <td>0.408143</td>\n      <td>True</td>\n      <td>redbone</td>\n      <td>0.360687</td>\n      <td>True</td>\n      <td>miniature_pinscher</td>\n      <td>0.222752</td>\n      <td>True</td>\n    </tr>\n    <tr>\n      <th>4</th>\n      <td>666049248165822465</td>\n      <td>https://pbs.twimg.com/media/CT5IQmsXIAAKY4A.jpg</td>\n      <td>1</td>\n      <td>miniature_pinscher</td>\n      <td>0.560311</td>\n      <td>True</td>\n      <td>Rottweiler</td>\n      <td>0.243682</td>\n      <td>True</td>\n      <td>Doberman</td>\n      <td>0.154629</td>\n      <td>True</td>\n    </tr>\n    <tr>\n      <th>5</th>\n      <td>666050758794694657</td>\n      <td>https://pbs.twimg.com/media/CT5Jof1WUAEuVxN.jpg</td>\n      <td>1</td>\n      <td>Bernese_mountain_dog</td>\n      <td>0.651137</td>\n      <td>True</td>\n      <td>English_springer</td>\n      <td>0.263788</td>\n      <td>True</td>\n      <td>Greater_Swiss_Mountain_dog</td>\n      <td>0.016199</td>\n      <td>True</td>\n    </tr>\n    <tr>\n      <th>6</th>\n      <td>666051853826850816</td>\n      <td>https://pbs.twimg.com/media/CT5KoJ1WoAAJash.jpg</td>\n      <td>1</td>\n      <td>box_turtle</td>\n      <td>0.933012</td>\n      <td>False</td>\n      <td>mud_turtle</td>\n      <td>0.045885</td>\n      <td>False</td>\n      <td>terrapin</td>\n      <td>0.017885</td>\n      <td>False</td>\n    </tr>\n    <tr>\n      <th>7</th>\n      <td>666055525042405380</td>\n      <td>https://pbs.twimg.com/media/CT5N9tpXIAAifs1.jpg</td>\n      <td>1</td>\n      <td>chow</td>\n      <td>0.692517</td>\n      <td>True</td>\n      <td>Tibetan_mastiff</td>\n      <td>0.058279</td>\n      <td>True</td>\n      <td>fur_coat</td>\n      <td>0.054449</td>\n      <td>False</td>\n    </tr>\n    <tr>\n      <th>8</th>\n      <td>666057090499244032</td>\n      <td>https://pbs.twimg.com/media/CT5PY90WoAAQGLo.jpg</td>\n      <td>1</td>\n      <td>shopping_cart</td>\n      <td>0.962465</td>\n      <td>False</td>\n      <td>shopping_basket</td>\n      <td>0.014594</td>\n      <td>False</td>\n      <td>golden_retriever</td>\n      <td>0.007959</td>\n      <td>True</td>\n    </tr>\n    <tr>\n      <th>9</th>\n      <td>666058600524156928</td>\n      <td>https://pbs.twimg.com/media/CT5Qw94XAAA_2dP.jpg</td>\n      <td>1</td>\n      <td>miniature_poodle</td>\n      <td>0.201493</td>\n      <td>True</td>\n      <td>komondor</td>\n      <td>0.192305</td>\n      <td>True</td>\n      <td>soft-coated_wheaten_terrier</td>\n      <td>0.082086</td>\n      <td>True</td>\n    </tr>\n    <tr>\n      <th>10</th>\n      <td>666063827256086533</td>\n      <td>https://pbs.twimg.com/media/CT5Vg_wXIAAXfnj.jpg</td>\n      <td>1</td>\n      <td>golden_retriever</td>\n      <td>0.775930</td>\n      <td>True</td>\n      <td>Tibetan_mastiff</td>\n      <td>0.093718</td>\n      <td>True</td>\n      <td>Labrador_retriever</td>\n      <td>0.072427</td>\n      <td>True</td>\n    </tr>\n    <tr>\n      <th>11</th>\n      <td>666071193221509120</td>\n      <td>https://pbs.twimg.com/media/CT5cN_3WEAAlOoZ.jpg</td>\n      <td>1</td>\n      <td>Gordon_setter</td>\n      <td>0.503672</td>\n      <td>True</td>\n      <td>Yorkshire_terrier</td>\n      <td>0.174201</td>\n      <td>True</td>\n      <td>Pekinese</td>\n      <td>0.109454</td>\n      <td>True</td>\n    </tr>\n    <tr>\n      <th>12</th>\n      <td>666073100786774016</td>\n      <td>https://pbs.twimg.com/media/CT5d9DZXAAALcwe.jpg</td>\n      <td>1</td>\n      <td>Walker_hound</td>\n      <td>0.260857</td>\n      <td>True</td>\n      <td>English_foxhound</td>\n      <td>0.175382</td>\n      <td>True</td>\n      <td>Ibizan_hound</td>\n      <td>0.097471</td>\n      <td>True</td>\n    </tr>\n    <tr>\n      <th>13</th>\n      <td>666082916733198337</td>\n      <td>https://pbs.twimg.com/media/CT5m4VGWEAAtKc8.jpg</td>\n      <td>1</td>\n      <td>pug</td>\n      <td>0.489814</td>\n      <td>True</td>\n      <td>bull_mastiff</td>\n      <td>0.404722</td>\n      <td>True</td>\n      <td>French_bulldog</td>\n      <td>0.048960</td>\n      <td>True</td>\n    </tr>\n    <tr>\n      <th>14</th>\n      <td>666094000022159362</td>\n      <td>https://pbs.twimg.com/media/CT5w9gUW4AAsBNN.jpg</td>\n      <td>1</td>\n      <td>bloodhound</td>\n      <td>0.195217</td>\n      <td>True</td>\n      <td>German_shepherd</td>\n      <td>0.078260</td>\n      <td>True</td>\n      <td>malinois</td>\n      <td>0.075628</td>\n      <td>True</td>\n    </tr>\n    <tr>\n      <th>15</th>\n      <td>666099513787052032</td>\n      <td>https://pbs.twimg.com/media/CT51-JJUEAA6hV8.jpg</td>\n      <td>1</td>\n      <td>Lhasa</td>\n      <td>0.582330</td>\n      <td>True</td>\n      <td>Shih-Tzu</td>\n      <td>0.166192</td>\n      <td>True</td>\n      <td>Dandie_Dinmont</td>\n      <td>0.089688</td>\n      <td>True</td>\n    </tr>\n    <tr>\n      <th>16</th>\n      <td>666102155909144576</td>\n      <td>https://pbs.twimg.com/media/CT54YGiWUAEZnoK.jpg</td>\n      <td>1</td>\n      <td>English_setter</td>\n      <td>0.298617</td>\n      <td>True</td>\n      <td>Newfoundland</td>\n      <td>0.149842</td>\n      <td>True</td>\n      <td>borzoi</td>\n      <td>0.133649</td>\n      <td>True</td>\n    </tr>\n    <tr>\n      <th>17</th>\n      <td>666104133288665088</td>\n      <td>https://pbs.twimg.com/media/CT56LSZWoAAlJj2.jpg</td>\n      <td>1</td>\n      <td>hen</td>\n      <td>0.965932</td>\n      <td>False</td>\n      <td>cock</td>\n      <td>0.033919</td>\n      <td>False</td>\n      <td>partridge</td>\n      <td>0.000052</td>\n      <td>False</td>\n    </tr>\n    <tr>\n      <th>18</th>\n      <td>666268910803644416</td>\n      <td>https://pbs.twimg.com/media/CT8QCd1WEAADXws.jpg</td>\n      <td>1</td>\n      <td>desktop_computer</td>\n      <td>0.086502</td>\n      <td>False</td>\n      <td>desk</td>\n      <td>0.085547</td>\n      <td>False</td>\n      <td>bookcase</td>\n      <td>0.079480</td>\n      <td>False</td>\n    </tr>\n    <tr>\n      <th>19</th>\n      <td>666273097616637952</td>\n      <td>https://pbs.twimg.com/media/CT8T1mtUwAA3aqm.jpg</td>\n      <td>1</td>\n      <td>Italian_greyhound</td>\n      <td>0.176053</td>\n      <td>True</td>\n      <td>toy_terrier</td>\n      <td>0.111884</td>\n      <td>True</td>\n      <td>basenji</td>\n      <td>0.111152</td>\n      <td>True</td>\n    </tr>\n  </tbody>\n</table>\n</div>"
     },
     "metadata": {},
     "execution_count": 140
    }
   ],
   "source": [
    "# assess df_image_predications visually \n",
    "df_image_predictions.head(20)"
   ]
  },
  {
   "cell_type": "code",
   "execution_count": 141,
   "metadata": {},
   "outputs": [
    {
     "output_type": "execute_result",
     "data": {
      "text/plain": [
       "                tweet_id                                            jpg_url  \\\n",
       "2055  888202515573088257    https://pbs.twimg.com/media/DFDw2tyUQAAAFke.jpg   \n",
       "2056  888554962724278272    https://pbs.twimg.com/media/DFTH_O-UQAACu20.jpg   \n",
       "2057  888804989199671297    https://pbs.twimg.com/media/DFWra-3VYAA2piG.jpg   \n",
       "2058  888917238123831296    https://pbs.twimg.com/media/DFYRgsOUQAARGhO.jpg   \n",
       "2059  889278841981685760  https://pbs.twimg.com/ext_tw_video_thumb/88927...   \n",
       "2060  889531135344209921    https://pbs.twimg.com/media/DFg_2PVW0AEHN3p.jpg   \n",
       "2061  889638837579907072    https://pbs.twimg.com/media/DFihzFfXsAYGDPR.jpg   \n",
       "2062  889665388333682689    https://pbs.twimg.com/media/DFi579UWsAAatzw.jpg   \n",
       "2063  889880896479866881    https://pbs.twimg.com/media/DFl99B1WsAITKsg.jpg   \n",
       "2064  890006608113172480    https://pbs.twimg.com/media/DFnwSY4WAAAMliS.jpg   \n",
       "2065  890240255349198849    https://pbs.twimg.com/media/DFrEyVuW0AAO3t9.jpg   \n",
       "2066  890609185150312448    https://pbs.twimg.com/media/DFwUU__XcAEpyXI.jpg   \n",
       "2067  890729181411237888    https://pbs.twimg.com/media/DFyBahAVwAAhUTd.jpg   \n",
       "2068  890971913173991426    https://pbs.twimg.com/media/DF1eOmZXUAALUcq.jpg   \n",
       "2069  891087950875897856    https://pbs.twimg.com/media/DF3HwyEWsAABqE6.jpg   \n",
       "2070  891327558926688256    https://pbs.twimg.com/media/DF6hr6BUMAAzZgT.jpg   \n",
       "2071  891689557279858688    https://pbs.twimg.com/media/DF_q7IAWsAEuuN8.jpg   \n",
       "2072  891815181378084864    https://pbs.twimg.com/media/DGBdLU1WsAANxJ9.jpg   \n",
       "2073  892177421306343426    https://pbs.twimg.com/media/DGGmoV4XsAAUL6n.jpg   \n",
       "2074  892420643555336193    https://pbs.twimg.com/media/DGKD1-bXoAAIAUK.jpg   \n",
       "\n",
       "      img_num                        p1   p1_conf  p1_dog  \\\n",
       "2055        2                  Pembroke  0.809197    True   \n",
       "2056        3            Siberian_husky  0.700377    True   \n",
       "2057        1          golden_retriever  0.469760    True   \n",
       "2058        1          golden_retriever  0.714719    True   \n",
       "2059        1                   whippet  0.626152    True   \n",
       "2060        1          golden_retriever  0.953442    True   \n",
       "2061        1            French_bulldog  0.991650    True   \n",
       "2062        1                  Pembroke  0.966327    True   \n",
       "2063        1            French_bulldog  0.377417    True   \n",
       "2064        1                   Samoyed  0.957979    True   \n",
       "2065        1                  Pembroke  0.511319    True   \n",
       "2066        1             Irish_terrier  0.487574    True   \n",
       "2067        2                Pomeranian  0.566142    True   \n",
       "2068        1               Appenzeller  0.341703    True   \n",
       "2069        1  Chesapeake_Bay_retriever  0.425595    True   \n",
       "2070        2                    basset  0.555712    True   \n",
       "2071        1               paper_towel  0.170278   False   \n",
       "2072        1                 Chihuahua  0.716012    True   \n",
       "2073        1                 Chihuahua  0.323581    True   \n",
       "2074        1                    orange  0.097049   False   \n",
       "\n",
       "                       p2   p2_conf  p2_dog                           p3  \\\n",
       "2055  Rhodesian_ridgeback  0.054950    True                       beagle   \n",
       "2056           Eskimo_dog  0.166511    True                     malamute   \n",
       "2057   Labrador_retriever  0.184172    True               English_setter   \n",
       "2058      Tibetan_mastiff  0.120184    True           Labrador_retriever   \n",
       "2059               borzoi  0.194742    True                       Saluki   \n",
       "2060   Labrador_retriever  0.013834    True                      redbone   \n",
       "2061                boxer  0.002129    True    Staffordshire_bullterrier   \n",
       "2062             Cardigan  0.027356    True                      basenji   \n",
       "2063   Labrador_retriever  0.151317    True                       muzzle   \n",
       "2064           Pomeranian  0.013884    True                         chow   \n",
       "2065             Cardigan  0.451038    True                    Chihuahua   \n",
       "2066         Irish_setter  0.193054    True     Chesapeake_Bay_retriever   \n",
       "2067           Eskimo_dog  0.178406    True                     Pembroke   \n",
       "2068        Border_collie  0.199287    True                    ice_lolly   \n",
       "2069        Irish_terrier  0.116317    True              Indian_elephant   \n",
       "2070     English_springer  0.225770    True  German_short-haired_pointer   \n",
       "2071   Labrador_retriever  0.168086    True                      spatula   \n",
       "2072             malamute  0.078253    True                       kelpie   \n",
       "2073             Pekinese  0.090647    True                     papillon   \n",
       "2074                bagel  0.085851   False                       banana   \n",
       "\n",
       "       p3_conf  p3_dog  \n",
       "2055  0.038915    True  \n",
       "2056  0.111411    True  \n",
       "2057  0.073482    True  \n",
       "2058  0.105506    True  \n",
       "2059  0.027351    True  \n",
       "2060  0.007958    True  \n",
       "2061  0.001498    True  \n",
       "2062  0.004633    True  \n",
       "2063  0.082981   False  \n",
       "2064  0.008167    True  \n",
       "2065  0.029248    True  \n",
       "2066  0.118184    True  \n",
       "2067  0.076507    True  \n",
       "2068  0.193548   False  \n",
       "2069  0.076902   False  \n",
       "2070  0.175219    True  \n",
       "2071  0.040836   False  \n",
       "2072  0.031379    True  \n",
       "2073  0.068957    True  \n",
       "2074  0.076110   False  "
      ],
      "text/html": "<div>\n<style scoped>\n    .dataframe tbody tr th:only-of-type {\n        vertical-align: middle;\n    }\n\n    .dataframe tbody tr th {\n        vertical-align: top;\n    }\n\n    .dataframe thead th {\n        text-align: right;\n    }\n</style>\n<table border=\"1\" class=\"dataframe\">\n  <thead>\n    <tr style=\"text-align: right;\">\n      <th></th>\n      <th>tweet_id</th>\n      <th>jpg_url</th>\n      <th>img_num</th>\n      <th>p1</th>\n      <th>p1_conf</th>\n      <th>p1_dog</th>\n      <th>p2</th>\n      <th>p2_conf</th>\n      <th>p2_dog</th>\n      <th>p3</th>\n      <th>p3_conf</th>\n      <th>p3_dog</th>\n    </tr>\n  </thead>\n  <tbody>\n    <tr>\n      <th>2055</th>\n      <td>888202515573088257</td>\n      <td>https://pbs.twimg.com/media/DFDw2tyUQAAAFke.jpg</td>\n      <td>2</td>\n      <td>Pembroke</td>\n      <td>0.809197</td>\n      <td>True</td>\n      <td>Rhodesian_ridgeback</td>\n      <td>0.054950</td>\n      <td>True</td>\n      <td>beagle</td>\n      <td>0.038915</td>\n      <td>True</td>\n    </tr>\n    <tr>\n      <th>2056</th>\n      <td>888554962724278272</td>\n      <td>https://pbs.twimg.com/media/DFTH_O-UQAACu20.jpg</td>\n      <td>3</td>\n      <td>Siberian_husky</td>\n      <td>0.700377</td>\n      <td>True</td>\n      <td>Eskimo_dog</td>\n      <td>0.166511</td>\n      <td>True</td>\n      <td>malamute</td>\n      <td>0.111411</td>\n      <td>True</td>\n    </tr>\n    <tr>\n      <th>2057</th>\n      <td>888804989199671297</td>\n      <td>https://pbs.twimg.com/media/DFWra-3VYAA2piG.jpg</td>\n      <td>1</td>\n      <td>golden_retriever</td>\n      <td>0.469760</td>\n      <td>True</td>\n      <td>Labrador_retriever</td>\n      <td>0.184172</td>\n      <td>True</td>\n      <td>English_setter</td>\n      <td>0.073482</td>\n      <td>True</td>\n    </tr>\n    <tr>\n      <th>2058</th>\n      <td>888917238123831296</td>\n      <td>https://pbs.twimg.com/media/DFYRgsOUQAARGhO.jpg</td>\n      <td>1</td>\n      <td>golden_retriever</td>\n      <td>0.714719</td>\n      <td>True</td>\n      <td>Tibetan_mastiff</td>\n      <td>0.120184</td>\n      <td>True</td>\n      <td>Labrador_retriever</td>\n      <td>0.105506</td>\n      <td>True</td>\n    </tr>\n    <tr>\n      <th>2059</th>\n      <td>889278841981685760</td>\n      <td>https://pbs.twimg.com/ext_tw_video_thumb/88927...</td>\n      <td>1</td>\n      <td>whippet</td>\n      <td>0.626152</td>\n      <td>True</td>\n      <td>borzoi</td>\n      <td>0.194742</td>\n      <td>True</td>\n      <td>Saluki</td>\n      <td>0.027351</td>\n      <td>True</td>\n    </tr>\n    <tr>\n      <th>2060</th>\n      <td>889531135344209921</td>\n      <td>https://pbs.twimg.com/media/DFg_2PVW0AEHN3p.jpg</td>\n      <td>1</td>\n      <td>golden_retriever</td>\n      <td>0.953442</td>\n      <td>True</td>\n      <td>Labrador_retriever</td>\n      <td>0.013834</td>\n      <td>True</td>\n      <td>redbone</td>\n      <td>0.007958</td>\n      <td>True</td>\n    </tr>\n    <tr>\n      <th>2061</th>\n      <td>889638837579907072</td>\n      <td>https://pbs.twimg.com/media/DFihzFfXsAYGDPR.jpg</td>\n      <td>1</td>\n      <td>French_bulldog</td>\n      <td>0.991650</td>\n      <td>True</td>\n      <td>boxer</td>\n      <td>0.002129</td>\n      <td>True</td>\n      <td>Staffordshire_bullterrier</td>\n      <td>0.001498</td>\n      <td>True</td>\n    </tr>\n    <tr>\n      <th>2062</th>\n      <td>889665388333682689</td>\n      <td>https://pbs.twimg.com/media/DFi579UWsAAatzw.jpg</td>\n      <td>1</td>\n      <td>Pembroke</td>\n      <td>0.966327</td>\n      <td>True</td>\n      <td>Cardigan</td>\n      <td>0.027356</td>\n      <td>True</td>\n      <td>basenji</td>\n      <td>0.004633</td>\n      <td>True</td>\n    </tr>\n    <tr>\n      <th>2063</th>\n      <td>889880896479866881</td>\n      <td>https://pbs.twimg.com/media/DFl99B1WsAITKsg.jpg</td>\n      <td>1</td>\n      <td>French_bulldog</td>\n      <td>0.377417</td>\n      <td>True</td>\n      <td>Labrador_retriever</td>\n      <td>0.151317</td>\n      <td>True</td>\n      <td>muzzle</td>\n      <td>0.082981</td>\n      <td>False</td>\n    </tr>\n    <tr>\n      <th>2064</th>\n      <td>890006608113172480</td>\n      <td>https://pbs.twimg.com/media/DFnwSY4WAAAMliS.jpg</td>\n      <td>1</td>\n      <td>Samoyed</td>\n      <td>0.957979</td>\n      <td>True</td>\n      <td>Pomeranian</td>\n      <td>0.013884</td>\n      <td>True</td>\n      <td>chow</td>\n      <td>0.008167</td>\n      <td>True</td>\n    </tr>\n    <tr>\n      <th>2065</th>\n      <td>890240255349198849</td>\n      <td>https://pbs.twimg.com/media/DFrEyVuW0AAO3t9.jpg</td>\n      <td>1</td>\n      <td>Pembroke</td>\n      <td>0.511319</td>\n      <td>True</td>\n      <td>Cardigan</td>\n      <td>0.451038</td>\n      <td>True</td>\n      <td>Chihuahua</td>\n      <td>0.029248</td>\n      <td>True</td>\n    </tr>\n    <tr>\n      <th>2066</th>\n      <td>890609185150312448</td>\n      <td>https://pbs.twimg.com/media/DFwUU__XcAEpyXI.jpg</td>\n      <td>1</td>\n      <td>Irish_terrier</td>\n      <td>0.487574</td>\n      <td>True</td>\n      <td>Irish_setter</td>\n      <td>0.193054</td>\n      <td>True</td>\n      <td>Chesapeake_Bay_retriever</td>\n      <td>0.118184</td>\n      <td>True</td>\n    </tr>\n    <tr>\n      <th>2067</th>\n      <td>890729181411237888</td>\n      <td>https://pbs.twimg.com/media/DFyBahAVwAAhUTd.jpg</td>\n      <td>2</td>\n      <td>Pomeranian</td>\n      <td>0.566142</td>\n      <td>True</td>\n      <td>Eskimo_dog</td>\n      <td>0.178406</td>\n      <td>True</td>\n      <td>Pembroke</td>\n      <td>0.076507</td>\n      <td>True</td>\n    </tr>\n    <tr>\n      <th>2068</th>\n      <td>890971913173991426</td>\n      <td>https://pbs.twimg.com/media/DF1eOmZXUAALUcq.jpg</td>\n      <td>1</td>\n      <td>Appenzeller</td>\n      <td>0.341703</td>\n      <td>True</td>\n      <td>Border_collie</td>\n      <td>0.199287</td>\n      <td>True</td>\n      <td>ice_lolly</td>\n      <td>0.193548</td>\n      <td>False</td>\n    </tr>\n    <tr>\n      <th>2069</th>\n      <td>891087950875897856</td>\n      <td>https://pbs.twimg.com/media/DF3HwyEWsAABqE6.jpg</td>\n      <td>1</td>\n      <td>Chesapeake_Bay_retriever</td>\n      <td>0.425595</td>\n      <td>True</td>\n      <td>Irish_terrier</td>\n      <td>0.116317</td>\n      <td>True</td>\n      <td>Indian_elephant</td>\n      <td>0.076902</td>\n      <td>False</td>\n    </tr>\n    <tr>\n      <th>2070</th>\n      <td>891327558926688256</td>\n      <td>https://pbs.twimg.com/media/DF6hr6BUMAAzZgT.jpg</td>\n      <td>2</td>\n      <td>basset</td>\n      <td>0.555712</td>\n      <td>True</td>\n      <td>English_springer</td>\n      <td>0.225770</td>\n      <td>True</td>\n      <td>German_short-haired_pointer</td>\n      <td>0.175219</td>\n      <td>True</td>\n    </tr>\n    <tr>\n      <th>2071</th>\n      <td>891689557279858688</td>\n      <td>https://pbs.twimg.com/media/DF_q7IAWsAEuuN8.jpg</td>\n      <td>1</td>\n      <td>paper_towel</td>\n      <td>0.170278</td>\n      <td>False</td>\n      <td>Labrador_retriever</td>\n      <td>0.168086</td>\n      <td>True</td>\n      <td>spatula</td>\n      <td>0.040836</td>\n      <td>False</td>\n    </tr>\n    <tr>\n      <th>2072</th>\n      <td>891815181378084864</td>\n      <td>https://pbs.twimg.com/media/DGBdLU1WsAANxJ9.jpg</td>\n      <td>1</td>\n      <td>Chihuahua</td>\n      <td>0.716012</td>\n      <td>True</td>\n      <td>malamute</td>\n      <td>0.078253</td>\n      <td>True</td>\n      <td>kelpie</td>\n      <td>0.031379</td>\n      <td>True</td>\n    </tr>\n    <tr>\n      <th>2073</th>\n      <td>892177421306343426</td>\n      <td>https://pbs.twimg.com/media/DGGmoV4XsAAUL6n.jpg</td>\n      <td>1</td>\n      <td>Chihuahua</td>\n      <td>0.323581</td>\n      <td>True</td>\n      <td>Pekinese</td>\n      <td>0.090647</td>\n      <td>True</td>\n      <td>papillon</td>\n      <td>0.068957</td>\n      <td>True</td>\n    </tr>\n    <tr>\n      <th>2074</th>\n      <td>892420643555336193</td>\n      <td>https://pbs.twimg.com/media/DGKD1-bXoAAIAUK.jpg</td>\n      <td>1</td>\n      <td>orange</td>\n      <td>0.097049</td>\n      <td>False</td>\n      <td>bagel</td>\n      <td>0.085851</td>\n      <td>False</td>\n      <td>banana</td>\n      <td>0.076110</td>\n      <td>False</td>\n    </tr>\n  </tbody>\n</table>\n</div>"
     },
     "metadata": {},
     "execution_count": 141
    }
   ],
   "source": [
    "# assess df_image_predications visually \n",
    "df_image_predictions.tail(20)"
   ]
  },
  {
   "cell_type": "code",
   "execution_count": 142,
   "metadata": {},
   "outputs": [
    {
     "output_type": "execute_result",
     "data": {
      "text/plain": [
       "(2075, 12)"
      ]
     },
     "metadata": {},
     "execution_count": 142
    }
   ],
   "source": [
    "# assess df_image_predications's shape\n",
    "df_image_predictions.shape"
   ]
  },
  {
   "cell_type": "code",
   "execution_count": 143,
   "metadata": {},
   "outputs": [
    {
     "output_type": "execute_result",
     "data": {
      "text/plain": [
       "tweet_id      int64\n",
       "jpg_url      object\n",
       "img_num       int64\n",
       "p1           object\n",
       "p1_conf     float64\n",
       "p1_dog         bool\n",
       "p2           object\n",
       "p2_conf     float64\n",
       "p2_dog         bool\n",
       "p3           object\n",
       "p3_conf     float64\n",
       "p3_dog         bool\n",
       "dtype: object"
      ]
     },
     "metadata": {},
     "execution_count": 143
    }
   ],
   "source": [
    "# assess df_image_predications's datatypes\n",
    "df_image_predictions.dtypes"
   ]
  },
  {
   "cell_type": "code",
   "execution_count": 144,
   "metadata": {},
   "outputs": [
    {
     "output_type": "execute_result",
     "data": {
      "text/plain": [
       "           tweet_id      img_num      p1_conf       p2_conf       p3_conf\n",
       "count  2.075000e+03  2075.000000  2075.000000  2.075000e+03  2.075000e+03\n",
       "mean   7.384514e+17     1.203855     0.594548  1.345886e-01  6.032417e-02\n",
       "std    6.785203e+16     0.561875     0.271174  1.006657e-01  5.090593e-02\n",
       "min    6.660209e+17     1.000000     0.044333  1.011300e-08  1.740170e-10\n",
       "25%    6.764835e+17     1.000000     0.364412  5.388625e-02  1.622240e-02\n",
       "50%    7.119988e+17     1.000000     0.588230  1.181810e-01  4.944380e-02\n",
       "75%    7.932034e+17     1.000000     0.843855  1.955655e-01  9.180755e-02\n",
       "max    8.924206e+17     4.000000     1.000000  4.880140e-01  2.734190e-01"
      ],
      "text/html": "<div>\n<style scoped>\n    .dataframe tbody tr th:only-of-type {\n        vertical-align: middle;\n    }\n\n    .dataframe tbody tr th {\n        vertical-align: top;\n    }\n\n    .dataframe thead th {\n        text-align: right;\n    }\n</style>\n<table border=\"1\" class=\"dataframe\">\n  <thead>\n    <tr style=\"text-align: right;\">\n      <th></th>\n      <th>tweet_id</th>\n      <th>img_num</th>\n      <th>p1_conf</th>\n      <th>p2_conf</th>\n      <th>p3_conf</th>\n    </tr>\n  </thead>\n  <tbody>\n    <tr>\n      <th>count</th>\n      <td>2.075000e+03</td>\n      <td>2075.000000</td>\n      <td>2075.000000</td>\n      <td>2.075000e+03</td>\n      <td>2.075000e+03</td>\n    </tr>\n    <tr>\n      <th>mean</th>\n      <td>7.384514e+17</td>\n      <td>1.203855</td>\n      <td>0.594548</td>\n      <td>1.345886e-01</td>\n      <td>6.032417e-02</td>\n    </tr>\n    <tr>\n      <th>std</th>\n      <td>6.785203e+16</td>\n      <td>0.561875</td>\n      <td>0.271174</td>\n      <td>1.006657e-01</td>\n      <td>5.090593e-02</td>\n    </tr>\n    <tr>\n      <th>min</th>\n      <td>6.660209e+17</td>\n      <td>1.000000</td>\n      <td>0.044333</td>\n      <td>1.011300e-08</td>\n      <td>1.740170e-10</td>\n    </tr>\n    <tr>\n      <th>25%</th>\n      <td>6.764835e+17</td>\n      <td>1.000000</td>\n      <td>0.364412</td>\n      <td>5.388625e-02</td>\n      <td>1.622240e-02</td>\n    </tr>\n    <tr>\n      <th>50%</th>\n      <td>7.119988e+17</td>\n      <td>1.000000</td>\n      <td>0.588230</td>\n      <td>1.181810e-01</td>\n      <td>4.944380e-02</td>\n    </tr>\n    <tr>\n      <th>75%</th>\n      <td>7.932034e+17</td>\n      <td>1.000000</td>\n      <td>0.843855</td>\n      <td>1.955655e-01</td>\n      <td>9.180755e-02</td>\n    </tr>\n    <tr>\n      <th>max</th>\n      <td>8.924206e+17</td>\n      <td>4.000000</td>\n      <td>1.000000</td>\n      <td>4.880140e-01</td>\n      <td>2.734190e-01</td>\n    </tr>\n  </tbody>\n</table>\n</div>"
     },
     "metadata": {},
     "execution_count": 144
    }
   ],
   "source": [
    "# assess df_image_predications's statistics\n",
    "df_image_predictions.describe()"
   ]
  },
  {
   "cell_type": "code",
   "execution_count": 145,
   "metadata": {},
   "outputs": [
    {
     "output_type": "execute_result",
     "data": {
      "text/plain": [
       "0"
      ]
     },
     "metadata": {},
     "execution_count": 145
    }
   ],
   "source": [
    "# assess df_image_predications's duplicated values\n",
    "df_image_predictions.duplicated().sum()"
   ]
  },
  {
   "cell_type": "code",
   "execution_count": 146,
   "metadata": {},
   "outputs": [
    {
     "output_type": "execute_result",
     "data": {
      "text/plain": [
       "tweet_id    0\n",
       "jpg_url     0\n",
       "img_num     0\n",
       "p1          0\n",
       "p1_conf     0\n",
       "p1_dog      0\n",
       "p2          0\n",
       "p2_conf     0\n",
       "p2_dog      0\n",
       "p3          0\n",
       "p3_conf     0\n",
       "p3_dog      0\n",
       "dtype: int64"
      ]
     },
     "metadata": {},
     "execution_count": 146
    }
   ],
   "source": [
    "# assess df_image_predications's null values\n",
    "df_image_predictions.isnull().sum()"
   ]
  },
  {
   "cell_type": "markdown",
   "metadata": {},
   "source": [
    "## Summary of Assesment"
   ]
  },
  {
   "cell_type": "markdown",
   "metadata": {},
   "source": [
    "### Quality Issues\n",
    "\n",
    "*Archived data set*\n",
    "- `timestamp` column is in string format, it should be datetime\n",
    "- `in_reply_to_status_id`, `in_reply_to_user_id`, `retweeted_status_id` and `retweeted_status_user_id` are float type, they should be string\n",
    "- `tweet_id` is an integer format, should be string\n",
    "- `source` column's values include html code which is not needed, only need url\n",
    "- `rate_numerator` and `rate_denominator` should be in one column and without decimals\n",
    "- Some dog names start with  lowercase and are not dog names. These need to be removed.\n",
    "- Remove retweets(as per Key Points)\n",
    "\n",
    "\n",
    "*Image predictions data set*\n",
    "- p1, p2, p3 names columns are not consistent in upper or lower case (should all be lowercase)\n",
    "- `tweet_id` is an integer format, should be string\n",
    "\n",
    "*Tweets data set*\n",
    "- `tweet_id` is an integer format, should be string\n",
    "- Retweet and Favorite: `retweet_count` and `favorite_count` should be integers, not floats. There is no such thing as half of a retweet or favorite.\n",
    "- Remove retweets(as per Key Points)\n",
    "\n",
    "### Tidiness issues\n",
    "\n",
    "- doggo, floofer, puppo, pupper should not be separate columns but one column and it should state what category the dog is in\n",
    "- need to combine datasets to a master dataset for analysing: `df_archived`, `df_tweets`, `df_image_predictions`\n",
    "- removing all non relevant columns from the master dataset\n"
   ]
  },
  {
   "cell_type": "markdown",
   "metadata": {},
   "source": [
    "# Cleaning data"
   ]
  },
  {
   "cell_type": "markdown",
   "metadata": {},
   "source": [
    "### Quality issues"
   ]
  },
  {
   "cell_type": "markdown",
   "metadata": {},
   "source": [
    "*Archived data set*"
   ]
  },
  {
   "cell_type": "markdown",
   "metadata": {},
   "source": [
    "### Define \n",
    "**1. `timestamp` field is in string format, it should be datetime**\n",
    "\n",
    "Action: convert timestamp field into datetime"
   ]
  },
  {
   "source": [
    "### Code"
   ],
   "cell_type": "markdown",
   "metadata": {}
  },
  {
   "cell_type": "code",
   "execution_count": 147,
   "metadata": {},
   "outputs": [],
   "source": [
    "# convert timestamp field into datetime\n",
    "df_archive['timestamp'] = pd.to_datetime(df_archive['timestamp'])"
   ]
  },
  {
   "source": [
    "### Test"
   ],
   "cell_type": "markdown",
   "metadata": {}
  },
  {
   "cell_type": "code",
   "execution_count": 148,
   "metadata": {},
   "outputs": [
    {
     "output_type": "execute_result",
     "data": {
      "text/plain": [
       "tweet_id                                    int64\n",
       "in_reply_to_status_id                     float64\n",
       "in_reply_to_user_id                       float64\n",
       "timestamp                     datetime64[ns, UTC]\n",
       "source                                     object\n",
       "text                                       object\n",
       "retweeted_status_id                       float64\n",
       "retweeted_status_user_id                  float64\n",
       "retweeted_status_timestamp                 object\n",
       "expanded_urls                              object\n",
       "rating_numerator                            int64\n",
       "rating_denominator                          int64\n",
       "name                                       object\n",
       "doggo                                      object\n",
       "floofer                                    object\n",
       "pupper                                     object\n",
       "puppo                                      object\n",
       "dtype: object"
      ]
     },
     "metadata": {},
     "execution_count": 148
    }
   ],
   "source": [
    "# test\n",
    "df_archive.dtypes"
   ]
  },
  {
   "cell_type": "markdown",
   "metadata": {},
   "source": [
    "### Define\n",
    "**2.`in_reply_to_status_id`, `in_reply_to_user_id`, `retweeted_status_id` and `retweeted_status_user_id` are float type, they should be string**\n",
    "\n",
    "Action: convert these columns values into string(object)"
   ]
  },
  {
   "source": [
    "### Code"
   ],
   "cell_type": "markdown",
   "metadata": {}
  },
  {
   "cell_type": "code",
   "execution_count": 149,
   "metadata": {},
   "outputs": [],
   "source": [
    "# convert these columns values into string(object)\n",
    "df_archive['in_reply_to_status_id'] = df_archive['in_reply_to_status_id'].astype(str)"
   ]
  },
  {
   "cell_type": "code",
   "execution_count": 150,
   "metadata": {},
   "outputs": [],
   "source": [
    "# convert these columns values into string(object)\n",
    "df_archive['in_reply_to_user_id'] = df_archive['in_reply_to_user_id'].astype(str)"
   ]
  },
  {
   "cell_type": "code",
   "execution_count": 151,
   "metadata": {},
   "outputs": [],
   "source": [
    "# convert these columns values into string(object)\n",
    "df_archive['retweeted_status_id'] = df_archive['retweeted_status_id'].astype(str)"
   ]
  },
  {
   "cell_type": "code",
   "execution_count": 152,
   "metadata": {},
   "outputs": [],
   "source": [
    "# convert these columns values into string(object)\n",
    "df_archive['retweeted_status_user_id'] = df_archive['retweeted_status_user_id'].astype(str)"
   ]
  },
  {
   "source": [
    "### Test"
   ],
   "cell_type": "markdown",
   "metadata": {}
  },
  {
   "cell_type": "code",
   "execution_count": 153,
   "metadata": {},
   "outputs": [
    {
     "output_type": "execute_result",
     "data": {
      "text/plain": [
       "tweet_id                                    int64\n",
       "in_reply_to_status_id                      object\n",
       "in_reply_to_user_id                        object\n",
       "timestamp                     datetime64[ns, UTC]\n",
       "source                                     object\n",
       "text                                       object\n",
       "retweeted_status_id                        object\n",
       "retweeted_status_user_id                   object\n",
       "retweeted_status_timestamp                 object\n",
       "expanded_urls                              object\n",
       "rating_numerator                            int64\n",
       "rating_denominator                          int64\n",
       "name                                       object\n",
       "doggo                                      object\n",
       "floofer                                    object\n",
       "pupper                                     object\n",
       "puppo                                      object\n",
       "dtype: object"
      ]
     },
     "metadata": {},
     "execution_count": 153
    }
   ],
   "source": [
    "# test\n",
    "df_archive.dtypes"
   ]
  },
  {
   "cell_type": "code",
   "execution_count": null,
   "metadata": {},
   "outputs": [],
   "source": []
  },
  {
   "cell_type": "markdown",
   "metadata": {},
   "source": [
    "### Define\n",
    "**3.`tweet_id` is an integer format, should be string**\n",
    "\n",
    "Action: convert tweet_id values to string(object)"
   ]
  },
  {
   "source": [
    "### Code"
   ],
   "cell_type": "markdown",
   "metadata": {}
  },
  {
   "cell_type": "code",
   "execution_count": 154,
   "metadata": {},
   "outputs": [],
   "source": [
    "# convert tweet_id values to string(object)\n",
    "df_archive['tweet_id'] = df_archive['tweet_id'].astype(str)"
   ]
  },
  {
   "source": [
    "### Test"
   ],
   "cell_type": "markdown",
   "metadata": {}
  },
  {
   "cell_type": "code",
   "execution_count": 155,
   "metadata": {},
   "outputs": [
    {
     "output_type": "execute_result",
     "data": {
      "text/plain": [
       "tweet_id                                   object\n",
       "in_reply_to_status_id                      object\n",
       "in_reply_to_user_id                        object\n",
       "timestamp                     datetime64[ns, UTC]\n",
       "source                                     object\n",
       "text                                       object\n",
       "retweeted_status_id                        object\n",
       "retweeted_status_user_id                   object\n",
       "retweeted_status_timestamp                 object\n",
       "expanded_urls                              object\n",
       "rating_numerator                            int64\n",
       "rating_denominator                          int64\n",
       "name                                       object\n",
       "doggo                                      object\n",
       "floofer                                    object\n",
       "pupper                                     object\n",
       "puppo                                      object\n",
       "dtype: object"
      ]
     },
     "metadata": {},
     "execution_count": 155
    }
   ],
   "source": [
    "#test\n",
    "df_archive.dtypes"
   ]
  },
  {
   "cell_type": "markdown",
   "metadata": {},
   "source": [
    "### Define\n",
    "**3. `source` column's values include html code which is not needed, only need url**\n",
    "\n",
    "Action: extract not needed strings"
   ]
  },
  {
   "source": [
    "### Code"
   ],
   "cell_type": "markdown",
   "metadata": {}
  },
  {
   "cell_type": "code",
   "execution_count": 156,
   "metadata": {},
   "outputs": [],
   "source": [
    "# replace strings not needed \n",
    "df_archive['source'] = df_archive['source'].str.replace('<a href=\"','')\n",
    "df_archive['source'] = df_archive['source'].str.replace('\" rel=\"nofollow\">Twitter for iPhone</a>','')\n"
   ]
  },
  {
   "source": [
    "### Test"
   ],
   "cell_type": "markdown",
   "metadata": {}
  },
  {
   "cell_type": "code",
   "execution_count": 157,
   "metadata": {},
   "outputs": [
    {
     "output_type": "execute_result",
     "data": {
      "text/plain": [
       "             tweet_id in_reply_to_status_id in_reply_to_user_id  \\\n",
       "0  892420643555336193                   nan                 nan   \n",
       "1  892177421306343426                   nan                 nan   \n",
       "2  891815181378084864                   nan                 nan   \n",
       "3  891689557279858688                   nan                 nan   \n",
       "4  891327558926688256                   nan                 nan   \n",
       "\n",
       "                  timestamp                              source  \\\n",
       "0 2017-08-01 16:23:56+00:00  http://twitter.com/download/iphone   \n",
       "1 2017-08-01 00:17:27+00:00  http://twitter.com/download/iphone   \n",
       "2 2017-07-31 00:18:03+00:00  http://twitter.com/download/iphone   \n",
       "3 2017-07-30 15:58:51+00:00  http://twitter.com/download/iphone   \n",
       "4 2017-07-29 16:00:24+00:00  http://twitter.com/download/iphone   \n",
       "\n",
       "                                                                                                                                                                 text  \\\n",
       "0                                                       This is Phineas. He's a mystical boy. Only ever appears in the hole of a donut. 13/10 https://t.co/MgUWQ76dJU   \n",
       "1  This is Tilly. She's just checking pup on you. Hopes you're doing ok. If not, she's available for pats, snugs, boops, the whole bit. 13/10 https://t.co/0Xxu71qeIV   \n",
       "2                   This is Archie. He is a rare Norwegian Pouncing Corgo. Lives in the tall grass. You never know when one may strike. 12/10 https://t.co/wUnZnhtVJB   \n",
       "3                                                             This is Darla. She commenced a snooze mid meal. 13/10 happens to the best of us https://t.co/tD36da7qLQ   \n",
       "4  This is Franklin. He would like you to stop calling him \"cute.\" He is a very fierce shark and should be respected as such. 12/10 #BarkWeek https://t.co/AtUZn91f7f   \n",
       "\n",
       "  retweeted_status_id retweeted_status_user_id retweeted_status_timestamp  \\\n",
       "0                 nan                      nan                        NaN   \n",
       "1                 nan                      nan                        NaN   \n",
       "2                 nan                      nan                        NaN   \n",
       "3                 nan                      nan                        NaN   \n",
       "4                 nan                      nan                        NaN   \n",
       "\n",
       "                                                                                                                     expanded_urls  \\\n",
       "0                                                                  https://twitter.com/dog_rates/status/892420643555336193/photo/1   \n",
       "1                                                                  https://twitter.com/dog_rates/status/892177421306343426/photo/1   \n",
       "2                                                                  https://twitter.com/dog_rates/status/891815181378084864/photo/1   \n",
       "3                                                                  https://twitter.com/dog_rates/status/891689557279858688/photo/1   \n",
       "4  https://twitter.com/dog_rates/status/891327558926688256/photo/1,https://twitter.com/dog_rates/status/891327558926688256/photo/1   \n",
       "\n",
       "   rating_numerator  rating_denominator      name doggo floofer pupper puppo  \n",
       "0                13                  10   Phineas  None    None   None  None  \n",
       "1                13                  10     Tilly  None    None   None  None  \n",
       "2                12                  10    Archie  None    None   None  None  \n",
       "3                13                  10     Darla  None    None   None  None  \n",
       "4                12                  10  Franklin  None    None   None  None  "
      ],
      "text/html": "<div>\n<style scoped>\n    .dataframe tbody tr th:only-of-type {\n        vertical-align: middle;\n    }\n\n    .dataframe tbody tr th {\n        vertical-align: top;\n    }\n\n    .dataframe thead th {\n        text-align: right;\n    }\n</style>\n<table border=\"1\" class=\"dataframe\">\n  <thead>\n    <tr style=\"text-align: right;\">\n      <th></th>\n      <th>tweet_id</th>\n      <th>in_reply_to_status_id</th>\n      <th>in_reply_to_user_id</th>\n      <th>timestamp</th>\n      <th>source</th>\n      <th>text</th>\n      <th>retweeted_status_id</th>\n      <th>retweeted_status_user_id</th>\n      <th>retweeted_status_timestamp</th>\n      <th>expanded_urls</th>\n      <th>rating_numerator</th>\n      <th>rating_denominator</th>\n      <th>name</th>\n      <th>doggo</th>\n      <th>floofer</th>\n      <th>pupper</th>\n      <th>puppo</th>\n    </tr>\n  </thead>\n  <tbody>\n    <tr>\n      <th>0</th>\n      <td>892420643555336193</td>\n      <td>nan</td>\n      <td>nan</td>\n      <td>2017-08-01 16:23:56+00:00</td>\n      <td>http://twitter.com/download/iphone</td>\n      <td>This is Phineas. He's a mystical boy. Only ever appears in the hole of a donut. 13/10 https://t.co/MgUWQ76dJU</td>\n      <td>nan</td>\n      <td>nan</td>\n      <td>NaN</td>\n      <td>https://twitter.com/dog_rates/status/892420643555336193/photo/1</td>\n      <td>13</td>\n      <td>10</td>\n      <td>Phineas</td>\n      <td>None</td>\n      <td>None</td>\n      <td>None</td>\n      <td>None</td>\n    </tr>\n    <tr>\n      <th>1</th>\n      <td>892177421306343426</td>\n      <td>nan</td>\n      <td>nan</td>\n      <td>2017-08-01 00:17:27+00:00</td>\n      <td>http://twitter.com/download/iphone</td>\n      <td>This is Tilly. She's just checking pup on you. Hopes you're doing ok. If not, she's available for pats, snugs, boops, the whole bit. 13/10 https://t.co/0Xxu71qeIV</td>\n      <td>nan</td>\n      <td>nan</td>\n      <td>NaN</td>\n      <td>https://twitter.com/dog_rates/status/892177421306343426/photo/1</td>\n      <td>13</td>\n      <td>10</td>\n      <td>Tilly</td>\n      <td>None</td>\n      <td>None</td>\n      <td>None</td>\n      <td>None</td>\n    </tr>\n    <tr>\n      <th>2</th>\n      <td>891815181378084864</td>\n      <td>nan</td>\n      <td>nan</td>\n      <td>2017-07-31 00:18:03+00:00</td>\n      <td>http://twitter.com/download/iphone</td>\n      <td>This is Archie. He is a rare Norwegian Pouncing Corgo. Lives in the tall grass. You never know when one may strike. 12/10 https://t.co/wUnZnhtVJB</td>\n      <td>nan</td>\n      <td>nan</td>\n      <td>NaN</td>\n      <td>https://twitter.com/dog_rates/status/891815181378084864/photo/1</td>\n      <td>12</td>\n      <td>10</td>\n      <td>Archie</td>\n      <td>None</td>\n      <td>None</td>\n      <td>None</td>\n      <td>None</td>\n    </tr>\n    <tr>\n      <th>3</th>\n      <td>891689557279858688</td>\n      <td>nan</td>\n      <td>nan</td>\n      <td>2017-07-30 15:58:51+00:00</td>\n      <td>http://twitter.com/download/iphone</td>\n      <td>This is Darla. She commenced a snooze mid meal. 13/10 happens to the best of us https://t.co/tD36da7qLQ</td>\n      <td>nan</td>\n      <td>nan</td>\n      <td>NaN</td>\n      <td>https://twitter.com/dog_rates/status/891689557279858688/photo/1</td>\n      <td>13</td>\n      <td>10</td>\n      <td>Darla</td>\n      <td>None</td>\n      <td>None</td>\n      <td>None</td>\n      <td>None</td>\n    </tr>\n    <tr>\n      <th>4</th>\n      <td>891327558926688256</td>\n      <td>nan</td>\n      <td>nan</td>\n      <td>2017-07-29 16:00:24+00:00</td>\n      <td>http://twitter.com/download/iphone</td>\n      <td>This is Franklin. He would like you to stop calling him \"cute.\" He is a very fierce shark and should be respected as such. 12/10 #BarkWeek https://t.co/AtUZn91f7f</td>\n      <td>nan</td>\n      <td>nan</td>\n      <td>NaN</td>\n      <td>https://twitter.com/dog_rates/status/891327558926688256/photo/1,https://twitter.com/dog_rates/status/891327558926688256/photo/1</td>\n      <td>12</td>\n      <td>10</td>\n      <td>Franklin</td>\n      <td>None</td>\n      <td>None</td>\n      <td>None</td>\n      <td>None</td>\n    </tr>\n  </tbody>\n</table>\n</div>"
     },
     "metadata": {},
     "execution_count": 157
    }
   ],
   "source": [
    "# test\n",
    "pd.set_option('display.max_colwidth', None)\n",
    "\n",
    "df_archive.head()"
   ]
  },
  {
   "cell_type": "markdown",
   "metadata": {},
   "source": [
    "### Define\n",
    "**4. - `rate_numerator` and `rate_denominator` should be in one column**\n",
    "\n",
    "Action: melt the two columns's values with a slash in between"
   ]
  },
  {
   "source": [
    "### Code"
   ],
   "cell_type": "markdown",
   "metadata": {}
  },
  {
   "cell_type": "code",
   "execution_count": 158,
   "metadata": {},
   "outputs": [],
   "source": [
    "# convert them to str\n",
    "df_archive['rating_numerator'] = df_archive['rating_numerator'].astype(str)\n",
    "df_archive['rating_denominator'] = df_archive['rating_denominator'].astype(str)"
   ]
  },
  {
   "cell_type": "code",
   "execution_count": 159,
   "metadata": {},
   "outputs": [],
   "source": [
    "# aggregate \n",
    "df_archive['rating'] = df_archive[['rating_numerator', 'rating_denominator']].agg('/'.join, axis=1)\n"
   ]
  },
  {
   "source": [],
   "cell_type": "markdown",
   "metadata": {}
  },
  {
   "cell_type": "code",
   "execution_count": 160,
   "metadata": {
    "scrolled": true
   },
   "outputs": [
    {
     "output_type": "execute_result",
     "data": {
      "text/plain": [
       "                tweet_id in_reply_to_status_id in_reply_to_user_id  \\\n",
       "0     892420643555336193                   nan                 nan   \n",
       "1     892177421306343426                   nan                 nan   \n",
       "2     891815181378084864                   nan                 nan   \n",
       "3     891689557279858688                   nan                 nan   \n",
       "4     891327558926688256                   nan                 nan   \n",
       "...                  ...                   ...                 ...   \n",
       "2351  666049248165822465                   nan                 nan   \n",
       "2352  666044226329800704                   nan                 nan   \n",
       "2353  666033412701032449                   nan                 nan   \n",
       "2354  666029285002620928                   nan                 nan   \n",
       "2355  666020888022790149                   nan                 nan   \n",
       "\n",
       "                     timestamp                              source  \\\n",
       "0    2017-08-01 16:23:56+00:00  http://twitter.com/download/iphone   \n",
       "1    2017-08-01 00:17:27+00:00  http://twitter.com/download/iphone   \n",
       "2    2017-07-31 00:18:03+00:00  http://twitter.com/download/iphone   \n",
       "3    2017-07-30 15:58:51+00:00  http://twitter.com/download/iphone   \n",
       "4    2017-07-29 16:00:24+00:00  http://twitter.com/download/iphone   \n",
       "...                        ...                                 ...   \n",
       "2351 2015-11-16 00:24:50+00:00  http://twitter.com/download/iphone   \n",
       "2352 2015-11-16 00:04:52+00:00  http://twitter.com/download/iphone   \n",
       "2353 2015-11-15 23:21:54+00:00  http://twitter.com/download/iphone   \n",
       "2354 2015-11-15 23:05:30+00:00  http://twitter.com/download/iphone   \n",
       "2355 2015-11-15 22:32:08+00:00  http://twitter.com/download/iphone   \n",
       "\n",
       "                                                                                                                                                                    text  \\\n",
       "0                                                          This is Phineas. He's a mystical boy. Only ever appears in the hole of a donut. 13/10 https://t.co/MgUWQ76dJU   \n",
       "1     This is Tilly. She's just checking pup on you. Hopes you're doing ok. If not, she's available for pats, snugs, boops, the whole bit. 13/10 https://t.co/0Xxu71qeIV   \n",
       "2                      This is Archie. He is a rare Norwegian Pouncing Corgo. Lives in the tall grass. You never know when one may strike. 12/10 https://t.co/wUnZnhtVJB   \n",
       "3                                                                This is Darla. She commenced a snooze mid meal. 13/10 happens to the best of us https://t.co/tD36da7qLQ   \n",
       "4     This is Franklin. He would like you to stop calling him \"cute.\" He is a very fierce shark and should be respected as such. 12/10 #BarkWeek https://t.co/AtUZn91f7f   \n",
       "...                                                                                                                                                                  ...   \n",
       "2351                                            Here we have a 1949 1st generation vulpix. Enjoys sweat tea and Fox News. Cannot be phased. 5/10 https://t.co/4B7cOc1EDq   \n",
       "2352                           This is a purebred Piers Morgan. Loves to Netflix and chill. Always looks like he forgot to unplug the iron. 6/10 https://t.co/DWnyCjf2mx   \n",
       "2353                                  Here is a very happy pup. Big fan of well-maintained decks. Just look at that tongue. 9/10 would cuddle af https://t.co/y671yMhoiR   \n",
       "2354                         This is a western brown Mitsubishi terrier. Upset about leaf. Actually 2 dogs here. 7/10 would walk the shit out of https://t.co/r7mOb2m0UI   \n",
       "2355                                 Here we have a Japanese Irish Setter. Lost eye in Vietnam (?). Big fan of relaxing on stair. 8/10 would pet https://t.co/BLDqew2Ijj   \n",
       "\n",
       "     retweeted_status_id retweeted_status_user_id retweeted_status_timestamp  \\\n",
       "0                    nan                      nan                        NaN   \n",
       "1                    nan                      nan                        NaN   \n",
       "2                    nan                      nan                        NaN   \n",
       "3                    nan                      nan                        NaN   \n",
       "4                    nan                      nan                        NaN   \n",
       "...                  ...                      ...                        ...   \n",
       "2351                 nan                      nan                        NaN   \n",
       "2352                 nan                      nan                        NaN   \n",
       "2353                 nan                      nan                        NaN   \n",
       "2354                 nan                      nan                        NaN   \n",
       "2355                 nan                      nan                        NaN   \n",
       "\n",
       "                                                                                                                        expanded_urls  \\\n",
       "0                                                                     https://twitter.com/dog_rates/status/892420643555336193/photo/1   \n",
       "1                                                                     https://twitter.com/dog_rates/status/892177421306343426/photo/1   \n",
       "2                                                                     https://twitter.com/dog_rates/status/891815181378084864/photo/1   \n",
       "3                                                                     https://twitter.com/dog_rates/status/891689557279858688/photo/1   \n",
       "4     https://twitter.com/dog_rates/status/891327558926688256/photo/1,https://twitter.com/dog_rates/status/891327558926688256/photo/1   \n",
       "...                                                                                                                               ...   \n",
       "2351                                                                  https://twitter.com/dog_rates/status/666049248165822465/photo/1   \n",
       "2352                                                                  https://twitter.com/dog_rates/status/666044226329800704/photo/1   \n",
       "2353                                                                  https://twitter.com/dog_rates/status/666033412701032449/photo/1   \n",
       "2354                                                                  https://twitter.com/dog_rates/status/666029285002620928/photo/1   \n",
       "2355                                                                  https://twitter.com/dog_rates/status/666020888022790149/photo/1   \n",
       "\n",
       "     rating_numerator rating_denominator      name doggo floofer pupper puppo  \\\n",
       "0                  13                 10   Phineas  None    None   None  None   \n",
       "1                  13                 10     Tilly  None    None   None  None   \n",
       "2                  12                 10    Archie  None    None   None  None   \n",
       "3                  13                 10     Darla  None    None   None  None   \n",
       "4                  12                 10  Franklin  None    None   None  None   \n",
       "...               ...                ...       ...   ...     ...    ...   ...   \n",
       "2351                5                 10      None  None    None   None  None   \n",
       "2352                6                 10         a  None    None   None  None   \n",
       "2353                9                 10         a  None    None   None  None   \n",
       "2354                7                 10         a  None    None   None  None   \n",
       "2355                8                 10      None  None    None   None  None   \n",
       "\n",
       "     rating  \n",
       "0     13/10  \n",
       "1     13/10  \n",
       "2     12/10  \n",
       "3     13/10  \n",
       "4     12/10  \n",
       "...     ...  \n",
       "2351   5/10  \n",
       "2352   6/10  \n",
       "2353   9/10  \n",
       "2354   7/10  \n",
       "2355   8/10  \n",
       "\n",
       "[2356 rows x 18 columns]"
      ],
      "text/html": "<div>\n<style scoped>\n    .dataframe tbody tr th:only-of-type {\n        vertical-align: middle;\n    }\n\n    .dataframe tbody tr th {\n        vertical-align: top;\n    }\n\n    .dataframe thead th {\n        text-align: right;\n    }\n</style>\n<table border=\"1\" class=\"dataframe\">\n  <thead>\n    <tr style=\"text-align: right;\">\n      <th></th>\n      <th>tweet_id</th>\n      <th>in_reply_to_status_id</th>\n      <th>in_reply_to_user_id</th>\n      <th>timestamp</th>\n      <th>source</th>\n      <th>text</th>\n      <th>retweeted_status_id</th>\n      <th>retweeted_status_user_id</th>\n      <th>retweeted_status_timestamp</th>\n      <th>expanded_urls</th>\n      <th>rating_numerator</th>\n      <th>rating_denominator</th>\n      <th>name</th>\n      <th>doggo</th>\n      <th>floofer</th>\n      <th>pupper</th>\n      <th>puppo</th>\n      <th>rating</th>\n    </tr>\n  </thead>\n  <tbody>\n    <tr>\n      <th>0</th>\n      <td>892420643555336193</td>\n      <td>nan</td>\n      <td>nan</td>\n      <td>2017-08-01 16:23:56+00:00</td>\n      <td>http://twitter.com/download/iphone</td>\n      <td>This is Phineas. He's a mystical boy. Only ever appears in the hole of a donut. 13/10 https://t.co/MgUWQ76dJU</td>\n      <td>nan</td>\n      <td>nan</td>\n      <td>NaN</td>\n      <td>https://twitter.com/dog_rates/status/892420643555336193/photo/1</td>\n      <td>13</td>\n      <td>10</td>\n      <td>Phineas</td>\n      <td>None</td>\n      <td>None</td>\n      <td>None</td>\n      <td>None</td>\n      <td>13/10</td>\n    </tr>\n    <tr>\n      <th>1</th>\n      <td>892177421306343426</td>\n      <td>nan</td>\n      <td>nan</td>\n      <td>2017-08-01 00:17:27+00:00</td>\n      <td>http://twitter.com/download/iphone</td>\n      <td>This is Tilly. She's just checking pup on you. Hopes you're doing ok. If not, she's available for pats, snugs, boops, the whole bit. 13/10 https://t.co/0Xxu71qeIV</td>\n      <td>nan</td>\n      <td>nan</td>\n      <td>NaN</td>\n      <td>https://twitter.com/dog_rates/status/892177421306343426/photo/1</td>\n      <td>13</td>\n      <td>10</td>\n      <td>Tilly</td>\n      <td>None</td>\n      <td>None</td>\n      <td>None</td>\n      <td>None</td>\n      <td>13/10</td>\n    </tr>\n    <tr>\n      <th>2</th>\n      <td>891815181378084864</td>\n      <td>nan</td>\n      <td>nan</td>\n      <td>2017-07-31 00:18:03+00:00</td>\n      <td>http://twitter.com/download/iphone</td>\n      <td>This is Archie. He is a rare Norwegian Pouncing Corgo. Lives in the tall grass. You never know when one may strike. 12/10 https://t.co/wUnZnhtVJB</td>\n      <td>nan</td>\n      <td>nan</td>\n      <td>NaN</td>\n      <td>https://twitter.com/dog_rates/status/891815181378084864/photo/1</td>\n      <td>12</td>\n      <td>10</td>\n      <td>Archie</td>\n      <td>None</td>\n      <td>None</td>\n      <td>None</td>\n      <td>None</td>\n      <td>12/10</td>\n    </tr>\n    <tr>\n      <th>3</th>\n      <td>891689557279858688</td>\n      <td>nan</td>\n      <td>nan</td>\n      <td>2017-07-30 15:58:51+00:00</td>\n      <td>http://twitter.com/download/iphone</td>\n      <td>This is Darla. She commenced a snooze mid meal. 13/10 happens to the best of us https://t.co/tD36da7qLQ</td>\n      <td>nan</td>\n      <td>nan</td>\n      <td>NaN</td>\n      <td>https://twitter.com/dog_rates/status/891689557279858688/photo/1</td>\n      <td>13</td>\n      <td>10</td>\n      <td>Darla</td>\n      <td>None</td>\n      <td>None</td>\n      <td>None</td>\n      <td>None</td>\n      <td>13/10</td>\n    </tr>\n    <tr>\n      <th>4</th>\n      <td>891327558926688256</td>\n      <td>nan</td>\n      <td>nan</td>\n      <td>2017-07-29 16:00:24+00:00</td>\n      <td>http://twitter.com/download/iphone</td>\n      <td>This is Franklin. He would like you to stop calling him \"cute.\" He is a very fierce shark and should be respected as such. 12/10 #BarkWeek https://t.co/AtUZn91f7f</td>\n      <td>nan</td>\n      <td>nan</td>\n      <td>NaN</td>\n      <td>https://twitter.com/dog_rates/status/891327558926688256/photo/1,https://twitter.com/dog_rates/status/891327558926688256/photo/1</td>\n      <td>12</td>\n      <td>10</td>\n      <td>Franklin</td>\n      <td>None</td>\n      <td>None</td>\n      <td>None</td>\n      <td>None</td>\n      <td>12/10</td>\n    </tr>\n    <tr>\n      <th>...</th>\n      <td>...</td>\n      <td>...</td>\n      <td>...</td>\n      <td>...</td>\n      <td>...</td>\n      <td>...</td>\n      <td>...</td>\n      <td>...</td>\n      <td>...</td>\n      <td>...</td>\n      <td>...</td>\n      <td>...</td>\n      <td>...</td>\n      <td>...</td>\n      <td>...</td>\n      <td>...</td>\n      <td>...</td>\n      <td>...</td>\n    </tr>\n    <tr>\n      <th>2351</th>\n      <td>666049248165822465</td>\n      <td>nan</td>\n      <td>nan</td>\n      <td>2015-11-16 00:24:50+00:00</td>\n      <td>http://twitter.com/download/iphone</td>\n      <td>Here we have a 1949 1st generation vulpix. Enjoys sweat tea and Fox News. Cannot be phased. 5/10 https://t.co/4B7cOc1EDq</td>\n      <td>nan</td>\n      <td>nan</td>\n      <td>NaN</td>\n      <td>https://twitter.com/dog_rates/status/666049248165822465/photo/1</td>\n      <td>5</td>\n      <td>10</td>\n      <td>None</td>\n      <td>None</td>\n      <td>None</td>\n      <td>None</td>\n      <td>None</td>\n      <td>5/10</td>\n    </tr>\n    <tr>\n      <th>2352</th>\n      <td>666044226329800704</td>\n      <td>nan</td>\n      <td>nan</td>\n      <td>2015-11-16 00:04:52+00:00</td>\n      <td>http://twitter.com/download/iphone</td>\n      <td>This is a purebred Piers Morgan. Loves to Netflix and chill. Always looks like he forgot to unplug the iron. 6/10 https://t.co/DWnyCjf2mx</td>\n      <td>nan</td>\n      <td>nan</td>\n      <td>NaN</td>\n      <td>https://twitter.com/dog_rates/status/666044226329800704/photo/1</td>\n      <td>6</td>\n      <td>10</td>\n      <td>a</td>\n      <td>None</td>\n      <td>None</td>\n      <td>None</td>\n      <td>None</td>\n      <td>6/10</td>\n    </tr>\n    <tr>\n      <th>2353</th>\n      <td>666033412701032449</td>\n      <td>nan</td>\n      <td>nan</td>\n      <td>2015-11-15 23:21:54+00:00</td>\n      <td>http://twitter.com/download/iphone</td>\n      <td>Here is a very happy pup. Big fan of well-maintained decks. Just look at that tongue. 9/10 would cuddle af https://t.co/y671yMhoiR</td>\n      <td>nan</td>\n      <td>nan</td>\n      <td>NaN</td>\n      <td>https://twitter.com/dog_rates/status/666033412701032449/photo/1</td>\n      <td>9</td>\n      <td>10</td>\n      <td>a</td>\n      <td>None</td>\n      <td>None</td>\n      <td>None</td>\n      <td>None</td>\n      <td>9/10</td>\n    </tr>\n    <tr>\n      <th>2354</th>\n      <td>666029285002620928</td>\n      <td>nan</td>\n      <td>nan</td>\n      <td>2015-11-15 23:05:30+00:00</td>\n      <td>http://twitter.com/download/iphone</td>\n      <td>This is a western brown Mitsubishi terrier. Upset about leaf. Actually 2 dogs here. 7/10 would walk the shit out of https://t.co/r7mOb2m0UI</td>\n      <td>nan</td>\n      <td>nan</td>\n      <td>NaN</td>\n      <td>https://twitter.com/dog_rates/status/666029285002620928/photo/1</td>\n      <td>7</td>\n      <td>10</td>\n      <td>a</td>\n      <td>None</td>\n      <td>None</td>\n      <td>None</td>\n      <td>None</td>\n      <td>7/10</td>\n    </tr>\n    <tr>\n      <th>2355</th>\n      <td>666020888022790149</td>\n      <td>nan</td>\n      <td>nan</td>\n      <td>2015-11-15 22:32:08+00:00</td>\n      <td>http://twitter.com/download/iphone</td>\n      <td>Here we have a Japanese Irish Setter. Lost eye in Vietnam (?). Big fan of relaxing on stair. 8/10 would pet https://t.co/BLDqew2Ijj</td>\n      <td>nan</td>\n      <td>nan</td>\n      <td>NaN</td>\n      <td>https://twitter.com/dog_rates/status/666020888022790149/photo/1</td>\n      <td>8</td>\n      <td>10</td>\n      <td>None</td>\n      <td>None</td>\n      <td>None</td>\n      <td>None</td>\n      <td>None</td>\n      <td>8/10</td>\n    </tr>\n  </tbody>\n</table>\n<p>2356 rows × 18 columns</p>\n</div>"
     },
     "metadata": {},
     "execution_count": 160
    }
   ],
   "source": [
    "#test \n",
    "df_archive\n"
   ]
  },
  {
   "cell_type": "code",
   "execution_count": 161,
   "metadata": {},
   "outputs": [],
   "source": [
    "# drop numerator and denominator columns\n",
    "df_archive.drop(['rating_numerator', 'rating_denominator'], axis=1, inplace=True)"
   ]
  },
  {
   "source": [
    "### Test"
   ],
   "cell_type": "markdown",
   "metadata": {}
  },
  {
   "cell_type": "code",
   "execution_count": 162,
   "metadata": {},
   "outputs": [
    {
     "output_type": "execute_result",
     "data": {
      "text/plain": [
       "                tweet_id in_reply_to_status_id in_reply_to_user_id  \\\n",
       "0     892420643555336193                   nan                 nan   \n",
       "1     892177421306343426                   nan                 nan   \n",
       "2     891815181378084864                   nan                 nan   \n",
       "3     891689557279858688                   nan                 nan   \n",
       "4     891327558926688256                   nan                 nan   \n",
       "...                  ...                   ...                 ...   \n",
       "2351  666049248165822465                   nan                 nan   \n",
       "2352  666044226329800704                   nan                 nan   \n",
       "2353  666033412701032449                   nan                 nan   \n",
       "2354  666029285002620928                   nan                 nan   \n",
       "2355  666020888022790149                   nan                 nan   \n",
       "\n",
       "                     timestamp                              source  \\\n",
       "0    2017-08-01 16:23:56+00:00  http://twitter.com/download/iphone   \n",
       "1    2017-08-01 00:17:27+00:00  http://twitter.com/download/iphone   \n",
       "2    2017-07-31 00:18:03+00:00  http://twitter.com/download/iphone   \n",
       "3    2017-07-30 15:58:51+00:00  http://twitter.com/download/iphone   \n",
       "4    2017-07-29 16:00:24+00:00  http://twitter.com/download/iphone   \n",
       "...                        ...                                 ...   \n",
       "2351 2015-11-16 00:24:50+00:00  http://twitter.com/download/iphone   \n",
       "2352 2015-11-16 00:04:52+00:00  http://twitter.com/download/iphone   \n",
       "2353 2015-11-15 23:21:54+00:00  http://twitter.com/download/iphone   \n",
       "2354 2015-11-15 23:05:30+00:00  http://twitter.com/download/iphone   \n",
       "2355 2015-11-15 22:32:08+00:00  http://twitter.com/download/iphone   \n",
       "\n",
       "                                                                                                                                                                    text  \\\n",
       "0                                                          This is Phineas. He's a mystical boy. Only ever appears in the hole of a donut. 13/10 https://t.co/MgUWQ76dJU   \n",
       "1     This is Tilly. She's just checking pup on you. Hopes you're doing ok. If not, she's available for pats, snugs, boops, the whole bit. 13/10 https://t.co/0Xxu71qeIV   \n",
       "2                      This is Archie. He is a rare Norwegian Pouncing Corgo. Lives in the tall grass. You never know when one may strike. 12/10 https://t.co/wUnZnhtVJB   \n",
       "3                                                                This is Darla. She commenced a snooze mid meal. 13/10 happens to the best of us https://t.co/tD36da7qLQ   \n",
       "4     This is Franklin. He would like you to stop calling him \"cute.\" He is a very fierce shark and should be respected as such. 12/10 #BarkWeek https://t.co/AtUZn91f7f   \n",
       "...                                                                                                                                                                  ...   \n",
       "2351                                            Here we have a 1949 1st generation vulpix. Enjoys sweat tea and Fox News. Cannot be phased. 5/10 https://t.co/4B7cOc1EDq   \n",
       "2352                           This is a purebred Piers Morgan. Loves to Netflix and chill. Always looks like he forgot to unplug the iron. 6/10 https://t.co/DWnyCjf2mx   \n",
       "2353                                  Here is a very happy pup. Big fan of well-maintained decks. Just look at that tongue. 9/10 would cuddle af https://t.co/y671yMhoiR   \n",
       "2354                         This is a western brown Mitsubishi terrier. Upset about leaf. Actually 2 dogs here. 7/10 would walk the shit out of https://t.co/r7mOb2m0UI   \n",
       "2355                                 Here we have a Japanese Irish Setter. Lost eye in Vietnam (?). Big fan of relaxing on stair. 8/10 would pet https://t.co/BLDqew2Ijj   \n",
       "\n",
       "     retweeted_status_id retweeted_status_user_id retweeted_status_timestamp  \\\n",
       "0                    nan                      nan                        NaN   \n",
       "1                    nan                      nan                        NaN   \n",
       "2                    nan                      nan                        NaN   \n",
       "3                    nan                      nan                        NaN   \n",
       "4                    nan                      nan                        NaN   \n",
       "...                  ...                      ...                        ...   \n",
       "2351                 nan                      nan                        NaN   \n",
       "2352                 nan                      nan                        NaN   \n",
       "2353                 nan                      nan                        NaN   \n",
       "2354                 nan                      nan                        NaN   \n",
       "2355                 nan                      nan                        NaN   \n",
       "\n",
       "                                                                                                                        expanded_urls  \\\n",
       "0                                                                     https://twitter.com/dog_rates/status/892420643555336193/photo/1   \n",
       "1                                                                     https://twitter.com/dog_rates/status/892177421306343426/photo/1   \n",
       "2                                                                     https://twitter.com/dog_rates/status/891815181378084864/photo/1   \n",
       "3                                                                     https://twitter.com/dog_rates/status/891689557279858688/photo/1   \n",
       "4     https://twitter.com/dog_rates/status/891327558926688256/photo/1,https://twitter.com/dog_rates/status/891327558926688256/photo/1   \n",
       "...                                                                                                                               ...   \n",
       "2351                                                                  https://twitter.com/dog_rates/status/666049248165822465/photo/1   \n",
       "2352                                                                  https://twitter.com/dog_rates/status/666044226329800704/photo/1   \n",
       "2353                                                                  https://twitter.com/dog_rates/status/666033412701032449/photo/1   \n",
       "2354                                                                  https://twitter.com/dog_rates/status/666029285002620928/photo/1   \n",
       "2355                                                                  https://twitter.com/dog_rates/status/666020888022790149/photo/1   \n",
       "\n",
       "          name doggo floofer pupper puppo rating  \n",
       "0      Phineas  None    None   None  None  13/10  \n",
       "1        Tilly  None    None   None  None  13/10  \n",
       "2       Archie  None    None   None  None  12/10  \n",
       "3        Darla  None    None   None  None  13/10  \n",
       "4     Franklin  None    None   None  None  12/10  \n",
       "...        ...   ...     ...    ...   ...    ...  \n",
       "2351      None  None    None   None  None   5/10  \n",
       "2352         a  None    None   None  None   6/10  \n",
       "2353         a  None    None   None  None   9/10  \n",
       "2354         a  None    None   None  None   7/10  \n",
       "2355      None  None    None   None  None   8/10  \n",
       "\n",
       "[2356 rows x 16 columns]"
      ],
      "text/html": "<div>\n<style scoped>\n    .dataframe tbody tr th:only-of-type {\n        vertical-align: middle;\n    }\n\n    .dataframe tbody tr th {\n        vertical-align: top;\n    }\n\n    .dataframe thead th {\n        text-align: right;\n    }\n</style>\n<table border=\"1\" class=\"dataframe\">\n  <thead>\n    <tr style=\"text-align: right;\">\n      <th></th>\n      <th>tweet_id</th>\n      <th>in_reply_to_status_id</th>\n      <th>in_reply_to_user_id</th>\n      <th>timestamp</th>\n      <th>source</th>\n      <th>text</th>\n      <th>retweeted_status_id</th>\n      <th>retweeted_status_user_id</th>\n      <th>retweeted_status_timestamp</th>\n      <th>expanded_urls</th>\n      <th>name</th>\n      <th>doggo</th>\n      <th>floofer</th>\n      <th>pupper</th>\n      <th>puppo</th>\n      <th>rating</th>\n    </tr>\n  </thead>\n  <tbody>\n    <tr>\n      <th>0</th>\n      <td>892420643555336193</td>\n      <td>nan</td>\n      <td>nan</td>\n      <td>2017-08-01 16:23:56+00:00</td>\n      <td>http://twitter.com/download/iphone</td>\n      <td>This is Phineas. He's a mystical boy. Only ever appears in the hole of a donut. 13/10 https://t.co/MgUWQ76dJU</td>\n      <td>nan</td>\n      <td>nan</td>\n      <td>NaN</td>\n      <td>https://twitter.com/dog_rates/status/892420643555336193/photo/1</td>\n      <td>Phineas</td>\n      <td>None</td>\n      <td>None</td>\n      <td>None</td>\n      <td>None</td>\n      <td>13/10</td>\n    </tr>\n    <tr>\n      <th>1</th>\n      <td>892177421306343426</td>\n      <td>nan</td>\n      <td>nan</td>\n      <td>2017-08-01 00:17:27+00:00</td>\n      <td>http://twitter.com/download/iphone</td>\n      <td>This is Tilly. She's just checking pup on you. Hopes you're doing ok. If not, she's available for pats, snugs, boops, the whole bit. 13/10 https://t.co/0Xxu71qeIV</td>\n      <td>nan</td>\n      <td>nan</td>\n      <td>NaN</td>\n      <td>https://twitter.com/dog_rates/status/892177421306343426/photo/1</td>\n      <td>Tilly</td>\n      <td>None</td>\n      <td>None</td>\n      <td>None</td>\n      <td>None</td>\n      <td>13/10</td>\n    </tr>\n    <tr>\n      <th>2</th>\n      <td>891815181378084864</td>\n      <td>nan</td>\n      <td>nan</td>\n      <td>2017-07-31 00:18:03+00:00</td>\n      <td>http://twitter.com/download/iphone</td>\n      <td>This is Archie. He is a rare Norwegian Pouncing Corgo. Lives in the tall grass. You never know when one may strike. 12/10 https://t.co/wUnZnhtVJB</td>\n      <td>nan</td>\n      <td>nan</td>\n      <td>NaN</td>\n      <td>https://twitter.com/dog_rates/status/891815181378084864/photo/1</td>\n      <td>Archie</td>\n      <td>None</td>\n      <td>None</td>\n      <td>None</td>\n      <td>None</td>\n      <td>12/10</td>\n    </tr>\n    <tr>\n      <th>3</th>\n      <td>891689557279858688</td>\n      <td>nan</td>\n      <td>nan</td>\n      <td>2017-07-30 15:58:51+00:00</td>\n      <td>http://twitter.com/download/iphone</td>\n      <td>This is Darla. She commenced a snooze mid meal. 13/10 happens to the best of us https://t.co/tD36da7qLQ</td>\n      <td>nan</td>\n      <td>nan</td>\n      <td>NaN</td>\n      <td>https://twitter.com/dog_rates/status/891689557279858688/photo/1</td>\n      <td>Darla</td>\n      <td>None</td>\n      <td>None</td>\n      <td>None</td>\n      <td>None</td>\n      <td>13/10</td>\n    </tr>\n    <tr>\n      <th>4</th>\n      <td>891327558926688256</td>\n      <td>nan</td>\n      <td>nan</td>\n      <td>2017-07-29 16:00:24+00:00</td>\n      <td>http://twitter.com/download/iphone</td>\n      <td>This is Franklin. He would like you to stop calling him \"cute.\" He is a very fierce shark and should be respected as such. 12/10 #BarkWeek https://t.co/AtUZn91f7f</td>\n      <td>nan</td>\n      <td>nan</td>\n      <td>NaN</td>\n      <td>https://twitter.com/dog_rates/status/891327558926688256/photo/1,https://twitter.com/dog_rates/status/891327558926688256/photo/1</td>\n      <td>Franklin</td>\n      <td>None</td>\n      <td>None</td>\n      <td>None</td>\n      <td>None</td>\n      <td>12/10</td>\n    </tr>\n    <tr>\n      <th>...</th>\n      <td>...</td>\n      <td>...</td>\n      <td>...</td>\n      <td>...</td>\n      <td>...</td>\n      <td>...</td>\n      <td>...</td>\n      <td>...</td>\n      <td>...</td>\n      <td>...</td>\n      <td>...</td>\n      <td>...</td>\n      <td>...</td>\n      <td>...</td>\n      <td>...</td>\n      <td>...</td>\n    </tr>\n    <tr>\n      <th>2351</th>\n      <td>666049248165822465</td>\n      <td>nan</td>\n      <td>nan</td>\n      <td>2015-11-16 00:24:50+00:00</td>\n      <td>http://twitter.com/download/iphone</td>\n      <td>Here we have a 1949 1st generation vulpix. Enjoys sweat tea and Fox News. Cannot be phased. 5/10 https://t.co/4B7cOc1EDq</td>\n      <td>nan</td>\n      <td>nan</td>\n      <td>NaN</td>\n      <td>https://twitter.com/dog_rates/status/666049248165822465/photo/1</td>\n      <td>None</td>\n      <td>None</td>\n      <td>None</td>\n      <td>None</td>\n      <td>None</td>\n      <td>5/10</td>\n    </tr>\n    <tr>\n      <th>2352</th>\n      <td>666044226329800704</td>\n      <td>nan</td>\n      <td>nan</td>\n      <td>2015-11-16 00:04:52+00:00</td>\n      <td>http://twitter.com/download/iphone</td>\n      <td>This is a purebred Piers Morgan. Loves to Netflix and chill. Always looks like he forgot to unplug the iron. 6/10 https://t.co/DWnyCjf2mx</td>\n      <td>nan</td>\n      <td>nan</td>\n      <td>NaN</td>\n      <td>https://twitter.com/dog_rates/status/666044226329800704/photo/1</td>\n      <td>a</td>\n      <td>None</td>\n      <td>None</td>\n      <td>None</td>\n      <td>None</td>\n      <td>6/10</td>\n    </tr>\n    <tr>\n      <th>2353</th>\n      <td>666033412701032449</td>\n      <td>nan</td>\n      <td>nan</td>\n      <td>2015-11-15 23:21:54+00:00</td>\n      <td>http://twitter.com/download/iphone</td>\n      <td>Here is a very happy pup. Big fan of well-maintained decks. Just look at that tongue. 9/10 would cuddle af https://t.co/y671yMhoiR</td>\n      <td>nan</td>\n      <td>nan</td>\n      <td>NaN</td>\n      <td>https://twitter.com/dog_rates/status/666033412701032449/photo/1</td>\n      <td>a</td>\n      <td>None</td>\n      <td>None</td>\n      <td>None</td>\n      <td>None</td>\n      <td>9/10</td>\n    </tr>\n    <tr>\n      <th>2354</th>\n      <td>666029285002620928</td>\n      <td>nan</td>\n      <td>nan</td>\n      <td>2015-11-15 23:05:30+00:00</td>\n      <td>http://twitter.com/download/iphone</td>\n      <td>This is a western brown Mitsubishi terrier. Upset about leaf. Actually 2 dogs here. 7/10 would walk the shit out of https://t.co/r7mOb2m0UI</td>\n      <td>nan</td>\n      <td>nan</td>\n      <td>NaN</td>\n      <td>https://twitter.com/dog_rates/status/666029285002620928/photo/1</td>\n      <td>a</td>\n      <td>None</td>\n      <td>None</td>\n      <td>None</td>\n      <td>None</td>\n      <td>7/10</td>\n    </tr>\n    <tr>\n      <th>2355</th>\n      <td>666020888022790149</td>\n      <td>nan</td>\n      <td>nan</td>\n      <td>2015-11-15 22:32:08+00:00</td>\n      <td>http://twitter.com/download/iphone</td>\n      <td>Here we have a Japanese Irish Setter. Lost eye in Vietnam (?). Big fan of relaxing on stair. 8/10 would pet https://t.co/BLDqew2Ijj</td>\n      <td>nan</td>\n      <td>nan</td>\n      <td>NaN</td>\n      <td>https://twitter.com/dog_rates/status/666020888022790149/photo/1</td>\n      <td>None</td>\n      <td>None</td>\n      <td>None</td>\n      <td>None</td>\n      <td>None</td>\n      <td>8/10</td>\n    </tr>\n  </tbody>\n</table>\n<p>2356 rows × 16 columns</p>\n</div>"
     },
     "metadata": {},
     "execution_count": 162
    }
   ],
   "source": [
    "#test\n",
    "df_archive"
   ]
  },
  {
   "cell_type": "markdown",
   "metadata": {},
   "source": [
    "### Define\n",
    "**6. Some dog names start lowercase letters and are not dog names. They need to be removed.**\n",
    "\n",
    "Action: identify and remove those rows with lower case lettered dog names\n",
    "\n"
   ]
  },
  {
   "source": [
    "### Code"
   ],
   "cell_type": "markdown",
   "metadata": {}
  },
  {
   "cell_type": "code",
   "execution_count": 163,
   "metadata": {},
   "outputs": [],
   "source": [
    "#filter for lowercase dog names\n",
    "lowercase_dog = df_archive[df_archive['name'].str.islower()]"
   ]
  },
  {
   "cell_type": "code",
   "execution_count": 164,
   "metadata": {},
   "outputs": [
    {
     "output_type": "execute_result",
     "data": {
      "text/plain": [
       "22       such\n",
       "56          a\n",
       "118     quite\n",
       "169     quite\n",
       "193     quite\n",
       "        ...  \n",
       "2349       an\n",
       "2350        a\n",
       "2352        a\n",
       "2353        a\n",
       "2354        a\n",
       "Name: name, Length: 109, dtype: object"
      ]
     },
     "metadata": {},
     "execution_count": 164
    }
   ],
   "source": [
    "lowercase_dog.name"
   ]
  },
  {
   "cell_type": "code",
   "execution_count": 165,
   "metadata": {},
   "outputs": [],
   "source": [
    "# there are 104 values that start with a lowercase. They need to be removed\n",
    "\n",
    "df_archive = df_archive[~df_archive.name.str.islower()]"
   ]
  },
  {
   "source": [
    "### Test"
   ],
   "cell_type": "markdown",
   "metadata": {}
  },
  {
   "cell_type": "code",
   "execution_count": 251,
   "metadata": {},
   "outputs": [
    {
     "output_type": "execute_result",
     "data": {
      "text/plain": [
       "(2071, 13)"
      ]
     },
     "metadata": {},
     "execution_count": 251
    }
   ],
   "source": [
    "#test\n",
    "df_archive.shape"
   ]
  },
  {
   "cell_type": "markdown",
   "metadata": {},
   "source": [
    "### Define\n",
    "**7. Remove retweets(as per Key Points)**\n",
    "\n",
    "Action: fo find this, filter for rows that have \"RT @\" in them and remove these rows. \n"
   ]
  },
  {
   "source": [
    "### Code"
   ],
   "cell_type": "markdown",
   "metadata": {}
  },
  {
   "cell_type": "code",
   "execution_count": 167,
   "metadata": {},
   "outputs": [],
   "source": [
    "# filter for string that contains RT @ and drop these rows \n",
    "df_archive.drop(df_archive[df_archive['text'].str.contains(\"RT @\")].index, inplace = True) "
   ]
  },
  {
   "source": [
    "### Test"
   ],
   "cell_type": "markdown",
   "metadata": {}
  },
  {
   "cell_type": "code",
   "execution_count": 168,
   "metadata": {},
   "outputs": [
    {
     "output_type": "execute_result",
     "data": {
      "text/plain": [
       "(2071, 16)"
      ]
     },
     "metadata": {},
     "execution_count": 168
    }
   ],
   "source": [
    "#test\n",
    "df_archive.shape"
   ]
  },
  {
   "cell_type": "markdown",
   "metadata": {},
   "source": [
    "### Define\n",
    "*Image predictions dataset*\n",
    "\n",
    "**8. p1, p2, p3 names columns are not consistent in upper or lower case (should all be lowercase)**\n",
    "\n",
    "Action change values to lowercase"
   ]
  },
  {
   "source": [
    "### Code"
   ],
   "cell_type": "markdown",
   "metadata": {}
  },
  {
   "cell_type": "code",
   "execution_count": 169,
   "metadata": {},
   "outputs": [],
   "source": [
    "# change valuews to lowercase in p1 column to lowercase\n",
    "df_image_predictions['p1'] = [str(i).lower() for i in df_image_predictions['p1']]"
   ]
  },
  {
   "cell_type": "code",
   "execution_count": 170,
   "metadata": {
    "scrolled": true
   },
   "outputs": [
    {
     "output_type": "execute_result",
     "data": {
      "text/plain": [
       "                tweet_id                                          jpg_url  \\\n",
       "0     666020888022790149  https://pbs.twimg.com/media/CT4udn0WwAA0aMy.jpg   \n",
       "1     666029285002620928  https://pbs.twimg.com/media/CT42GRgUYAA5iDo.jpg   \n",
       "2     666033412701032449  https://pbs.twimg.com/media/CT4521TWwAEvMyu.jpg   \n",
       "3     666044226329800704  https://pbs.twimg.com/media/CT5Dr8HUEAA-lEu.jpg   \n",
       "4     666049248165822465  https://pbs.twimg.com/media/CT5IQmsXIAAKY4A.jpg   \n",
       "...                  ...                                              ...   \n",
       "2070  891327558926688256  https://pbs.twimg.com/media/DF6hr6BUMAAzZgT.jpg   \n",
       "2071  891689557279858688  https://pbs.twimg.com/media/DF_q7IAWsAEuuN8.jpg   \n",
       "2072  891815181378084864  https://pbs.twimg.com/media/DGBdLU1WsAANxJ9.jpg   \n",
       "2073  892177421306343426  https://pbs.twimg.com/media/DGGmoV4XsAAUL6n.jpg   \n",
       "2074  892420643555336193  https://pbs.twimg.com/media/DGKD1-bXoAAIAUK.jpg   \n",
       "\n",
       "      img_num                      p1   p1_conf  p1_dog                  p2  \\\n",
       "0           1  welsh_springer_spaniel  0.465074    True              collie   \n",
       "1           1                 redbone  0.506826    True  miniature_pinscher   \n",
       "2           1         german_shepherd  0.596461    True            malinois   \n",
       "3           1     rhodesian_ridgeback  0.408143    True             redbone   \n",
       "4           1      miniature_pinscher  0.560311    True          Rottweiler   \n",
       "...       ...                     ...       ...     ...                 ...   \n",
       "2070        2                  basset  0.555712    True    English_springer   \n",
       "2071        1             paper_towel  0.170278   False  Labrador_retriever   \n",
       "2072        1               chihuahua  0.716012    True            malamute   \n",
       "2073        1               chihuahua  0.323581    True            Pekinese   \n",
       "2074        1                  orange  0.097049   False               bagel   \n",
       "\n",
       "       p2_conf  p2_dog                           p3   p3_conf  p3_dog  \n",
       "0     0.156665    True            Shetland_sheepdog  0.061428    True  \n",
       "1     0.074192    True          Rhodesian_ridgeback  0.072010    True  \n",
       "2     0.138584    True                   bloodhound  0.116197    True  \n",
       "3     0.360687    True           miniature_pinscher  0.222752    True  \n",
       "4     0.243682    True                     Doberman  0.154629    True  \n",
       "...        ...     ...                          ...       ...     ...  \n",
       "2070  0.225770    True  German_short-haired_pointer  0.175219    True  \n",
       "2071  0.168086    True                      spatula  0.040836   False  \n",
       "2072  0.078253    True                       kelpie  0.031379    True  \n",
       "2073  0.090647    True                     papillon  0.068957    True  \n",
       "2074  0.085851   False                       banana  0.076110   False  \n",
       "\n",
       "[2075 rows x 12 columns]"
      ],
      "text/html": "<div>\n<style scoped>\n    .dataframe tbody tr th:only-of-type {\n        vertical-align: middle;\n    }\n\n    .dataframe tbody tr th {\n        vertical-align: top;\n    }\n\n    .dataframe thead th {\n        text-align: right;\n    }\n</style>\n<table border=\"1\" class=\"dataframe\">\n  <thead>\n    <tr style=\"text-align: right;\">\n      <th></th>\n      <th>tweet_id</th>\n      <th>jpg_url</th>\n      <th>img_num</th>\n      <th>p1</th>\n      <th>p1_conf</th>\n      <th>p1_dog</th>\n      <th>p2</th>\n      <th>p2_conf</th>\n      <th>p2_dog</th>\n      <th>p3</th>\n      <th>p3_conf</th>\n      <th>p3_dog</th>\n    </tr>\n  </thead>\n  <tbody>\n    <tr>\n      <th>0</th>\n      <td>666020888022790149</td>\n      <td>https://pbs.twimg.com/media/CT4udn0WwAA0aMy.jpg</td>\n      <td>1</td>\n      <td>welsh_springer_spaniel</td>\n      <td>0.465074</td>\n      <td>True</td>\n      <td>collie</td>\n      <td>0.156665</td>\n      <td>True</td>\n      <td>Shetland_sheepdog</td>\n      <td>0.061428</td>\n      <td>True</td>\n    </tr>\n    <tr>\n      <th>1</th>\n      <td>666029285002620928</td>\n      <td>https://pbs.twimg.com/media/CT42GRgUYAA5iDo.jpg</td>\n      <td>1</td>\n      <td>redbone</td>\n      <td>0.506826</td>\n      <td>True</td>\n      <td>miniature_pinscher</td>\n      <td>0.074192</td>\n      <td>True</td>\n      <td>Rhodesian_ridgeback</td>\n      <td>0.072010</td>\n      <td>True</td>\n    </tr>\n    <tr>\n      <th>2</th>\n      <td>666033412701032449</td>\n      <td>https://pbs.twimg.com/media/CT4521TWwAEvMyu.jpg</td>\n      <td>1</td>\n      <td>german_shepherd</td>\n      <td>0.596461</td>\n      <td>True</td>\n      <td>malinois</td>\n      <td>0.138584</td>\n      <td>True</td>\n      <td>bloodhound</td>\n      <td>0.116197</td>\n      <td>True</td>\n    </tr>\n    <tr>\n      <th>3</th>\n      <td>666044226329800704</td>\n      <td>https://pbs.twimg.com/media/CT5Dr8HUEAA-lEu.jpg</td>\n      <td>1</td>\n      <td>rhodesian_ridgeback</td>\n      <td>0.408143</td>\n      <td>True</td>\n      <td>redbone</td>\n      <td>0.360687</td>\n      <td>True</td>\n      <td>miniature_pinscher</td>\n      <td>0.222752</td>\n      <td>True</td>\n    </tr>\n    <tr>\n      <th>4</th>\n      <td>666049248165822465</td>\n      <td>https://pbs.twimg.com/media/CT5IQmsXIAAKY4A.jpg</td>\n      <td>1</td>\n      <td>miniature_pinscher</td>\n      <td>0.560311</td>\n      <td>True</td>\n      <td>Rottweiler</td>\n      <td>0.243682</td>\n      <td>True</td>\n      <td>Doberman</td>\n      <td>0.154629</td>\n      <td>True</td>\n    </tr>\n    <tr>\n      <th>...</th>\n      <td>...</td>\n      <td>...</td>\n      <td>...</td>\n      <td>...</td>\n      <td>...</td>\n      <td>...</td>\n      <td>...</td>\n      <td>...</td>\n      <td>...</td>\n      <td>...</td>\n      <td>...</td>\n      <td>...</td>\n    </tr>\n    <tr>\n      <th>2070</th>\n      <td>891327558926688256</td>\n      <td>https://pbs.twimg.com/media/DF6hr6BUMAAzZgT.jpg</td>\n      <td>2</td>\n      <td>basset</td>\n      <td>0.555712</td>\n      <td>True</td>\n      <td>English_springer</td>\n      <td>0.225770</td>\n      <td>True</td>\n      <td>German_short-haired_pointer</td>\n      <td>0.175219</td>\n      <td>True</td>\n    </tr>\n    <tr>\n      <th>2071</th>\n      <td>891689557279858688</td>\n      <td>https://pbs.twimg.com/media/DF_q7IAWsAEuuN8.jpg</td>\n      <td>1</td>\n      <td>paper_towel</td>\n      <td>0.170278</td>\n      <td>False</td>\n      <td>Labrador_retriever</td>\n      <td>0.168086</td>\n      <td>True</td>\n      <td>spatula</td>\n      <td>0.040836</td>\n      <td>False</td>\n    </tr>\n    <tr>\n      <th>2072</th>\n      <td>891815181378084864</td>\n      <td>https://pbs.twimg.com/media/DGBdLU1WsAANxJ9.jpg</td>\n      <td>1</td>\n      <td>chihuahua</td>\n      <td>0.716012</td>\n      <td>True</td>\n      <td>malamute</td>\n      <td>0.078253</td>\n      <td>True</td>\n      <td>kelpie</td>\n      <td>0.031379</td>\n      <td>True</td>\n    </tr>\n    <tr>\n      <th>2073</th>\n      <td>892177421306343426</td>\n      <td>https://pbs.twimg.com/media/DGGmoV4XsAAUL6n.jpg</td>\n      <td>1</td>\n      <td>chihuahua</td>\n      <td>0.323581</td>\n      <td>True</td>\n      <td>Pekinese</td>\n      <td>0.090647</td>\n      <td>True</td>\n      <td>papillon</td>\n      <td>0.068957</td>\n      <td>True</td>\n    </tr>\n    <tr>\n      <th>2074</th>\n      <td>892420643555336193</td>\n      <td>https://pbs.twimg.com/media/DGKD1-bXoAAIAUK.jpg</td>\n      <td>1</td>\n      <td>orange</td>\n      <td>0.097049</td>\n      <td>False</td>\n      <td>bagel</td>\n      <td>0.085851</td>\n      <td>False</td>\n      <td>banana</td>\n      <td>0.076110</td>\n      <td>False</td>\n    </tr>\n  </tbody>\n</table>\n<p>2075 rows × 12 columns</p>\n</div>"
     },
     "metadata": {},
     "execution_count": 170
    }
   ],
   "source": [
    "#test \n",
    "df_image_predictions"
   ]
  },
  {
   "cell_type": "code",
   "execution_count": 252,
   "metadata": {},
   "outputs": [
    {
     "output_type": "execute_result",
     "data": {
      "text/plain": [
       "                tweet_id                                          jpg_url  \\\n",
       "0     666020888022790149  https://pbs.twimg.com/media/CT4udn0WwAA0aMy.jpg   \n",
       "1     666029285002620928  https://pbs.twimg.com/media/CT42GRgUYAA5iDo.jpg   \n",
       "2     666033412701032449  https://pbs.twimg.com/media/CT4521TWwAEvMyu.jpg   \n",
       "3     666044226329800704  https://pbs.twimg.com/media/CT5Dr8HUEAA-lEu.jpg   \n",
       "4     666049248165822465  https://pbs.twimg.com/media/CT5IQmsXIAAKY4A.jpg   \n",
       "...                  ...                                              ...   \n",
       "2070  891327558926688256  https://pbs.twimg.com/media/DF6hr6BUMAAzZgT.jpg   \n",
       "2071  891689557279858688  https://pbs.twimg.com/media/DF_q7IAWsAEuuN8.jpg   \n",
       "2072  891815181378084864  https://pbs.twimg.com/media/DGBdLU1WsAANxJ9.jpg   \n",
       "2073  892177421306343426  https://pbs.twimg.com/media/DGGmoV4XsAAUL6n.jpg   \n",
       "2074  892420643555336193  https://pbs.twimg.com/media/DGKD1-bXoAAIAUK.jpg   \n",
       "\n",
       "      img_num                      p1   p1_conf  p1_dog                  p2  \\\n",
       "0           1  welsh_springer_spaniel  0.465074    True              collie   \n",
       "1           1                 redbone  0.506826    True  miniature_pinscher   \n",
       "2           1         german_shepherd  0.596461    True            malinois   \n",
       "3           1     rhodesian_ridgeback  0.408143    True             redbone   \n",
       "4           1      miniature_pinscher  0.560311    True          rottweiler   \n",
       "...       ...                     ...       ...     ...                 ...   \n",
       "2070        2                  basset  0.555712    True    english_springer   \n",
       "2071        1             paper_towel  0.170278   False  labrador_retriever   \n",
       "2072        1               chihuahua  0.716012    True            malamute   \n",
       "2073        1               chihuahua  0.323581    True            pekinese   \n",
       "2074        1                  orange  0.097049   False               bagel   \n",
       "\n",
       "       p2_conf  p2_dog                           p3   p3_conf  p3_dog  \n",
       "0     0.156665    True            shetland_sheepdog  0.061428    True  \n",
       "1     0.074192    True          rhodesian_ridgeback  0.072010    True  \n",
       "2     0.138584    True                   bloodhound  0.116197    True  \n",
       "3     0.360687    True           miniature_pinscher  0.222752    True  \n",
       "4     0.243682    True                     doberman  0.154629    True  \n",
       "...        ...     ...                          ...       ...     ...  \n",
       "2070  0.225770    True  german_short-haired_pointer  0.175219    True  \n",
       "2071  0.168086    True                      spatula  0.040836   False  \n",
       "2072  0.078253    True                       kelpie  0.031379    True  \n",
       "2073  0.090647    True                     papillon  0.068957    True  \n",
       "2074  0.085851   False                       banana  0.076110   False  \n",
       "\n",
       "[2075 rows x 12 columns]"
      ],
      "text/html": "<div>\n<style scoped>\n    .dataframe tbody tr th:only-of-type {\n        vertical-align: middle;\n    }\n\n    .dataframe tbody tr th {\n        vertical-align: top;\n    }\n\n    .dataframe thead th {\n        text-align: right;\n    }\n</style>\n<table border=\"1\" class=\"dataframe\">\n  <thead>\n    <tr style=\"text-align: right;\">\n      <th></th>\n      <th>tweet_id</th>\n      <th>jpg_url</th>\n      <th>img_num</th>\n      <th>p1</th>\n      <th>p1_conf</th>\n      <th>p1_dog</th>\n      <th>p2</th>\n      <th>p2_conf</th>\n      <th>p2_dog</th>\n      <th>p3</th>\n      <th>p3_conf</th>\n      <th>p3_dog</th>\n    </tr>\n  </thead>\n  <tbody>\n    <tr>\n      <th>0</th>\n      <td>666020888022790149</td>\n      <td>https://pbs.twimg.com/media/CT4udn0WwAA0aMy.jpg</td>\n      <td>1</td>\n      <td>welsh_springer_spaniel</td>\n      <td>0.465074</td>\n      <td>True</td>\n      <td>collie</td>\n      <td>0.156665</td>\n      <td>True</td>\n      <td>shetland_sheepdog</td>\n      <td>0.061428</td>\n      <td>True</td>\n    </tr>\n    <tr>\n      <th>1</th>\n      <td>666029285002620928</td>\n      <td>https://pbs.twimg.com/media/CT42GRgUYAA5iDo.jpg</td>\n      <td>1</td>\n      <td>redbone</td>\n      <td>0.506826</td>\n      <td>True</td>\n      <td>miniature_pinscher</td>\n      <td>0.074192</td>\n      <td>True</td>\n      <td>rhodesian_ridgeback</td>\n      <td>0.072010</td>\n      <td>True</td>\n    </tr>\n    <tr>\n      <th>2</th>\n      <td>666033412701032449</td>\n      <td>https://pbs.twimg.com/media/CT4521TWwAEvMyu.jpg</td>\n      <td>1</td>\n      <td>german_shepherd</td>\n      <td>0.596461</td>\n      <td>True</td>\n      <td>malinois</td>\n      <td>0.138584</td>\n      <td>True</td>\n      <td>bloodhound</td>\n      <td>0.116197</td>\n      <td>True</td>\n    </tr>\n    <tr>\n      <th>3</th>\n      <td>666044226329800704</td>\n      <td>https://pbs.twimg.com/media/CT5Dr8HUEAA-lEu.jpg</td>\n      <td>1</td>\n      <td>rhodesian_ridgeback</td>\n      <td>0.408143</td>\n      <td>True</td>\n      <td>redbone</td>\n      <td>0.360687</td>\n      <td>True</td>\n      <td>miniature_pinscher</td>\n      <td>0.222752</td>\n      <td>True</td>\n    </tr>\n    <tr>\n      <th>4</th>\n      <td>666049248165822465</td>\n      <td>https://pbs.twimg.com/media/CT5IQmsXIAAKY4A.jpg</td>\n      <td>1</td>\n      <td>miniature_pinscher</td>\n      <td>0.560311</td>\n      <td>True</td>\n      <td>rottweiler</td>\n      <td>0.243682</td>\n      <td>True</td>\n      <td>doberman</td>\n      <td>0.154629</td>\n      <td>True</td>\n    </tr>\n    <tr>\n      <th>...</th>\n      <td>...</td>\n      <td>...</td>\n      <td>...</td>\n      <td>...</td>\n      <td>...</td>\n      <td>...</td>\n      <td>...</td>\n      <td>...</td>\n      <td>...</td>\n      <td>...</td>\n      <td>...</td>\n      <td>...</td>\n    </tr>\n    <tr>\n      <th>2070</th>\n      <td>891327558926688256</td>\n      <td>https://pbs.twimg.com/media/DF6hr6BUMAAzZgT.jpg</td>\n      <td>2</td>\n      <td>basset</td>\n      <td>0.555712</td>\n      <td>True</td>\n      <td>english_springer</td>\n      <td>0.225770</td>\n      <td>True</td>\n      <td>german_short-haired_pointer</td>\n      <td>0.175219</td>\n      <td>True</td>\n    </tr>\n    <tr>\n      <th>2071</th>\n      <td>891689557279858688</td>\n      <td>https://pbs.twimg.com/media/DF_q7IAWsAEuuN8.jpg</td>\n      <td>1</td>\n      <td>paper_towel</td>\n      <td>0.170278</td>\n      <td>False</td>\n      <td>labrador_retriever</td>\n      <td>0.168086</td>\n      <td>True</td>\n      <td>spatula</td>\n      <td>0.040836</td>\n      <td>False</td>\n    </tr>\n    <tr>\n      <th>2072</th>\n      <td>891815181378084864</td>\n      <td>https://pbs.twimg.com/media/DGBdLU1WsAANxJ9.jpg</td>\n      <td>1</td>\n      <td>chihuahua</td>\n      <td>0.716012</td>\n      <td>True</td>\n      <td>malamute</td>\n      <td>0.078253</td>\n      <td>True</td>\n      <td>kelpie</td>\n      <td>0.031379</td>\n      <td>True</td>\n    </tr>\n    <tr>\n      <th>2073</th>\n      <td>892177421306343426</td>\n      <td>https://pbs.twimg.com/media/DGGmoV4XsAAUL6n.jpg</td>\n      <td>1</td>\n      <td>chihuahua</td>\n      <td>0.323581</td>\n      <td>True</td>\n      <td>pekinese</td>\n      <td>0.090647</td>\n      <td>True</td>\n      <td>papillon</td>\n      <td>0.068957</td>\n      <td>True</td>\n    </tr>\n    <tr>\n      <th>2074</th>\n      <td>892420643555336193</td>\n      <td>https://pbs.twimg.com/media/DGKD1-bXoAAIAUK.jpg</td>\n      <td>1</td>\n      <td>orange</td>\n      <td>0.097049</td>\n      <td>False</td>\n      <td>bagel</td>\n      <td>0.085851</td>\n      <td>False</td>\n      <td>banana</td>\n      <td>0.076110</td>\n      <td>False</td>\n    </tr>\n  </tbody>\n</table>\n<p>2075 rows × 12 columns</p>\n</div>"
     },
     "metadata": {},
     "execution_count": 252
    }
   ],
   "source": [
    "#test\n",
    "df_image_predictions"
   ]
  },
  {
   "cell_type": "code",
   "execution_count": 171,
   "metadata": {},
   "outputs": [],
   "source": [
    "#change values in p2 and p3 columns to lowercase\n",
    "df_image_predictions['p2'] = [str(i).lower() for i in df_image_predictions['p2']]\n",
    "df_image_predictions['p3'] = [str(i).lower() for i in df_image_predictions['p3']]"
   ]
  },
  {
   "source": [
    "### Test"
   ],
   "cell_type": "markdown",
   "metadata": {}
  },
  {
   "cell_type": "code",
   "execution_count": 253,
   "metadata": {},
   "outputs": [
    {
     "output_type": "execute_result",
     "data": {
      "text/plain": [
       "                tweet_id                                          jpg_url  \\\n",
       "0     666020888022790149  https://pbs.twimg.com/media/CT4udn0WwAA0aMy.jpg   \n",
       "1     666029285002620928  https://pbs.twimg.com/media/CT42GRgUYAA5iDo.jpg   \n",
       "2     666033412701032449  https://pbs.twimg.com/media/CT4521TWwAEvMyu.jpg   \n",
       "3     666044226329800704  https://pbs.twimg.com/media/CT5Dr8HUEAA-lEu.jpg   \n",
       "4     666049248165822465  https://pbs.twimg.com/media/CT5IQmsXIAAKY4A.jpg   \n",
       "...                  ...                                              ...   \n",
       "2070  891327558926688256  https://pbs.twimg.com/media/DF6hr6BUMAAzZgT.jpg   \n",
       "2071  891689557279858688  https://pbs.twimg.com/media/DF_q7IAWsAEuuN8.jpg   \n",
       "2072  891815181378084864  https://pbs.twimg.com/media/DGBdLU1WsAANxJ9.jpg   \n",
       "2073  892177421306343426  https://pbs.twimg.com/media/DGGmoV4XsAAUL6n.jpg   \n",
       "2074  892420643555336193  https://pbs.twimg.com/media/DGKD1-bXoAAIAUK.jpg   \n",
       "\n",
       "      img_num                      p1   p1_conf  p1_dog                  p2  \\\n",
       "0           1  welsh_springer_spaniel  0.465074    True              collie   \n",
       "1           1                 redbone  0.506826    True  miniature_pinscher   \n",
       "2           1         german_shepherd  0.596461    True            malinois   \n",
       "3           1     rhodesian_ridgeback  0.408143    True             redbone   \n",
       "4           1      miniature_pinscher  0.560311    True          rottweiler   \n",
       "...       ...                     ...       ...     ...                 ...   \n",
       "2070        2                  basset  0.555712    True    english_springer   \n",
       "2071        1             paper_towel  0.170278   False  labrador_retriever   \n",
       "2072        1               chihuahua  0.716012    True            malamute   \n",
       "2073        1               chihuahua  0.323581    True            pekinese   \n",
       "2074        1                  orange  0.097049   False               bagel   \n",
       "\n",
       "       p2_conf  p2_dog                           p3   p3_conf  p3_dog  \n",
       "0     0.156665    True            shetland_sheepdog  0.061428    True  \n",
       "1     0.074192    True          rhodesian_ridgeback  0.072010    True  \n",
       "2     0.138584    True                   bloodhound  0.116197    True  \n",
       "3     0.360687    True           miniature_pinscher  0.222752    True  \n",
       "4     0.243682    True                     doberman  0.154629    True  \n",
       "...        ...     ...                          ...       ...     ...  \n",
       "2070  0.225770    True  german_short-haired_pointer  0.175219    True  \n",
       "2071  0.168086    True                      spatula  0.040836   False  \n",
       "2072  0.078253    True                       kelpie  0.031379    True  \n",
       "2073  0.090647    True                     papillon  0.068957    True  \n",
       "2074  0.085851   False                       banana  0.076110   False  \n",
       "\n",
       "[2075 rows x 12 columns]"
      ],
      "text/html": "<div>\n<style scoped>\n    .dataframe tbody tr th:only-of-type {\n        vertical-align: middle;\n    }\n\n    .dataframe tbody tr th {\n        vertical-align: top;\n    }\n\n    .dataframe thead th {\n        text-align: right;\n    }\n</style>\n<table border=\"1\" class=\"dataframe\">\n  <thead>\n    <tr style=\"text-align: right;\">\n      <th></th>\n      <th>tweet_id</th>\n      <th>jpg_url</th>\n      <th>img_num</th>\n      <th>p1</th>\n      <th>p1_conf</th>\n      <th>p1_dog</th>\n      <th>p2</th>\n      <th>p2_conf</th>\n      <th>p2_dog</th>\n      <th>p3</th>\n      <th>p3_conf</th>\n      <th>p3_dog</th>\n    </tr>\n  </thead>\n  <tbody>\n    <tr>\n      <th>0</th>\n      <td>666020888022790149</td>\n      <td>https://pbs.twimg.com/media/CT4udn0WwAA0aMy.jpg</td>\n      <td>1</td>\n      <td>welsh_springer_spaniel</td>\n      <td>0.465074</td>\n      <td>True</td>\n      <td>collie</td>\n      <td>0.156665</td>\n      <td>True</td>\n      <td>shetland_sheepdog</td>\n      <td>0.061428</td>\n      <td>True</td>\n    </tr>\n    <tr>\n      <th>1</th>\n      <td>666029285002620928</td>\n      <td>https://pbs.twimg.com/media/CT42GRgUYAA5iDo.jpg</td>\n      <td>1</td>\n      <td>redbone</td>\n      <td>0.506826</td>\n      <td>True</td>\n      <td>miniature_pinscher</td>\n      <td>0.074192</td>\n      <td>True</td>\n      <td>rhodesian_ridgeback</td>\n      <td>0.072010</td>\n      <td>True</td>\n    </tr>\n    <tr>\n      <th>2</th>\n      <td>666033412701032449</td>\n      <td>https://pbs.twimg.com/media/CT4521TWwAEvMyu.jpg</td>\n      <td>1</td>\n      <td>german_shepherd</td>\n      <td>0.596461</td>\n      <td>True</td>\n      <td>malinois</td>\n      <td>0.138584</td>\n      <td>True</td>\n      <td>bloodhound</td>\n      <td>0.116197</td>\n      <td>True</td>\n    </tr>\n    <tr>\n      <th>3</th>\n      <td>666044226329800704</td>\n      <td>https://pbs.twimg.com/media/CT5Dr8HUEAA-lEu.jpg</td>\n      <td>1</td>\n      <td>rhodesian_ridgeback</td>\n      <td>0.408143</td>\n      <td>True</td>\n      <td>redbone</td>\n      <td>0.360687</td>\n      <td>True</td>\n      <td>miniature_pinscher</td>\n      <td>0.222752</td>\n      <td>True</td>\n    </tr>\n    <tr>\n      <th>4</th>\n      <td>666049248165822465</td>\n      <td>https://pbs.twimg.com/media/CT5IQmsXIAAKY4A.jpg</td>\n      <td>1</td>\n      <td>miniature_pinscher</td>\n      <td>0.560311</td>\n      <td>True</td>\n      <td>rottweiler</td>\n      <td>0.243682</td>\n      <td>True</td>\n      <td>doberman</td>\n      <td>0.154629</td>\n      <td>True</td>\n    </tr>\n    <tr>\n      <th>...</th>\n      <td>...</td>\n      <td>...</td>\n      <td>...</td>\n      <td>...</td>\n      <td>...</td>\n      <td>...</td>\n      <td>...</td>\n      <td>...</td>\n      <td>...</td>\n      <td>...</td>\n      <td>...</td>\n      <td>...</td>\n    </tr>\n    <tr>\n      <th>2070</th>\n      <td>891327558926688256</td>\n      <td>https://pbs.twimg.com/media/DF6hr6BUMAAzZgT.jpg</td>\n      <td>2</td>\n      <td>basset</td>\n      <td>0.555712</td>\n      <td>True</td>\n      <td>english_springer</td>\n      <td>0.225770</td>\n      <td>True</td>\n      <td>german_short-haired_pointer</td>\n      <td>0.175219</td>\n      <td>True</td>\n    </tr>\n    <tr>\n      <th>2071</th>\n      <td>891689557279858688</td>\n      <td>https://pbs.twimg.com/media/DF_q7IAWsAEuuN8.jpg</td>\n      <td>1</td>\n      <td>paper_towel</td>\n      <td>0.170278</td>\n      <td>False</td>\n      <td>labrador_retriever</td>\n      <td>0.168086</td>\n      <td>True</td>\n      <td>spatula</td>\n      <td>0.040836</td>\n      <td>False</td>\n    </tr>\n    <tr>\n      <th>2072</th>\n      <td>891815181378084864</td>\n      <td>https://pbs.twimg.com/media/DGBdLU1WsAANxJ9.jpg</td>\n      <td>1</td>\n      <td>chihuahua</td>\n      <td>0.716012</td>\n      <td>True</td>\n      <td>malamute</td>\n      <td>0.078253</td>\n      <td>True</td>\n      <td>kelpie</td>\n      <td>0.031379</td>\n      <td>True</td>\n    </tr>\n    <tr>\n      <th>2073</th>\n      <td>892177421306343426</td>\n      <td>https://pbs.twimg.com/media/DGGmoV4XsAAUL6n.jpg</td>\n      <td>1</td>\n      <td>chihuahua</td>\n      <td>0.323581</td>\n      <td>True</td>\n      <td>pekinese</td>\n      <td>0.090647</td>\n      <td>True</td>\n      <td>papillon</td>\n      <td>0.068957</td>\n      <td>True</td>\n    </tr>\n    <tr>\n      <th>2074</th>\n      <td>892420643555336193</td>\n      <td>https://pbs.twimg.com/media/DGKD1-bXoAAIAUK.jpg</td>\n      <td>1</td>\n      <td>orange</td>\n      <td>0.097049</td>\n      <td>False</td>\n      <td>bagel</td>\n      <td>0.085851</td>\n      <td>False</td>\n      <td>banana</td>\n      <td>0.076110</td>\n      <td>False</td>\n    </tr>\n  </tbody>\n</table>\n<p>2075 rows × 12 columns</p>\n</div>"
     },
     "metadata": {},
     "execution_count": 253
    }
   ],
   "source": [
    "#test\n",
    "df_image_predictions"
   ]
  },
  {
   "cell_type": "markdown",
   "metadata": {},
   "source": [
    "### Define\n",
    "**9. tweet_id is an integer format, should be string**\n",
    "\n",
    "Action: convert to str(object)"
   ]
  },
  {
   "source": [
    "### Code"
   ],
   "cell_type": "markdown",
   "metadata": {}
  },
  {
   "cell_type": "code",
   "execution_count": 173,
   "metadata": {},
   "outputs": [],
   "source": [
    "# convert to str\n",
    "df_image_predictions['tweet_id'] = df_image_predictions['tweet_id'].astype(str)\n"
   ]
  },
  {
   "source": [
    "### Test"
   ],
   "cell_type": "markdown",
   "metadata": {}
  },
  {
   "cell_type": "code",
   "execution_count": 174,
   "metadata": {},
   "outputs": [
    {
     "output_type": "execute_result",
     "data": {
      "text/plain": [
       "tweet_id     object\n",
       "jpg_url      object\n",
       "img_num       int64\n",
       "p1           object\n",
       "p1_conf     float64\n",
       "p1_dog         bool\n",
       "p2           object\n",
       "p2_conf     float64\n",
       "p2_dog         bool\n",
       "p3           object\n",
       "p3_conf     float64\n",
       "p3_dog         bool\n",
       "dtype: object"
      ]
     },
     "metadata": {},
     "execution_count": 174
    }
   ],
   "source": [
    "#test \n",
    "df_image_predictions.dtypes"
   ]
  },
  {
   "cell_type": "markdown",
   "metadata": {},
   "source": [
    "### Define \n",
    "*Tweets data set*\n",
    "\n",
    "**10. tweet_id is an integer format, should be string**\n",
    "\n",
    "Action: convert to str(object)"
   ]
  },
  {
   "source": [
    "### Code"
   ],
   "cell_type": "markdown",
   "metadata": {}
  },
  {
   "cell_type": "code",
   "execution_count": 175,
   "metadata": {},
   "outputs": [],
   "source": [
    "# convert to str\n",
    "df_tweets['tweet_id'] = df_tweets['tweet_id'].astype(str)\n"
   ]
  },
  {
   "source": [
    "### Test"
   ],
   "cell_type": "markdown",
   "metadata": {}
  },
  {
   "cell_type": "code",
   "execution_count": 176,
   "metadata": {},
   "outputs": [
    {
     "output_type": "execute_result",
     "data": {
      "text/plain": [
       "tweet_id          object\n",
       "retweet_count     object\n",
       "favorite_count    object\n",
       "dtype: object"
      ]
     },
     "metadata": {},
     "execution_count": 176
    }
   ],
   "source": [
    "# test\n",
    "df_tweets.dtypes"
   ]
  },
  {
   "cell_type": "markdown",
   "metadata": {},
   "source": [
    "### Define\n",
    "**11. Retweet and Favorite: retweet_count and favorite_count should be integers, not floats.**\n",
    "\n",
    "Action: convert to int"
   ]
  },
  {
   "source": [
    "### Code"
   ],
   "cell_type": "markdown",
   "metadata": {}
  },
  {
   "cell_type": "code",
   "execution_count": 177,
   "metadata": {},
   "outputs": [],
   "source": [
    "# convert to int\n",
    "df_tweets['retweet_count'] = df_tweets['retweet_count'].astype(int)"
   ]
  },
  {
   "cell_type": "code",
   "execution_count": 178,
   "metadata": {},
   "outputs": [],
   "source": [
    "# convert to int\n",
    "df_tweets['favorite_count'] = df_tweets['favorite_count'].astype(int)"
   ]
  },
  {
   "source": [
    "### Test"
   ],
   "cell_type": "markdown",
   "metadata": {}
  },
  {
   "cell_type": "code",
   "execution_count": 179,
   "metadata": {},
   "outputs": [
    {
     "output_type": "execute_result",
     "data": {
      "text/plain": [
       "tweet_id          object\n",
       "retweet_count      int64\n",
       "favorite_count     int64\n",
       "dtype: object"
      ]
     },
     "metadata": {},
     "execution_count": 179
    }
   ],
   "source": [
    "# test\n",
    "df_tweets.dtypes"
   ]
  },
  {
   "cell_type": "markdown",
   "metadata": {},
   "source": [
    "### Tidiness issues"
   ]
  },
  {
   "cell_type": "markdown",
   "metadata": {},
   "source": [
    "There is one issue which I continuely done throughout the cleaning process which belongs here: deleting the columns we don't need."
   ]
  },
  {
   "cell_type": "markdown",
   "metadata": {},
   "source": [
    "### Define\n",
    "\n",
    "**1. doggo, floofer, puppo, pupper should not be separate columns but one column and it should state what category the dog is in**\n",
    "\n",
    "Action: merge columns and create a column with either of these values"
   ]
  },
  {
   "source": [
    "### Code"
   ],
   "cell_type": "markdown",
   "metadata": {}
  },
  {
   "cell_type": "code",
   "execution_count": 180,
   "metadata": {},
   "outputs": [],
   "source": [
    "# merge columns and create a new column\n",
    "def select_dog_stage(row):\n",
    "    if row[\"doggo\"] == 'doggo':\n",
    "        return 'doggo'\n",
    "    elif row[\"floofer\"] == 'floofer':\n",
    "        return 'floofer'\n",
    "    elif row[\"pupper\"] == 'pupper':\n",
    "        return 'pupper'\n",
    "    elif row[\"puppo\"] == 'puppo':\n",
    "        return 'puppo'     \n",
    "    else:\n",
    "        return 'None'\n",
    "df_archive[\"dog_stage\"] = df_archive.apply(lambda x: select_dog_stage(x), axis=1)"
   ]
  },
  {
   "cell_type": "code",
   "execution_count": 181,
   "metadata": {
    "scrolled": true
   },
   "outputs": [
    {
     "output_type": "execute_result",
     "data": {
      "text/plain": [
       "None       1741\n",
       "pupper      213\n",
       "doggo        84\n",
       "puppo        24\n",
       "floofer       9\n",
       "Name: dog_stage, dtype: int64"
      ]
     },
     "metadata": {},
     "execution_count": 181
    }
   ],
   "source": [
    "# check if all migrated\n",
    "df_archive['dog_stage'].value_counts()"
   ]
  },
  {
   "cell_type": "code",
   "execution_count": 182,
   "metadata": {},
   "outputs": [
    {
     "output_type": "execute_result",
     "data": {
      "text/plain": [
       "                tweet_id in_reply_to_status_id in_reply_to_user_id  \\\n",
       "0     892420643555336193                   nan                 nan   \n",
       "1     892177421306343426                   nan                 nan   \n",
       "2     891815181378084864                   nan                 nan   \n",
       "3     891689557279858688                   nan                 nan   \n",
       "4     891327558926688256                   nan                 nan   \n",
       "...                  ...                   ...                 ...   \n",
       "2342  666082916733198337                   nan                 nan   \n",
       "2343  666073100786774016                   nan                 nan   \n",
       "2344  666071193221509120                   nan                 nan   \n",
       "2351  666049248165822465                   nan                 nan   \n",
       "2355  666020888022790149                   nan                 nan   \n",
       "\n",
       "                     timestamp                              source  \\\n",
       "0    2017-08-01 16:23:56+00:00  http://twitter.com/download/iphone   \n",
       "1    2017-08-01 00:17:27+00:00  http://twitter.com/download/iphone   \n",
       "2    2017-07-31 00:18:03+00:00  http://twitter.com/download/iphone   \n",
       "3    2017-07-30 15:58:51+00:00  http://twitter.com/download/iphone   \n",
       "4    2017-07-29 16:00:24+00:00  http://twitter.com/download/iphone   \n",
       "...                        ...                                 ...   \n",
       "2342 2015-11-16 02:38:37+00:00  http://twitter.com/download/iphone   \n",
       "2343 2015-11-16 01:59:36+00:00  http://twitter.com/download/iphone   \n",
       "2344 2015-11-16 01:52:02+00:00  http://twitter.com/download/iphone   \n",
       "2351 2015-11-16 00:24:50+00:00  http://twitter.com/download/iphone   \n",
       "2355 2015-11-15 22:32:08+00:00  http://twitter.com/download/iphone   \n",
       "\n",
       "                                                                                                                                                                    text  \\\n",
       "0                                                          This is Phineas. He's a mystical boy. Only ever appears in the hole of a donut. 13/10 https://t.co/MgUWQ76dJU   \n",
       "1     This is Tilly. She's just checking pup on you. Hopes you're doing ok. If not, she's available for pats, snugs, boops, the whole bit. 13/10 https://t.co/0Xxu71qeIV   \n",
       "2                      This is Archie. He is a rare Norwegian Pouncing Corgo. Lives in the tall grass. You never know when one may strike. 12/10 https://t.co/wUnZnhtVJB   \n",
       "3                                                                This is Darla. She commenced a snooze mid meal. 13/10 happens to the best of us https://t.co/tD36da7qLQ   \n",
       "4     This is Franklin. He would like you to stop calling him \"cute.\" He is a very fierce shark and should be respected as such. 12/10 #BarkWeek https://t.co/AtUZn91f7f   \n",
       "...                                                                                                                                                                  ...   \n",
       "2342                                       Here we have a well-established sunblockerspaniel. Lost his other flip-flop. 6/10 not very waterproof https://t.co/3RU6x0vHB7   \n",
       "2343                           Let's hope this flight isn't Malaysian (lol). What a dog! Almost completely camouflaged. 10/10 I trust this pilot https://t.co/Yk6GHE9tOY   \n",
       "2344                           Here we have a northern speckled Rhododendron. Much sass. Gives 0 fucks. Good tongue. 9/10 would caress sensually https://t.co/ZoL8kq2XFx   \n",
       "2351                                            Here we have a 1949 1st generation vulpix. Enjoys sweat tea and Fox News. Cannot be phased. 5/10 https://t.co/4B7cOc1EDq   \n",
       "2355                                 Here we have a Japanese Irish Setter. Lost eye in Vietnam (?). Big fan of relaxing on stair. 8/10 would pet https://t.co/BLDqew2Ijj   \n",
       "\n",
       "     retweeted_status_id retweeted_status_user_id retweeted_status_timestamp  \\\n",
       "0                    nan                      nan                        NaN   \n",
       "1                    nan                      nan                        NaN   \n",
       "2                    nan                      nan                        NaN   \n",
       "3                    nan                      nan                        NaN   \n",
       "4                    nan                      nan                        NaN   \n",
       "...                  ...                      ...                        ...   \n",
       "2342                 nan                      nan                        NaN   \n",
       "2343                 nan                      nan                        NaN   \n",
       "2344                 nan                      nan                        NaN   \n",
       "2351                 nan                      nan                        NaN   \n",
       "2355                 nan                      nan                        NaN   \n",
       "\n",
       "                                                                                                                        expanded_urls  \\\n",
       "0                                                                     https://twitter.com/dog_rates/status/892420643555336193/photo/1   \n",
       "1                                                                     https://twitter.com/dog_rates/status/892177421306343426/photo/1   \n",
       "2                                                                     https://twitter.com/dog_rates/status/891815181378084864/photo/1   \n",
       "3                                                                     https://twitter.com/dog_rates/status/891689557279858688/photo/1   \n",
       "4     https://twitter.com/dog_rates/status/891327558926688256/photo/1,https://twitter.com/dog_rates/status/891327558926688256/photo/1   \n",
       "...                                                                                                                               ...   \n",
       "2342                                                                  https://twitter.com/dog_rates/status/666082916733198337/photo/1   \n",
       "2343                                                                  https://twitter.com/dog_rates/status/666073100786774016/photo/1   \n",
       "2344                                                                  https://twitter.com/dog_rates/status/666071193221509120/photo/1   \n",
       "2351                                                                  https://twitter.com/dog_rates/status/666049248165822465/photo/1   \n",
       "2355                                                                  https://twitter.com/dog_rates/status/666020888022790149/photo/1   \n",
       "\n",
       "          name doggo floofer pupper puppo rating dog_stage  \n",
       "0      Phineas  None    None   None  None  13/10      None  \n",
       "1        Tilly  None    None   None  None  13/10      None  \n",
       "2       Archie  None    None   None  None  12/10      None  \n",
       "3        Darla  None    None   None  None  13/10      None  \n",
       "4     Franklin  None    None   None  None  12/10      None  \n",
       "...        ...   ...     ...    ...   ...    ...       ...  \n",
       "2342      None  None    None   None  None   6/10      None  \n",
       "2343      None  None    None   None  None  10/10      None  \n",
       "2344      None  None    None   None  None   9/10      None  \n",
       "2351      None  None    None   None  None   5/10      None  \n",
       "2355      None  None    None   None  None   8/10      None  \n",
       "\n",
       "[2071 rows x 17 columns]"
      ],
      "text/html": "<div>\n<style scoped>\n    .dataframe tbody tr th:only-of-type {\n        vertical-align: middle;\n    }\n\n    .dataframe tbody tr th {\n        vertical-align: top;\n    }\n\n    .dataframe thead th {\n        text-align: right;\n    }\n</style>\n<table border=\"1\" class=\"dataframe\">\n  <thead>\n    <tr style=\"text-align: right;\">\n      <th></th>\n      <th>tweet_id</th>\n      <th>in_reply_to_status_id</th>\n      <th>in_reply_to_user_id</th>\n      <th>timestamp</th>\n      <th>source</th>\n      <th>text</th>\n      <th>retweeted_status_id</th>\n      <th>retweeted_status_user_id</th>\n      <th>retweeted_status_timestamp</th>\n      <th>expanded_urls</th>\n      <th>name</th>\n      <th>doggo</th>\n      <th>floofer</th>\n      <th>pupper</th>\n      <th>puppo</th>\n      <th>rating</th>\n      <th>dog_stage</th>\n    </tr>\n  </thead>\n  <tbody>\n    <tr>\n      <th>0</th>\n      <td>892420643555336193</td>\n      <td>nan</td>\n      <td>nan</td>\n      <td>2017-08-01 16:23:56+00:00</td>\n      <td>http://twitter.com/download/iphone</td>\n      <td>This is Phineas. He's a mystical boy. Only ever appears in the hole of a donut. 13/10 https://t.co/MgUWQ76dJU</td>\n      <td>nan</td>\n      <td>nan</td>\n      <td>NaN</td>\n      <td>https://twitter.com/dog_rates/status/892420643555336193/photo/1</td>\n      <td>Phineas</td>\n      <td>None</td>\n      <td>None</td>\n      <td>None</td>\n      <td>None</td>\n      <td>13/10</td>\n      <td>None</td>\n    </tr>\n    <tr>\n      <th>1</th>\n      <td>892177421306343426</td>\n      <td>nan</td>\n      <td>nan</td>\n      <td>2017-08-01 00:17:27+00:00</td>\n      <td>http://twitter.com/download/iphone</td>\n      <td>This is Tilly. She's just checking pup on you. Hopes you're doing ok. If not, she's available for pats, snugs, boops, the whole bit. 13/10 https://t.co/0Xxu71qeIV</td>\n      <td>nan</td>\n      <td>nan</td>\n      <td>NaN</td>\n      <td>https://twitter.com/dog_rates/status/892177421306343426/photo/1</td>\n      <td>Tilly</td>\n      <td>None</td>\n      <td>None</td>\n      <td>None</td>\n      <td>None</td>\n      <td>13/10</td>\n      <td>None</td>\n    </tr>\n    <tr>\n      <th>2</th>\n      <td>891815181378084864</td>\n      <td>nan</td>\n      <td>nan</td>\n      <td>2017-07-31 00:18:03+00:00</td>\n      <td>http://twitter.com/download/iphone</td>\n      <td>This is Archie. He is a rare Norwegian Pouncing Corgo. Lives in the tall grass. You never know when one may strike. 12/10 https://t.co/wUnZnhtVJB</td>\n      <td>nan</td>\n      <td>nan</td>\n      <td>NaN</td>\n      <td>https://twitter.com/dog_rates/status/891815181378084864/photo/1</td>\n      <td>Archie</td>\n      <td>None</td>\n      <td>None</td>\n      <td>None</td>\n      <td>None</td>\n      <td>12/10</td>\n      <td>None</td>\n    </tr>\n    <tr>\n      <th>3</th>\n      <td>891689557279858688</td>\n      <td>nan</td>\n      <td>nan</td>\n      <td>2017-07-30 15:58:51+00:00</td>\n      <td>http://twitter.com/download/iphone</td>\n      <td>This is Darla. She commenced a snooze mid meal. 13/10 happens to the best of us https://t.co/tD36da7qLQ</td>\n      <td>nan</td>\n      <td>nan</td>\n      <td>NaN</td>\n      <td>https://twitter.com/dog_rates/status/891689557279858688/photo/1</td>\n      <td>Darla</td>\n      <td>None</td>\n      <td>None</td>\n      <td>None</td>\n      <td>None</td>\n      <td>13/10</td>\n      <td>None</td>\n    </tr>\n    <tr>\n      <th>4</th>\n      <td>891327558926688256</td>\n      <td>nan</td>\n      <td>nan</td>\n      <td>2017-07-29 16:00:24+00:00</td>\n      <td>http://twitter.com/download/iphone</td>\n      <td>This is Franklin. He would like you to stop calling him \"cute.\" He is a very fierce shark and should be respected as such. 12/10 #BarkWeek https://t.co/AtUZn91f7f</td>\n      <td>nan</td>\n      <td>nan</td>\n      <td>NaN</td>\n      <td>https://twitter.com/dog_rates/status/891327558926688256/photo/1,https://twitter.com/dog_rates/status/891327558926688256/photo/1</td>\n      <td>Franklin</td>\n      <td>None</td>\n      <td>None</td>\n      <td>None</td>\n      <td>None</td>\n      <td>12/10</td>\n      <td>None</td>\n    </tr>\n    <tr>\n      <th>...</th>\n      <td>...</td>\n      <td>...</td>\n      <td>...</td>\n      <td>...</td>\n      <td>...</td>\n      <td>...</td>\n      <td>...</td>\n      <td>...</td>\n      <td>...</td>\n      <td>...</td>\n      <td>...</td>\n      <td>...</td>\n      <td>...</td>\n      <td>...</td>\n      <td>...</td>\n      <td>...</td>\n      <td>...</td>\n    </tr>\n    <tr>\n      <th>2342</th>\n      <td>666082916733198337</td>\n      <td>nan</td>\n      <td>nan</td>\n      <td>2015-11-16 02:38:37+00:00</td>\n      <td>http://twitter.com/download/iphone</td>\n      <td>Here we have a well-established sunblockerspaniel. Lost his other flip-flop. 6/10 not very waterproof https://t.co/3RU6x0vHB7</td>\n      <td>nan</td>\n      <td>nan</td>\n      <td>NaN</td>\n      <td>https://twitter.com/dog_rates/status/666082916733198337/photo/1</td>\n      <td>None</td>\n      <td>None</td>\n      <td>None</td>\n      <td>None</td>\n      <td>None</td>\n      <td>6/10</td>\n      <td>None</td>\n    </tr>\n    <tr>\n      <th>2343</th>\n      <td>666073100786774016</td>\n      <td>nan</td>\n      <td>nan</td>\n      <td>2015-11-16 01:59:36+00:00</td>\n      <td>http://twitter.com/download/iphone</td>\n      <td>Let's hope this flight isn't Malaysian (lol). What a dog! Almost completely camouflaged. 10/10 I trust this pilot https://t.co/Yk6GHE9tOY</td>\n      <td>nan</td>\n      <td>nan</td>\n      <td>NaN</td>\n      <td>https://twitter.com/dog_rates/status/666073100786774016/photo/1</td>\n      <td>None</td>\n      <td>None</td>\n      <td>None</td>\n      <td>None</td>\n      <td>None</td>\n      <td>10/10</td>\n      <td>None</td>\n    </tr>\n    <tr>\n      <th>2344</th>\n      <td>666071193221509120</td>\n      <td>nan</td>\n      <td>nan</td>\n      <td>2015-11-16 01:52:02+00:00</td>\n      <td>http://twitter.com/download/iphone</td>\n      <td>Here we have a northern speckled Rhododendron. Much sass. Gives 0 fucks. Good tongue. 9/10 would caress sensually https://t.co/ZoL8kq2XFx</td>\n      <td>nan</td>\n      <td>nan</td>\n      <td>NaN</td>\n      <td>https://twitter.com/dog_rates/status/666071193221509120/photo/1</td>\n      <td>None</td>\n      <td>None</td>\n      <td>None</td>\n      <td>None</td>\n      <td>None</td>\n      <td>9/10</td>\n      <td>None</td>\n    </tr>\n    <tr>\n      <th>2351</th>\n      <td>666049248165822465</td>\n      <td>nan</td>\n      <td>nan</td>\n      <td>2015-11-16 00:24:50+00:00</td>\n      <td>http://twitter.com/download/iphone</td>\n      <td>Here we have a 1949 1st generation vulpix. Enjoys sweat tea and Fox News. Cannot be phased. 5/10 https://t.co/4B7cOc1EDq</td>\n      <td>nan</td>\n      <td>nan</td>\n      <td>NaN</td>\n      <td>https://twitter.com/dog_rates/status/666049248165822465/photo/1</td>\n      <td>None</td>\n      <td>None</td>\n      <td>None</td>\n      <td>None</td>\n      <td>None</td>\n      <td>5/10</td>\n      <td>None</td>\n    </tr>\n    <tr>\n      <th>2355</th>\n      <td>666020888022790149</td>\n      <td>nan</td>\n      <td>nan</td>\n      <td>2015-11-15 22:32:08+00:00</td>\n      <td>http://twitter.com/download/iphone</td>\n      <td>Here we have a Japanese Irish Setter. Lost eye in Vietnam (?). Big fan of relaxing on stair. 8/10 would pet https://t.co/BLDqew2Ijj</td>\n      <td>nan</td>\n      <td>nan</td>\n      <td>NaN</td>\n      <td>https://twitter.com/dog_rates/status/666020888022790149/photo/1</td>\n      <td>None</td>\n      <td>None</td>\n      <td>None</td>\n      <td>None</td>\n      <td>None</td>\n      <td>8/10</td>\n      <td>None</td>\n    </tr>\n  </tbody>\n</table>\n<p>2071 rows × 17 columns</p>\n</div>"
     },
     "metadata": {},
     "execution_count": 182
    }
   ],
   "source": [
    "#test \n",
    "df_archive"
   ]
  },
  {
   "cell_type": "code",
   "execution_count": 183,
   "metadata": {},
   "outputs": [],
   "source": [
    "# drop columns\n",
    "df_archive.drop(['doggo', 'floofer', 'pupper', 'puppo'], axis=1, inplace=True)"
   ]
  },
  {
   "source": [
    "### Test"
   ],
   "cell_type": "markdown",
   "metadata": {}
  },
  {
   "cell_type": "code",
   "execution_count": 184,
   "metadata": {},
   "outputs": [
    {
     "output_type": "execute_result",
     "data": {
      "text/plain": [
       "                tweet_id in_reply_to_status_id in_reply_to_user_id  \\\n",
       "0     892420643555336193                   nan                 nan   \n",
       "1     892177421306343426                   nan                 nan   \n",
       "2     891815181378084864                   nan                 nan   \n",
       "3     891689557279858688                   nan                 nan   \n",
       "4     891327558926688256                   nan                 nan   \n",
       "...                  ...                   ...                 ...   \n",
       "2342  666082916733198337                   nan                 nan   \n",
       "2343  666073100786774016                   nan                 nan   \n",
       "2344  666071193221509120                   nan                 nan   \n",
       "2351  666049248165822465                   nan                 nan   \n",
       "2355  666020888022790149                   nan                 nan   \n",
       "\n",
       "                     timestamp                              source  \\\n",
       "0    2017-08-01 16:23:56+00:00  http://twitter.com/download/iphone   \n",
       "1    2017-08-01 00:17:27+00:00  http://twitter.com/download/iphone   \n",
       "2    2017-07-31 00:18:03+00:00  http://twitter.com/download/iphone   \n",
       "3    2017-07-30 15:58:51+00:00  http://twitter.com/download/iphone   \n",
       "4    2017-07-29 16:00:24+00:00  http://twitter.com/download/iphone   \n",
       "...                        ...                                 ...   \n",
       "2342 2015-11-16 02:38:37+00:00  http://twitter.com/download/iphone   \n",
       "2343 2015-11-16 01:59:36+00:00  http://twitter.com/download/iphone   \n",
       "2344 2015-11-16 01:52:02+00:00  http://twitter.com/download/iphone   \n",
       "2351 2015-11-16 00:24:50+00:00  http://twitter.com/download/iphone   \n",
       "2355 2015-11-15 22:32:08+00:00  http://twitter.com/download/iphone   \n",
       "\n",
       "                                                                                                                                                                    text  \\\n",
       "0                                                          This is Phineas. He's a mystical boy. Only ever appears in the hole of a donut. 13/10 https://t.co/MgUWQ76dJU   \n",
       "1     This is Tilly. She's just checking pup on you. Hopes you're doing ok. If not, she's available for pats, snugs, boops, the whole bit. 13/10 https://t.co/0Xxu71qeIV   \n",
       "2                      This is Archie. He is a rare Norwegian Pouncing Corgo. Lives in the tall grass. You never know when one may strike. 12/10 https://t.co/wUnZnhtVJB   \n",
       "3                                                                This is Darla. She commenced a snooze mid meal. 13/10 happens to the best of us https://t.co/tD36da7qLQ   \n",
       "4     This is Franklin. He would like you to stop calling him \"cute.\" He is a very fierce shark and should be respected as such. 12/10 #BarkWeek https://t.co/AtUZn91f7f   \n",
       "...                                                                                                                                                                  ...   \n",
       "2342                                       Here we have a well-established sunblockerspaniel. Lost his other flip-flop. 6/10 not very waterproof https://t.co/3RU6x0vHB7   \n",
       "2343                           Let's hope this flight isn't Malaysian (lol). What a dog! Almost completely camouflaged. 10/10 I trust this pilot https://t.co/Yk6GHE9tOY   \n",
       "2344                           Here we have a northern speckled Rhododendron. Much sass. Gives 0 fucks. Good tongue. 9/10 would caress sensually https://t.co/ZoL8kq2XFx   \n",
       "2351                                            Here we have a 1949 1st generation vulpix. Enjoys sweat tea and Fox News. Cannot be phased. 5/10 https://t.co/4B7cOc1EDq   \n",
       "2355                                 Here we have a Japanese Irish Setter. Lost eye in Vietnam (?). Big fan of relaxing on stair. 8/10 would pet https://t.co/BLDqew2Ijj   \n",
       "\n",
       "     retweeted_status_id retweeted_status_user_id retweeted_status_timestamp  \\\n",
       "0                    nan                      nan                        NaN   \n",
       "1                    nan                      nan                        NaN   \n",
       "2                    nan                      nan                        NaN   \n",
       "3                    nan                      nan                        NaN   \n",
       "4                    nan                      nan                        NaN   \n",
       "...                  ...                      ...                        ...   \n",
       "2342                 nan                      nan                        NaN   \n",
       "2343                 nan                      nan                        NaN   \n",
       "2344                 nan                      nan                        NaN   \n",
       "2351                 nan                      nan                        NaN   \n",
       "2355                 nan                      nan                        NaN   \n",
       "\n",
       "                                                                                                                        expanded_urls  \\\n",
       "0                                                                     https://twitter.com/dog_rates/status/892420643555336193/photo/1   \n",
       "1                                                                     https://twitter.com/dog_rates/status/892177421306343426/photo/1   \n",
       "2                                                                     https://twitter.com/dog_rates/status/891815181378084864/photo/1   \n",
       "3                                                                     https://twitter.com/dog_rates/status/891689557279858688/photo/1   \n",
       "4     https://twitter.com/dog_rates/status/891327558926688256/photo/1,https://twitter.com/dog_rates/status/891327558926688256/photo/1   \n",
       "...                                                                                                                               ...   \n",
       "2342                                                                  https://twitter.com/dog_rates/status/666082916733198337/photo/1   \n",
       "2343                                                                  https://twitter.com/dog_rates/status/666073100786774016/photo/1   \n",
       "2344                                                                  https://twitter.com/dog_rates/status/666071193221509120/photo/1   \n",
       "2351                                                                  https://twitter.com/dog_rates/status/666049248165822465/photo/1   \n",
       "2355                                                                  https://twitter.com/dog_rates/status/666020888022790149/photo/1   \n",
       "\n",
       "          name rating dog_stage  \n",
       "0      Phineas  13/10      None  \n",
       "1        Tilly  13/10      None  \n",
       "2       Archie  12/10      None  \n",
       "3        Darla  13/10      None  \n",
       "4     Franklin  12/10      None  \n",
       "...        ...    ...       ...  \n",
       "2342      None   6/10      None  \n",
       "2343      None  10/10      None  \n",
       "2344      None   9/10      None  \n",
       "2351      None   5/10      None  \n",
       "2355      None   8/10      None  \n",
       "\n",
       "[2071 rows x 13 columns]"
      ],
      "text/html": "<div>\n<style scoped>\n    .dataframe tbody tr th:only-of-type {\n        vertical-align: middle;\n    }\n\n    .dataframe tbody tr th {\n        vertical-align: top;\n    }\n\n    .dataframe thead th {\n        text-align: right;\n    }\n</style>\n<table border=\"1\" class=\"dataframe\">\n  <thead>\n    <tr style=\"text-align: right;\">\n      <th></th>\n      <th>tweet_id</th>\n      <th>in_reply_to_status_id</th>\n      <th>in_reply_to_user_id</th>\n      <th>timestamp</th>\n      <th>source</th>\n      <th>text</th>\n      <th>retweeted_status_id</th>\n      <th>retweeted_status_user_id</th>\n      <th>retweeted_status_timestamp</th>\n      <th>expanded_urls</th>\n      <th>name</th>\n      <th>rating</th>\n      <th>dog_stage</th>\n    </tr>\n  </thead>\n  <tbody>\n    <tr>\n      <th>0</th>\n      <td>892420643555336193</td>\n      <td>nan</td>\n      <td>nan</td>\n      <td>2017-08-01 16:23:56+00:00</td>\n      <td>http://twitter.com/download/iphone</td>\n      <td>This is Phineas. He's a mystical boy. Only ever appears in the hole of a donut. 13/10 https://t.co/MgUWQ76dJU</td>\n      <td>nan</td>\n      <td>nan</td>\n      <td>NaN</td>\n      <td>https://twitter.com/dog_rates/status/892420643555336193/photo/1</td>\n      <td>Phineas</td>\n      <td>13/10</td>\n      <td>None</td>\n    </tr>\n    <tr>\n      <th>1</th>\n      <td>892177421306343426</td>\n      <td>nan</td>\n      <td>nan</td>\n      <td>2017-08-01 00:17:27+00:00</td>\n      <td>http://twitter.com/download/iphone</td>\n      <td>This is Tilly. She's just checking pup on you. Hopes you're doing ok. If not, she's available for pats, snugs, boops, the whole bit. 13/10 https://t.co/0Xxu71qeIV</td>\n      <td>nan</td>\n      <td>nan</td>\n      <td>NaN</td>\n      <td>https://twitter.com/dog_rates/status/892177421306343426/photo/1</td>\n      <td>Tilly</td>\n      <td>13/10</td>\n      <td>None</td>\n    </tr>\n    <tr>\n      <th>2</th>\n      <td>891815181378084864</td>\n      <td>nan</td>\n      <td>nan</td>\n      <td>2017-07-31 00:18:03+00:00</td>\n      <td>http://twitter.com/download/iphone</td>\n      <td>This is Archie. He is a rare Norwegian Pouncing Corgo. Lives in the tall grass. You never know when one may strike. 12/10 https://t.co/wUnZnhtVJB</td>\n      <td>nan</td>\n      <td>nan</td>\n      <td>NaN</td>\n      <td>https://twitter.com/dog_rates/status/891815181378084864/photo/1</td>\n      <td>Archie</td>\n      <td>12/10</td>\n      <td>None</td>\n    </tr>\n    <tr>\n      <th>3</th>\n      <td>891689557279858688</td>\n      <td>nan</td>\n      <td>nan</td>\n      <td>2017-07-30 15:58:51+00:00</td>\n      <td>http://twitter.com/download/iphone</td>\n      <td>This is Darla. She commenced a snooze mid meal. 13/10 happens to the best of us https://t.co/tD36da7qLQ</td>\n      <td>nan</td>\n      <td>nan</td>\n      <td>NaN</td>\n      <td>https://twitter.com/dog_rates/status/891689557279858688/photo/1</td>\n      <td>Darla</td>\n      <td>13/10</td>\n      <td>None</td>\n    </tr>\n    <tr>\n      <th>4</th>\n      <td>891327558926688256</td>\n      <td>nan</td>\n      <td>nan</td>\n      <td>2017-07-29 16:00:24+00:00</td>\n      <td>http://twitter.com/download/iphone</td>\n      <td>This is Franklin. He would like you to stop calling him \"cute.\" He is a very fierce shark and should be respected as such. 12/10 #BarkWeek https://t.co/AtUZn91f7f</td>\n      <td>nan</td>\n      <td>nan</td>\n      <td>NaN</td>\n      <td>https://twitter.com/dog_rates/status/891327558926688256/photo/1,https://twitter.com/dog_rates/status/891327558926688256/photo/1</td>\n      <td>Franklin</td>\n      <td>12/10</td>\n      <td>None</td>\n    </tr>\n    <tr>\n      <th>...</th>\n      <td>...</td>\n      <td>...</td>\n      <td>...</td>\n      <td>...</td>\n      <td>...</td>\n      <td>...</td>\n      <td>...</td>\n      <td>...</td>\n      <td>...</td>\n      <td>...</td>\n      <td>...</td>\n      <td>...</td>\n      <td>...</td>\n    </tr>\n    <tr>\n      <th>2342</th>\n      <td>666082916733198337</td>\n      <td>nan</td>\n      <td>nan</td>\n      <td>2015-11-16 02:38:37+00:00</td>\n      <td>http://twitter.com/download/iphone</td>\n      <td>Here we have a well-established sunblockerspaniel. Lost his other flip-flop. 6/10 not very waterproof https://t.co/3RU6x0vHB7</td>\n      <td>nan</td>\n      <td>nan</td>\n      <td>NaN</td>\n      <td>https://twitter.com/dog_rates/status/666082916733198337/photo/1</td>\n      <td>None</td>\n      <td>6/10</td>\n      <td>None</td>\n    </tr>\n    <tr>\n      <th>2343</th>\n      <td>666073100786774016</td>\n      <td>nan</td>\n      <td>nan</td>\n      <td>2015-11-16 01:59:36+00:00</td>\n      <td>http://twitter.com/download/iphone</td>\n      <td>Let's hope this flight isn't Malaysian (lol). What a dog! Almost completely camouflaged. 10/10 I trust this pilot https://t.co/Yk6GHE9tOY</td>\n      <td>nan</td>\n      <td>nan</td>\n      <td>NaN</td>\n      <td>https://twitter.com/dog_rates/status/666073100786774016/photo/1</td>\n      <td>None</td>\n      <td>10/10</td>\n      <td>None</td>\n    </tr>\n    <tr>\n      <th>2344</th>\n      <td>666071193221509120</td>\n      <td>nan</td>\n      <td>nan</td>\n      <td>2015-11-16 01:52:02+00:00</td>\n      <td>http://twitter.com/download/iphone</td>\n      <td>Here we have a northern speckled Rhododendron. Much sass. Gives 0 fucks. Good tongue. 9/10 would caress sensually https://t.co/ZoL8kq2XFx</td>\n      <td>nan</td>\n      <td>nan</td>\n      <td>NaN</td>\n      <td>https://twitter.com/dog_rates/status/666071193221509120/photo/1</td>\n      <td>None</td>\n      <td>9/10</td>\n      <td>None</td>\n    </tr>\n    <tr>\n      <th>2351</th>\n      <td>666049248165822465</td>\n      <td>nan</td>\n      <td>nan</td>\n      <td>2015-11-16 00:24:50+00:00</td>\n      <td>http://twitter.com/download/iphone</td>\n      <td>Here we have a 1949 1st generation vulpix. Enjoys sweat tea and Fox News. Cannot be phased. 5/10 https://t.co/4B7cOc1EDq</td>\n      <td>nan</td>\n      <td>nan</td>\n      <td>NaN</td>\n      <td>https://twitter.com/dog_rates/status/666049248165822465/photo/1</td>\n      <td>None</td>\n      <td>5/10</td>\n      <td>None</td>\n    </tr>\n    <tr>\n      <th>2355</th>\n      <td>666020888022790149</td>\n      <td>nan</td>\n      <td>nan</td>\n      <td>2015-11-15 22:32:08+00:00</td>\n      <td>http://twitter.com/download/iphone</td>\n      <td>Here we have a Japanese Irish Setter. Lost eye in Vietnam (?). Big fan of relaxing on stair. 8/10 would pet https://t.co/BLDqew2Ijj</td>\n      <td>nan</td>\n      <td>nan</td>\n      <td>NaN</td>\n      <td>https://twitter.com/dog_rates/status/666020888022790149/photo/1</td>\n      <td>None</td>\n      <td>8/10</td>\n      <td>None</td>\n    </tr>\n  </tbody>\n</table>\n<p>2071 rows × 13 columns</p>\n</div>"
     },
     "metadata": {},
     "execution_count": 184
    }
   ],
   "source": [
    "#test \n",
    "df_archive"
   ]
  },
  {
   "cell_type": "markdown",
   "metadata": {},
   "source": [
    "### Define\n",
    "**2. Merging the 3 datasets together(df_archived, df_image_predictions, df_tweets).**\n",
    "\n",
    "Action: check tweets_id column values in each dataset and merge the datasets"
   ]
  },
  {
   "source": [],
   "cell_type": "markdown",
   "metadata": {}
  },
  {
   "cell_type": "code",
   "execution_count": 185,
   "metadata": {},
   "outputs": [
    {
     "output_type": "execute_result",
     "data": {
      "text/plain": [
       "673612854080196609    1\n",
       "717009362452090881    1\n",
       "750011400160841729    1\n",
       "676533798876651520    1\n",
       "670374371102445568    1\n",
       "                     ..\n",
       "844979544864018432    1\n",
       "831262627380748289    1\n",
       "680145970311643136    1\n",
       "752568224206688256    1\n",
       "828361771580813312    1\n",
       "Name: tweet_id, Length: 2071, dtype: int64"
      ]
     },
     "metadata": {},
     "execution_count": 185
    }
   ],
   "source": [
    "df_archive['tweet_id'].value_counts()"
   ]
  },
  {
   "cell_type": "code",
   "execution_count": 186,
   "metadata": {},
   "outputs": [
    {
     "output_type": "execute_result",
     "data": {
      "text/plain": [
       "666781792255496192    1\n",
       "725729321944506368    1\n",
       "710997087345876993    1\n",
       "738885046782832640    1\n",
       "699775878809702401    1\n",
       "                     ..\n",
       "785170936622350336    1\n",
       "695064344191721472    1\n",
       "774314403806253056    1\n",
       "670995969505435648    1\n",
       "695816827381944320    1\n",
       "Name: tweet_id, Length: 2075, dtype: int64"
      ]
     },
     "metadata": {},
     "execution_count": 186
    }
   ],
   "source": [
    "df_image_predictions['tweet_id'].value_counts()"
   ]
  },
  {
   "cell_type": "code",
   "execution_count": 187,
   "metadata": {},
   "outputs": [
    {
     "output_type": "execute_result",
     "data": {
      "text/plain": [
       "666781792255496192    1\n",
       "700518061187723268    1\n",
       "738885046782832640    1\n",
       "699775878809702401    1\n",
       "678764513869611008    1\n",
       "                     ..\n",
       "817827839487737858    1\n",
       "828650029636317184    1\n",
       "785170936622350336    1\n",
       "695064344191721472    1\n",
       "695816827381944320    1\n",
       "Name: tweet_id, Length: 1793, dtype: int64"
      ]
     },
     "metadata": {},
     "execution_count": 187
    }
   ],
   "source": [
    "df_tweets['tweet_id'].value_counts()"
   ]
  },
  {
   "cell_type": "code",
   "execution_count": 188,
   "metadata": {},
   "outputs": [],
   "source": [
    "#merge \n",
    "df_master_on =  df_archive.merge(df_image_predictions.merge(df_tweets), how='left', on=['tweet_id'])"
   ]
  },
  {
   "cell_type": "code",
   "execution_count": 189,
   "metadata": {},
   "outputs": [
    {
     "output_type": "execute_result",
     "data": {
      "text/plain": [
       "(2071, 26)"
      ]
     },
     "metadata": {},
     "execution_count": 189
    }
   ],
   "source": [
    "#test if rows didn't disappear\n",
    "df_master_on.shape"
   ]
  },
  {
   "cell_type": "code",
   "execution_count": 190,
   "metadata": {},
   "outputs": [
    {
     "output_type": "execute_result",
     "data": {
      "text/plain": [
       "                tweet_id in_reply_to_status_id in_reply_to_user_id  \\\n",
       "0     892420643555336193                   nan                 nan   \n",
       "1     892177421306343426                   nan                 nan   \n",
       "2     891815181378084864                   nan                 nan   \n",
       "3     891689557279858688                   nan                 nan   \n",
       "4     891327558926688256                   nan                 nan   \n",
       "...                  ...                   ...                 ...   \n",
       "2066  666082916733198337                   nan                 nan   \n",
       "2067  666073100786774016                   nan                 nan   \n",
       "2068  666071193221509120                   nan                 nan   \n",
       "2069  666049248165822465                   nan                 nan   \n",
       "2070  666020888022790149                   nan                 nan   \n",
       "\n",
       "                     timestamp                              source  \\\n",
       "0    2017-08-01 16:23:56+00:00  http://twitter.com/download/iphone   \n",
       "1    2017-08-01 00:17:27+00:00  http://twitter.com/download/iphone   \n",
       "2    2017-07-31 00:18:03+00:00  http://twitter.com/download/iphone   \n",
       "3    2017-07-30 15:58:51+00:00  http://twitter.com/download/iphone   \n",
       "4    2017-07-29 16:00:24+00:00  http://twitter.com/download/iphone   \n",
       "...                        ...                                 ...   \n",
       "2066 2015-11-16 02:38:37+00:00  http://twitter.com/download/iphone   \n",
       "2067 2015-11-16 01:59:36+00:00  http://twitter.com/download/iphone   \n",
       "2068 2015-11-16 01:52:02+00:00  http://twitter.com/download/iphone   \n",
       "2069 2015-11-16 00:24:50+00:00  http://twitter.com/download/iphone   \n",
       "2070 2015-11-15 22:32:08+00:00  http://twitter.com/download/iphone   \n",
       "\n",
       "                                                                                                                                                                    text  \\\n",
       "0                                                          This is Phineas. He's a mystical boy. Only ever appears in the hole of a donut. 13/10 https://t.co/MgUWQ76dJU   \n",
       "1     This is Tilly. She's just checking pup on you. Hopes you're doing ok. If not, she's available for pats, snugs, boops, the whole bit. 13/10 https://t.co/0Xxu71qeIV   \n",
       "2                      This is Archie. He is a rare Norwegian Pouncing Corgo. Lives in the tall grass. You never know when one may strike. 12/10 https://t.co/wUnZnhtVJB   \n",
       "3                                                                This is Darla. She commenced a snooze mid meal. 13/10 happens to the best of us https://t.co/tD36da7qLQ   \n",
       "4     This is Franklin. He would like you to stop calling him \"cute.\" He is a very fierce shark and should be respected as such. 12/10 #BarkWeek https://t.co/AtUZn91f7f   \n",
       "...                                                                                                                                                                  ...   \n",
       "2066                                       Here we have a well-established sunblockerspaniel. Lost his other flip-flop. 6/10 not very waterproof https://t.co/3RU6x0vHB7   \n",
       "2067                           Let's hope this flight isn't Malaysian (lol). What a dog! Almost completely camouflaged. 10/10 I trust this pilot https://t.co/Yk6GHE9tOY   \n",
       "2068                           Here we have a northern speckled Rhododendron. Much sass. Gives 0 fucks. Good tongue. 9/10 would caress sensually https://t.co/ZoL8kq2XFx   \n",
       "2069                                            Here we have a 1949 1st generation vulpix. Enjoys sweat tea and Fox News. Cannot be phased. 5/10 https://t.co/4B7cOc1EDq   \n",
       "2070                                 Here we have a Japanese Irish Setter. Lost eye in Vietnam (?). Big fan of relaxing on stair. 8/10 would pet https://t.co/BLDqew2Ijj   \n",
       "\n",
       "     retweeted_status_id retweeted_status_user_id retweeted_status_timestamp  \\\n",
       "0                    nan                      nan                        NaN   \n",
       "1                    nan                      nan                        NaN   \n",
       "2                    nan                      nan                        NaN   \n",
       "3                    nan                      nan                        NaN   \n",
       "4                    nan                      nan                        NaN   \n",
       "...                  ...                      ...                        ...   \n",
       "2066                 nan                      nan                        NaN   \n",
       "2067                 nan                      nan                        NaN   \n",
       "2068                 nan                      nan                        NaN   \n",
       "2069                 nan                      nan                        NaN   \n",
       "2070                 nan                      nan                        NaN   \n",
       "\n",
       "                                                                                                                        expanded_urls  \\\n",
       "0                                                                     https://twitter.com/dog_rates/status/892420643555336193/photo/1   \n",
       "1                                                                     https://twitter.com/dog_rates/status/892177421306343426/photo/1   \n",
       "2                                                                     https://twitter.com/dog_rates/status/891815181378084864/photo/1   \n",
       "3                                                                     https://twitter.com/dog_rates/status/891689557279858688/photo/1   \n",
       "4     https://twitter.com/dog_rates/status/891327558926688256/photo/1,https://twitter.com/dog_rates/status/891327558926688256/photo/1   \n",
       "...                                                                                                                               ...   \n",
       "2066                                                                  https://twitter.com/dog_rates/status/666082916733198337/photo/1   \n",
       "2067                                                                  https://twitter.com/dog_rates/status/666073100786774016/photo/1   \n",
       "2068                                                                  https://twitter.com/dog_rates/status/666071193221509120/photo/1   \n",
       "2069                                                                  https://twitter.com/dog_rates/status/666049248165822465/photo/1   \n",
       "2070                                                                  https://twitter.com/dog_rates/status/666020888022790149/photo/1   \n",
       "\n",
       "      ...   p1_conf p1_dog                 p2   p2_conf  p2_dog  \\\n",
       "0     ...       NaN    NaN                NaN       NaN     NaN   \n",
       "1     ...       NaN    NaN                NaN       NaN     NaN   \n",
       "2     ...       NaN    NaN                NaN       NaN     NaN   \n",
       "3     ...       NaN    NaN                NaN       NaN     NaN   \n",
       "4     ...       NaN    NaN                NaN       NaN     NaN   \n",
       "...   ...       ...    ...                ...       ...     ...   \n",
       "2066  ...  0.489814   True       bull_mastiff  0.404722    True   \n",
       "2067  ...  0.260857   True   english_foxhound  0.175382    True   \n",
       "2068  ...  0.503672   True  yorkshire_terrier  0.174201    True   \n",
       "2069  ...  0.560311   True         rottweiler  0.243682    True   \n",
       "2070  ...  0.465074   True             collie  0.156665    True   \n",
       "\n",
       "                     p3   p3_conf p3_dog retweet_count  favorite_count  \n",
       "0                   NaN       NaN    NaN           NaN             NaN  \n",
       "1                   NaN       NaN    NaN           NaN             NaN  \n",
       "2                   NaN       NaN    NaN           NaN             NaN  \n",
       "3                   NaN       NaN    NaN           NaN             NaN  \n",
       "4                   NaN       NaN    NaN           NaN             NaN  \n",
       "...                 ...       ...    ...           ...             ...  \n",
       "2066     french_bulldog  0.048960   True          41.0           101.0  \n",
       "2067       ibizan_hound  0.097471   True         140.0           282.0  \n",
       "2068           pekinese  0.109454   True          52.0           134.0  \n",
       "2069           doberman  0.154629   True          38.0            94.0  \n",
       "2070  shetland_sheepdog  0.061428   True         445.0          2337.0  \n",
       "\n",
       "[2071 rows x 26 columns]"
      ],
      "text/html": "<div>\n<style scoped>\n    .dataframe tbody tr th:only-of-type {\n        vertical-align: middle;\n    }\n\n    .dataframe tbody tr th {\n        vertical-align: top;\n    }\n\n    .dataframe thead th {\n        text-align: right;\n    }\n</style>\n<table border=\"1\" class=\"dataframe\">\n  <thead>\n    <tr style=\"text-align: right;\">\n      <th></th>\n      <th>tweet_id</th>\n      <th>in_reply_to_status_id</th>\n      <th>in_reply_to_user_id</th>\n      <th>timestamp</th>\n      <th>source</th>\n      <th>text</th>\n      <th>retweeted_status_id</th>\n      <th>retweeted_status_user_id</th>\n      <th>retweeted_status_timestamp</th>\n      <th>expanded_urls</th>\n      <th>...</th>\n      <th>p1_conf</th>\n      <th>p1_dog</th>\n      <th>p2</th>\n      <th>p2_conf</th>\n      <th>p2_dog</th>\n      <th>p3</th>\n      <th>p3_conf</th>\n      <th>p3_dog</th>\n      <th>retweet_count</th>\n      <th>favorite_count</th>\n    </tr>\n  </thead>\n  <tbody>\n    <tr>\n      <th>0</th>\n      <td>892420643555336193</td>\n      <td>nan</td>\n      <td>nan</td>\n      <td>2017-08-01 16:23:56+00:00</td>\n      <td>http://twitter.com/download/iphone</td>\n      <td>This is Phineas. He's a mystical boy. Only ever appears in the hole of a donut. 13/10 https://t.co/MgUWQ76dJU</td>\n      <td>nan</td>\n      <td>nan</td>\n      <td>NaN</td>\n      <td>https://twitter.com/dog_rates/status/892420643555336193/photo/1</td>\n      <td>...</td>\n      <td>NaN</td>\n      <td>NaN</td>\n      <td>NaN</td>\n      <td>NaN</td>\n      <td>NaN</td>\n      <td>NaN</td>\n      <td>NaN</td>\n      <td>NaN</td>\n      <td>NaN</td>\n      <td>NaN</td>\n    </tr>\n    <tr>\n      <th>1</th>\n      <td>892177421306343426</td>\n      <td>nan</td>\n      <td>nan</td>\n      <td>2017-08-01 00:17:27+00:00</td>\n      <td>http://twitter.com/download/iphone</td>\n      <td>This is Tilly. She's just checking pup on you. Hopes you're doing ok. If not, she's available for pats, snugs, boops, the whole bit. 13/10 https://t.co/0Xxu71qeIV</td>\n      <td>nan</td>\n      <td>nan</td>\n      <td>NaN</td>\n      <td>https://twitter.com/dog_rates/status/892177421306343426/photo/1</td>\n      <td>...</td>\n      <td>NaN</td>\n      <td>NaN</td>\n      <td>NaN</td>\n      <td>NaN</td>\n      <td>NaN</td>\n      <td>NaN</td>\n      <td>NaN</td>\n      <td>NaN</td>\n      <td>NaN</td>\n      <td>NaN</td>\n    </tr>\n    <tr>\n      <th>2</th>\n      <td>891815181378084864</td>\n      <td>nan</td>\n      <td>nan</td>\n      <td>2017-07-31 00:18:03+00:00</td>\n      <td>http://twitter.com/download/iphone</td>\n      <td>This is Archie. He is a rare Norwegian Pouncing Corgo. Lives in the tall grass. You never know when one may strike. 12/10 https://t.co/wUnZnhtVJB</td>\n      <td>nan</td>\n      <td>nan</td>\n      <td>NaN</td>\n      <td>https://twitter.com/dog_rates/status/891815181378084864/photo/1</td>\n      <td>...</td>\n      <td>NaN</td>\n      <td>NaN</td>\n      <td>NaN</td>\n      <td>NaN</td>\n      <td>NaN</td>\n      <td>NaN</td>\n      <td>NaN</td>\n      <td>NaN</td>\n      <td>NaN</td>\n      <td>NaN</td>\n    </tr>\n    <tr>\n      <th>3</th>\n      <td>891689557279858688</td>\n      <td>nan</td>\n      <td>nan</td>\n      <td>2017-07-30 15:58:51+00:00</td>\n      <td>http://twitter.com/download/iphone</td>\n      <td>This is Darla. She commenced a snooze mid meal. 13/10 happens to the best of us https://t.co/tD36da7qLQ</td>\n      <td>nan</td>\n      <td>nan</td>\n      <td>NaN</td>\n      <td>https://twitter.com/dog_rates/status/891689557279858688/photo/1</td>\n      <td>...</td>\n      <td>NaN</td>\n      <td>NaN</td>\n      <td>NaN</td>\n      <td>NaN</td>\n      <td>NaN</td>\n      <td>NaN</td>\n      <td>NaN</td>\n      <td>NaN</td>\n      <td>NaN</td>\n      <td>NaN</td>\n    </tr>\n    <tr>\n      <th>4</th>\n      <td>891327558926688256</td>\n      <td>nan</td>\n      <td>nan</td>\n      <td>2017-07-29 16:00:24+00:00</td>\n      <td>http://twitter.com/download/iphone</td>\n      <td>This is Franklin. He would like you to stop calling him \"cute.\" He is a very fierce shark and should be respected as such. 12/10 #BarkWeek https://t.co/AtUZn91f7f</td>\n      <td>nan</td>\n      <td>nan</td>\n      <td>NaN</td>\n      <td>https://twitter.com/dog_rates/status/891327558926688256/photo/1,https://twitter.com/dog_rates/status/891327558926688256/photo/1</td>\n      <td>...</td>\n      <td>NaN</td>\n      <td>NaN</td>\n      <td>NaN</td>\n      <td>NaN</td>\n      <td>NaN</td>\n      <td>NaN</td>\n      <td>NaN</td>\n      <td>NaN</td>\n      <td>NaN</td>\n      <td>NaN</td>\n    </tr>\n    <tr>\n      <th>...</th>\n      <td>...</td>\n      <td>...</td>\n      <td>...</td>\n      <td>...</td>\n      <td>...</td>\n      <td>...</td>\n      <td>...</td>\n      <td>...</td>\n      <td>...</td>\n      <td>...</td>\n      <td>...</td>\n      <td>...</td>\n      <td>...</td>\n      <td>...</td>\n      <td>...</td>\n      <td>...</td>\n      <td>...</td>\n      <td>...</td>\n      <td>...</td>\n      <td>...</td>\n      <td>...</td>\n    </tr>\n    <tr>\n      <th>2066</th>\n      <td>666082916733198337</td>\n      <td>nan</td>\n      <td>nan</td>\n      <td>2015-11-16 02:38:37+00:00</td>\n      <td>http://twitter.com/download/iphone</td>\n      <td>Here we have a well-established sunblockerspaniel. Lost his other flip-flop. 6/10 not very waterproof https://t.co/3RU6x0vHB7</td>\n      <td>nan</td>\n      <td>nan</td>\n      <td>NaN</td>\n      <td>https://twitter.com/dog_rates/status/666082916733198337/photo/1</td>\n      <td>...</td>\n      <td>0.489814</td>\n      <td>True</td>\n      <td>bull_mastiff</td>\n      <td>0.404722</td>\n      <td>True</td>\n      <td>french_bulldog</td>\n      <td>0.048960</td>\n      <td>True</td>\n      <td>41.0</td>\n      <td>101.0</td>\n    </tr>\n    <tr>\n      <th>2067</th>\n      <td>666073100786774016</td>\n      <td>nan</td>\n      <td>nan</td>\n      <td>2015-11-16 01:59:36+00:00</td>\n      <td>http://twitter.com/download/iphone</td>\n      <td>Let's hope this flight isn't Malaysian (lol). What a dog! Almost completely camouflaged. 10/10 I trust this pilot https://t.co/Yk6GHE9tOY</td>\n      <td>nan</td>\n      <td>nan</td>\n      <td>NaN</td>\n      <td>https://twitter.com/dog_rates/status/666073100786774016/photo/1</td>\n      <td>...</td>\n      <td>0.260857</td>\n      <td>True</td>\n      <td>english_foxhound</td>\n      <td>0.175382</td>\n      <td>True</td>\n      <td>ibizan_hound</td>\n      <td>0.097471</td>\n      <td>True</td>\n      <td>140.0</td>\n      <td>282.0</td>\n    </tr>\n    <tr>\n      <th>2068</th>\n      <td>666071193221509120</td>\n      <td>nan</td>\n      <td>nan</td>\n      <td>2015-11-16 01:52:02+00:00</td>\n      <td>http://twitter.com/download/iphone</td>\n      <td>Here we have a northern speckled Rhododendron. Much sass. Gives 0 fucks. Good tongue. 9/10 would caress sensually https://t.co/ZoL8kq2XFx</td>\n      <td>nan</td>\n      <td>nan</td>\n      <td>NaN</td>\n      <td>https://twitter.com/dog_rates/status/666071193221509120/photo/1</td>\n      <td>...</td>\n      <td>0.503672</td>\n      <td>True</td>\n      <td>yorkshire_terrier</td>\n      <td>0.174201</td>\n      <td>True</td>\n      <td>pekinese</td>\n      <td>0.109454</td>\n      <td>True</td>\n      <td>52.0</td>\n      <td>134.0</td>\n    </tr>\n    <tr>\n      <th>2069</th>\n      <td>666049248165822465</td>\n      <td>nan</td>\n      <td>nan</td>\n      <td>2015-11-16 00:24:50+00:00</td>\n      <td>http://twitter.com/download/iphone</td>\n      <td>Here we have a 1949 1st generation vulpix. Enjoys sweat tea and Fox News. Cannot be phased. 5/10 https://t.co/4B7cOc1EDq</td>\n      <td>nan</td>\n      <td>nan</td>\n      <td>NaN</td>\n      <td>https://twitter.com/dog_rates/status/666049248165822465/photo/1</td>\n      <td>...</td>\n      <td>0.560311</td>\n      <td>True</td>\n      <td>rottweiler</td>\n      <td>0.243682</td>\n      <td>True</td>\n      <td>doberman</td>\n      <td>0.154629</td>\n      <td>True</td>\n      <td>38.0</td>\n      <td>94.0</td>\n    </tr>\n    <tr>\n      <th>2070</th>\n      <td>666020888022790149</td>\n      <td>nan</td>\n      <td>nan</td>\n      <td>2015-11-15 22:32:08+00:00</td>\n      <td>http://twitter.com/download/iphone</td>\n      <td>Here we have a Japanese Irish Setter. Lost eye in Vietnam (?). Big fan of relaxing on stair. 8/10 would pet https://t.co/BLDqew2Ijj</td>\n      <td>nan</td>\n      <td>nan</td>\n      <td>NaN</td>\n      <td>https://twitter.com/dog_rates/status/666020888022790149/photo/1</td>\n      <td>...</td>\n      <td>0.465074</td>\n      <td>True</td>\n      <td>collie</td>\n      <td>0.156665</td>\n      <td>True</td>\n      <td>shetland_sheepdog</td>\n      <td>0.061428</td>\n      <td>True</td>\n      <td>445.0</td>\n      <td>2337.0</td>\n    </tr>\n  </tbody>\n</table>\n<p>2071 rows × 26 columns</p>\n</div>"
     },
     "metadata": {},
     "execution_count": 190
    }
   ],
   "source": [
    "df_master_on"
   ]
  },
  {
   "cell_type": "markdown",
   "metadata": {},
   "source": [
    "Well, I'm not 100% satisfied with the quality of the merged data set now that I see it all together, but as clearing it properly will take a lot of time and that's not a requirement - I will leave it like this for now."
   ]
  },
  {
   "cell_type": "code",
   "execution_count": null,
   "metadata": {},
   "outputs": [],
   "source": []
  },
  {
   "cell_type": "markdown",
   "metadata": {},
   "source": [
    "### Storing, Analyzing, and Visualizing Data for this Project\n",
    "\n",
    "\n"
   ]
  },
  {
   "cell_type": "markdown",
   "metadata": {},
   "source": [
    "I will include 3 insights, visualising one of them with a barplot.\n",
    "\n",
    "- Common dog names\n",
    "- Tweets favorited by most users?\n",
    "- What are the most common breeds found by the neural network?\n"
   ]
  },
  {
   "cell_type": "code",
   "execution_count": 232,
   "metadata": {},
   "outputs": [],
   "source": [
    "#save the DF to a new csv\n",
    "df_master_on.to_csv(r'/Users/lilmac/Dropbox/Data Analytics/Data Analysis Project/twitter_archive_master.csv', index=False)\n"
   ]
  },
  {
   "cell_type": "code",
   "execution_count": 197,
   "metadata": {},
   "outputs": [
    {
     "output_type": "execute_result",
     "data": {
      "text/plain": [
       "None       680\n",
       "Lucy        11\n",
       "Charlie     11\n",
       "Cooper      10\n",
       "Oliver      10\n",
       "          ... \n",
       "Jeffrie      1\n",
       "Cecil        1\n",
       "Divine       1\n",
       "Bloo         1\n",
       "Monty        1\n",
       "Name: name, Length: 931, dtype: int64"
      ]
     },
     "metadata": {},
     "execution_count": 197
    }
   ],
   "source": [
    "#see what are the most common dog names\n",
    "df_master_on['name'].value_counts()"
   ]
  },
  {
   "cell_type": "code",
   "execution_count": 200,
   "metadata": {},
   "outputs": [],
   "source": [
    "#clean the None values first\n",
    "df_master_on.drop(df_master_on.index[df_master_on['name'] == 'None'], inplace = True)"
   ]
  },
  {
   "cell_type": "code",
   "execution_count": 230,
   "metadata": {},
   "outputs": [
    {
     "output_type": "execute_result",
     "data": {
      "text/plain": [
       "Charlie    11\n",
       "Lucy       11\n",
       "Oliver     10\n",
       "Cooper     10\n",
       "Penny       9\n",
       "           ..\n",
       "Iroh        1\n",
       "Kanu        1\n",
       "Jeffrie     1\n",
       "Cecil       1\n",
       "Monty       1\n",
       "Name: name, Length: 930, dtype: int64"
      ]
     },
     "metadata": {},
     "execution_count": 230
    }
   ],
   "source": [
    "#see what are the most common dog names\n",
    "df_master_on['name'].value_counts()"
   ]
  },
  {
   "cell_type": "code",
   "execution_count": 231,
   "metadata": {},
   "outputs": [],
   "source": [
    "#import libraries to visualize\n",
    "import seaborn as sb\n",
    "import matplotlib.pyplot as plt\n",
    "%matplotlib inline"
   ]
  },
  {
   "cell_type": "code",
   "execution_count": 250,
   "metadata": {},
   "outputs": [
    {
     "output_type": "execute_result",
     "data": {
      "text/plain": [
       "(array([0, 1, 2, 3, 4]),\n",
       " [Text(0, 0, 'Charlie'),\n",
       "  Text(1, 0, 'Lucy'),\n",
       "  Text(2, 0, 'Oliver'),\n",
       "  Text(3, 0, 'Cooper'),\n",
       "  Text(4, 0, 'Penny')])"
      ]
     },
     "metadata": {},
     "execution_count": 250
    },
    {
     "output_type": "display_data",
     "data": {
      "text/plain": "<Figure size 432x288 with 1 Axes>",
      "image/svg+xml": "<?xml version=\"1.0\" encoding=\"utf-8\" standalone=\"no\"?>\n<!DOCTYPE svg PUBLIC \"-//W3C//DTD SVG 1.1//EN\"\n  \"http://www.w3.org/Graphics/SVG/1.1/DTD/svg11.dtd\">\n<!-- Created with matplotlib (https://matplotlib.org/) -->\n<svg height=\"286.258815pt\" version=\"1.1\" viewBox=\"0 0 382.603125 286.258815\" width=\"382.603125pt\" xmlns=\"http://www.w3.org/2000/svg\" xmlns:xlink=\"http://www.w3.org/1999/xlink\">\n <metadata>\n  <rdf:RDF xmlns:cc=\"http://creativecommons.org/ns#\" xmlns:dc=\"http://purl.org/dc/elements/1.1/\" xmlns:rdf=\"http://www.w3.org/1999/02/22-rdf-syntax-ns#\">\n   <cc:Work>\n    <dc:type rdf:resource=\"http://purl.org/dc/dcmitype/StillImage\"/>\n    <dc:date>2021-01-16T14:02:29.713660</dc:date>\n    <dc:format>image/svg+xml</dc:format>\n    <dc:creator>\n     <cc:Agent>\n      <dc:title>Matplotlib v3.3.1, https://matplotlib.org/</dc:title>\n     </cc:Agent>\n    </dc:creator>\n   </cc:Work>\n  </rdf:RDF>\n </metadata>\n <defs>\n  <style type=\"text/css\">*{stroke-linecap:butt;stroke-linejoin:round;}</style>\n </defs>\n <g id=\"figure_1\">\n  <g id=\"patch_1\">\n   <path d=\"M 0 286.258815 \nL 382.603125 286.258815 \nL 382.603125 0 \nL 0 0 \nz\n\" style=\"fill:none;\"/>\n  </g>\n  <g id=\"axes_1\">\n   <g id=\"patch_2\">\n    <path d=\"M 40.603125 239.758125 \nL 375.403125 239.758125 \nL 375.403125 22.318125 \nL 40.603125 22.318125 \nz\n\" style=\"fill:#ffffff;\"/>\n   </g>\n   <g id=\"patch_3\">\n    <path clip-path=\"url(#p42d717faaa)\" d=\"M 57.343125 239.758125 \nL 90.823125 239.758125 \nL 90.823125 32.672411 \nL 57.343125 32.672411 \nz\n\" style=\"fill:#1f77b4;\"/>\n   </g>\n   <g id=\"patch_4\">\n    <path clip-path=\"url(#p42d717faaa)\" d=\"M 124.303125 239.758125 \nL 157.783125 239.758125 \nL 157.783125 32.672411 \nL 124.303125 32.672411 \nz\n\" style=\"fill:#1f77b4;\"/>\n   </g>\n   <g id=\"patch_5\">\n    <path clip-path=\"url(#p42d717faaa)\" d=\"M 191.263125 239.758125 \nL 224.743125 239.758125 \nL 224.743125 51.498385 \nL 191.263125 51.498385 \nz\n\" style=\"fill:#1f77b4;\"/>\n   </g>\n   <g id=\"patch_6\">\n    <path clip-path=\"url(#p42d717faaa)\" d=\"M 258.223125 239.758125 \nL 291.703125 239.758125 \nL 291.703125 51.498385 \nL 258.223125 51.498385 \nz\n\" style=\"fill:#1f77b4;\"/>\n   </g>\n   <g id=\"patch_7\">\n    <path clip-path=\"url(#p42d717faaa)\" d=\"M 325.183125 239.758125 \nL 358.663125 239.758125 \nL 358.663125 70.324359 \nL 325.183125 70.324359 \nz\n\" style=\"fill:#1f77b4;\"/>\n   </g>\n   <g id=\"matplotlib.axis_1\">\n    <g id=\"xtick_1\">\n     <g id=\"line2d_1\">\n      <defs>\n       <path d=\"M 0 0 \nL 0 3.5 \n\" id=\"m88b28010fd\" style=\"stroke:#000000;stroke-width:0.8;\"/>\n      </defs>\n      <g>\n       <use style=\"stroke:#000000;stroke-width:0.8;\" x=\"74.083125\" xlink:href=\"#m88b28010fd\" y=\"239.758125\"/>\n      </g>\n     </g>\n     <g id=\"text_1\">\n      <!-- Charlie -->\n      <g transform=\"translate(57.763806 263.225876)rotate(-15)scale(0.1 -0.1)\">\n       <defs>\n        <path d=\"M 64.40625 67.28125 \nL 64.40625 56.890625 \nQ 59.421875 61.53125 53.78125 63.8125 \nQ 48.140625 66.109375 41.796875 66.109375 \nQ 29.296875 66.109375 22.65625 58.46875 \nQ 16.015625 50.828125 16.015625 36.375 \nQ 16.015625 21.96875 22.65625 14.328125 \nQ 29.296875 6.6875 41.796875 6.6875 \nQ 48.140625 6.6875 53.78125 8.984375 \nQ 59.421875 11.28125 64.40625 15.921875 \nL 64.40625 5.609375 \nQ 59.234375 2.09375 53.4375 0.328125 \nQ 47.65625 -1.421875 41.21875 -1.421875 \nQ 24.65625 -1.421875 15.125 8.703125 \nQ 5.609375 18.84375 5.609375 36.375 \nQ 5.609375 53.953125 15.125 64.078125 \nQ 24.65625 74.21875 41.21875 74.21875 \nQ 47.75 74.21875 53.53125 72.484375 \nQ 59.328125 70.75 64.40625 67.28125 \nz\n\" id=\"DejaVuSans-67\"/>\n        <path d=\"M 54.890625 33.015625 \nL 54.890625 0 \nL 45.90625 0 \nL 45.90625 32.71875 \nQ 45.90625 40.484375 42.875 44.328125 \nQ 39.84375 48.1875 33.796875 48.1875 \nQ 26.515625 48.1875 22.3125 43.546875 \nQ 18.109375 38.921875 18.109375 30.90625 \nL 18.109375 0 \nL 9.078125 0 \nL 9.078125 75.984375 \nL 18.109375 75.984375 \nL 18.109375 46.1875 \nQ 21.34375 51.125 25.703125 53.5625 \nQ 30.078125 56 35.796875 56 \nQ 45.21875 56 50.046875 50.171875 \nQ 54.890625 44.34375 54.890625 33.015625 \nz\n\" id=\"DejaVuSans-104\"/>\n        <path d=\"M 34.28125 27.484375 \nQ 23.390625 27.484375 19.1875 25 \nQ 14.984375 22.515625 14.984375 16.5 \nQ 14.984375 11.71875 18.140625 8.90625 \nQ 21.296875 6.109375 26.703125 6.109375 \nQ 34.1875 6.109375 38.703125 11.40625 \nQ 43.21875 16.703125 43.21875 25.484375 \nL 43.21875 27.484375 \nz\nM 52.203125 31.203125 \nL 52.203125 0 \nL 43.21875 0 \nL 43.21875 8.296875 \nQ 40.140625 3.328125 35.546875 0.953125 \nQ 30.953125 -1.421875 24.3125 -1.421875 \nQ 15.921875 -1.421875 10.953125 3.296875 \nQ 6 8.015625 6 15.921875 \nQ 6 25.140625 12.171875 29.828125 \nQ 18.359375 34.515625 30.609375 34.515625 \nL 43.21875 34.515625 \nL 43.21875 35.40625 \nQ 43.21875 41.609375 39.140625 45 \nQ 35.0625 48.390625 27.6875 48.390625 \nQ 23 48.390625 18.546875 47.265625 \nQ 14.109375 46.140625 10.015625 43.890625 \nL 10.015625 52.203125 \nQ 14.9375 54.109375 19.578125 55.046875 \nQ 24.21875 56 28.609375 56 \nQ 40.484375 56 46.34375 49.84375 \nQ 52.203125 43.703125 52.203125 31.203125 \nz\n\" id=\"DejaVuSans-97\"/>\n        <path d=\"M 41.109375 46.296875 \nQ 39.59375 47.171875 37.8125 47.578125 \nQ 36.03125 48 33.890625 48 \nQ 26.265625 48 22.1875 43.046875 \nQ 18.109375 38.09375 18.109375 28.8125 \nL 18.109375 0 \nL 9.078125 0 \nL 9.078125 54.6875 \nL 18.109375 54.6875 \nL 18.109375 46.1875 \nQ 20.953125 51.171875 25.484375 53.578125 \nQ 30.03125 56 36.53125 56 \nQ 37.453125 56 38.578125 55.875 \nQ 39.703125 55.765625 41.0625 55.515625 \nz\n\" id=\"DejaVuSans-114\"/>\n        <path d=\"M 9.421875 75.984375 \nL 18.40625 75.984375 \nL 18.40625 0 \nL 9.421875 0 \nz\n\" id=\"DejaVuSans-108\"/>\n        <path d=\"M 9.421875 54.6875 \nL 18.40625 54.6875 \nL 18.40625 0 \nL 9.421875 0 \nz\nM 9.421875 75.984375 \nL 18.40625 75.984375 \nL 18.40625 64.59375 \nL 9.421875 64.59375 \nz\n\" id=\"DejaVuSans-105\"/>\n        <path d=\"M 56.203125 29.59375 \nL 56.203125 25.203125 \nL 14.890625 25.203125 \nQ 15.484375 15.921875 20.484375 11.0625 \nQ 25.484375 6.203125 34.421875 6.203125 \nQ 39.59375 6.203125 44.453125 7.46875 \nQ 49.3125 8.734375 54.109375 11.28125 \nL 54.109375 2.78125 \nQ 49.265625 0.734375 44.1875 -0.34375 \nQ 39.109375 -1.421875 33.890625 -1.421875 \nQ 20.796875 -1.421875 13.15625 6.1875 \nQ 5.515625 13.8125 5.515625 26.8125 \nQ 5.515625 40.234375 12.765625 48.109375 \nQ 20.015625 56 32.328125 56 \nQ 43.359375 56 49.78125 48.890625 \nQ 56.203125 41.796875 56.203125 29.59375 \nz\nM 47.21875 32.234375 \nQ 47.125 39.59375 43.09375 43.984375 \nQ 39.0625 48.390625 32.421875 48.390625 \nQ 24.90625 48.390625 20.390625 44.140625 \nQ 15.875 39.890625 15.1875 32.171875 \nz\n\" id=\"DejaVuSans-101\"/>\n       </defs>\n       <use xlink:href=\"#DejaVuSans-67\"/>\n       <use x=\"69.824219\" xlink:href=\"#DejaVuSans-104\"/>\n       <use x=\"133.203125\" xlink:href=\"#DejaVuSans-97\"/>\n       <use x=\"194.482422\" xlink:href=\"#DejaVuSans-114\"/>\n       <use x=\"235.595703\" xlink:href=\"#DejaVuSans-108\"/>\n       <use x=\"263.378906\" xlink:href=\"#DejaVuSans-105\"/>\n       <use x=\"291.162109\" xlink:href=\"#DejaVuSans-101\"/>\n      </g>\n     </g>\n    </g>\n    <g id=\"xtick_2\">\n     <g id=\"line2d_2\">\n      <g>\n       <use style=\"stroke:#000000;stroke-width:0.8;\" x=\"141.043125\" xlink:href=\"#m88b28010fd\" y=\"239.758125\"/>\n      </g>\n     </g>\n     <g id=\"text_2\">\n      <!-- Lucy -->\n      <g transform=\"translate(130.575958 260.089717)rotate(-15)scale(0.1 -0.1)\">\n       <defs>\n        <path d=\"M 9.8125 72.90625 \nL 19.671875 72.90625 \nL 19.671875 8.296875 \nL 55.171875 8.296875 \nL 55.171875 0 \nL 9.8125 0 \nz\n\" id=\"DejaVuSans-76\"/>\n        <path d=\"M 8.5 21.578125 \nL 8.5 54.6875 \nL 17.484375 54.6875 \nL 17.484375 21.921875 \nQ 17.484375 14.15625 20.5 10.265625 \nQ 23.53125 6.390625 29.59375 6.390625 \nQ 36.859375 6.390625 41.078125 11.03125 \nQ 45.3125 15.671875 45.3125 23.6875 \nL 45.3125 54.6875 \nL 54.296875 54.6875 \nL 54.296875 0 \nL 45.3125 0 \nL 45.3125 8.40625 \nQ 42.046875 3.421875 37.71875 1 \nQ 33.40625 -1.421875 27.6875 -1.421875 \nQ 18.265625 -1.421875 13.375 4.4375 \nQ 8.5 10.296875 8.5 21.578125 \nz\nM 31.109375 56 \nz\n\" id=\"DejaVuSans-117\"/>\n        <path d=\"M 48.78125 52.59375 \nL 48.78125 44.1875 \nQ 44.96875 46.296875 41.140625 47.34375 \nQ 37.3125 48.390625 33.40625 48.390625 \nQ 24.65625 48.390625 19.8125 42.84375 \nQ 14.984375 37.3125 14.984375 27.296875 \nQ 14.984375 17.28125 19.8125 11.734375 \nQ 24.65625 6.203125 33.40625 6.203125 \nQ 37.3125 6.203125 41.140625 7.25 \nQ 44.96875 8.296875 48.78125 10.40625 \nL 48.78125 2.09375 \nQ 45.015625 0.34375 40.984375 -0.53125 \nQ 36.96875 -1.421875 32.421875 -1.421875 \nQ 20.0625 -1.421875 12.78125 6.34375 \nQ 5.515625 14.109375 5.515625 27.296875 \nQ 5.515625 40.671875 12.859375 48.328125 \nQ 20.21875 56 33.015625 56 \nQ 37.15625 56 41.109375 55.140625 \nQ 45.0625 54.296875 48.78125 52.59375 \nz\n\" id=\"DejaVuSans-99\"/>\n        <path d=\"M 32.171875 -5.078125 \nQ 28.375 -14.84375 24.75 -17.8125 \nQ 21.140625 -20.796875 15.09375 -20.796875 \nL 7.90625 -20.796875 \nL 7.90625 -13.28125 \nL 13.1875 -13.28125 \nQ 16.890625 -13.28125 18.9375 -11.515625 \nQ 21 -9.765625 23.484375 -3.21875 \nL 25.09375 0.875 \nL 2.984375 54.6875 \nL 12.5 54.6875 \nL 29.59375 11.921875 \nL 46.6875 54.6875 \nL 56.203125 54.6875 \nz\n\" id=\"DejaVuSans-121\"/>\n       </defs>\n       <use xlink:href=\"#DejaVuSans-76\"/>\n       <use x=\"53.962891\" xlink:href=\"#DejaVuSans-117\"/>\n       <use x=\"117.341797\" xlink:href=\"#DejaVuSans-99\"/>\n       <use x=\"172.322266\" xlink:href=\"#DejaVuSans-121\"/>\n      </g>\n     </g>\n    </g>\n    <g id=\"xtick_3\">\n     <g id=\"line2d_3\">\n      <g>\n       <use style=\"stroke:#000000;stroke-width:0.8;\" x=\"208.003125\" xlink:href=\"#m88b28010fd\" y=\"239.758125\"/>\n      </g>\n     </g>\n     <g id=\"text_3\">\n      <!-- Oliver -->\n      <g transform=\"translate(194.416319 261.761527)rotate(-15)scale(0.1 -0.1)\">\n       <defs>\n        <path d=\"M 39.40625 66.21875 \nQ 28.65625 66.21875 22.328125 58.203125 \nQ 16.015625 50.203125 16.015625 36.375 \nQ 16.015625 22.609375 22.328125 14.59375 \nQ 28.65625 6.59375 39.40625 6.59375 \nQ 50.140625 6.59375 56.421875 14.59375 \nQ 62.703125 22.609375 62.703125 36.375 \nQ 62.703125 50.203125 56.421875 58.203125 \nQ 50.140625 66.21875 39.40625 66.21875 \nz\nM 39.40625 74.21875 \nQ 54.734375 74.21875 63.90625 63.9375 \nQ 73.09375 53.65625 73.09375 36.375 \nQ 73.09375 19.140625 63.90625 8.859375 \nQ 54.734375 -1.421875 39.40625 -1.421875 \nQ 24.03125 -1.421875 14.8125 8.828125 \nQ 5.609375 19.09375 5.609375 36.375 \nQ 5.609375 53.65625 14.8125 63.9375 \nQ 24.03125 74.21875 39.40625 74.21875 \nz\n\" id=\"DejaVuSans-79\"/>\n        <path d=\"M 2.984375 54.6875 \nL 12.5 54.6875 \nL 29.59375 8.796875 \nL 46.6875 54.6875 \nL 56.203125 54.6875 \nL 35.6875 0 \nL 23.484375 0 \nz\n\" id=\"DejaVuSans-118\"/>\n       </defs>\n       <use xlink:href=\"#DejaVuSans-79\"/>\n       <use x=\"78.710938\" xlink:href=\"#DejaVuSans-108\"/>\n       <use x=\"106.494141\" xlink:href=\"#DejaVuSans-105\"/>\n       <use x=\"134.277344\" xlink:href=\"#DejaVuSans-118\"/>\n       <use x=\"193.457031\" xlink:href=\"#DejaVuSans-101\"/>\n       <use x=\"254.980469\" xlink:href=\"#DejaVuSans-114\"/>\n      </g>\n     </g>\n    </g>\n    <g id=\"xtick_4\">\n     <g id=\"line2d_4\">\n      <g>\n       <use style=\"stroke:#000000;stroke-width:0.8;\" x=\"274.963125\" xlink:href=\"#m88b28010fd\" y=\"239.758125\"/>\n      </g>\n     </g>\n     <g id=\"text_4\">\n      <!-- Cooper -->\n      <g transform=\"translate(258.371384 263.371866)rotate(-15)scale(0.1 -0.1)\">\n       <defs>\n        <path d=\"M 30.609375 48.390625 \nQ 23.390625 48.390625 19.1875 42.75 \nQ 14.984375 37.109375 14.984375 27.296875 \nQ 14.984375 17.484375 19.15625 11.84375 \nQ 23.34375 6.203125 30.609375 6.203125 \nQ 37.796875 6.203125 41.984375 11.859375 \nQ 46.1875 17.53125 46.1875 27.296875 \nQ 46.1875 37.015625 41.984375 42.703125 \nQ 37.796875 48.390625 30.609375 48.390625 \nz\nM 30.609375 56 \nQ 42.328125 56 49.015625 48.375 \nQ 55.71875 40.765625 55.71875 27.296875 \nQ 55.71875 13.875 49.015625 6.21875 \nQ 42.328125 -1.421875 30.609375 -1.421875 \nQ 18.84375 -1.421875 12.171875 6.21875 \nQ 5.515625 13.875 5.515625 27.296875 \nQ 5.515625 40.765625 12.171875 48.375 \nQ 18.84375 56 30.609375 56 \nz\n\" id=\"DejaVuSans-111\"/>\n        <path d=\"M 18.109375 8.203125 \nL 18.109375 -20.796875 \nL 9.078125 -20.796875 \nL 9.078125 54.6875 \nL 18.109375 54.6875 \nL 18.109375 46.390625 \nQ 20.953125 51.265625 25.265625 53.625 \nQ 29.59375 56 35.59375 56 \nQ 45.5625 56 51.78125 48.09375 \nQ 58.015625 40.1875 58.015625 27.296875 \nQ 58.015625 14.40625 51.78125 6.484375 \nQ 45.5625 -1.421875 35.59375 -1.421875 \nQ 29.59375 -1.421875 25.265625 0.953125 \nQ 20.953125 3.328125 18.109375 8.203125 \nz\nM 48.6875 27.296875 \nQ 48.6875 37.203125 44.609375 42.84375 \nQ 40.53125 48.484375 33.40625 48.484375 \nQ 26.265625 48.484375 22.1875 42.84375 \nQ 18.109375 37.203125 18.109375 27.296875 \nQ 18.109375 17.390625 22.1875 11.75 \nQ 26.265625 6.109375 33.40625 6.109375 \nQ 40.53125 6.109375 44.609375 11.75 \nQ 48.6875 17.390625 48.6875 27.296875 \nz\n\" id=\"DejaVuSans-112\"/>\n       </defs>\n       <use xlink:href=\"#DejaVuSans-67\"/>\n       <use x=\"69.824219\" xlink:href=\"#DejaVuSans-111\"/>\n       <use x=\"131.005859\" xlink:href=\"#DejaVuSans-111\"/>\n       <use x=\"192.1875\" xlink:href=\"#DejaVuSans-112\"/>\n       <use x=\"255.664062\" xlink:href=\"#DejaVuSans-101\"/>\n       <use x=\"317.1875\" xlink:href=\"#DejaVuSans-114\"/>\n      </g>\n     </g>\n    </g>\n    <g id=\"xtick_5\">\n     <g id=\"line2d_5\">\n      <g>\n       <use style=\"stroke:#000000;stroke-width:0.8;\" x=\"341.923125\" xlink:href=\"#m88b28010fd\" y=\"239.758125\"/>\n      </g>\n     </g>\n     <g id=\"text_5\">\n      <!-- Penny -->\n      <g transform=\"translate(327.94844 261.969391)rotate(-15)scale(0.1 -0.1)\">\n       <defs>\n        <path d=\"M 19.671875 64.796875 \nL 19.671875 37.40625 \nL 32.078125 37.40625 \nQ 38.96875 37.40625 42.71875 40.96875 \nQ 46.484375 44.53125 46.484375 51.125 \nQ 46.484375 57.671875 42.71875 61.234375 \nQ 38.96875 64.796875 32.078125 64.796875 \nz\nM 9.8125 72.90625 \nL 32.078125 72.90625 \nQ 44.34375 72.90625 50.609375 67.359375 \nQ 56.890625 61.8125 56.890625 51.125 \nQ 56.890625 40.328125 50.609375 34.8125 \nQ 44.34375 29.296875 32.078125 29.296875 \nL 19.671875 29.296875 \nL 19.671875 0 \nL 9.8125 0 \nz\n\" id=\"DejaVuSans-80\"/>\n        <path d=\"M 54.890625 33.015625 \nL 54.890625 0 \nL 45.90625 0 \nL 45.90625 32.71875 \nQ 45.90625 40.484375 42.875 44.328125 \nQ 39.84375 48.1875 33.796875 48.1875 \nQ 26.515625 48.1875 22.3125 43.546875 \nQ 18.109375 38.921875 18.109375 30.90625 \nL 18.109375 0 \nL 9.078125 0 \nL 9.078125 54.6875 \nL 18.109375 54.6875 \nL 18.109375 46.1875 \nQ 21.34375 51.125 25.703125 53.5625 \nQ 30.078125 56 35.796875 56 \nQ 45.21875 56 50.046875 50.171875 \nQ 54.890625 44.34375 54.890625 33.015625 \nz\n\" id=\"DejaVuSans-110\"/>\n       </defs>\n       <use xlink:href=\"#DejaVuSans-80\"/>\n       <use x=\"56.677734\" xlink:href=\"#DejaVuSans-101\"/>\n       <use x=\"118.201172\" xlink:href=\"#DejaVuSans-110\"/>\n       <use x=\"181.580078\" xlink:href=\"#DejaVuSans-110\"/>\n       <use x=\"244.958984\" xlink:href=\"#DejaVuSans-121\"/>\n      </g>\n     </g>\n    </g>\n    <g id=\"text_6\">\n     <!-- Names -->\n     <g transform=\"translate(190.646875 276.979128)scale(0.1 -0.1)\">\n      <defs>\n       <path d=\"M 9.8125 72.90625 \nL 23.09375 72.90625 \nL 55.421875 11.921875 \nL 55.421875 72.90625 \nL 64.984375 72.90625 \nL 64.984375 0 \nL 51.703125 0 \nL 19.390625 60.984375 \nL 19.390625 0 \nL 9.8125 0 \nz\n\" id=\"DejaVuSans-78\"/>\n       <path d=\"M 52 44.1875 \nQ 55.375 50.25 60.0625 53.125 \nQ 64.75 56 71.09375 56 \nQ 79.640625 56 84.28125 50.015625 \nQ 88.921875 44.046875 88.921875 33.015625 \nL 88.921875 0 \nL 79.890625 0 \nL 79.890625 32.71875 \nQ 79.890625 40.578125 77.09375 44.375 \nQ 74.3125 48.1875 68.609375 48.1875 \nQ 61.625 48.1875 57.5625 43.546875 \nQ 53.515625 38.921875 53.515625 30.90625 \nL 53.515625 0 \nL 44.484375 0 \nL 44.484375 32.71875 \nQ 44.484375 40.625 41.703125 44.40625 \nQ 38.921875 48.1875 33.109375 48.1875 \nQ 26.21875 48.1875 22.15625 43.53125 \nQ 18.109375 38.875 18.109375 30.90625 \nL 18.109375 0 \nL 9.078125 0 \nL 9.078125 54.6875 \nL 18.109375 54.6875 \nL 18.109375 46.1875 \nQ 21.1875 51.21875 25.484375 53.609375 \nQ 29.78125 56 35.6875 56 \nQ 41.65625 56 45.828125 52.96875 \nQ 50 49.953125 52 44.1875 \nz\n\" id=\"DejaVuSans-109\"/>\n       <path d=\"M 44.28125 53.078125 \nL 44.28125 44.578125 \nQ 40.484375 46.53125 36.375 47.5 \nQ 32.28125 48.484375 27.875 48.484375 \nQ 21.1875 48.484375 17.84375 46.4375 \nQ 14.5 44.390625 14.5 40.28125 \nQ 14.5 37.15625 16.890625 35.375 \nQ 19.28125 33.59375 26.515625 31.984375 \nL 29.59375 31.296875 \nQ 39.15625 29.25 43.1875 25.515625 \nQ 47.21875 21.78125 47.21875 15.09375 \nQ 47.21875 7.46875 41.1875 3.015625 \nQ 35.15625 -1.421875 24.609375 -1.421875 \nQ 20.21875 -1.421875 15.453125 -0.5625 \nQ 10.6875 0.296875 5.421875 2 \nL 5.421875 11.28125 \nQ 10.40625 8.6875 15.234375 7.390625 \nQ 20.0625 6.109375 24.8125 6.109375 \nQ 31.15625 6.109375 34.5625 8.28125 \nQ 37.984375 10.453125 37.984375 14.40625 \nQ 37.984375 18.0625 35.515625 20.015625 \nQ 33.0625 21.96875 24.703125 23.78125 \nL 21.578125 24.515625 \nQ 13.234375 26.265625 9.515625 29.90625 \nQ 5.8125 33.546875 5.8125 39.890625 \nQ 5.8125 47.609375 11.28125 51.796875 \nQ 16.75 56 26.8125 56 \nQ 31.78125 56 36.171875 55.265625 \nQ 40.578125 54.546875 44.28125 53.078125 \nz\n\" id=\"DejaVuSans-115\"/>\n      </defs>\n      <use xlink:href=\"#DejaVuSans-78\"/>\n      <use x=\"74.804688\" xlink:href=\"#DejaVuSans-97\"/>\n      <use x=\"136.083984\" xlink:href=\"#DejaVuSans-109\"/>\n      <use x=\"233.496094\" xlink:href=\"#DejaVuSans-101\"/>\n      <use x=\"295.019531\" xlink:href=\"#DejaVuSans-115\"/>\n     </g>\n    </g>\n   </g>\n   <g id=\"matplotlib.axis_2\">\n    <g id=\"ytick_1\">\n     <g id=\"line2d_6\">\n      <defs>\n       <path d=\"M 0 0 \nL -3.5 0 \n\" id=\"m9369fed758\" style=\"stroke:#000000;stroke-width:0.8;\"/>\n      </defs>\n      <g>\n       <use style=\"stroke:#000000;stroke-width:0.8;\" x=\"40.603125\" xlink:href=\"#m9369fed758\" y=\"239.758125\"/>\n      </g>\n     </g>\n     <g id=\"text_7\">\n      <!-- 0 -->\n      <g transform=\"translate(27.240625 243.557344)scale(0.1 -0.1)\">\n       <defs>\n        <path d=\"M 31.78125 66.40625 \nQ 24.171875 66.40625 20.328125 58.90625 \nQ 16.5 51.421875 16.5 36.375 \nQ 16.5 21.390625 20.328125 13.890625 \nQ 24.171875 6.390625 31.78125 6.390625 \nQ 39.453125 6.390625 43.28125 13.890625 \nQ 47.125 21.390625 47.125 36.375 \nQ 47.125 51.421875 43.28125 58.90625 \nQ 39.453125 66.40625 31.78125 66.40625 \nz\nM 31.78125 74.21875 \nQ 44.046875 74.21875 50.515625 64.515625 \nQ 56.984375 54.828125 56.984375 36.375 \nQ 56.984375 17.96875 50.515625 8.265625 \nQ 44.046875 -1.421875 31.78125 -1.421875 \nQ 19.53125 -1.421875 13.0625 8.265625 \nQ 6.59375 17.96875 6.59375 36.375 \nQ 6.59375 54.828125 13.0625 64.515625 \nQ 19.53125 74.21875 31.78125 74.21875 \nz\n\" id=\"DejaVuSans-48\"/>\n       </defs>\n       <use xlink:href=\"#DejaVuSans-48\"/>\n      </g>\n     </g>\n    </g>\n    <g id=\"ytick_2\">\n     <g id=\"line2d_7\">\n      <g>\n       <use style=\"stroke:#000000;stroke-width:0.8;\" x=\"40.603125\" xlink:href=\"#m9369fed758\" y=\"202.106177\"/>\n      </g>\n     </g>\n     <g id=\"text_8\">\n      <!-- 2 -->\n      <g transform=\"translate(27.240625 205.905396)scale(0.1 -0.1)\">\n       <defs>\n        <path d=\"M 19.1875 8.296875 \nL 53.609375 8.296875 \nL 53.609375 0 \nL 7.328125 0 \nL 7.328125 8.296875 \nQ 12.9375 14.109375 22.625 23.890625 \nQ 32.328125 33.6875 34.8125 36.53125 \nQ 39.546875 41.84375 41.421875 45.53125 \nQ 43.3125 49.21875 43.3125 52.78125 \nQ 43.3125 58.59375 39.234375 62.25 \nQ 35.15625 65.921875 28.609375 65.921875 \nQ 23.96875 65.921875 18.8125 64.3125 \nQ 13.671875 62.703125 7.8125 59.421875 \nL 7.8125 69.390625 \nQ 13.765625 71.78125 18.9375 73 \nQ 24.125 74.21875 28.421875 74.21875 \nQ 39.75 74.21875 46.484375 68.546875 \nQ 53.21875 62.890625 53.21875 53.421875 \nQ 53.21875 48.921875 51.53125 44.890625 \nQ 49.859375 40.875 45.40625 35.40625 \nQ 44.1875 33.984375 37.640625 27.21875 \nQ 31.109375 20.453125 19.1875 8.296875 \nz\n\" id=\"DejaVuSans-50\"/>\n       </defs>\n       <use xlink:href=\"#DejaVuSans-50\"/>\n      </g>\n     </g>\n    </g>\n    <g id=\"ytick_3\">\n     <g id=\"line2d_8\">\n      <g>\n       <use style=\"stroke:#000000;stroke-width:0.8;\" x=\"40.603125\" xlink:href=\"#m9369fed758\" y=\"164.454229\"/>\n      </g>\n     </g>\n     <g id=\"text_9\">\n      <!-- 4 -->\n      <g transform=\"translate(27.240625 168.253448)scale(0.1 -0.1)\">\n       <defs>\n        <path d=\"M 37.796875 64.3125 \nL 12.890625 25.390625 \nL 37.796875 25.390625 \nz\nM 35.203125 72.90625 \nL 47.609375 72.90625 \nL 47.609375 25.390625 \nL 58.015625 25.390625 \nL 58.015625 17.1875 \nL 47.609375 17.1875 \nL 47.609375 0 \nL 37.796875 0 \nL 37.796875 17.1875 \nL 4.890625 17.1875 \nL 4.890625 26.703125 \nz\n\" id=\"DejaVuSans-52\"/>\n       </defs>\n       <use xlink:href=\"#DejaVuSans-52\"/>\n      </g>\n     </g>\n    </g>\n    <g id=\"ytick_4\">\n     <g id=\"line2d_9\">\n      <g>\n       <use style=\"stroke:#000000;stroke-width:0.8;\" x=\"40.603125\" xlink:href=\"#m9369fed758\" y=\"126.802281\"/>\n      </g>\n     </g>\n     <g id=\"text_10\">\n      <!-- 6 -->\n      <g transform=\"translate(27.240625 130.6015)scale(0.1 -0.1)\">\n       <defs>\n        <path d=\"M 33.015625 40.375 \nQ 26.375 40.375 22.484375 35.828125 \nQ 18.609375 31.296875 18.609375 23.390625 \nQ 18.609375 15.53125 22.484375 10.953125 \nQ 26.375 6.390625 33.015625 6.390625 \nQ 39.65625 6.390625 43.53125 10.953125 \nQ 47.40625 15.53125 47.40625 23.390625 \nQ 47.40625 31.296875 43.53125 35.828125 \nQ 39.65625 40.375 33.015625 40.375 \nz\nM 52.59375 71.296875 \nL 52.59375 62.3125 \nQ 48.875 64.0625 45.09375 64.984375 \nQ 41.3125 65.921875 37.59375 65.921875 \nQ 27.828125 65.921875 22.671875 59.328125 \nQ 17.53125 52.734375 16.796875 39.40625 \nQ 19.671875 43.65625 24.015625 45.921875 \nQ 28.375 48.1875 33.59375 48.1875 \nQ 44.578125 48.1875 50.953125 41.515625 \nQ 57.328125 34.859375 57.328125 23.390625 \nQ 57.328125 12.15625 50.6875 5.359375 \nQ 44.046875 -1.421875 33.015625 -1.421875 \nQ 20.359375 -1.421875 13.671875 8.265625 \nQ 6.984375 17.96875 6.984375 36.375 \nQ 6.984375 53.65625 15.1875 63.9375 \nQ 23.390625 74.21875 37.203125 74.21875 \nQ 40.921875 74.21875 44.703125 73.484375 \nQ 48.484375 72.75 52.59375 71.296875 \nz\n\" id=\"DejaVuSans-54\"/>\n       </defs>\n       <use xlink:href=\"#DejaVuSans-54\"/>\n      </g>\n     </g>\n    </g>\n    <g id=\"ytick_5\">\n     <g id=\"line2d_10\">\n      <g>\n       <use style=\"stroke:#000000;stroke-width:0.8;\" x=\"40.603125\" xlink:href=\"#m9369fed758\" y=\"89.150333\"/>\n      </g>\n     </g>\n     <g id=\"text_11\">\n      <!-- 8 -->\n      <g transform=\"translate(27.240625 92.949552)scale(0.1 -0.1)\">\n       <defs>\n        <path d=\"M 31.78125 34.625 \nQ 24.75 34.625 20.71875 30.859375 \nQ 16.703125 27.09375 16.703125 20.515625 \nQ 16.703125 13.921875 20.71875 10.15625 \nQ 24.75 6.390625 31.78125 6.390625 \nQ 38.8125 6.390625 42.859375 10.171875 \nQ 46.921875 13.96875 46.921875 20.515625 \nQ 46.921875 27.09375 42.890625 30.859375 \nQ 38.875 34.625 31.78125 34.625 \nz\nM 21.921875 38.8125 \nQ 15.578125 40.375 12.03125 44.71875 \nQ 8.5 49.078125 8.5 55.328125 \nQ 8.5 64.0625 14.71875 69.140625 \nQ 20.953125 74.21875 31.78125 74.21875 \nQ 42.671875 74.21875 48.875 69.140625 \nQ 55.078125 64.0625 55.078125 55.328125 \nQ 55.078125 49.078125 51.53125 44.71875 \nQ 48 40.375 41.703125 38.8125 \nQ 48.828125 37.15625 52.796875 32.3125 \nQ 56.78125 27.484375 56.78125 20.515625 \nQ 56.78125 9.90625 50.3125 4.234375 \nQ 43.84375 -1.421875 31.78125 -1.421875 \nQ 19.734375 -1.421875 13.25 4.234375 \nQ 6.78125 9.90625 6.78125 20.515625 \nQ 6.78125 27.484375 10.78125 32.3125 \nQ 14.796875 37.15625 21.921875 38.8125 \nz\nM 18.3125 54.390625 \nQ 18.3125 48.734375 21.84375 45.5625 \nQ 25.390625 42.390625 31.78125 42.390625 \nQ 38.140625 42.390625 41.71875 45.5625 \nQ 45.3125 48.734375 45.3125 54.390625 \nQ 45.3125 60.0625 41.71875 63.234375 \nQ 38.140625 66.40625 31.78125 66.40625 \nQ 25.390625 66.40625 21.84375 63.234375 \nQ 18.3125 60.0625 18.3125 54.390625 \nz\n\" id=\"DejaVuSans-56\"/>\n       </defs>\n       <use xlink:href=\"#DejaVuSans-56\"/>\n      </g>\n     </g>\n    </g>\n    <g id=\"ytick_6\">\n     <g id=\"line2d_11\">\n      <g>\n       <use style=\"stroke:#000000;stroke-width:0.8;\" x=\"40.603125\" xlink:href=\"#m9369fed758\" y=\"51.498385\"/>\n      </g>\n     </g>\n     <g id=\"text_12\">\n      <!-- 10 -->\n      <g transform=\"translate(20.878125 55.297603)scale(0.1 -0.1)\">\n       <defs>\n        <path d=\"M 12.40625 8.296875 \nL 28.515625 8.296875 \nL 28.515625 63.921875 \nL 10.984375 60.40625 \nL 10.984375 69.390625 \nL 28.421875 72.90625 \nL 38.28125 72.90625 \nL 38.28125 8.296875 \nL 54.390625 8.296875 \nL 54.390625 0 \nL 12.40625 0 \nz\n\" id=\"DejaVuSans-49\"/>\n       </defs>\n       <use xlink:href=\"#DejaVuSans-49\"/>\n       <use x=\"63.623047\" xlink:href=\"#DejaVuSans-48\"/>\n      </g>\n     </g>\n    </g>\n    <g id=\"text_13\">\n     <!-- Number of times used -->\n     <g transform=\"translate(14.798438 186.635781)rotate(-90)scale(0.1 -0.1)\">\n      <defs>\n       <path d=\"M 48.6875 27.296875 \nQ 48.6875 37.203125 44.609375 42.84375 \nQ 40.53125 48.484375 33.40625 48.484375 \nQ 26.265625 48.484375 22.1875 42.84375 \nQ 18.109375 37.203125 18.109375 27.296875 \nQ 18.109375 17.390625 22.1875 11.75 \nQ 26.265625 6.109375 33.40625 6.109375 \nQ 40.53125 6.109375 44.609375 11.75 \nQ 48.6875 17.390625 48.6875 27.296875 \nz\nM 18.109375 46.390625 \nQ 20.953125 51.265625 25.265625 53.625 \nQ 29.59375 56 35.59375 56 \nQ 45.5625 56 51.78125 48.09375 \nQ 58.015625 40.1875 58.015625 27.296875 \nQ 58.015625 14.40625 51.78125 6.484375 \nQ 45.5625 -1.421875 35.59375 -1.421875 \nQ 29.59375 -1.421875 25.265625 0.953125 \nQ 20.953125 3.328125 18.109375 8.203125 \nL 18.109375 0 \nL 9.078125 0 \nL 9.078125 75.984375 \nL 18.109375 75.984375 \nz\n\" id=\"DejaVuSans-98\"/>\n       <path id=\"DejaVuSans-32\"/>\n       <path d=\"M 37.109375 75.984375 \nL 37.109375 68.5 \nL 28.515625 68.5 \nQ 23.6875 68.5 21.796875 66.546875 \nQ 19.921875 64.59375 19.921875 59.515625 \nL 19.921875 54.6875 \nL 34.71875 54.6875 \nL 34.71875 47.703125 \nL 19.921875 47.703125 \nL 19.921875 0 \nL 10.890625 0 \nL 10.890625 47.703125 \nL 2.296875 47.703125 \nL 2.296875 54.6875 \nL 10.890625 54.6875 \nL 10.890625 58.5 \nQ 10.890625 67.625 15.140625 71.796875 \nQ 19.390625 75.984375 28.609375 75.984375 \nz\n\" id=\"DejaVuSans-102\"/>\n       <path d=\"M 18.3125 70.21875 \nL 18.3125 54.6875 \nL 36.8125 54.6875 \nL 36.8125 47.703125 \nL 18.3125 47.703125 \nL 18.3125 18.015625 \nQ 18.3125 11.328125 20.140625 9.421875 \nQ 21.96875 7.515625 27.59375 7.515625 \nL 36.8125 7.515625 \nL 36.8125 0 \nL 27.59375 0 \nQ 17.1875 0 13.234375 3.875 \nQ 9.28125 7.765625 9.28125 18.015625 \nL 9.28125 47.703125 \nL 2.6875 47.703125 \nL 2.6875 54.6875 \nL 9.28125 54.6875 \nL 9.28125 70.21875 \nz\n\" id=\"DejaVuSans-116\"/>\n       <path d=\"M 45.40625 46.390625 \nL 45.40625 75.984375 \nL 54.390625 75.984375 \nL 54.390625 0 \nL 45.40625 0 \nL 45.40625 8.203125 \nQ 42.578125 3.328125 38.25 0.953125 \nQ 33.9375 -1.421875 27.875 -1.421875 \nQ 17.96875 -1.421875 11.734375 6.484375 \nQ 5.515625 14.40625 5.515625 27.296875 \nQ 5.515625 40.1875 11.734375 48.09375 \nQ 17.96875 56 27.875 56 \nQ 33.9375 56 38.25 53.625 \nQ 42.578125 51.265625 45.40625 46.390625 \nz\nM 14.796875 27.296875 \nQ 14.796875 17.390625 18.875 11.75 \nQ 22.953125 6.109375 30.078125 6.109375 \nQ 37.203125 6.109375 41.296875 11.75 \nQ 45.40625 17.390625 45.40625 27.296875 \nQ 45.40625 37.203125 41.296875 42.84375 \nQ 37.203125 48.484375 30.078125 48.484375 \nQ 22.953125 48.484375 18.875 42.84375 \nQ 14.796875 37.203125 14.796875 27.296875 \nz\n\" id=\"DejaVuSans-100\"/>\n      </defs>\n      <use xlink:href=\"#DejaVuSans-78\"/>\n      <use x=\"74.804688\" xlink:href=\"#DejaVuSans-117\"/>\n      <use x=\"138.183594\" xlink:href=\"#DejaVuSans-109\"/>\n      <use x=\"235.595703\" xlink:href=\"#DejaVuSans-98\"/>\n      <use x=\"299.072266\" xlink:href=\"#DejaVuSans-101\"/>\n      <use x=\"360.595703\" xlink:href=\"#DejaVuSans-114\"/>\n      <use x=\"401.708984\" xlink:href=\"#DejaVuSans-32\"/>\n      <use x=\"433.496094\" xlink:href=\"#DejaVuSans-111\"/>\n      <use x=\"494.677734\" xlink:href=\"#DejaVuSans-102\"/>\n      <use x=\"529.882812\" xlink:href=\"#DejaVuSans-32\"/>\n      <use x=\"561.669922\" xlink:href=\"#DejaVuSans-116\"/>\n      <use x=\"600.878906\" xlink:href=\"#DejaVuSans-105\"/>\n      <use x=\"628.662109\" xlink:href=\"#DejaVuSans-109\"/>\n      <use x=\"726.074219\" xlink:href=\"#DejaVuSans-101\"/>\n      <use x=\"787.597656\" xlink:href=\"#DejaVuSans-115\"/>\n      <use x=\"839.697266\" xlink:href=\"#DejaVuSans-32\"/>\n      <use x=\"871.484375\" xlink:href=\"#DejaVuSans-117\"/>\n      <use x=\"934.863281\" xlink:href=\"#DejaVuSans-115\"/>\n      <use x=\"986.962891\" xlink:href=\"#DejaVuSans-101\"/>\n      <use x=\"1048.486328\" xlink:href=\"#DejaVuSans-100\"/>\n     </g>\n    </g>\n   </g>\n   <g id=\"patch_8\">\n    <path d=\"M 40.603125 239.758125 \nL 40.603125 22.318125 \n\" style=\"fill:none;stroke:#000000;stroke-linecap:square;stroke-linejoin:miter;stroke-width:0.8;\"/>\n   </g>\n   <g id=\"patch_9\">\n    <path d=\"M 375.403125 239.758125 \nL 375.403125 22.318125 \n\" style=\"fill:none;stroke:#000000;stroke-linecap:square;stroke-linejoin:miter;stroke-width:0.8;\"/>\n   </g>\n   <g id=\"patch_10\">\n    <path d=\"M 40.603125 239.758125 \nL 375.403125 239.758125 \n\" style=\"fill:none;stroke:#000000;stroke-linecap:square;stroke-linejoin:miter;stroke-width:0.8;\"/>\n   </g>\n   <g id=\"patch_11\">\n    <path d=\"M 40.603125 22.318125 \nL 375.403125 22.318125 \n\" style=\"fill:none;stroke:#000000;stroke-linecap:square;stroke-linejoin:miter;stroke-width:0.8;\"/>\n   </g>\n   <g id=\"text_14\">\n    <!-- Most Common Dog Names -->\n    <g transform=\"translate(128.005313 16.318125)scale(0.12 -0.12)\">\n     <defs>\n      <path d=\"M 9.8125 72.90625 \nL 24.515625 72.90625 \nL 43.109375 23.296875 \nL 61.8125 72.90625 \nL 76.515625 72.90625 \nL 76.515625 0 \nL 66.890625 0 \nL 66.890625 64.015625 \nL 48.09375 14.015625 \nL 38.1875 14.015625 \nL 19.390625 64.015625 \nL 19.390625 0 \nL 9.8125 0 \nz\n\" id=\"DejaVuSans-77\"/>\n      <path d=\"M 19.671875 64.796875 \nL 19.671875 8.109375 \nL 31.59375 8.109375 \nQ 46.6875 8.109375 53.6875 14.9375 \nQ 60.6875 21.78125 60.6875 36.53125 \nQ 60.6875 51.171875 53.6875 57.984375 \nQ 46.6875 64.796875 31.59375 64.796875 \nz\nM 9.8125 72.90625 \nL 30.078125 72.90625 \nQ 51.265625 72.90625 61.171875 64.09375 \nQ 71.09375 55.28125 71.09375 36.53125 \nQ 71.09375 17.671875 61.125 8.828125 \nQ 51.171875 0 30.078125 0 \nL 9.8125 0 \nz\n\" id=\"DejaVuSans-68\"/>\n      <path d=\"M 45.40625 27.984375 \nQ 45.40625 37.75 41.375 43.109375 \nQ 37.359375 48.484375 30.078125 48.484375 \nQ 22.859375 48.484375 18.828125 43.109375 \nQ 14.796875 37.75 14.796875 27.984375 \nQ 14.796875 18.265625 18.828125 12.890625 \nQ 22.859375 7.515625 30.078125 7.515625 \nQ 37.359375 7.515625 41.375 12.890625 \nQ 45.40625 18.265625 45.40625 27.984375 \nz\nM 54.390625 6.78125 \nQ 54.390625 -7.171875 48.1875 -13.984375 \nQ 42 -20.796875 29.203125 -20.796875 \nQ 24.46875 -20.796875 20.265625 -20.09375 \nQ 16.0625 -19.390625 12.109375 -17.921875 \nL 12.109375 -9.1875 \nQ 16.0625 -11.328125 19.921875 -12.34375 \nQ 23.78125 -13.375 27.78125 -13.375 \nQ 36.625 -13.375 41.015625 -8.765625 \nQ 45.40625 -4.15625 45.40625 5.171875 \nL 45.40625 9.625 \nQ 42.625 4.78125 38.28125 2.390625 \nQ 33.9375 0 27.875 0 \nQ 17.828125 0 11.671875 7.65625 \nQ 5.515625 15.328125 5.515625 27.984375 \nQ 5.515625 40.671875 11.671875 48.328125 \nQ 17.828125 56 27.875 56 \nQ 33.9375 56 38.28125 53.609375 \nQ 42.625 51.21875 45.40625 46.390625 \nL 45.40625 54.6875 \nL 54.390625 54.6875 \nz\n\" id=\"DejaVuSans-103\"/>\n     </defs>\n     <use xlink:href=\"#DejaVuSans-77\"/>\n     <use x=\"86.279297\" xlink:href=\"#DejaVuSans-111\"/>\n     <use x=\"147.460938\" xlink:href=\"#DejaVuSans-115\"/>\n     <use x=\"199.560547\" xlink:href=\"#DejaVuSans-116\"/>\n     <use x=\"238.769531\" xlink:href=\"#DejaVuSans-32\"/>\n     <use x=\"270.556641\" xlink:href=\"#DejaVuSans-67\"/>\n     <use x=\"340.380859\" xlink:href=\"#DejaVuSans-111\"/>\n     <use x=\"401.5625\" xlink:href=\"#DejaVuSans-109\"/>\n     <use x=\"498.974609\" xlink:href=\"#DejaVuSans-109\"/>\n     <use x=\"596.386719\" xlink:href=\"#DejaVuSans-111\"/>\n     <use x=\"657.568359\" xlink:href=\"#DejaVuSans-110\"/>\n     <use x=\"720.947266\" xlink:href=\"#DejaVuSans-32\"/>\n     <use x=\"752.734375\" xlink:href=\"#DejaVuSans-68\"/>\n     <use x=\"829.736328\" xlink:href=\"#DejaVuSans-111\"/>\n     <use x=\"890.917969\" xlink:href=\"#DejaVuSans-103\"/>\n     <use x=\"954.394531\" xlink:href=\"#DejaVuSans-32\"/>\n     <use x=\"986.181641\" xlink:href=\"#DejaVuSans-78\"/>\n     <use x=\"1060.986328\" xlink:href=\"#DejaVuSans-97\"/>\n     <use x=\"1122.265625\" xlink:href=\"#DejaVuSans-109\"/>\n     <use x=\"1219.677734\" xlink:href=\"#DejaVuSans-101\"/>\n     <use x=\"1281.201172\" xlink:href=\"#DejaVuSans-115\"/>\n    </g>\n   </g>\n  </g>\n </g>\n <defs>\n  <clipPath id=\"p42d717faaa\">\n   <rect height=\"217.44\" width=\"334.8\" x=\"40.603125\" y=\"22.318125\"/>\n  </clipPath>\n </defs>\n</svg>\n",
      "image/png": "[encoded data removed]"
     },
     "metadata": {
      "needs_background": "light"
     }
    }
   ],
   "source": [
    "df_master_on['name'].value_counts()[:5].plot(kind=\"bar\");\n",
    "plt.xlabel('Names')\n",
    "plt.ylabel('Number of times used')\n",
    "plt.title('Most Common Dog Names')\n",
    "plt.xticks(rotation = 15)"
   ]
  },
  {
   "source": [
    "I used .value_counts() and the basic plotting function of matplotlib to gather these findings.\n",
    "\n",
    "Charlie, Lucy, Oliver, Cooper and Penny are the most commonly used names in these tweets in descending order as it can be seen on the bar chart above.\n"
   ],
   "cell_type": "markdown",
   "metadata": {}
  },
  {
   "cell_type": "code",
   "execution_count": 242,
   "metadata": {},
   "outputs": [
    {
     "output_type": "execute_result",
     "data": {
      "text/plain": [
       "                tweet_id in_reply_to_status_id in_reply_to_user_id  \\\n",
       "439   807106840509214720                   nan                 nan   \n",
       "368   819004803107983360                   nan                 nan   \n",
       "1599  676219687039057920                   nan                 nan   \n",
       "295   830583320585068544                   nan                 nan   \n",
       "302   829011960981237760                   nan                 nan   \n",
       "\n",
       "                     timestamp                              source  \\\n",
       "439  2016-12-09 06:17:20+00:00  http://twitter.com/download/iphone   \n",
       "368  2017-01-11 02:15:36+00:00  http://twitter.com/download/iphone   \n",
       "1599 2015-12-14 01:58:31+00:00  http://twitter.com/download/iphone   \n",
       "295  2017-02-12 01:04:29+00:00  http://twitter.com/download/iphone   \n",
       "302  2017-02-07 17:00:28+00:00  http://twitter.com/download/iphone   \n",
       "\n",
       "                                                                                                                                                         text  \\\n",
       "439                                                                     This is Stephan. He just wants to help. 13/10 such a good boy https://t.co/DkBYaCAg2d   \n",
       "368                                               This is Bo. He was a very good First Doggo. 14/10 would be an absolute honor to pet https://t.co/AdPKrI8BZ1   \n",
       "1599                                                             This is Kenneth. He's stuck in a bubble. 10/10 hang in there Kenneth https://t.co/uQt37xlYMJ   \n",
       "295                                    This is Lilly. She just parallel barked. Kindly requests a reward now. 13/10 would pet so well https://t.co/SATN4If5H5   \n",
       "302   This is Dexter. He was reunited with his mom yesterday after she was stuck in Iran during the travel Bannon. 13/10 welcome home https://t.co/U50RlRw4is   \n",
       "\n",
       "     retweeted_status_id retweeted_status_user_id retweeted_status_timestamp  \\\n",
       "439                  nan                      nan                        NaN   \n",
       "368                  nan                      nan                        NaN   \n",
       "1599                 nan                      nan                        NaN   \n",
       "295                  nan                      nan                        NaN   \n",
       "302                  nan                      nan                        NaN   \n",
       "\n",
       "                                                                                                                                                                                                                                                        expanded_urls  \\\n",
       "439                                                                                                                                                                                                   https://twitter.com/dog_rates/status/807106840509214720/video/1   \n",
       "368   https://twitter.com/dog_rates/status/819004803107983360/photo/1,https://twitter.com/dog_rates/status/819004803107983360/photo/1,https://twitter.com/dog_rates/status/819004803107983360/photo/1,https://twitter.com/dog_rates/status/819004803107983360/photo/1   \n",
       "1599                                                                                                                                                                                                  https://twitter.com/dog_rates/status/676219687039057920/photo/1   \n",
       "295                                                                                                                                   https://twitter.com/dog_rates/status/830583320585068544/photo/1,https://twitter.com/dog_rates/status/830583320585068544/photo/1   \n",
       "302                                                                                                                                   https://twitter.com/dog_rates/status/829011960981237760/photo/1,https://twitter.com/dog_rates/status/829011960981237760/photo/1   \n",
       "\n",
       "      ...   p1_conf p1_dog          p2   p2_conf  p2_dog               p3  \\\n",
       "439   ...  0.505370   True  pomeranian  0.120358    True      toy_terrier   \n",
       "368   ...  0.351308   True  toy_poodle  0.271929    True  tibetan_terrier   \n",
       "1599  ...  0.997556  False  leafhopper  0.000159   False          whippet   \n",
       "295   ...  0.908703   True   seat_belt  0.057091   False              pug   \n",
       "302   ...  0.312221   True   dalmatian  0.244040    True            conch   \n",
       "\n",
       "       p3_conf p3_dog retweet_count  favorite_count  \n",
       "439   0.077008   True       54642.0        116826.0  \n",
       "368   0.094759   True       36294.0         85805.0  \n",
       "1599  0.000132   True       29308.0         72711.0  \n",
       "295   0.011933   True       16278.0         65276.0  \n",
       "302   0.130273  False       15918.0         52247.0  \n",
       "\n",
       "[5 rows x 26 columns]"
      ],
      "text/html": "<div>\n<style scoped>\n    .dataframe tbody tr th:only-of-type {\n        vertical-align: middle;\n    }\n\n    .dataframe tbody tr th {\n        vertical-align: top;\n    }\n\n    .dataframe thead th {\n        text-align: right;\n    }\n</style>\n<table border=\"1\" class=\"dataframe\">\n  <thead>\n    <tr style=\"text-align: right;\">\n      <th></th>\n      <th>tweet_id</th>\n      <th>in_reply_to_status_id</th>\n      <th>in_reply_to_user_id</th>\n      <th>timestamp</th>\n      <th>source</th>\n      <th>text</th>\n      <th>retweeted_status_id</th>\n      <th>retweeted_status_user_id</th>\n      <th>retweeted_status_timestamp</th>\n      <th>expanded_urls</th>\n      <th>...</th>\n      <th>p1_conf</th>\n      <th>p1_dog</th>\n      <th>p2</th>\n      <th>p2_conf</th>\n      <th>p2_dog</th>\n      <th>p3</th>\n      <th>p3_conf</th>\n      <th>p3_dog</th>\n      <th>retweet_count</th>\n      <th>favorite_count</th>\n    </tr>\n  </thead>\n  <tbody>\n    <tr>\n      <th>439</th>\n      <td>807106840509214720</td>\n      <td>nan</td>\n      <td>nan</td>\n      <td>2016-12-09 06:17:20+00:00</td>\n      <td>http://twitter.com/download/iphone</td>\n      <td>This is Stephan. He just wants to help. 13/10 such a good boy https://t.co/DkBYaCAg2d</td>\n      <td>nan</td>\n      <td>nan</td>\n      <td>NaN</td>\n      <td>https://twitter.com/dog_rates/status/807106840509214720/video/1</td>\n      <td>...</td>\n      <td>0.505370</td>\n      <td>True</td>\n      <td>pomeranian</td>\n      <td>0.120358</td>\n      <td>True</td>\n      <td>toy_terrier</td>\n      <td>0.077008</td>\n      <td>True</td>\n      <td>54642.0</td>\n      <td>116826.0</td>\n    </tr>\n    <tr>\n      <th>368</th>\n      <td>819004803107983360</td>\n      <td>nan</td>\n      <td>nan</td>\n      <td>2017-01-11 02:15:36+00:00</td>\n      <td>http://twitter.com/download/iphone</td>\n      <td>This is Bo. He was a very good First Doggo. 14/10 would be an absolute honor to pet https://t.co/AdPKrI8BZ1</td>\n      <td>nan</td>\n      <td>nan</td>\n      <td>NaN</td>\n      <td>https://twitter.com/dog_rates/status/819004803107983360/photo/1,https://twitter.com/dog_rates/status/819004803107983360/photo/1,https://twitter.com/dog_rates/status/819004803107983360/photo/1,https://twitter.com/dog_rates/status/819004803107983360/photo/1</td>\n      <td>...</td>\n      <td>0.351308</td>\n      <td>True</td>\n      <td>toy_poodle</td>\n      <td>0.271929</td>\n      <td>True</td>\n      <td>tibetan_terrier</td>\n      <td>0.094759</td>\n      <td>True</td>\n      <td>36294.0</td>\n      <td>85805.0</td>\n    </tr>\n    <tr>\n      <th>1599</th>\n      <td>676219687039057920</td>\n      <td>nan</td>\n      <td>nan</td>\n      <td>2015-12-14 01:58:31+00:00</td>\n      <td>http://twitter.com/download/iphone</td>\n      <td>This is Kenneth. He's stuck in a bubble. 10/10 hang in there Kenneth https://t.co/uQt37xlYMJ</td>\n      <td>nan</td>\n      <td>nan</td>\n      <td>NaN</td>\n      <td>https://twitter.com/dog_rates/status/676219687039057920/photo/1</td>\n      <td>...</td>\n      <td>0.997556</td>\n      <td>False</td>\n      <td>leafhopper</td>\n      <td>0.000159</td>\n      <td>False</td>\n      <td>whippet</td>\n      <td>0.000132</td>\n      <td>True</td>\n      <td>29308.0</td>\n      <td>72711.0</td>\n    </tr>\n    <tr>\n      <th>295</th>\n      <td>830583320585068544</td>\n      <td>nan</td>\n      <td>nan</td>\n      <td>2017-02-12 01:04:29+00:00</td>\n      <td>http://twitter.com/download/iphone</td>\n      <td>This is Lilly. She just parallel barked. Kindly requests a reward now. 13/10 would pet so well https://t.co/SATN4If5H5</td>\n      <td>nan</td>\n      <td>nan</td>\n      <td>NaN</td>\n      <td>https://twitter.com/dog_rates/status/830583320585068544/photo/1,https://twitter.com/dog_rates/status/830583320585068544/photo/1</td>\n      <td>...</td>\n      <td>0.908703</td>\n      <td>True</td>\n      <td>seat_belt</td>\n      <td>0.057091</td>\n      <td>False</td>\n      <td>pug</td>\n      <td>0.011933</td>\n      <td>True</td>\n      <td>16278.0</td>\n      <td>65276.0</td>\n    </tr>\n    <tr>\n      <th>302</th>\n      <td>829011960981237760</td>\n      <td>nan</td>\n      <td>nan</td>\n      <td>2017-02-07 17:00:28+00:00</td>\n      <td>http://twitter.com/download/iphone</td>\n      <td>This is Dexter. He was reunited with his mom yesterday after she was stuck in Iran during the travel Bannon. 13/10 welcome home https://t.co/U50RlRw4is</td>\n      <td>nan</td>\n      <td>nan</td>\n      <td>NaN</td>\n      <td>https://twitter.com/dog_rates/status/829011960981237760/photo/1,https://twitter.com/dog_rates/status/829011960981237760/photo/1</td>\n      <td>...</td>\n      <td>0.312221</td>\n      <td>True</td>\n      <td>dalmatian</td>\n      <td>0.244040</td>\n      <td>True</td>\n      <td>conch</td>\n      <td>0.130273</td>\n      <td>False</td>\n      <td>15918.0</td>\n      <td>52247.0</td>\n    </tr>\n  </tbody>\n</table>\n<p>5 rows × 26 columns</p>\n</div>"
     },
     "metadata": {},
     "execution_count": 242
    }
   ],
   "source": [
    "#see which tweets favorited by most users?\n",
    "df_master_on.nlargest(5, 'favorite_count')"
   ]
  },
  {
   "source": [
    "I used .nlargest to determine which 5 dogs had the most favourite counts, ordered as:\n",
    "\n",
    "Stephen with 116826\n",
    "Bo with 85805\n",
    "Kenneth with 72711\n",
    "Lilly with 65276\n",
    "Dexter with 52247\n"
   ],
   "cell_type": "markdown",
   "metadata": {}
  },
  {
   "cell_type": "code",
   "execution_count": 237,
   "metadata": {},
   "outputs": [
    {
     "output_type": "execute_result",
     "data": {
      "text/plain": [
       "golden_retriever              74\n",
       "labrador_retriever            51\n",
       "chihuahua                     50\n",
       "pembroke                      49\n",
       "pug                           35\n",
       "                              ..\n",
       "minibus                        1\n",
       "microwave                      1\n",
       "piggy_bank                     1\n",
       "gordon_setter                  1\n",
       "greater_swiss_mountain_dog     1\n",
       "Name: p1, Length: 268, dtype: int64"
      ]
     },
     "metadata": {},
     "execution_count": 237
    }
   ],
   "source": [
    "#what are the most common breeds found by the neural network?\n",
    "df_master_on['p1'].value_counts()"
   ]
  },
  {
   "source": [
    "I used a simple value_counts function to determine the common breed in the p1 column.\n",
    "\n",
    "It looks like the most common breeds are:\n",
    "Golden retriever with 74 dogs\n",
    "Labrador retriever with 51 dogs\n",
    "Chihuahua with 50 dogs\n"
   ],
   "cell_type": "markdown",
   "metadata": {}
  }
 ],
 "metadata": {
  "kernelspec": {
   "name": "python3",
   "display_name": "Python 3.8.5 64-bit ('py3': conda)",
   "metadata": {
    "interpreter": {
     "hash": "767dd0bb136dd80d584470aaed967aa2ded4d8868d52fd343ea7a304a30fb868"
    }
   }
  },
  "language_info": {
   "codemirror_mode": {
    "name": "ipython",
    "version": 3
   },
   "file_extension": ".py",
   "mimetype": "text/x-python",
   "name": "python",
   "nbconvert_exporter": "python",
   "pygments_lexer": "ipython3",
   "version": "3.8.5-final"
  }
 },
 "nbformat": 4,
 "nbformat_minor": 4
}